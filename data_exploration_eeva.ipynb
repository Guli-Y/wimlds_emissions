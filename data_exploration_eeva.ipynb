{
 "cells": [
  {
   "cell_type": "markdown",
   "id": "choice-equivalent",
   "metadata": {},
   "source": [
    "I want to see whether the introduction of mandatory emissions checks on cars every two years since 1983 correlates with an increase in air quality.\n",
    "\n",
    "According to the \"State of the Air\" report 2020 by the American Lung Association there is a general decreasing trend in emissions since the 1970's in the US.\n",
    "\n",
    "According to https://www.cabq.gov/airquality/trends there is also a downward trend between 2000 - 2015 in:\n",
    "1. Ozone (ppm)\n",
    "2. Carbon Monoxide (ppm)\n",
    "3. Nitrogen Dioxide (ppb)\n",
    "concentration in parts per million or parts per billion in Albuqurque.\n",
    "\n",
    "Levels of particulate matter (both 10, 2.5 microns)and Sulfur Dioxide, however appear to be stable over the same time period."
   ]
  },
  {
   "cell_type": "code",
   "execution_count": 5,
   "id": "pleasant-ownership",
   "metadata": {},
   "outputs": [],
   "source": [
    "import pandas as pd"
   ]
  },
  {
   "cell_type": "code",
   "execution_count": 7,
   "id": "wrong-handle",
   "metadata": {},
   "outputs": [],
   "source": [
    "#Change in Ozone levels (Parts per million)\n",
    "levelOz_2000 = 0.075\n",
    "levelOz_2015 = 0.066\n",
    "change_ozone = round(levelOz_2000 - levelOz_2015, 4)\n",
    "\n",
    "#Change in Carbon Monoxide levels (Parts per million)\n",
    "levelCO_2000 = 3.8\n",
    "levelCO_2015 = 1.4\n",
    "change_CO = round(levelCO_2000 - levelCO_2015, 4)\n",
    "\n",
    "#Change in Nitrogen Dioxide levels (Parts per billion)\n",
    "levelNO_2000 = 65\n",
    "levelNO_2015 = 45\n",
    "change_NO = levelNO_2000 - levelNO_2015\n",
    "#convert to ppm\n",
    "change_NO = change_NO/1000"
   ]
  },
  {
   "cell_type": "code",
   "execution_count": 14,
   "id": "distant-competition",
   "metadata": {},
   "outputs": [],
   "source": [
    "#Percent change Ozone\n",
    "percent_ozone = round(change_ozone/levelOz_2000 * 100, 4)\n",
    "percent_CO = round(change_CO/levelCO_2000 * 100, 4)\n",
    "precent_NO = round(change_NO/levelNO_2000 * 100, 4)"
   ]
  },
  {
   "cell_type": "code",
   "execution_count": 17,
   "id": "supposed-sample",
   "metadata": {},
   "outputs": [
    {
     "name": "stdout",
     "output_type": "stream",
     "text": [
      "Change in three air pollutants from 2000 to 2015 in Albuquerque\n"
     ]
    },
    {
     "data": {
      "text/html": [
       "<div>\n",
       "<style scoped>\n",
       "    .dataframe tbody tr th:only-of-type {\n",
       "        vertical-align: middle;\n",
       "    }\n",
       "\n",
       "    .dataframe tbody tr th {\n",
       "        vertical-align: top;\n",
       "    }\n",
       "\n",
       "    .dataframe thead th {\n",
       "        text-align: right;\n",
       "    }\n",
       "</style>\n",
       "<table border=\"1\" class=\"dataframe\">\n",
       "  <thead>\n",
       "    <tr style=\"text-align: right;\">\n",
       "      <th></th>\n",
       "      <th>change_ppm</th>\n",
       "      <th>percent_change</th>\n",
       "    </tr>\n",
       "  </thead>\n",
       "  <tbody>\n",
       "    <tr>\n",
       "      <th>Ozone</th>\n",
       "      <td>0.009</td>\n",
       "      <td>12.0000</td>\n",
       "    </tr>\n",
       "    <tr>\n",
       "      <th>Carbon_Monoxide</th>\n",
       "      <td>2.400</td>\n",
       "      <td>63.1579</td>\n",
       "    </tr>\n",
       "    <tr>\n",
       "      <th>Nitrogen_Dioxide</th>\n",
       "      <td>0.020</td>\n",
       "      <td>0.0308</td>\n",
       "    </tr>\n",
       "  </tbody>\n",
       "</table>\n",
       "</div>"
      ],
      "text/plain": [
       "                  change_ppm  percent_change\n",
       "Ozone                  0.009         12.0000\n",
       "Carbon_Monoxide        2.400         63.1579\n",
       "Nitrogen_Dioxide       0.020          0.0308"
      ]
     },
     "execution_count": 17,
     "metadata": {},
     "output_type": "execute_result"
    }
   ],
   "source": [
    "data = {\"change_ppm\": [change_ozone, change_CO, change_NO], \"percent_change\": [percent_ozone, percent_CO, precent_NO]}\n",
    "df_change = pd.DataFrame(data = data, index = [\"Ozone\", \"Carbon_Monoxide\", \"Nitrogen_Dioxide\"])\n",
    "print(\"Change in three air pollutants from 2000 to 2015 in Albuquerque\")\n",
    "df_change"
   ]
  },
  {
   "cell_type": "code",
   "execution_count": null,
   "id": "supreme-maple",
   "metadata": {},
   "outputs": [],
   "source": []
  }
 ],
 "metadata": {
  "kernelspec": {
   "display_name": "Python 3",
   "language": "python",
   "name": "python3"
  },
  "language_info": {
   "codemirror_mode": {
    "name": "ipython",
    "version": 3
   },
   "file_extension": ".py",
   "mimetype": "text/x-python",
   "name": "python",
   "nbconvert_exporter": "python",
   "pygments_lexer": "ipython3",
   "version": "3.7.6"
  }
 },
 "nbformat": 4,
 "nbformat_minor": 5
}
