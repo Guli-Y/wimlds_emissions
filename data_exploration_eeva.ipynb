{
 "cells": [
  {
   "cell_type": "markdown",
   "id": "welsh-recycling",
   "metadata": {},
   "source": [
    "I want to see whether the introduction of mandatory emissions checks on cars every two years since 1983 correlates with an increase in air quality.\n",
    "\n",
    "According to the \"State of the Air\" report 2020 by the American Lung Association there is a general decreasing trend in emissions since the 1970's in the US.\n",
    "\n",
    "According to https://www.cabq.gov/airquality/trends there is also a downward trend between 2000 - 2015 in:\n",
    "1. Ozone (parts per million, ppm)\n",
    "2. Carbon Monoxide (parts per million, ppm)\n",
    "3. Nitrogen Dioxide (parts per billion, ppb)\n",
    "concentration in Albuqurque.\n",
    "\n",
    "Levels of Sulfur Dioxide and particulate matter (both 10 and 2.5 microns) however appear to be stable over the same time period. For reference a human hair is aproximately 70 microns wide."
   ]
  },
  {
   "cell_type": "code",
   "execution_count": 20,
   "id": "horizontal-surname",
   "metadata": {},
   "outputs": [],
   "source": [
    "import pandas as pd\n",
    "from pathlib import Path\n",
    "import numpy as np\n",
    "import plotly.express as px"
   ]
  },
  {
   "cell_type": "code",
   "execution_count": null,
   "id": "awful-festival",
   "metadata": {},
   "outputs": [],
   "source": [
    "#Change in Ozone levels (Parts per million)\n",
    "level_ozone_2000 = 0.075\n",
    "level_ozone_2015 = 0.066\n",
    "change_ozone = round(level_ozone_2015 - level_ozone_2000, 4)\n",
    "\n",
    "#Change in Carbon Monoxide levels (Parts per million)\n",
    "level_CO_2000 = 3.8\n",
    "level_CO_2015 = 1.4\n",
    "change_CO = round(level_CO_2015 - level_CO_2000, 4)\n",
    "\n",
    "#Change in Nitrogen Dioxide levels (Parts per billion)\n",
    "level_NO_2000 = 65\n",
    "level_NO_2015 = 45\n",
    "change_NO = level_NO_2015 - level_NO_2000\n",
    "#convert to ppm\n",
    "change_NO = change_NO/1000"
   ]
  },
  {
   "cell_type": "code",
   "execution_count": null,
   "id": "interior-patrol",
   "metadata": {},
   "outputs": [],
   "source": [
    "#Percent change Ozone\n",
    "percent_ozone = round(change_ozone/level_ozone_2000 * 100, 4)\n",
    "percent_CO = round(change_CO/level_CO_2000 * 100, 4)\n",
    "precent_NO = round(change_NO/level_NO_2000 * 100, 4)"
   ]
  },
  {
   "cell_type": "code",
   "execution_count": null,
   "id": "voluntary-ancient",
   "metadata": {},
   "outputs": [],
   "source": [
    "data = {\"change_ppm\": [change_ozone, change_CO, change_NO], \"percent_change\": [percent_ozone, percent_CO, precent_NO]}\n",
    "df_change = pd.DataFrame(data = data, index = [\"Ozone\", \"Carbon_Monoxide\", \"Nitrogen_Dioxide\"])\n",
    "print(\"Change in three air pollutants from 2000 to 2015 in Albuquerque\")\n",
    "df_change"
   ]
  },
  {
   "cell_type": "markdown",
   "id": "another-school",
   "metadata": {},
   "source": [
    "Using data from https://www.epa.gov/outdoor-air-quality-data/air-data-daily-air-quality-tracker I want to visualize the difference in emissions between the year before mandatory car emissions checks were introduced (1982) and 2020. The metric is the Air Quality Index (AQI) for Ozone.\n",
    "Note: I chose not to use the combined Ozone and and PM2.5 (Particulate Matter 2.5 microns) score, as for 1982 only the Ozone value was used in the combined score."
   ]
  },
  {
   "cell_type": "code",
   "execution_count": 2,
   "id": "dramatic-baghdad",
   "metadata": {},
   "outputs": [
    {
     "data": {
      "text/plain": [
       "{'Good': range(0, 51),\n",
       " 'Moderate': range(51, 101),\n",
       " 'Sensitive': range(101, 151),\n",
       " 'Unhealthy': range(151, 201),\n",
       " 'Very Unhealthy': range(201, 301),\n",
       " 'Hazardous': range(301, 501)}"
      ]
     },
     "execution_count": 2,
     "metadata": {},
     "output_type": "execute_result"
    }
   ],
   "source": [
    "#AQI values\n",
    "AQI_VALUES = {\"Good\":range(0, 51), \"Moderate\":range(51, 101), \"Sensitive\":range(101, 151), \"Unhealthy\":range(151, 201),\n",
    "             \"Very Unhealthy\":range(201, 301), \"Hazardous\":range(301, 501)}\n",
    "AQI_VALUES"
   ]
  },
  {
   "cell_type": "code",
   "execution_count": 3,
   "id": "applicable-rouge",
   "metadata": {},
   "outputs": [],
   "source": [
    "DATA_1982 = Path(\"data/1982_aqi_data.csv\")\n",
    "DATA_2020 = Path(\"data/2020_aqi_data.csv\")"
   ]
  },
  {
   "cell_type": "code",
   "execution_count": null,
   "id": "smaller-excellence",
   "metadata": {},
   "outputs": [],
   "source": [
    "df_1982 = pd.read_csv(DATA_1982, parse_dates=[0,8,9], skipinitialspace=True)"
   ]
  },
  {
   "cell_type": "code",
   "execution_count": null,
   "id": "cleared-harmony",
   "metadata": {},
   "outputs": [],
   "source": [
    "#df_1982.info()"
   ]
  },
  {
   "cell_type": "code",
   "execution_count": 4,
   "id": "wanted-leisure",
   "metadata": {},
   "outputs": [],
   "source": [
    "df_2020 = pd.read_csv(DATA_2020, parse_dates=[0,8,9], skipinitialspace=True)"
   ]
  },
  {
   "cell_type": "code",
   "execution_count": 5,
   "id": "alert-biography",
   "metadata": {},
   "outputs": [
    {
     "name": "stdout",
     "output_type": "stream",
     "text": [
      "<class 'pandas.core.frame.DataFrame'>\n",
      "RangeIndex: 366 entries, 0 to 365\n",
      "Data columns (total 10 columns):\n",
      " #   Column                      Non-Null Count  Dtype         \n",
      "---  ------                      --------------  -----         \n",
      " 0   Date                        366 non-null    datetime64[ns]\n",
      " 1   Ozone AQI Value             366 non-null    int64         \n",
      " 2   Site Name                   275 non-null    object        \n",
      " 3   Site ID                     366 non-null    object        \n",
      " 4   Source                      366 non-null    object        \n",
      " 5   20-year High (2000-2019)    366 non-null    int64         \n",
      " 6   20-year Low (2000-2019)     366 non-null    int64         \n",
      " 7   5-year Average (2015-2019)  366 non-null    object        \n",
      " 8   Date of 20-year High        366 non-null    datetime64[ns]\n",
      " 9   Date of 20-year Low         366 non-null    datetime64[ns]\n",
      "dtypes: datetime64[ns](3), int64(3), object(4)\n",
      "memory usage: 28.7+ KB\n"
     ]
    }
   ],
   "source": [
    "df_2020.info()"
   ]
  },
  {
   "cell_type": "code",
   "execution_count": 27,
   "id": "split-administrator",
   "metadata": {},
   "outputs": [
    {
     "name": "stdout",
     "output_type": "stream",
     "text": [
      "<class 'pandas.core.frame.DataFrame'>\n",
      "Int64Index: 365 entries, 0 to 365\n",
      "Data columns (total 4 columns):\n",
      " #   Column                      Non-Null Count  Dtype         \n",
      "---  ------                      --------------  -----         \n",
      " 0   Date                        365 non-null    datetime64[ns]\n",
      " 1   5-year Average (2015-2019)  365 non-null    float64       \n",
      " 2   Day of Year                 365 non-null    int64         \n",
      " 3   Air Quality Rating          0 non-null      category      \n",
      "dtypes: category(1), datetime64[ns](1), float64(1), int64(1)\n",
      "memory usage: 11.9 KB\n"
     ]
    }
   ],
   "source": [
    "#create sub df for plotting number of different air quality days\n",
    "\n",
    "#df_graph = df_2020.drop(df_2020.index[59]) #remove february 29th\n",
    "#df_graph = df_graph[['Date', '5-year Average (2015-2019)']]\n",
    "#df_graph.head()\n",
    "#day_of_year = list(range(1, 366))\n",
    "#df_graph['Day of Year'] = day_of_year\n",
    "df_graph['5-year Average (2015-2019)'] = df_graph['5-year Average (2015-2019)'].astype(float)\n",
    "df_graph.info()"
   ]
  },
  {
   "cell_type": "code",
   "execution_count": 31,
   "id": "floppy-embassy",
   "metadata": {},
   "outputs": [],
   "source": [
    "#bins = pd.IntervalIndex.from_tuples([(0,50.9),(51,100.9), (101,151)])\n",
    "#df_graph['Air Quality Rating'] = pd.cut(df_graph['5-year Average (2015-2019)'],\n",
    "#                                        bins,\n",
    "#                                        labels=[\"Good\", \"Moderate\", \"Unhealthy for Sensitive Population\"])\n",
    "df_graph['Air Quality Rating'] = pd.cut(df_graph['5-year Average (2015-2019)'],\n",
    "                                        [0, 50, 100, 150],\n",
    "                                        labels=[\"Good\", \"Moderate\", \"Unhealthy for Sensitive Population\"])"
   ]
  },
  {
   "cell_type": "code",
   "execution_count": 34,
   "id": "generous-alexandria",
   "metadata": {},
   "outputs": [
    {
     "data": {
      "text/plain": [
       "2"
      ]
     },
     "execution_count": 34,
     "metadata": {},
     "output_type": "execute_result"
    }
   ],
   "source": [
    "air_days = df_graph['Air Quality Rating'].nunique()\n",
    "air_days"
   ]
  },
  {
   "cell_type": "code",
   "execution_count": 35,
   "id": "relevant-boston",
   "metadata": {},
   "outputs": [
    {
     "name": "stdout",
     "output_type": "stream",
     "text": [
      "<class 'pandas.core.frame.DataFrame'>\n",
      "Int64Index: 365 entries, 0 to 365\n",
      "Data columns (total 4 columns):\n",
      " #   Column                      Non-Null Count  Dtype         \n",
      "---  ------                      --------------  -----         \n",
      " 0   Date                        365 non-null    datetime64[ns]\n",
      " 1   5-year Average (2015-2019)  365 non-null    float64       \n",
      " 2   Day of Year                 365 non-null    int64         \n",
      " 3   Air Quality Rating          365 non-null    category      \n",
      "dtypes: category(1), datetime64[ns](1), float64(1), int64(1)\n",
      "memory usage: 11.9 KB\n"
     ]
    }
   ],
   "source": [
    "df_graph.info()"
   ]
  },
  {
   "cell_type": "code",
   "execution_count": 45,
   "id": "german-waste",
   "metadata": {},
   "outputs": [
    {
     "data": {
      "application/vnd.plotly.v1+json": {
       "config": {
        "plotlyServerURL": "https://plot.ly"
       },
       "data": [
        {
         "alignmentgroup": "True",
         "bingroup": "x",
         "hovertemplate": "Air Quality Rating=%{x}<br>count=%{y}<extra></extra>",
         "legendgroup": "Good",
         "marker": {
          "color": "Green"
         },
         "name": "Good",
         "offsetgroup": "Good",
         "orientation": "v",
         "showlegend": true,
         "type": "histogram",
         "x": [
          "Good",
          "Good",
          "Good",
          "Good",
          "Good",
          "Good",
          "Good",
          "Good",
          "Good",
          "Good",
          "Good",
          "Good",
          "Good",
          "Good",
          "Good",
          "Good",
          "Good",
          "Good",
          "Good",
          "Good",
          "Good",
          "Good",
          "Good",
          "Good",
          "Good",
          "Good",
          "Good",
          "Good",
          "Good",
          "Good",
          "Good",
          "Good",
          "Good",
          "Good",
          "Good",
          "Good",
          "Good",
          "Good",
          "Good",
          "Good",
          "Good",
          "Good",
          "Good",
          "Good",
          "Good",
          "Good",
          "Good",
          "Good",
          "Good",
          "Good",
          "Good",
          "Good",
          "Good",
          "Good",
          "Good",
          "Good",
          "Good",
          "Good",
          "Good",
          "Good",
          "Good",
          "Good",
          "Good",
          "Good",
          "Good",
          "Good",
          "Good",
          "Good",
          "Good",
          "Good",
          "Good",
          "Good",
          "Good",
          "Good",
          "Good",
          "Good",
          "Good",
          "Good",
          "Good",
          "Good",
          "Good",
          "Good",
          "Good",
          "Good",
          "Good",
          "Good",
          "Good",
          "Good",
          "Good",
          "Good",
          "Good",
          "Good",
          "Good",
          "Good",
          "Good",
          "Good",
          "Good",
          "Good",
          "Good",
          "Good",
          "Good",
          "Good",
          "Good",
          "Good",
          "Good",
          "Good",
          "Good",
          "Good",
          "Good",
          "Good",
          "Good",
          "Good",
          "Good",
          "Good",
          "Good",
          "Good",
          "Good",
          "Good",
          "Good",
          "Good",
          "Good",
          "Good",
          "Good",
          "Good",
          "Good",
          "Good",
          "Good",
          "Good",
          "Good",
          "Good",
          "Good",
          "Good",
          "Good",
          "Good",
          "Good",
          "Good",
          "Good",
          "Good",
          "Good",
          "Good",
          "Good",
          "Good",
          "Good",
          "Good",
          "Good",
          "Good",
          "Good",
          "Good",
          "Good",
          "Good",
          "Good",
          "Good",
          "Good",
          "Good",
          "Good",
          "Good",
          "Good",
          "Good",
          "Good",
          "Good",
          "Good",
          "Good",
          "Good",
          "Good",
          "Good",
          "Good",
          "Good",
          "Good",
          "Good",
          "Good",
          "Good",
          "Good",
          "Good",
          "Good",
          "Good",
          "Good",
          "Good",
          "Good",
          "Good",
          "Good",
          "Good",
          "Good",
          "Good",
          "Good",
          "Good",
          "Good",
          "Good",
          "Good",
          "Good",
          "Good",
          "Good",
          "Good",
          "Good",
          "Good",
          "Good",
          "Good",
          "Good",
          "Good",
          "Good",
          "Good",
          "Good",
          "Good"
         ],
         "xaxis": "x",
         "yaxis": "y"
        },
        {
         "alignmentgroup": "True",
         "bingroup": "x",
         "hovertemplate": "Air Quality Rating=%{x}<br>count=%{y}<extra></extra>",
         "legendgroup": "Moderate",
         "marker": {
          "color": "Red"
         },
         "name": "Moderate",
         "offsetgroup": "Moderate",
         "orientation": "v",
         "showlegend": true,
         "type": "histogram",
         "x": [
          "Moderate",
          "Moderate",
          "Moderate",
          "Moderate",
          "Moderate",
          "Moderate",
          "Moderate",
          "Moderate",
          "Moderate",
          "Moderate",
          "Moderate",
          "Moderate",
          "Moderate",
          "Moderate",
          "Moderate",
          "Moderate",
          "Moderate",
          "Moderate",
          "Moderate",
          "Moderate",
          "Moderate",
          "Moderate",
          "Moderate",
          "Moderate",
          "Moderate",
          "Moderate",
          "Moderate",
          "Moderate",
          "Moderate",
          "Moderate",
          "Moderate",
          "Moderate",
          "Moderate",
          "Moderate",
          "Moderate",
          "Moderate",
          "Moderate",
          "Moderate",
          "Moderate",
          "Moderate",
          "Moderate",
          "Moderate",
          "Moderate",
          "Moderate",
          "Moderate",
          "Moderate",
          "Moderate",
          "Moderate",
          "Moderate",
          "Moderate",
          "Moderate",
          "Moderate",
          "Moderate",
          "Moderate",
          "Moderate",
          "Moderate",
          "Moderate",
          "Moderate",
          "Moderate",
          "Moderate",
          "Moderate",
          "Moderate",
          "Moderate",
          "Moderate",
          "Moderate",
          "Moderate",
          "Moderate",
          "Moderate",
          "Moderate",
          "Moderate",
          "Moderate",
          "Moderate",
          "Moderate",
          "Moderate",
          "Moderate",
          "Moderate",
          "Moderate",
          "Moderate",
          "Moderate",
          "Moderate",
          "Moderate",
          "Moderate",
          "Moderate",
          "Moderate",
          "Moderate",
          "Moderate",
          "Moderate",
          "Moderate",
          "Moderate",
          "Moderate",
          "Moderate",
          "Moderate",
          "Moderate",
          "Moderate",
          "Moderate",
          "Moderate",
          "Moderate",
          "Moderate",
          "Moderate",
          "Moderate",
          "Moderate",
          "Moderate",
          "Moderate",
          "Moderate",
          "Moderate",
          "Moderate",
          "Moderate",
          "Moderate",
          "Moderate",
          "Moderate",
          "Moderate",
          "Moderate",
          "Moderate",
          "Moderate",
          "Moderate",
          "Moderate",
          "Moderate",
          "Moderate",
          "Moderate",
          "Moderate",
          "Moderate",
          "Moderate",
          "Moderate",
          "Moderate",
          "Moderate",
          "Moderate",
          "Moderate",
          "Moderate",
          "Moderate",
          "Moderate",
          "Moderate",
          "Moderate",
          "Moderate",
          "Moderate",
          "Moderate",
          "Moderate",
          "Moderate",
          "Moderate",
          "Moderate",
          "Moderate",
          "Moderate",
          "Moderate",
          "Moderate",
          "Moderate",
          "Moderate",
          "Moderate",
          "Moderate",
          "Moderate",
          "Moderate",
          "Moderate",
          "Moderate",
          "Moderate",
          "Moderate",
          "Moderate",
          "Moderate",
          "Moderate",
          "Moderate",
          "Moderate",
          "Moderate",
          "Moderate",
          "Moderate",
          "Moderate",
          "Moderate"
         ],
         "xaxis": "x",
         "yaxis": "y"
        }
       ],
       "layout": {
        "barmode": "relative",
        "legend": {
         "title": {
          "text": "Air Quality Rating"
         },
         "tracegroupgap": 0
        },
        "template": {
         "data": {
          "bar": [
           {
            "error_x": {
             "color": "#f2f5fa"
            },
            "error_y": {
             "color": "#f2f5fa"
            },
            "marker": {
             "line": {
              "color": "rgb(17,17,17)",
              "width": 0.5
             }
            },
            "type": "bar"
           }
          ],
          "barpolar": [
           {
            "marker": {
             "line": {
              "color": "rgb(17,17,17)",
              "width": 0.5
             }
            },
            "type": "barpolar"
           }
          ],
          "carpet": [
           {
            "aaxis": {
             "endlinecolor": "#A2B1C6",
             "gridcolor": "#506784",
             "linecolor": "#506784",
             "minorgridcolor": "#506784",
             "startlinecolor": "#A2B1C6"
            },
            "baxis": {
             "endlinecolor": "#A2B1C6",
             "gridcolor": "#506784",
             "linecolor": "#506784",
             "minorgridcolor": "#506784",
             "startlinecolor": "#A2B1C6"
            },
            "type": "carpet"
           }
          ],
          "choropleth": [
           {
            "colorbar": {
             "outlinewidth": 0,
             "ticks": ""
            },
            "type": "choropleth"
           }
          ],
          "contour": [
           {
            "colorbar": {
             "outlinewidth": 0,
             "ticks": ""
            },
            "colorscale": [
             [
              0,
              "#0d0887"
             ],
             [
              0.1111111111111111,
              "#46039f"
             ],
             [
              0.2222222222222222,
              "#7201a8"
             ],
             [
              0.3333333333333333,
              "#9c179e"
             ],
             [
              0.4444444444444444,
              "#bd3786"
             ],
             [
              0.5555555555555556,
              "#d8576b"
             ],
             [
              0.6666666666666666,
              "#ed7953"
             ],
             [
              0.7777777777777778,
              "#fb9f3a"
             ],
             [
              0.8888888888888888,
              "#fdca26"
             ],
             [
              1,
              "#f0f921"
             ]
            ],
            "type": "contour"
           }
          ],
          "contourcarpet": [
           {
            "colorbar": {
             "outlinewidth": 0,
             "ticks": ""
            },
            "type": "contourcarpet"
           }
          ],
          "heatmap": [
           {
            "colorbar": {
             "outlinewidth": 0,
             "ticks": ""
            },
            "colorscale": [
             [
              0,
              "#0d0887"
             ],
             [
              0.1111111111111111,
              "#46039f"
             ],
             [
              0.2222222222222222,
              "#7201a8"
             ],
             [
              0.3333333333333333,
              "#9c179e"
             ],
             [
              0.4444444444444444,
              "#bd3786"
             ],
             [
              0.5555555555555556,
              "#d8576b"
             ],
             [
              0.6666666666666666,
              "#ed7953"
             ],
             [
              0.7777777777777778,
              "#fb9f3a"
             ],
             [
              0.8888888888888888,
              "#fdca26"
             ],
             [
              1,
              "#f0f921"
             ]
            ],
            "type": "heatmap"
           }
          ],
          "heatmapgl": [
           {
            "colorbar": {
             "outlinewidth": 0,
             "ticks": ""
            },
            "colorscale": [
             [
              0,
              "#0d0887"
             ],
             [
              0.1111111111111111,
              "#46039f"
             ],
             [
              0.2222222222222222,
              "#7201a8"
             ],
             [
              0.3333333333333333,
              "#9c179e"
             ],
             [
              0.4444444444444444,
              "#bd3786"
             ],
             [
              0.5555555555555556,
              "#d8576b"
             ],
             [
              0.6666666666666666,
              "#ed7953"
             ],
             [
              0.7777777777777778,
              "#fb9f3a"
             ],
             [
              0.8888888888888888,
              "#fdca26"
             ],
             [
              1,
              "#f0f921"
             ]
            ],
            "type": "heatmapgl"
           }
          ],
          "histogram": [
           {
            "marker": {
             "colorbar": {
              "outlinewidth": 0,
              "ticks": ""
             }
            },
            "type": "histogram"
           }
          ],
          "histogram2d": [
           {
            "colorbar": {
             "outlinewidth": 0,
             "ticks": ""
            },
            "colorscale": [
             [
              0,
              "#0d0887"
             ],
             [
              0.1111111111111111,
              "#46039f"
             ],
             [
              0.2222222222222222,
              "#7201a8"
             ],
             [
              0.3333333333333333,
              "#9c179e"
             ],
             [
              0.4444444444444444,
              "#bd3786"
             ],
             [
              0.5555555555555556,
              "#d8576b"
             ],
             [
              0.6666666666666666,
              "#ed7953"
             ],
             [
              0.7777777777777778,
              "#fb9f3a"
             ],
             [
              0.8888888888888888,
              "#fdca26"
             ],
             [
              1,
              "#f0f921"
             ]
            ],
            "type": "histogram2d"
           }
          ],
          "histogram2dcontour": [
           {
            "colorbar": {
             "outlinewidth": 0,
             "ticks": ""
            },
            "colorscale": [
             [
              0,
              "#0d0887"
             ],
             [
              0.1111111111111111,
              "#46039f"
             ],
             [
              0.2222222222222222,
              "#7201a8"
             ],
             [
              0.3333333333333333,
              "#9c179e"
             ],
             [
              0.4444444444444444,
              "#bd3786"
             ],
             [
              0.5555555555555556,
              "#d8576b"
             ],
             [
              0.6666666666666666,
              "#ed7953"
             ],
             [
              0.7777777777777778,
              "#fb9f3a"
             ],
             [
              0.8888888888888888,
              "#fdca26"
             ],
             [
              1,
              "#f0f921"
             ]
            ],
            "type": "histogram2dcontour"
           }
          ],
          "mesh3d": [
           {
            "colorbar": {
             "outlinewidth": 0,
             "ticks": ""
            },
            "type": "mesh3d"
           }
          ],
          "parcoords": [
           {
            "line": {
             "colorbar": {
              "outlinewidth": 0,
              "ticks": ""
             }
            },
            "type": "parcoords"
           }
          ],
          "pie": [
           {
            "automargin": true,
            "type": "pie"
           }
          ],
          "scatter": [
           {
            "marker": {
             "line": {
              "color": "#283442"
             }
            },
            "type": "scatter"
           }
          ],
          "scatter3d": [
           {
            "line": {
             "colorbar": {
              "outlinewidth": 0,
              "ticks": ""
             }
            },
            "marker": {
             "colorbar": {
              "outlinewidth": 0,
              "ticks": ""
             }
            },
            "type": "scatter3d"
           }
          ],
          "scattercarpet": [
           {
            "marker": {
             "colorbar": {
              "outlinewidth": 0,
              "ticks": ""
             }
            },
            "type": "scattercarpet"
           }
          ],
          "scattergeo": [
           {
            "marker": {
             "colorbar": {
              "outlinewidth": 0,
              "ticks": ""
             }
            },
            "type": "scattergeo"
           }
          ],
          "scattergl": [
           {
            "marker": {
             "line": {
              "color": "#283442"
             }
            },
            "type": "scattergl"
           }
          ],
          "scattermapbox": [
           {
            "marker": {
             "colorbar": {
              "outlinewidth": 0,
              "ticks": ""
             }
            },
            "type": "scattermapbox"
           }
          ],
          "scatterpolar": [
           {
            "marker": {
             "colorbar": {
              "outlinewidth": 0,
              "ticks": ""
             }
            },
            "type": "scatterpolar"
           }
          ],
          "scatterpolargl": [
           {
            "marker": {
             "colorbar": {
              "outlinewidth": 0,
              "ticks": ""
             }
            },
            "type": "scatterpolargl"
           }
          ],
          "scatterternary": [
           {
            "marker": {
             "colorbar": {
              "outlinewidth": 0,
              "ticks": ""
             }
            },
            "type": "scatterternary"
           }
          ],
          "surface": [
           {
            "colorbar": {
             "outlinewidth": 0,
             "ticks": ""
            },
            "colorscale": [
             [
              0,
              "#0d0887"
             ],
             [
              0.1111111111111111,
              "#46039f"
             ],
             [
              0.2222222222222222,
              "#7201a8"
             ],
             [
              0.3333333333333333,
              "#9c179e"
             ],
             [
              0.4444444444444444,
              "#bd3786"
             ],
             [
              0.5555555555555556,
              "#d8576b"
             ],
             [
              0.6666666666666666,
              "#ed7953"
             ],
             [
              0.7777777777777778,
              "#fb9f3a"
             ],
             [
              0.8888888888888888,
              "#fdca26"
             ],
             [
              1,
              "#f0f921"
             ]
            ],
            "type": "surface"
           }
          ],
          "table": [
           {
            "cells": {
             "fill": {
              "color": "#506784"
             },
             "line": {
              "color": "rgb(17,17,17)"
             }
            },
            "header": {
             "fill": {
              "color": "#2a3f5f"
             },
             "line": {
              "color": "rgb(17,17,17)"
             }
            },
            "type": "table"
           }
          ]
         },
         "layout": {
          "annotationdefaults": {
           "arrowcolor": "#f2f5fa",
           "arrowhead": 0,
           "arrowwidth": 1
          },
          "coloraxis": {
           "colorbar": {
            "outlinewidth": 0,
            "ticks": ""
           }
          },
          "colorscale": {
           "diverging": [
            [
             0,
             "#8e0152"
            ],
            [
             0.1,
             "#c51b7d"
            ],
            [
             0.2,
             "#de77ae"
            ],
            [
             0.3,
             "#f1b6da"
            ],
            [
             0.4,
             "#fde0ef"
            ],
            [
             0.5,
             "#f7f7f7"
            ],
            [
             0.6,
             "#e6f5d0"
            ],
            [
             0.7,
             "#b8e186"
            ],
            [
             0.8,
             "#7fbc41"
            ],
            [
             0.9,
             "#4d9221"
            ],
            [
             1,
             "#276419"
            ]
           ],
           "sequential": [
            [
             0,
             "#0d0887"
            ],
            [
             0.1111111111111111,
             "#46039f"
            ],
            [
             0.2222222222222222,
             "#7201a8"
            ],
            [
             0.3333333333333333,
             "#9c179e"
            ],
            [
             0.4444444444444444,
             "#bd3786"
            ],
            [
             0.5555555555555556,
             "#d8576b"
            ],
            [
             0.6666666666666666,
             "#ed7953"
            ],
            [
             0.7777777777777778,
             "#fb9f3a"
            ],
            [
             0.8888888888888888,
             "#fdca26"
            ],
            [
             1,
             "#f0f921"
            ]
           ],
           "sequentialminus": [
            [
             0,
             "#0d0887"
            ],
            [
             0.1111111111111111,
             "#46039f"
            ],
            [
             0.2222222222222222,
             "#7201a8"
            ],
            [
             0.3333333333333333,
             "#9c179e"
            ],
            [
             0.4444444444444444,
             "#bd3786"
            ],
            [
             0.5555555555555556,
             "#d8576b"
            ],
            [
             0.6666666666666666,
             "#ed7953"
            ],
            [
             0.7777777777777778,
             "#fb9f3a"
            ],
            [
             0.8888888888888888,
             "#fdca26"
            ],
            [
             1,
             "#f0f921"
            ]
           ]
          },
          "colorway": [
           "#636efa",
           "#EF553B",
           "#00cc96",
           "#ab63fa",
           "#FFA15A",
           "#19d3f3",
           "#FF6692",
           "#B6E880",
           "#FF97FF",
           "#FECB52"
          ],
          "font": {
           "color": "#f2f5fa"
          },
          "geo": {
           "bgcolor": "rgb(17,17,17)",
           "lakecolor": "rgb(17,17,17)",
           "landcolor": "rgb(17,17,17)",
           "showlakes": true,
           "showland": true,
           "subunitcolor": "#506784"
          },
          "hoverlabel": {
           "align": "left"
          },
          "hovermode": "closest",
          "mapbox": {
           "style": "dark"
          },
          "paper_bgcolor": "rgb(17,17,17)",
          "plot_bgcolor": "rgb(17,17,17)",
          "polar": {
           "angularaxis": {
            "gridcolor": "#506784",
            "linecolor": "#506784",
            "ticks": ""
           },
           "bgcolor": "rgb(17,17,17)",
           "radialaxis": {
            "gridcolor": "#506784",
            "linecolor": "#506784",
            "ticks": ""
           }
          },
          "scene": {
           "xaxis": {
            "backgroundcolor": "rgb(17,17,17)",
            "gridcolor": "#506784",
            "gridwidth": 2,
            "linecolor": "#506784",
            "showbackground": true,
            "ticks": "",
            "zerolinecolor": "#C8D4E3"
           },
           "yaxis": {
            "backgroundcolor": "rgb(17,17,17)",
            "gridcolor": "#506784",
            "gridwidth": 2,
            "linecolor": "#506784",
            "showbackground": true,
            "ticks": "",
            "zerolinecolor": "#C8D4E3"
           },
           "zaxis": {
            "backgroundcolor": "rgb(17,17,17)",
            "gridcolor": "#506784",
            "gridwidth": 2,
            "linecolor": "#506784",
            "showbackground": true,
            "ticks": "",
            "zerolinecolor": "#C8D4E3"
           }
          },
          "shapedefaults": {
           "line": {
            "color": "#f2f5fa"
           }
          },
          "sliderdefaults": {
           "bgcolor": "#C8D4E3",
           "bordercolor": "rgb(17,17,17)",
           "borderwidth": 1,
           "tickwidth": 0
          },
          "ternary": {
           "aaxis": {
            "gridcolor": "#506784",
            "linecolor": "#506784",
            "ticks": ""
           },
           "baxis": {
            "gridcolor": "#506784",
            "linecolor": "#506784",
            "ticks": ""
           },
           "bgcolor": "rgb(17,17,17)",
           "caxis": {
            "gridcolor": "#506784",
            "linecolor": "#506784",
            "ticks": ""
           }
          },
          "title": {
           "x": 0.05
          },
          "updatemenudefaults": {
           "bgcolor": "#506784",
           "borderwidth": 0
          },
          "xaxis": {
           "automargin": true,
           "gridcolor": "#283442",
           "linecolor": "#506784",
           "ticks": "",
           "title": {
            "standoff": 15
           },
           "zerolinecolor": "#283442",
           "zerolinewidth": 2
          },
          "yaxis": {
           "automargin": true,
           "gridcolor": "#283442",
           "linecolor": "#506784",
           "ticks": "",
           "title": {
            "standoff": 15
           },
           "zerolinecolor": "#283442",
           "zerolinewidth": 2
          }
         }
        },
        "title": {
         "text": "Albuquerque Good Air Days for Ozone 5-year Average (2015-2019)"
        },
        "xaxis": {
         "anchor": "y",
         "categoryarray": [
          "Good",
          "Moderate"
         ],
         "categoryorder": "array",
         "domain": [
          0,
          1
         ],
         "title": {
          "text": "Air Quality Rating"
         }
        },
        "yaxis": {
         "anchor": "x",
         "domain": [
          0,
          1
         ],
         "title": {
          "text": "Number of Days"
         }
        }
       }
      },
      "text/html": [
       "<div>                            <div id=\"64995422-6103-44ed-9ba3-35a7bfd08e0b\" class=\"plotly-graph-div\" style=\"height:525px; width:100%;\"></div>            <script type=\"text/javascript\">                require([\"plotly\"], function(Plotly) {                    window.PLOTLYENV=window.PLOTLYENV || {};                                    if (document.getElementById(\"64995422-6103-44ed-9ba3-35a7bfd08e0b\")) {                    Plotly.newPlot(                        \"64995422-6103-44ed-9ba3-35a7bfd08e0b\",                        [{\"alignmentgroup\": \"True\", \"bingroup\": \"x\", \"hovertemplate\": \"Air Quality Rating=%{x}<br>count=%{y}<extra></extra>\", \"legendgroup\": \"Good\", \"marker\": {\"color\": \"Green\"}, \"name\": \"Good\", \"offsetgroup\": \"Good\", \"orientation\": \"v\", \"showlegend\": true, \"type\": \"histogram\", \"x\": [\"Good\", \"Good\", \"Good\", \"Good\", \"Good\", \"Good\", \"Good\", \"Good\", \"Good\", \"Good\", \"Good\", \"Good\", \"Good\", \"Good\", \"Good\", \"Good\", \"Good\", \"Good\", \"Good\", \"Good\", \"Good\", \"Good\", \"Good\", \"Good\", \"Good\", \"Good\", \"Good\", \"Good\", \"Good\", \"Good\", \"Good\", \"Good\", \"Good\", \"Good\", \"Good\", \"Good\", \"Good\", \"Good\", \"Good\", \"Good\", \"Good\", \"Good\", \"Good\", \"Good\", \"Good\", \"Good\", \"Good\", \"Good\", \"Good\", \"Good\", \"Good\", \"Good\", \"Good\", \"Good\", \"Good\", \"Good\", \"Good\", \"Good\", \"Good\", \"Good\", \"Good\", \"Good\", \"Good\", \"Good\", \"Good\", \"Good\", \"Good\", \"Good\", \"Good\", \"Good\", \"Good\", \"Good\", \"Good\", \"Good\", \"Good\", \"Good\", \"Good\", \"Good\", \"Good\", \"Good\", \"Good\", \"Good\", \"Good\", \"Good\", \"Good\", \"Good\", \"Good\", \"Good\", \"Good\", \"Good\", \"Good\", \"Good\", \"Good\", \"Good\", \"Good\", \"Good\", \"Good\", \"Good\", \"Good\", \"Good\", \"Good\", \"Good\", \"Good\", \"Good\", \"Good\", \"Good\", \"Good\", \"Good\", \"Good\", \"Good\", \"Good\", \"Good\", \"Good\", \"Good\", \"Good\", \"Good\", \"Good\", \"Good\", \"Good\", \"Good\", \"Good\", \"Good\", \"Good\", \"Good\", \"Good\", \"Good\", \"Good\", \"Good\", \"Good\", \"Good\", \"Good\", \"Good\", \"Good\", \"Good\", \"Good\", \"Good\", \"Good\", \"Good\", \"Good\", \"Good\", \"Good\", \"Good\", \"Good\", \"Good\", \"Good\", \"Good\", \"Good\", \"Good\", \"Good\", \"Good\", \"Good\", \"Good\", \"Good\", \"Good\", \"Good\", \"Good\", \"Good\", \"Good\", \"Good\", \"Good\", \"Good\", \"Good\", \"Good\", \"Good\", \"Good\", \"Good\", \"Good\", \"Good\", \"Good\", \"Good\", \"Good\", \"Good\", \"Good\", \"Good\", \"Good\", \"Good\", \"Good\", \"Good\", \"Good\", \"Good\", \"Good\", \"Good\", \"Good\", \"Good\", \"Good\", \"Good\", \"Good\", \"Good\", \"Good\", \"Good\", \"Good\", \"Good\", \"Good\", \"Good\", \"Good\", \"Good\", \"Good\", \"Good\", \"Good\", \"Good\", \"Good\", \"Good\"], \"xaxis\": \"x\", \"yaxis\": \"y\"}, {\"alignmentgroup\": \"True\", \"bingroup\": \"x\", \"hovertemplate\": \"Air Quality Rating=%{x}<br>count=%{y}<extra></extra>\", \"legendgroup\": \"Moderate\", \"marker\": {\"color\": \"Red\"}, \"name\": \"Moderate\", \"offsetgroup\": \"Moderate\", \"orientation\": \"v\", \"showlegend\": true, \"type\": \"histogram\", \"x\": [\"Moderate\", \"Moderate\", \"Moderate\", \"Moderate\", \"Moderate\", \"Moderate\", \"Moderate\", \"Moderate\", \"Moderate\", \"Moderate\", \"Moderate\", \"Moderate\", \"Moderate\", \"Moderate\", \"Moderate\", \"Moderate\", \"Moderate\", \"Moderate\", \"Moderate\", \"Moderate\", \"Moderate\", \"Moderate\", \"Moderate\", \"Moderate\", \"Moderate\", \"Moderate\", \"Moderate\", \"Moderate\", \"Moderate\", \"Moderate\", \"Moderate\", \"Moderate\", \"Moderate\", \"Moderate\", \"Moderate\", \"Moderate\", \"Moderate\", \"Moderate\", \"Moderate\", \"Moderate\", \"Moderate\", \"Moderate\", \"Moderate\", \"Moderate\", \"Moderate\", \"Moderate\", \"Moderate\", \"Moderate\", \"Moderate\", \"Moderate\", \"Moderate\", \"Moderate\", \"Moderate\", \"Moderate\", \"Moderate\", \"Moderate\", \"Moderate\", \"Moderate\", \"Moderate\", \"Moderate\", \"Moderate\", \"Moderate\", \"Moderate\", \"Moderate\", \"Moderate\", \"Moderate\", \"Moderate\", \"Moderate\", \"Moderate\", \"Moderate\", \"Moderate\", \"Moderate\", \"Moderate\", \"Moderate\", \"Moderate\", \"Moderate\", \"Moderate\", \"Moderate\", \"Moderate\", \"Moderate\", \"Moderate\", \"Moderate\", \"Moderate\", \"Moderate\", \"Moderate\", \"Moderate\", \"Moderate\", \"Moderate\", \"Moderate\", \"Moderate\", \"Moderate\", \"Moderate\", \"Moderate\", \"Moderate\", \"Moderate\", \"Moderate\", \"Moderate\", \"Moderate\", \"Moderate\", \"Moderate\", \"Moderate\", \"Moderate\", \"Moderate\", \"Moderate\", \"Moderate\", \"Moderate\", \"Moderate\", \"Moderate\", \"Moderate\", \"Moderate\", \"Moderate\", \"Moderate\", \"Moderate\", \"Moderate\", \"Moderate\", \"Moderate\", \"Moderate\", \"Moderate\", \"Moderate\", \"Moderate\", \"Moderate\", \"Moderate\", \"Moderate\", \"Moderate\", \"Moderate\", \"Moderate\", \"Moderate\", \"Moderate\", \"Moderate\", \"Moderate\", \"Moderate\", \"Moderate\", \"Moderate\", \"Moderate\", \"Moderate\", \"Moderate\", \"Moderate\", \"Moderate\", \"Moderate\", \"Moderate\", \"Moderate\", \"Moderate\", \"Moderate\", \"Moderate\", \"Moderate\", \"Moderate\", \"Moderate\", \"Moderate\", \"Moderate\", \"Moderate\", \"Moderate\", \"Moderate\", \"Moderate\", \"Moderate\", \"Moderate\", \"Moderate\", \"Moderate\", \"Moderate\", \"Moderate\", \"Moderate\", \"Moderate\", \"Moderate\", \"Moderate\"], \"xaxis\": \"x\", \"yaxis\": \"y\"}],                        {\"barmode\": \"relative\", \"legend\": {\"title\": {\"text\": \"Air Quality Rating\"}, \"tracegroupgap\": 0}, \"template\": {\"data\": {\"bar\": [{\"error_x\": {\"color\": \"#f2f5fa\"}, \"error_y\": {\"color\": \"#f2f5fa\"}, \"marker\": {\"line\": {\"color\": \"rgb(17,17,17)\", \"width\": 0.5}}, \"type\": \"bar\"}], \"barpolar\": [{\"marker\": {\"line\": {\"color\": \"rgb(17,17,17)\", \"width\": 0.5}}, \"type\": \"barpolar\"}], \"carpet\": [{\"aaxis\": {\"endlinecolor\": \"#A2B1C6\", \"gridcolor\": \"#506784\", \"linecolor\": \"#506784\", \"minorgridcolor\": \"#506784\", \"startlinecolor\": \"#A2B1C6\"}, \"baxis\": {\"endlinecolor\": \"#A2B1C6\", \"gridcolor\": \"#506784\", \"linecolor\": \"#506784\", \"minorgridcolor\": \"#506784\", \"startlinecolor\": \"#A2B1C6\"}, \"type\": \"carpet\"}], \"choropleth\": [{\"colorbar\": {\"outlinewidth\": 0, \"ticks\": \"\"}, \"type\": \"choropleth\"}], \"contour\": [{\"colorbar\": {\"outlinewidth\": 0, \"ticks\": \"\"}, \"colorscale\": [[0.0, \"#0d0887\"], [0.1111111111111111, \"#46039f\"], [0.2222222222222222, \"#7201a8\"], [0.3333333333333333, \"#9c179e\"], [0.4444444444444444, \"#bd3786\"], [0.5555555555555556, \"#d8576b\"], [0.6666666666666666, \"#ed7953\"], [0.7777777777777778, \"#fb9f3a\"], [0.8888888888888888, \"#fdca26\"], [1.0, \"#f0f921\"]], \"type\": \"contour\"}], \"contourcarpet\": [{\"colorbar\": {\"outlinewidth\": 0, \"ticks\": \"\"}, \"type\": \"contourcarpet\"}], \"heatmap\": [{\"colorbar\": {\"outlinewidth\": 0, \"ticks\": \"\"}, \"colorscale\": [[0.0, \"#0d0887\"], [0.1111111111111111, \"#46039f\"], [0.2222222222222222, \"#7201a8\"], [0.3333333333333333, \"#9c179e\"], [0.4444444444444444, \"#bd3786\"], [0.5555555555555556, \"#d8576b\"], [0.6666666666666666, \"#ed7953\"], [0.7777777777777778, \"#fb9f3a\"], [0.8888888888888888, \"#fdca26\"], [1.0, \"#f0f921\"]], \"type\": \"heatmap\"}], \"heatmapgl\": [{\"colorbar\": {\"outlinewidth\": 0, \"ticks\": \"\"}, \"colorscale\": [[0.0, \"#0d0887\"], [0.1111111111111111, \"#46039f\"], [0.2222222222222222, \"#7201a8\"], [0.3333333333333333, \"#9c179e\"], [0.4444444444444444, \"#bd3786\"], [0.5555555555555556, \"#d8576b\"], [0.6666666666666666, \"#ed7953\"], [0.7777777777777778, \"#fb9f3a\"], [0.8888888888888888, \"#fdca26\"], [1.0, \"#f0f921\"]], \"type\": \"heatmapgl\"}], \"histogram\": [{\"marker\": {\"colorbar\": {\"outlinewidth\": 0, \"ticks\": \"\"}}, \"type\": \"histogram\"}], \"histogram2d\": [{\"colorbar\": {\"outlinewidth\": 0, \"ticks\": \"\"}, \"colorscale\": [[0.0, \"#0d0887\"], [0.1111111111111111, \"#46039f\"], [0.2222222222222222, \"#7201a8\"], [0.3333333333333333, \"#9c179e\"], [0.4444444444444444, \"#bd3786\"], [0.5555555555555556, \"#d8576b\"], [0.6666666666666666, \"#ed7953\"], [0.7777777777777778, \"#fb9f3a\"], [0.8888888888888888, \"#fdca26\"], [1.0, \"#f0f921\"]], \"type\": \"histogram2d\"}], \"histogram2dcontour\": [{\"colorbar\": {\"outlinewidth\": 0, \"ticks\": \"\"}, \"colorscale\": [[0.0, \"#0d0887\"], [0.1111111111111111, \"#46039f\"], [0.2222222222222222, \"#7201a8\"], [0.3333333333333333, \"#9c179e\"], [0.4444444444444444, \"#bd3786\"], [0.5555555555555556, \"#d8576b\"], [0.6666666666666666, \"#ed7953\"], [0.7777777777777778, \"#fb9f3a\"], [0.8888888888888888, \"#fdca26\"], [1.0, \"#f0f921\"]], \"type\": \"histogram2dcontour\"}], \"mesh3d\": [{\"colorbar\": {\"outlinewidth\": 0, \"ticks\": \"\"}, \"type\": \"mesh3d\"}], \"parcoords\": [{\"line\": {\"colorbar\": {\"outlinewidth\": 0, \"ticks\": \"\"}}, \"type\": \"parcoords\"}], \"pie\": [{\"automargin\": true, \"type\": \"pie\"}], \"scatter\": [{\"marker\": {\"line\": {\"color\": \"#283442\"}}, \"type\": \"scatter\"}], \"scatter3d\": [{\"line\": {\"colorbar\": {\"outlinewidth\": 0, \"ticks\": \"\"}}, \"marker\": {\"colorbar\": {\"outlinewidth\": 0, \"ticks\": \"\"}}, \"type\": \"scatter3d\"}], \"scattercarpet\": [{\"marker\": {\"colorbar\": {\"outlinewidth\": 0, \"ticks\": \"\"}}, \"type\": \"scattercarpet\"}], \"scattergeo\": [{\"marker\": {\"colorbar\": {\"outlinewidth\": 0, \"ticks\": \"\"}}, \"type\": \"scattergeo\"}], \"scattergl\": [{\"marker\": {\"line\": {\"color\": \"#283442\"}}, \"type\": \"scattergl\"}], \"scattermapbox\": [{\"marker\": {\"colorbar\": {\"outlinewidth\": 0, \"ticks\": \"\"}}, \"type\": \"scattermapbox\"}], \"scatterpolar\": [{\"marker\": {\"colorbar\": {\"outlinewidth\": 0, \"ticks\": \"\"}}, \"type\": \"scatterpolar\"}], \"scatterpolargl\": [{\"marker\": {\"colorbar\": {\"outlinewidth\": 0, \"ticks\": \"\"}}, \"type\": \"scatterpolargl\"}], \"scatterternary\": [{\"marker\": {\"colorbar\": {\"outlinewidth\": 0, \"ticks\": \"\"}}, \"type\": \"scatterternary\"}], \"surface\": [{\"colorbar\": {\"outlinewidth\": 0, \"ticks\": \"\"}, \"colorscale\": [[0.0, \"#0d0887\"], [0.1111111111111111, \"#46039f\"], [0.2222222222222222, \"#7201a8\"], [0.3333333333333333, \"#9c179e\"], [0.4444444444444444, \"#bd3786\"], [0.5555555555555556, \"#d8576b\"], [0.6666666666666666, \"#ed7953\"], [0.7777777777777778, \"#fb9f3a\"], [0.8888888888888888, \"#fdca26\"], [1.0, \"#f0f921\"]], \"type\": \"surface\"}], \"table\": [{\"cells\": {\"fill\": {\"color\": \"#506784\"}, \"line\": {\"color\": \"rgb(17,17,17)\"}}, \"header\": {\"fill\": {\"color\": \"#2a3f5f\"}, \"line\": {\"color\": \"rgb(17,17,17)\"}}, \"type\": \"table\"}]}, \"layout\": {\"annotationdefaults\": {\"arrowcolor\": \"#f2f5fa\", \"arrowhead\": 0, \"arrowwidth\": 1}, \"coloraxis\": {\"colorbar\": {\"outlinewidth\": 0, \"ticks\": \"\"}}, \"colorscale\": {\"diverging\": [[0, \"#8e0152\"], [0.1, \"#c51b7d\"], [0.2, \"#de77ae\"], [0.3, \"#f1b6da\"], [0.4, \"#fde0ef\"], [0.5, \"#f7f7f7\"], [0.6, \"#e6f5d0\"], [0.7, \"#b8e186\"], [0.8, \"#7fbc41\"], [0.9, \"#4d9221\"], [1, \"#276419\"]], \"sequential\": [[0.0, \"#0d0887\"], [0.1111111111111111, \"#46039f\"], [0.2222222222222222, \"#7201a8\"], [0.3333333333333333, \"#9c179e\"], [0.4444444444444444, \"#bd3786\"], [0.5555555555555556, \"#d8576b\"], [0.6666666666666666, \"#ed7953\"], [0.7777777777777778, \"#fb9f3a\"], [0.8888888888888888, \"#fdca26\"], [1.0, \"#f0f921\"]], \"sequentialminus\": [[0.0, \"#0d0887\"], [0.1111111111111111, \"#46039f\"], [0.2222222222222222, \"#7201a8\"], [0.3333333333333333, \"#9c179e\"], [0.4444444444444444, \"#bd3786\"], [0.5555555555555556, \"#d8576b\"], [0.6666666666666666, \"#ed7953\"], [0.7777777777777778, \"#fb9f3a\"], [0.8888888888888888, \"#fdca26\"], [1.0, \"#f0f921\"]]}, \"colorway\": [\"#636efa\", \"#EF553B\", \"#00cc96\", \"#ab63fa\", \"#FFA15A\", \"#19d3f3\", \"#FF6692\", \"#B6E880\", \"#FF97FF\", \"#FECB52\"], \"font\": {\"color\": \"#f2f5fa\"}, \"geo\": {\"bgcolor\": \"rgb(17,17,17)\", \"lakecolor\": \"rgb(17,17,17)\", \"landcolor\": \"rgb(17,17,17)\", \"showlakes\": true, \"showland\": true, \"subunitcolor\": \"#506784\"}, \"hoverlabel\": {\"align\": \"left\"}, \"hovermode\": \"closest\", \"mapbox\": {\"style\": \"dark\"}, \"paper_bgcolor\": \"rgb(17,17,17)\", \"plot_bgcolor\": \"rgb(17,17,17)\", \"polar\": {\"angularaxis\": {\"gridcolor\": \"#506784\", \"linecolor\": \"#506784\", \"ticks\": \"\"}, \"bgcolor\": \"rgb(17,17,17)\", \"radialaxis\": {\"gridcolor\": \"#506784\", \"linecolor\": \"#506784\", \"ticks\": \"\"}}, \"scene\": {\"xaxis\": {\"backgroundcolor\": \"rgb(17,17,17)\", \"gridcolor\": \"#506784\", \"gridwidth\": 2, \"linecolor\": \"#506784\", \"showbackground\": true, \"ticks\": \"\", \"zerolinecolor\": \"#C8D4E3\"}, \"yaxis\": {\"backgroundcolor\": \"rgb(17,17,17)\", \"gridcolor\": \"#506784\", \"gridwidth\": 2, \"linecolor\": \"#506784\", \"showbackground\": true, \"ticks\": \"\", \"zerolinecolor\": \"#C8D4E3\"}, \"zaxis\": {\"backgroundcolor\": \"rgb(17,17,17)\", \"gridcolor\": \"#506784\", \"gridwidth\": 2, \"linecolor\": \"#506784\", \"showbackground\": true, \"ticks\": \"\", \"zerolinecolor\": \"#C8D4E3\"}}, \"shapedefaults\": {\"line\": {\"color\": \"#f2f5fa\"}}, \"sliderdefaults\": {\"bgcolor\": \"#C8D4E3\", \"bordercolor\": \"rgb(17,17,17)\", \"borderwidth\": 1, \"tickwidth\": 0}, \"ternary\": {\"aaxis\": {\"gridcolor\": \"#506784\", \"linecolor\": \"#506784\", \"ticks\": \"\"}, \"baxis\": {\"gridcolor\": \"#506784\", \"linecolor\": \"#506784\", \"ticks\": \"\"}, \"bgcolor\": \"rgb(17,17,17)\", \"caxis\": {\"gridcolor\": \"#506784\", \"linecolor\": \"#506784\", \"ticks\": \"\"}}, \"title\": {\"x\": 0.05}, \"updatemenudefaults\": {\"bgcolor\": \"#506784\", \"borderwidth\": 0}, \"xaxis\": {\"automargin\": true, \"gridcolor\": \"#283442\", \"linecolor\": \"#506784\", \"ticks\": \"\", \"title\": {\"standoff\": 15}, \"zerolinecolor\": \"#283442\", \"zerolinewidth\": 2}, \"yaxis\": {\"automargin\": true, \"gridcolor\": \"#283442\", \"linecolor\": \"#506784\", \"ticks\": \"\", \"title\": {\"standoff\": 15}, \"zerolinecolor\": \"#283442\", \"zerolinewidth\": 2}}}, \"title\": {\"text\": \"Albuquerque Good Air Days for Ozone 5-year Average (2015-2019)\"}, \"xaxis\": {\"anchor\": \"y\", \"categoryarray\": [\"Good\", \"Moderate\"], \"categoryorder\": \"array\", \"domain\": [0.0, 1.0], \"title\": {\"text\": \"Air Quality Rating\"}}, \"yaxis\": {\"anchor\": \"x\", \"domain\": [0.0, 1.0], \"title\": {\"text\": \"Number of Days\"}}},                        {\"responsive\": true}                    ).then(function(){\n",
       "                            \n",
       "var gd = document.getElementById('64995422-6103-44ed-9ba3-35a7bfd08e0b');\n",
       "var x = new MutationObserver(function (mutations, observer) {{\n",
       "        var display = window.getComputedStyle(gd).display;\n",
       "        if (!display || display === 'none') {{\n",
       "            console.log([gd, 'removed!']);\n",
       "            Plotly.purge(gd);\n",
       "            observer.disconnect();\n",
       "        }}\n",
       "}});\n",
       "\n",
       "// Listen for the removal of the full notebook cells\n",
       "var notebookContainer = gd.closest('#notebook-container');\n",
       "if (notebookContainer) {{\n",
       "    x.observe(notebookContainer, {childList: true});\n",
       "}}\n",
       "\n",
       "// Listen for the clearing of the current output cell\n",
       "var outputEl = gd.closest('.output');\n",
       "if (outputEl) {{\n",
       "    x.observe(outputEl, {childList: true});\n",
       "}}\n",
       "\n",
       "                        })                };                });            </script>        </div>"
      ]
     },
     "metadata": {},
     "output_type": "display_data"
    }
   ],
   "source": [
    "fig = px.histogram(df_graph, x='Air Quality Rating', color='Air Quality Rating', template='plotly_dark',\n",
    "                   title=\"Albuquerque Good Air Days for Ozone 5-year Average (2015-2019)\",\n",
    "                   color_discrete_map = {\"Good\": \"Green\", \"Moderate\": \"Red\"})\n",
    "fig.update_layout(yaxis_title=\"Number of Days\")\n",
    "fig.show()"
   ]
  },
  {
   "cell_type": "code",
   "execution_count": null,
   "id": "valid-substitute",
   "metadata": {},
   "outputs": [],
   "source": [
    "#df_1982.head()"
   ]
  },
  {
   "cell_type": "code",
   "execution_count": null,
   "id": "alternative-wireless",
   "metadata": {},
   "outputs": [],
   "source": [
    "df = pd.concat([df_1982, df_2020], ignore_index=True)"
   ]
  },
  {
   "cell_type": "code",
   "execution_count": null,
   "id": "explicit-trainer",
   "metadata": {},
   "outputs": [],
   "source": [
    "df.info()"
   ]
  },
  {
   "cell_type": "code",
   "execution_count": null,
   "id": "champion-bracket",
   "metadata": {},
   "outputs": [],
   "source": [
    "df['Year'] = pd.DatetimeIndex(df['Date']).year\n",
    "#df.head()"
   ]
  },
  {
   "cell_type": "code",
   "execution_count": null,
   "id": "fabulous-order",
   "metadata": {},
   "outputs": [],
   "source": [
    "#df['month_day'] = df['Date'].dt.strftime('%m-%d')"
   ]
  },
  {
   "cell_type": "code",
   "execution_count": null,
   "id": "theoretical-ottawa",
   "metadata": {},
   "outputs": [],
   "source": [
    "#df.head()\n",
    "#df.info()\n",
    "#df.to_csv(\"data/combined_air_data.csv\")\n",
    "DATA_COMBINED = Path(\"data/combined_air_data.csv\")\n",
    "df = pd.read_csv(DATA_COMBINED)\n",
    "df.head()"
   ]
  },
  {
   "cell_type": "code",
   "execution_count": null,
   "id": "second-exchange",
   "metadata": {},
   "outputs": [],
   "source": [
    "#Count number of AQI not 'Good' air days for 1982 and 2020\n",
    "not_good_air_days = df[df[\"Ozone AQI Value\"]>51].groupby(\"Year\").count()\n",
    "not_good_air_days"
   ]
  },
  {
   "cell_type": "code",
   "execution_count": null,
   "id": "blessed-scottish",
   "metadata": {},
   "outputs": [],
   "source": [
    "#df.shape\n",
    "df_no_leap_year = df[df['Date'] != '2020-02-29']\n",
    "#df_no_leap_year.shape"
   ]
  },
  {
   "cell_type": "code",
   "execution_count": null,
   "id": "derived-observer",
   "metadata": {},
   "outputs": [],
   "source": [
    "day_of_year = list(range(1,366)) + list(range(1,366))\n"
   ]
  },
  {
   "cell_type": "code",
   "execution_count": null,
   "id": "fancy-event",
   "metadata": {},
   "outputs": [],
   "source": [
    "df_no_leap_year['day_of_year'] = day_of_year"
   ]
  },
  {
   "cell_type": "code",
   "execution_count": null,
   "id": "oriented-myanmar",
   "metadata": {},
   "outputs": [],
   "source": [
    "df_no_leap_year.head()"
   ]
  },
  {
   "cell_type": "code",
   "execution_count": null,
   "id": "dependent-lounge",
   "metadata": {},
   "outputs": [],
   "source": [
    "fig = px.line(df_no_leap_year, x='day_of_year', y='Ozone AQI Value', color='Year', \n",
    "              title=\"Ozone AQI Values\")\n",
    "fig.show()"
   ]
  },
  {
   "cell_type": "code",
   "execution_count": null,
   "id": "balanced-priority",
   "metadata": {},
   "outputs": [],
   "source": [
    "#create rolling average instead of raw data\n",
    "df_no_leap_year['simple_moving_average'] = df_no_leap_year.iloc[:,1].rolling(window=5).mean()"
   ]
  },
  {
   "cell_type": "code",
   "execution_count": null,
   "id": "civilian-palmer",
   "metadata": {},
   "outputs": [],
   "source": [
    "df_no_leap_year.head(10)"
   ]
  },
  {
   "cell_type": "code",
   "execution_count": null,
   "id": "numeric-founder",
   "metadata": {},
   "outputs": [],
   "source": [
    "#fig2 = px.line(df_no_leap_year, x='day_of_year', y='simple_moving_average', color='Year', \n",
    "#              title=\"Ozone Smoothed AQI Values\")\n",
    "#fig2.show()"
   ]
  },
  {
   "cell_type": "code",
   "execution_count": null,
   "id": "certified-moment",
   "metadata": {},
   "outputs": [],
   "source": [
    "fig3 = px.line(df_no_leap_year.iloc[0:364], x='day_of_year', y='5-year Average (2015-2019)',\n",
    "               labels={\n",
    "                   \"day_of_year\": \"Day in Year\"\n",
    "               },\n",
    "              title=\"Albuquerque Ozone Air Quality Index Five Year Average\")\n",
    "fig3.add_shape(# add a threshold line between 'Good' air and above\n",
    "    type=\"line\", line_color=\"salmon\", line_width=3, opacity=1, line_dash=\"dot\",\n",
    "    x0=0, x1=365, xref=\"x\", y0=50, y1=50, yref=\"y\")\n",
    "fig3.add_annotation(#add text over threshhold line\n",
    "    text=\"Good Air Quality Boundary\", x=320, y=52, showarrow=False)\n",
    "fig3.show()"
   ]
  },
  {
   "cell_type": "code",
   "execution_count": null,
   "id": "professional-cricket",
   "metadata": {},
   "outputs": [],
   "source": []
  }
 ],
 "metadata": {
  "kernelspec": {
   "display_name": "Python 3",
   "language": "python",
   "name": "python3"
  },
  "language_info": {
   "codemirror_mode": {
    "name": "ipython",
    "version": 3
   },
   "file_extension": ".py",
   "mimetype": "text/x-python",
   "name": "python",
   "nbconvert_exporter": "python",
   "pygments_lexer": "ipython3",
   "version": "3.7.6"
  }
 },
 "nbformat": 4,
 "nbformat_minor": 5
}
