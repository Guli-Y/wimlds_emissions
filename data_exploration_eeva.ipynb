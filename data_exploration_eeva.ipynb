{
 "cells": [
  {
   "cell_type": "markdown",
   "id": "welsh-recycling",
   "metadata": {},
   "source": [
    "I want to see whether the introduction of mandatory emissions checks on cars every two years since 1983 correlates with an increase in air quality.\n",
    "\n",
    "According to the \"State of the Air\" report 2020 by the American Lung Association there is a general decreasing trend in emissions since the 1970's in the US.\n",
    "\n",
    "According to https://www.cabq.gov/airquality/trends there is also a downward trend between 2000 - 2015 in:\n",
    "1. Ozone (parts per million, ppm)\n",
    "2. Carbon Monoxide (parts per million, ppm)\n",
    "3. Nitrogen Dioxide (parts per billion, ppb)\n",
    "concentration in Albuqurque.\n",
    "\n",
    "Levels of Sulfur Dioxide and particulate matter (both 10 and 2.5 microns) however appear to be stable over the same time period. For reference a human hair is aproximately 70 microns wide."
   ]
  },
  {
   "cell_type": "code",
   "execution_count": 6,
   "id": "horizontal-surname",
   "metadata": {},
   "outputs": [],
   "source": [
    "import pandas as pd\n",
    "from pathlib import Path\n",
    "import plotly.express as px"
   ]
  },
  {
   "cell_type": "code",
   "execution_count": 7,
   "id": "awful-festival",
   "metadata": {},
   "outputs": [],
   "source": [
    "#Change in Ozone levels (Parts per million)\n",
    "level_ozone_2000 = 0.075\n",
    "level_ozone_2015 = 0.066\n",
    "change_ozone = round(level_ozone_2015 - level_ozone_2000, 4)\n",
    "\n",
    "#Change in Carbon Monoxide levels (Parts per million)\n",
    "level_CO_2000 = 3.8\n",
    "level_CO_2015 = 1.4\n",
    "change_CO = round(level_CO_2015 - level_CO_2000, 4)\n",
    "\n",
    "#Change in Nitrogen Dioxide levels (Parts per billion)\n",
    "level_NO_2000 = 65\n",
    "level_NO_2015 = 45\n",
    "change_NO = level_NO_2015 - level_NO_2000\n",
    "#convert to ppm\n",
    "change_NO = change_NO/1000"
   ]
  },
  {
   "cell_type": "code",
   "execution_count": 8,
   "id": "interior-patrol",
   "metadata": {},
   "outputs": [],
   "source": [
    "#Percent change Ozone\n",
    "percent_ozone = round(change_ozone/level_ozone_2000 * 100, 4)\n",
    "percent_CO = round(change_CO/level_CO_2000 * 100, 4)\n",
    "precent_NO = round(change_NO/level_NO_2000 * 100, 4)"
   ]
  },
  {
   "cell_type": "code",
   "execution_count": 9,
   "id": "voluntary-ancient",
   "metadata": {},
   "outputs": [
    {
     "name": "stdout",
     "output_type": "stream",
     "text": [
      "Change in three air pollutants from 2000 to 2015 in Albuquerque\n"
     ]
    },
    {
     "data": {
      "text/html": [
       "<div>\n",
       "<style scoped>\n",
       "    .dataframe tbody tr th:only-of-type {\n",
       "        vertical-align: middle;\n",
       "    }\n",
       "\n",
       "    .dataframe tbody tr th {\n",
       "        vertical-align: top;\n",
       "    }\n",
       "\n",
       "    .dataframe thead th {\n",
       "        text-align: right;\n",
       "    }\n",
       "</style>\n",
       "<table border=\"1\" class=\"dataframe\">\n",
       "  <thead>\n",
       "    <tr style=\"text-align: right;\">\n",
       "      <th></th>\n",
       "      <th>change_ppm</th>\n",
       "      <th>percent_change</th>\n",
       "    </tr>\n",
       "  </thead>\n",
       "  <tbody>\n",
       "    <tr>\n",
       "      <th>Ozone</th>\n",
       "      <td>-0.009</td>\n",
       "      <td>-12.0000</td>\n",
       "    </tr>\n",
       "    <tr>\n",
       "      <th>Carbon_Monoxide</th>\n",
       "      <td>-2.400</td>\n",
       "      <td>-63.1579</td>\n",
       "    </tr>\n",
       "    <tr>\n",
       "      <th>Nitrogen_Dioxide</th>\n",
       "      <td>-0.020</td>\n",
       "      <td>-0.0308</td>\n",
       "    </tr>\n",
       "  </tbody>\n",
       "</table>\n",
       "</div>"
      ],
      "text/plain": [
       "                  change_ppm  percent_change\n",
       "Ozone                 -0.009        -12.0000\n",
       "Carbon_Monoxide       -2.400        -63.1579\n",
       "Nitrogen_Dioxide      -0.020         -0.0308"
      ]
     },
     "execution_count": 9,
     "metadata": {},
     "output_type": "execute_result"
    }
   ],
   "source": [
    "data = {\"change_ppm\": [change_ozone, change_CO, change_NO], \"percent_change\": [percent_ozone, percent_CO, precent_NO]}\n",
    "df_change = pd.DataFrame(data = data, index = [\"Ozone\", \"Carbon_Monoxide\", \"Nitrogen_Dioxide\"])\n",
    "print(\"Change in three air pollutants from 2000 to 2015 in Albuquerque\")\n",
    "df_change"
   ]
  },
  {
   "cell_type": "markdown",
   "id": "another-school",
   "metadata": {},
   "source": [
    "Using data from https://www.epa.gov/outdoor-air-quality-data/air-data-daily-air-quality-tracker I want to visualize the difference in emissions between the year before mandatory car emissions checks were introduced (1982) and 2020. The metric is the Air Quality Index (AQI) for Ozone.\n",
    "Note: I chose not to use the combined Ozone and and PM2.5 (Particulate Matter 2.5 microns) score, as for 1982 only the Ozone value was used in the combined score."
   ]
  },
  {
   "cell_type": "code",
   "execution_count": null,
   "id": "dramatic-baghdad",
   "metadata": {},
   "outputs": [],
   "source": [
    "#AQI values\n",
    "AQI_VALUES = {\"Good\":range(0, 51), \"Moderate\":range(51, 101), \"Sensitive\":range(101, 151), \"Unhealthy\":range(151, 201),\n",
    "             \"Very Unhealthy\":range(201, 301), \"Hazardous\":range(301, 501)}\n",
    "AQI_VALUES"
   ]
  },
  {
   "cell_type": "code",
   "execution_count": 10,
   "id": "applicable-rouge",
   "metadata": {},
   "outputs": [],
   "source": [
    "DATA_1982 = Path(\"data/1982_aqi_data.csv\")\n",
    "DATA_2020 = Path(\"data/2020_aqi_data.csv\")"
   ]
  },
  {
   "cell_type": "code",
   "execution_count": 37,
   "id": "smaller-excellence",
   "metadata": {},
   "outputs": [],
   "source": [
    "df_1982 = pd.read_csv(DATA_1982, parse_dates=[0,8,9], skipinitialspace=True)"
   ]
  },
  {
   "cell_type": "code",
   "execution_count": 38,
   "id": "cleared-harmony",
   "metadata": {},
   "outputs": [
    {
     "name": "stdout",
     "output_type": "stream",
     "text": [
      "<class 'pandas.core.frame.DataFrame'>\n",
      "RangeIndex: 365 entries, 0 to 364\n",
      "Data columns (total 10 columns):\n",
      " #   Column                      Non-Null Count  Dtype         \n",
      "---  ------                      --------------  -----         \n",
      " 0   Date                        365 non-null    datetime64[ns]\n",
      " 1   Ozone AQI Value             365 non-null    int64         \n",
      " 2   Site Name                   56 non-null     object        \n",
      " 3   Site ID                     365 non-null    object        \n",
      " 4   Source                      365 non-null    object        \n",
      " 5   20-year High (2000-2019)    365 non-null    int64         \n",
      " 6   20-year Low (2000-2019)     365 non-null    int64         \n",
      " 7   5-year Average (2015-2019)  365 non-null    float64       \n",
      " 8   Date of 20-year High        365 non-null    datetime64[ns]\n",
      " 9   Date of 20-year Low         365 non-null    datetime64[ns]\n",
      "dtypes: datetime64[ns](3), float64(1), int64(3), object(3)\n",
      "memory usage: 28.6+ KB\n"
     ]
    }
   ],
   "source": [
    "#df_1982.info()"
   ]
  },
  {
   "cell_type": "code",
   "execution_count": 39,
   "id": "wanted-leisure",
   "metadata": {},
   "outputs": [],
   "source": [
    "df_2020 = pd.read_csv(DATA_2020, parse_dates=[0,8,9], skipinitialspace=True)"
   ]
  },
  {
   "cell_type": "code",
   "execution_count": 40,
   "id": "alert-biography",
   "metadata": {},
   "outputs": [
    {
     "name": "stdout",
     "output_type": "stream",
     "text": [
      "<class 'pandas.core.frame.DataFrame'>\n",
      "RangeIndex: 366 entries, 0 to 365\n",
      "Data columns (total 10 columns):\n",
      " #   Column                      Non-Null Count  Dtype         \n",
      "---  ------                      --------------  -----         \n",
      " 0   Date                        366 non-null    datetime64[ns]\n",
      " 1   Ozone AQI Value             366 non-null    int64         \n",
      " 2   Site Name                   275 non-null    object        \n",
      " 3   Site ID                     366 non-null    object        \n",
      " 4   Source                      366 non-null    object        \n",
      " 5   20-year High (2000-2019)    366 non-null    int64         \n",
      " 6   20-year Low (2000-2019)     366 non-null    int64         \n",
      " 7   5-year Average (2015-2019)  366 non-null    object        \n",
      " 8   Date of 20-year High        366 non-null    datetime64[ns]\n",
      " 9   Date of 20-year Low         366 non-null    datetime64[ns]\n",
      "dtypes: datetime64[ns](3), int64(3), object(4)\n",
      "memory usage: 28.7+ KB\n"
     ]
    }
   ],
   "source": [
    "#df_2020.info()"
   ]
  },
  {
   "cell_type": "code",
   "execution_count": 41,
   "id": "split-administrator",
   "metadata": {},
   "outputs": [
    {
     "data": {
      "text/html": [
       "<div>\n",
       "<style scoped>\n",
       "    .dataframe tbody tr th:only-of-type {\n",
       "        vertical-align: middle;\n",
       "    }\n",
       "\n",
       "    .dataframe tbody tr th {\n",
       "        vertical-align: top;\n",
       "    }\n",
       "\n",
       "    .dataframe thead th {\n",
       "        text-align: right;\n",
       "    }\n",
       "</style>\n",
       "<table border=\"1\" class=\"dataframe\">\n",
       "  <thead>\n",
       "    <tr style=\"text-align: right;\">\n",
       "      <th></th>\n",
       "      <th>Date</th>\n",
       "      <th>Ozone AQI Value</th>\n",
       "      <th>Site Name</th>\n",
       "      <th>Site ID</th>\n",
       "      <th>Source</th>\n",
       "      <th>20-year High (2000-2019)</th>\n",
       "      <th>20-year Low (2000-2019)</th>\n",
       "      <th>5-year Average (2015-2019)</th>\n",
       "      <th>Date of 20-year High</th>\n",
       "      <th>Date of 20-year Low</th>\n",
       "    </tr>\n",
       "  </thead>\n",
       "  <tbody>\n",
       "    <tr>\n",
       "      <th>0</th>\n",
       "      <td>2020-01-01</td>\n",
       "      <td>42</td>\n",
       "      <td>Foothills</td>\n",
       "      <td>35-001-1012</td>\n",
       "      <td>AQS</td>\n",
       "      <td>44</td>\n",
       "      <td>27</td>\n",
       "      <td>31.8</td>\n",
       "      <td>2013-01-01</td>\n",
       "      <td>2001-01-01</td>\n",
       "    </tr>\n",
       "    <tr>\n",
       "      <th>1</th>\n",
       "      <td>2020-01-02</td>\n",
       "      <td>39</td>\n",
       "      <td>Foothills</td>\n",
       "      <td>35-001-1012</td>\n",
       "      <td>AQS</td>\n",
       "      <td>49</td>\n",
       "      <td>31</td>\n",
       "      <td>35.4</td>\n",
       "      <td>2007-01-02</td>\n",
       "      <td>2002-01-02</td>\n",
       "    </tr>\n",
       "    <tr>\n",
       "      <th>2</th>\n",
       "      <td>2020-01-03</td>\n",
       "      <td>38</td>\n",
       "      <td>Foothills</td>\n",
       "      <td>35-001-1012</td>\n",
       "      <td>AQS</td>\n",
       "      <td>43</td>\n",
       "      <td>24</td>\n",
       "      <td>37.8</td>\n",
       "      <td>2006-01-03</td>\n",
       "      <td>2005-01-03</td>\n",
       "    </tr>\n",
       "    <tr>\n",
       "      <th>3</th>\n",
       "      <td>2020-01-04</td>\n",
       "      <td>36</td>\n",
       "      <td>Foothills</td>\n",
       "      <td>35-001-1012</td>\n",
       "      <td>AQS</td>\n",
       "      <td>42</td>\n",
       "      <td>29</td>\n",
       "      <td>38.4</td>\n",
       "      <td>2019-01-04</td>\n",
       "      <td>2001-01-04</td>\n",
       "    </tr>\n",
       "    <tr>\n",
       "      <th>4</th>\n",
       "      <td>2020-01-05</td>\n",
       "      <td>36</td>\n",
       "      <td>Foothills</td>\n",
       "      <td>35-001-1012</td>\n",
       "      <td>AQS</td>\n",
       "      <td>43</td>\n",
       "      <td>24</td>\n",
       "      <td>32.8</td>\n",
       "      <td>2013-01-05</td>\n",
       "      <td>2001-01-05</td>\n",
       "    </tr>\n",
       "  </tbody>\n",
       "</table>\n",
       "</div>"
      ],
      "text/plain": [
       "        Date  Ozone AQI Value  Site Name      Site ID Source  \\\n",
       "0 2020-01-01               42  Foothills  35-001-1012    AQS   \n",
       "1 2020-01-02               39  Foothills  35-001-1012    AQS   \n",
       "2 2020-01-03               38  Foothills  35-001-1012    AQS   \n",
       "3 2020-01-04               36  Foothills  35-001-1012    AQS   \n",
       "4 2020-01-05               36  Foothills  35-001-1012    AQS   \n",
       "\n",
       "   20-year High (2000-2019)  20-year Low (2000-2019)  \\\n",
       "0                        44                       27   \n",
       "1                        49                       31   \n",
       "2                        43                       24   \n",
       "3                        42                       29   \n",
       "4                        43                       24   \n",
       "\n",
       "  5-year Average (2015-2019) Date of 20-year High Date of 20-year Low  \n",
       "0                       31.8           2013-01-01          2001-01-01  \n",
       "1                       35.4           2007-01-02          2002-01-02  \n",
       "2                       37.8           2006-01-03          2005-01-03  \n",
       "3                       38.4           2019-01-04          2001-01-04  \n",
       "4                       32.8           2013-01-05          2001-01-05  "
      ]
     },
     "execution_count": 41,
     "metadata": {},
     "output_type": "execute_result"
    }
   ],
   "source": [
    "#df_2020.head()"
   ]
  },
  {
   "cell_type": "code",
   "execution_count": 42,
   "id": "valid-substitute",
   "metadata": {},
   "outputs": [
    {
     "data": {
      "text/html": [
       "<div>\n",
       "<style scoped>\n",
       "    .dataframe tbody tr th:only-of-type {\n",
       "        vertical-align: middle;\n",
       "    }\n",
       "\n",
       "    .dataframe tbody tr th {\n",
       "        vertical-align: top;\n",
       "    }\n",
       "\n",
       "    .dataframe thead th {\n",
       "        text-align: right;\n",
       "    }\n",
       "</style>\n",
       "<table border=\"1\" class=\"dataframe\">\n",
       "  <thead>\n",
       "    <tr style=\"text-align: right;\">\n",
       "      <th></th>\n",
       "      <th>Date</th>\n",
       "      <th>Ozone AQI Value</th>\n",
       "      <th>Site Name</th>\n",
       "      <th>Site ID</th>\n",
       "      <th>Source</th>\n",
       "      <th>20-year High (2000-2019)</th>\n",
       "      <th>20-year Low (2000-2019)</th>\n",
       "      <th>5-year Average (2015-2019)</th>\n",
       "      <th>Date of 20-year High</th>\n",
       "      <th>Date of 20-year Low</th>\n",
       "    </tr>\n",
       "  </thead>\n",
       "  <tbody>\n",
       "    <tr>\n",
       "      <th>0</th>\n",
       "      <td>1982-01-01</td>\n",
       "      <td>26</td>\n",
       "      <td>Foothills</td>\n",
       "      <td>35-001-1012</td>\n",
       "      <td>AQS</td>\n",
       "      <td>44</td>\n",
       "      <td>27</td>\n",
       "      <td>31.8</td>\n",
       "      <td>2013-01-01</td>\n",
       "      <td>2001-01-01</td>\n",
       "    </tr>\n",
       "    <tr>\n",
       "      <th>1</th>\n",
       "      <td>1982-01-02</td>\n",
       "      <td>30</td>\n",
       "      <td>Foothills</td>\n",
       "      <td>35-001-1012</td>\n",
       "      <td>AQS</td>\n",
       "      <td>49</td>\n",
       "      <td>31</td>\n",
       "      <td>35.4</td>\n",
       "      <td>2007-01-02</td>\n",
       "      <td>2002-01-02</td>\n",
       "    </tr>\n",
       "    <tr>\n",
       "      <th>2</th>\n",
       "      <td>1982-01-03</td>\n",
       "      <td>37</td>\n",
       "      <td>NaN</td>\n",
       "      <td>35-043-1001</td>\n",
       "      <td>AQS</td>\n",
       "      <td>43</td>\n",
       "      <td>24</td>\n",
       "      <td>37.8</td>\n",
       "      <td>2006-01-03</td>\n",
       "      <td>2005-01-03</td>\n",
       "    </tr>\n",
       "    <tr>\n",
       "      <th>3</th>\n",
       "      <td>1982-01-04</td>\n",
       "      <td>31</td>\n",
       "      <td>Foothills</td>\n",
       "      <td>35-001-1012</td>\n",
       "      <td>AQS</td>\n",
       "      <td>42</td>\n",
       "      <td>29</td>\n",
       "      <td>38.4</td>\n",
       "      <td>2019-01-04</td>\n",
       "      <td>2001-01-04</td>\n",
       "    </tr>\n",
       "    <tr>\n",
       "      <th>4</th>\n",
       "      <td>1982-01-05</td>\n",
       "      <td>28</td>\n",
       "      <td>Foothills</td>\n",
       "      <td>35-001-1012</td>\n",
       "      <td>AQS</td>\n",
       "      <td>43</td>\n",
       "      <td>24</td>\n",
       "      <td>32.8</td>\n",
       "      <td>2013-01-05</td>\n",
       "      <td>2001-01-05</td>\n",
       "    </tr>\n",
       "  </tbody>\n",
       "</table>\n",
       "</div>"
      ],
      "text/plain": [
       "        Date  Ozone AQI Value  Site Name      Site ID Source  \\\n",
       "0 1982-01-01               26  Foothills  35-001-1012    AQS   \n",
       "1 1982-01-02               30  Foothills  35-001-1012    AQS   \n",
       "2 1982-01-03               37        NaN  35-043-1001    AQS   \n",
       "3 1982-01-04               31  Foothills  35-001-1012    AQS   \n",
       "4 1982-01-05               28  Foothills  35-001-1012    AQS   \n",
       "\n",
       "   20-year High (2000-2019)  20-year Low (2000-2019)  \\\n",
       "0                        44                       27   \n",
       "1                        49                       31   \n",
       "2                        43                       24   \n",
       "3                        42                       29   \n",
       "4                        43                       24   \n",
       "\n",
       "   5-year Average (2015-2019) Date of 20-year High Date of 20-year Low  \n",
       "0                        31.8           2013-01-01          2001-01-01  \n",
       "1                        35.4           2007-01-02          2002-01-02  \n",
       "2                        37.8           2006-01-03          2005-01-03  \n",
       "3                        38.4           2019-01-04          2001-01-04  \n",
       "4                        32.8           2013-01-05          2001-01-05  "
      ]
     },
     "execution_count": 42,
     "metadata": {},
     "output_type": "execute_result"
    }
   ],
   "source": [
    "#df_1982.head()"
   ]
  },
  {
   "cell_type": "code",
   "execution_count": 49,
   "id": "alternative-wireless",
   "metadata": {},
   "outputs": [],
   "source": [
    "df = pd.concat([df_1982, df_2020], ignore_index=True)"
   ]
  },
  {
   "cell_type": "code",
   "execution_count": 50,
   "id": "explicit-trainer",
   "metadata": {},
   "outputs": [
    {
     "name": "stdout",
     "output_type": "stream",
     "text": [
      "<class 'pandas.core.frame.DataFrame'>\n",
      "RangeIndex: 731 entries, 0 to 730\n",
      "Data columns (total 10 columns):\n",
      " #   Column                      Non-Null Count  Dtype         \n",
      "---  ------                      --------------  -----         \n",
      " 0   Date                        731 non-null    datetime64[ns]\n",
      " 1   Ozone AQI Value             731 non-null    int64         \n",
      " 2   Site Name                   331 non-null    object        \n",
      " 3   Site ID                     731 non-null    object        \n",
      " 4   Source                      731 non-null    object        \n",
      " 5   20-year High (2000-2019)    731 non-null    int64         \n",
      " 6   20-year Low (2000-2019)     731 non-null    int64         \n",
      " 7   5-year Average (2015-2019)  731 non-null    object        \n",
      " 8   Date of 20-year High        731 non-null    datetime64[ns]\n",
      " 9   Date of 20-year Low         731 non-null    datetime64[ns]\n",
      "dtypes: datetime64[ns](3), int64(3), object(4)\n",
      "memory usage: 57.2+ KB\n"
     ]
    }
   ],
   "source": [
    "#df.info()"
   ]
  },
  {
   "cell_type": "code",
   "execution_count": 60,
   "id": "champion-bracket",
   "metadata": {},
   "outputs": [
    {
     "data": {
      "text/html": [
       "<div>\n",
       "<style scoped>\n",
       "    .dataframe tbody tr th:only-of-type {\n",
       "        vertical-align: middle;\n",
       "    }\n",
       "\n",
       "    .dataframe tbody tr th {\n",
       "        vertical-align: top;\n",
       "    }\n",
       "\n",
       "    .dataframe thead th {\n",
       "        text-align: right;\n",
       "    }\n",
       "</style>\n",
       "<table border=\"1\" class=\"dataframe\">\n",
       "  <thead>\n",
       "    <tr style=\"text-align: right;\">\n",
       "      <th></th>\n",
       "      <th>Date</th>\n",
       "      <th>Ozone AQI Value</th>\n",
       "      <th>Site Name</th>\n",
       "      <th>Site ID</th>\n",
       "      <th>Source</th>\n",
       "      <th>20-year High (2000-2019)</th>\n",
       "      <th>20-year Low (2000-2019)</th>\n",
       "      <th>5-year Average (2015-2019)</th>\n",
       "      <th>Date of 20-year High</th>\n",
       "      <th>Date of 20-year Low</th>\n",
       "      <th>Year</th>\n",
       "    </tr>\n",
       "  </thead>\n",
       "  <tbody>\n",
       "    <tr>\n",
       "      <th>0</th>\n",
       "      <td>1982-01-01</td>\n",
       "      <td>26</td>\n",
       "      <td>Foothills</td>\n",
       "      <td>35-001-1012</td>\n",
       "      <td>AQS</td>\n",
       "      <td>44</td>\n",
       "      <td>27</td>\n",
       "      <td>31.8</td>\n",
       "      <td>2013-01-01</td>\n",
       "      <td>2001-01-01</td>\n",
       "      <td>1982</td>\n",
       "    </tr>\n",
       "    <tr>\n",
       "      <th>1</th>\n",
       "      <td>1982-01-02</td>\n",
       "      <td>30</td>\n",
       "      <td>Foothills</td>\n",
       "      <td>35-001-1012</td>\n",
       "      <td>AQS</td>\n",
       "      <td>49</td>\n",
       "      <td>31</td>\n",
       "      <td>35.4</td>\n",
       "      <td>2007-01-02</td>\n",
       "      <td>2002-01-02</td>\n",
       "      <td>1982</td>\n",
       "    </tr>\n",
       "    <tr>\n",
       "      <th>2</th>\n",
       "      <td>1982-01-03</td>\n",
       "      <td>37</td>\n",
       "      <td>NaN</td>\n",
       "      <td>35-043-1001</td>\n",
       "      <td>AQS</td>\n",
       "      <td>43</td>\n",
       "      <td>24</td>\n",
       "      <td>37.8</td>\n",
       "      <td>2006-01-03</td>\n",
       "      <td>2005-01-03</td>\n",
       "      <td>1982</td>\n",
       "    </tr>\n",
       "    <tr>\n",
       "      <th>3</th>\n",
       "      <td>1982-01-04</td>\n",
       "      <td>31</td>\n",
       "      <td>Foothills</td>\n",
       "      <td>35-001-1012</td>\n",
       "      <td>AQS</td>\n",
       "      <td>42</td>\n",
       "      <td>29</td>\n",
       "      <td>38.4</td>\n",
       "      <td>2019-01-04</td>\n",
       "      <td>2001-01-04</td>\n",
       "      <td>1982</td>\n",
       "    </tr>\n",
       "    <tr>\n",
       "      <th>4</th>\n",
       "      <td>1982-01-05</td>\n",
       "      <td>28</td>\n",
       "      <td>Foothills</td>\n",
       "      <td>35-001-1012</td>\n",
       "      <td>AQS</td>\n",
       "      <td>43</td>\n",
       "      <td>24</td>\n",
       "      <td>32.8</td>\n",
       "      <td>2013-01-05</td>\n",
       "      <td>2001-01-05</td>\n",
       "      <td>1982</td>\n",
       "    </tr>\n",
       "  </tbody>\n",
       "</table>\n",
       "</div>"
      ],
      "text/plain": [
       "        Date  Ozone AQI Value  Site Name      Site ID Source  \\\n",
       "0 1982-01-01               26  Foothills  35-001-1012    AQS   \n",
       "1 1982-01-02               30  Foothills  35-001-1012    AQS   \n",
       "2 1982-01-03               37        NaN  35-043-1001    AQS   \n",
       "3 1982-01-04               31  Foothills  35-001-1012    AQS   \n",
       "4 1982-01-05               28  Foothills  35-001-1012    AQS   \n",
       "\n",
       "   20-year High (2000-2019)  20-year Low (2000-2019)  \\\n",
       "0                        44                       27   \n",
       "1                        49                       31   \n",
       "2                        43                       24   \n",
       "3                        42                       29   \n",
       "4                        43                       24   \n",
       "\n",
       "  5-year Average (2015-2019) Date of 20-year High Date of 20-year Low  Year  \n",
       "0                       31.8           2013-01-01          2001-01-01  1982  \n",
       "1                       35.4           2007-01-02          2002-01-02  1982  \n",
       "2                       37.8           2006-01-03          2005-01-03  1982  \n",
       "3                       38.4           2019-01-04          2001-01-04  1982  \n",
       "4                       32.8           2013-01-05          2001-01-05  1982  "
      ]
     },
     "execution_count": 60,
     "metadata": {},
     "output_type": "execute_result"
    }
   ],
   "source": [
    "df['Year'] = pd.DatetimeIndex(df['Date']).year\n",
    "#df.head()"
   ]
  },
  {
   "cell_type": "code",
   "execution_count": 77,
   "id": "fabulous-order",
   "metadata": {},
   "outputs": [],
   "source": [
    "df['month_day'] = df['Date'].dt.strftime('%m-%d')"
   ]
  },
  {
   "cell_type": "code",
   "execution_count": 74,
   "id": "theoretical-ottawa",
   "metadata": {},
   "outputs": [
    {
     "name": "stdout",
     "output_type": "stream",
     "text": [
      "<class 'pandas.core.frame.DataFrame'>\n",
      "RangeIndex: 731 entries, 0 to 730\n",
      "Data columns (total 12 columns):\n",
      " #   Column                      Non-Null Count  Dtype         \n",
      "---  ------                      --------------  -----         \n",
      " 0   Date                        731 non-null    datetime64[ns]\n",
      " 1   Ozone AQI Value             731 non-null    int64         \n",
      " 2   Site Name                   331 non-null    object        \n",
      " 3   Site ID                     731 non-null    object        \n",
      " 4   Source                      731 non-null    object        \n",
      " 5   20-year High (2000-2019)    731 non-null    int64         \n",
      " 6   20-year Low (2000-2019)     731 non-null    int64         \n",
      " 7   5-year Average (2015-2019)  731 non-null    object        \n",
      " 8   Date of 20-year High        731 non-null    datetime64[ns]\n",
      " 9   Date of 20-year Low         731 non-null    datetime64[ns]\n",
      " 10  Year                        731 non-null    int64         \n",
      " 11  month_day                   731 non-null    object        \n",
      "dtypes: datetime64[ns](3), int64(4), object(5)\n",
      "memory usage: 68.7+ KB\n"
     ]
    }
   ],
   "source": [
    "#df.head()\n",
    "df.info()"
   ]
  },
  {
   "cell_type": "code",
   "execution_count": 87,
   "id": "dependent-lounge",
   "metadata": {},
   "outputs": [
    {
     "data": {
      "application/vnd.plotly.v1+json": {
       "config": {
        "plotlyServerURL": "https://plot.ly"
       },
       "data": [
        {
         "hovertemplate": "Year=1982<br>month_day=%{x}<br>Ozone AQI Value=%{y}<extra></extra>",
         "legendgroup": "1982",
         "line": {
          "color": "#636efa",
          "dash": "solid"
         },
         "mode": "lines",
         "name": "1982",
         "orientation": "v",
         "showlegend": true,
         "type": "scatter",
         "x": [
          "01-01",
          "01-02",
          "01-03",
          "01-04",
          "01-05",
          "01-06",
          "01-07",
          "01-08",
          "01-09",
          "01-10",
          "01-11",
          "01-12",
          "01-13",
          "01-14",
          "01-15",
          "01-16",
          "01-17",
          "01-18",
          "01-19",
          "01-20",
          "01-21",
          "01-22",
          "01-23",
          "01-24",
          "01-25",
          "01-26",
          "01-27",
          "01-28",
          "01-29",
          "01-30",
          "01-31",
          "02-01",
          "02-02",
          "02-03",
          "02-04",
          "02-05",
          "02-06",
          "02-07",
          "02-08",
          "02-09",
          "02-10",
          "02-11",
          "02-12",
          "02-13",
          "02-14",
          "02-15",
          "02-16",
          "02-17",
          "02-18",
          "02-19",
          "02-20",
          "02-21",
          "02-22",
          "02-23",
          "02-24",
          "02-25",
          "02-26",
          "02-27",
          "02-28",
          "03-01",
          "03-02",
          "03-03",
          "03-04",
          "03-05",
          "03-06",
          "03-07",
          "03-08",
          "03-09",
          "03-10",
          "03-11",
          "03-12",
          "03-13",
          "03-14",
          "03-15",
          "03-16",
          "03-17",
          "03-18",
          "03-19",
          "03-20",
          "03-21",
          "03-22",
          "03-23",
          "03-24",
          "03-25",
          "03-26",
          "03-27",
          "03-28",
          "03-29",
          "03-30",
          "03-31",
          "04-01",
          "04-02",
          "04-03",
          "04-04",
          "04-05",
          "04-06",
          "04-07",
          "04-08",
          "04-09",
          "04-10",
          "04-11",
          "04-12",
          "04-13",
          "04-14",
          "04-15",
          "04-16",
          "04-17",
          "04-18",
          "04-19",
          "04-20",
          "04-21",
          "04-22",
          "04-23",
          "04-24",
          "04-25",
          "04-26",
          "04-27",
          "04-28",
          "04-29",
          "04-30",
          "05-01",
          "05-02",
          "05-03",
          "05-04",
          "05-05",
          "05-06",
          "05-07",
          "05-08",
          "05-09",
          "05-10",
          "05-11",
          "05-12",
          "05-13",
          "05-14",
          "05-15",
          "05-16",
          "05-17",
          "05-18",
          "05-19",
          "05-20",
          "05-21",
          "05-22",
          "05-23",
          "05-24",
          "05-25",
          "05-26",
          "05-27",
          "05-28",
          "05-29",
          "05-30",
          "05-31",
          "06-01",
          "06-02",
          "06-03",
          "06-04",
          "06-05",
          "06-06",
          "06-07",
          "06-08",
          "06-09",
          "06-10",
          "06-11",
          "06-12",
          "06-13",
          "06-14",
          "06-15",
          "06-16",
          "06-17",
          "06-18",
          "06-19",
          "06-20",
          "06-21",
          "06-22",
          "06-23",
          "06-24",
          "06-25",
          "06-26",
          "06-27",
          "06-28",
          "06-29",
          "06-30",
          "07-01",
          "07-02",
          "07-03",
          "07-04",
          "07-05",
          "07-06",
          "07-07",
          "07-08",
          "07-09",
          "07-10",
          "07-11",
          "07-12",
          "07-13",
          "07-14",
          "07-15",
          "07-16",
          "07-17",
          "07-18",
          "07-19",
          "07-20",
          "07-21",
          "07-22",
          "07-23",
          "07-24",
          "07-25",
          "07-26",
          "07-27",
          "07-28",
          "07-29",
          "07-30",
          "07-31",
          "08-01",
          "08-02",
          "08-03",
          "08-04",
          "08-05",
          "08-06",
          "08-07",
          "08-08",
          "08-09",
          "08-10",
          "08-11",
          "08-12",
          "08-13",
          "08-14",
          "08-15",
          "08-16",
          "08-17",
          "08-18",
          "08-19",
          "08-20",
          "08-21",
          "08-22",
          "08-23",
          "08-24",
          "08-25",
          "08-26",
          "08-27",
          "08-28",
          "08-29",
          "08-30",
          "08-31",
          "09-01",
          "09-02",
          "09-03",
          "09-04",
          "09-05",
          "09-06",
          "09-07",
          "09-08",
          "09-09",
          "09-10",
          "09-11",
          "09-12",
          "09-13",
          "09-14",
          "09-15",
          "09-16",
          "09-17",
          "09-18",
          "09-19",
          "09-20",
          "09-21",
          "09-22",
          "09-23",
          "09-24",
          "09-25",
          "09-26",
          "09-27",
          "09-28",
          "09-29",
          "09-30",
          "10-01",
          "10-02",
          "10-03",
          "10-04",
          "10-05",
          "10-06",
          "10-07",
          "10-08",
          "10-09",
          "10-10",
          "10-11",
          "10-12",
          "10-13",
          "10-14",
          "10-15",
          "10-16",
          "10-17",
          "10-18",
          "10-19",
          "10-20",
          "10-21",
          "10-22",
          "10-23",
          "10-24",
          "10-25",
          "10-26",
          "10-27",
          "10-28",
          "10-29",
          "10-30",
          "10-31",
          "11-01",
          "11-02",
          "11-03",
          "11-04",
          "11-05",
          "11-06",
          "11-07",
          "11-08",
          "11-09",
          "11-10",
          "11-11",
          "11-12",
          "11-13",
          "11-14",
          "11-15",
          "11-16",
          "11-17",
          "11-18",
          "11-19",
          "11-20",
          "11-21",
          "11-22",
          "11-23",
          "11-24",
          "11-25",
          "11-26",
          "11-27",
          "11-28",
          "11-29",
          "11-30",
          "12-01",
          "12-02",
          "12-03",
          "12-04",
          "12-05",
          "12-06",
          "12-07",
          "12-08",
          "12-09",
          "12-10",
          "12-11",
          "12-12",
          "12-13",
          "12-14",
          "12-15",
          "12-16",
          "12-17",
          "12-18",
          "12-19",
          "12-20",
          "12-21",
          "12-22",
          "12-23",
          "12-24",
          "12-25",
          "12-26",
          "12-27",
          "12-28",
          "12-29",
          "12-30",
          "12-31"
         ],
         "xaxis": "x",
         "y": [
          26,
          30,
          37,
          31,
          28,
          28,
          28,
          32,
          32,
          28,
          25,
          27,
          31,
          31,
          32,
          31,
          34,
          31,
          30,
          34,
          37,
          37,
          34,
          37,
          41,
          34,
          37,
          31,
          34,
          35,
          34,
          33,
          33,
          34,
          31,
          37,
          38,
          38,
          38,
          46,
          34,
          39,
          39,
          44,
          43,
          37,
          38,
          33,
          38,
          43,
          38,
          44,
          44,
          42,
          34,
          32,
          38,
          34,
          44,
          44,
          30,
          42,
          41,
          35,
          35,
          41,
          38,
          42,
          37,
          30,
          37,
          35,
          39,
          42,
          45,
          44,
          43,
          46,
          46,
          51,
          51,
          47,
          44,
          44,
          34,
          42,
          42,
          42,
          46,
          49,
          46,
          46,
          54,
          47,
          49,
          38,
          84,
          49,
          46,
          61,
          43,
          44,
          54,
          46,
          49,
          67,
          45,
          61,
          43,
          46,
          46,
          46,
          46,
          47,
          46,
          58,
          58,
          46,
          71,
          44,
          61,
          44,
          41,
          34,
          46,
          49,
          46,
          46,
          46,
          46,
          46,
          50,
          46,
          49,
          50,
          67,
          58,
          54,
          40,
          74,
          101,
          44,
          58,
          54,
          54,
          87,
          58,
          43,
          44,
          46,
          84,
          45,
          64,
          84,
          77,
          51,
          50,
          47,
          48,
          51,
          58,
          47,
          50,
          42,
          48,
          90,
          77,
          58,
          47,
          41,
          44,
          51,
          40,
          44,
          54,
          50,
          74,
          77,
          54,
          48,
          38,
          42,
          39,
          46,
          37,
          35,
          47,
          33,
          35,
          38,
          77,
          47,
          48,
          51,
          50,
          44,
          47,
          54,
          54,
          50,
          71,
          147,
          71,
          87,
          101,
          77,
          100,
          84,
          74,
          61,
          54,
          108,
          84,
          46,
          51,
          84,
          115,
          50,
          64,
          47,
          150,
          105,
          101,
          93,
          105,
          54,
          84,
          115,
          122,
          119,
          133,
          77,
          133,
          97,
          87,
          87,
          51,
          71,
          84,
          97,
          64,
          45,
          54,
          49,
          51,
          67,
          46,
          42,
          71,
          74,
          93,
          58,
          46,
          37,
          36,
          42,
          48,
          40,
          39,
          47,
          37,
          54,
          44,
          54,
          93,
          44,
          74,
          58,
          39,
          34,
          43,
          46,
          25,
          44,
          39,
          61,
          42,
          42,
          45,
          45,
          44,
          44,
          43,
          44,
          32,
          48,
          49,
          58,
          31,
          51,
          43,
          44,
          33,
          44,
          43,
          50,
          48,
          34,
          25,
          37,
          33,
          40,
          43,
          38,
          39,
          34,
          35,
          39,
          34,
          44,
          38,
          26,
          23,
          33,
          35,
          38,
          40,
          42,
          37,
          25,
          30,
          22,
          28,
          34,
          34,
          34,
          29,
          28,
          29,
          37,
          26,
          26,
          26,
          32,
          32,
          29,
          28,
          28,
          32,
          31,
          32,
          27,
          22,
          20,
          26,
          26,
          28,
          27,
          25,
          30,
          31,
          30,
          29,
          32,
          29,
          24,
          30,
          29,
          37,
          32,
          29,
          33,
          28,
          32,
          40
         ],
         "yaxis": "y"
        },
        {
         "hovertemplate": "Year=2020<br>month_day=%{x}<br>Ozone AQI Value=%{y}<extra></extra>",
         "legendgroup": "2020",
         "line": {
          "color": "#EF553B",
          "dash": "solid"
         },
         "mode": "lines",
         "name": "2020",
         "orientation": "v",
         "showlegend": true,
         "type": "scatter",
         "x": [
          "01-01",
          "01-02",
          "01-03",
          "01-04",
          "01-05",
          "01-06",
          "01-07",
          "01-08",
          "01-09",
          "01-10",
          "01-11",
          "01-12",
          "01-13",
          "01-14",
          "01-15",
          "01-16",
          "01-17",
          "01-18",
          "01-19",
          "01-20",
          "01-21",
          "01-22",
          "01-23",
          "01-24",
          "01-25",
          "01-26",
          "01-27",
          "01-28",
          "01-29",
          "01-30",
          "01-31",
          "02-01",
          "02-02",
          "02-03",
          "02-04",
          "02-05",
          "02-06",
          "02-07",
          "02-08",
          "02-09",
          "02-10",
          "02-11",
          "02-12",
          "02-13",
          "02-14",
          "02-15",
          "02-16",
          "02-17",
          "02-18",
          "02-19",
          "02-20",
          "02-21",
          "02-22",
          "02-23",
          "02-24",
          "02-25",
          "02-26",
          "02-27",
          "02-28",
          "02-29",
          "03-01",
          "03-02",
          "03-03",
          "03-04",
          "03-05",
          "03-06",
          "03-07",
          "03-08",
          "03-09",
          "03-10",
          "03-11",
          "03-12",
          "03-13",
          "03-14",
          "03-15",
          "03-16",
          "03-17",
          "03-18",
          "03-19",
          "03-20",
          "03-21",
          "03-22",
          "03-23",
          "03-24",
          "03-25",
          "03-26",
          "03-27",
          "03-28",
          "03-29",
          "03-30",
          "03-31",
          "04-01",
          "04-02",
          "04-03",
          "04-04",
          "04-05",
          "04-06",
          "04-07",
          "04-08",
          "04-09",
          "04-10",
          "04-11",
          "04-12",
          "04-13",
          "04-14",
          "04-15",
          "04-16",
          "04-17",
          "04-18",
          "04-19",
          "04-20",
          "04-21",
          "04-22",
          "04-23",
          "04-24",
          "04-25",
          "04-26",
          "04-27",
          "04-28",
          "04-29",
          "04-30",
          "05-01",
          "05-02",
          "05-03",
          "05-04",
          "05-05",
          "05-06",
          "05-07",
          "05-08",
          "05-09",
          "05-10",
          "05-11",
          "05-12",
          "05-13",
          "05-14",
          "05-15",
          "05-16",
          "05-17",
          "05-18",
          "05-19",
          "05-20",
          "05-21",
          "05-22",
          "05-23",
          "05-24",
          "05-25",
          "05-26",
          "05-27",
          "05-28",
          "05-29",
          "05-30",
          "05-31",
          "06-01",
          "06-02",
          "06-03",
          "06-04",
          "06-05",
          "06-06",
          "06-07",
          "06-08",
          "06-09",
          "06-10",
          "06-11",
          "06-12",
          "06-13",
          "06-14",
          "06-15",
          "06-16",
          "06-17",
          "06-18",
          "06-19",
          "06-20",
          "06-21",
          "06-22",
          "06-23",
          "06-24",
          "06-25",
          "06-26",
          "06-27",
          "06-28",
          "06-29",
          "06-30",
          "07-01",
          "07-02",
          "07-03",
          "07-04",
          "07-05",
          "07-06",
          "07-07",
          "07-08",
          "07-09",
          "07-10",
          "07-11",
          "07-12",
          "07-13",
          "07-14",
          "07-15",
          "07-16",
          "07-17",
          "07-18",
          "07-19",
          "07-20",
          "07-21",
          "07-22",
          "07-23",
          "07-24",
          "07-25",
          "07-26",
          "07-27",
          "07-28",
          "07-29",
          "07-30",
          "07-31",
          "08-01",
          "08-02",
          "08-03",
          "08-04",
          "08-05",
          "08-06",
          "08-07",
          "08-08",
          "08-09",
          "08-10",
          "08-11",
          "08-12",
          "08-13",
          "08-14",
          "08-15",
          "08-16",
          "08-17",
          "08-18",
          "08-19",
          "08-20",
          "08-21",
          "08-22",
          "08-23",
          "08-24",
          "08-25",
          "08-26",
          "08-27",
          "08-28",
          "08-29",
          "08-30",
          "08-31",
          "09-01",
          "09-02",
          "09-03",
          "09-04",
          "09-05",
          "09-06",
          "09-07",
          "09-08",
          "09-09",
          "09-10",
          "09-11",
          "09-12",
          "09-13",
          "09-14",
          "09-15",
          "09-16",
          "09-17",
          "09-18",
          "09-19",
          "09-20",
          "09-21",
          "09-22",
          "09-23",
          "09-24",
          "09-25",
          "09-26",
          "09-27",
          "09-28",
          "09-29",
          "09-30",
          "10-01",
          "10-02",
          "10-03",
          "10-04",
          "10-05",
          "10-06",
          "10-07",
          "10-08",
          "10-09",
          "10-10",
          "10-11",
          "10-12",
          "10-13",
          "10-14",
          "10-15",
          "10-16",
          "10-17",
          "10-18",
          "10-19",
          "10-20",
          "10-21",
          "10-22",
          "10-23",
          "10-24",
          "10-25",
          "10-26",
          "10-27",
          "10-28",
          "10-29",
          "10-30",
          "10-31",
          "11-01",
          "11-02",
          "11-03",
          "11-04",
          "11-05",
          "11-06",
          "11-07",
          "11-08",
          "11-09",
          "11-10",
          "11-11",
          "11-12",
          "11-13",
          "11-14",
          "11-15",
          "11-16",
          "11-17",
          "11-18",
          "11-19",
          "11-20",
          "11-21",
          "11-22",
          "11-23",
          "11-24",
          "11-25",
          "11-26",
          "11-27",
          "11-28",
          "11-29",
          "11-30",
          "12-01",
          "12-02",
          "12-03",
          "12-04",
          "12-05",
          "12-06",
          "12-07",
          "12-08",
          "12-09",
          "12-10",
          "12-11",
          "12-12",
          "12-13",
          "12-14",
          "12-15",
          "12-16",
          "12-17",
          "12-18",
          "12-19",
          "12-20",
          "12-21",
          "12-22",
          "12-23",
          "12-24",
          "12-25",
          "12-26",
          "12-27",
          "12-28",
          "12-29",
          "12-30",
          "12-31"
         ],
         "xaxis": "x",
         "y": [
          42,
          39,
          38,
          36,
          36,
          40,
          38,
          38,
          37,
          38,
          39,
          39,
          40,
          41,
          43,
          31,
          41,
          45,
          42,
          34,
          26,
          35,
          35,
          35,
          37,
          37,
          35,
          40,
          39,
          40,
          40,
          38,
          37,
          42,
          38,
          37,
          35,
          34,
          35,
          43,
          30,
          36,
          40,
          37,
          38,
          43,
          42,
          37,
          42,
          36,
          31,
          31,
          27,
          44,
          44,
          40,
          40,
          41,
          40,
          43,
          43,
          42,
          43,
          46,
          44,
          44,
          45,
          35,
          45,
          38,
          31,
          33,
          40,
          41,
          43,
          49,
          42,
          42,
          45,
          43,
          43,
          50,
          58,
          54,
          51,
          41,
          50,
          44,
          48,
          48,
          49,
          50,
          45,
          48,
          45,
          47,
          50,
          46,
          51,
          50,
          61,
          64,
          45,
          42,
          50,
          46,
          48,
          51,
          51,
          48,
          51,
          58,
          58,
          45,
          64,
          51,
          50,
          54,
          49,
          50,
          54,
          61,
          58,
          51,
          54,
          58,
          64,
          93,
          48,
          67,
          64,
          54,
          51,
          48,
          64,
          74,
          48,
          54,
          74,
          51,
          71,
          61,
          74,
          64,
          64,
          50,
          61,
          44,
          48,
          50,
          47,
          48,
          61,
          58,
          50,
          54,
          54,
          64,
          54,
          54,
          46,
          45,
          61,
          54,
          51,
          48,
          54,
          50,
          58,
          97,
          100,
          74,
          64,
          61,
          48,
          61,
          61,
          51,
          49,
          49,
          48,
          77,
          54,
          49,
          44,
          44,
          45,
          58,
          44,
          43,
          44,
          45,
          47,
          46,
          44,
          51,
          45,
          54,
          67,
          58,
          64,
          67,
          61,
          48,
          58,
          51,
          50,
          58,
          54,
          64,
          64,
          58,
          84,
          64,
          54,
          64,
          58,
          51,
          51,
          44,
          49,
          51,
          50,
          50,
          47,
          54,
          58,
          51,
          67,
          58,
          84,
          84,
          87,
          87,
          119,
          112,
          115,
          119,
          105,
          101,
          90,
          77,
          51,
          48,
          49,
          64,
          84,
          90,
          64,
          54,
          61,
          42,
          22,
          24,
          44,
          44,
          50,
          71,
          54,
          51,
          80,
          71,
          74,
          80,
          77,
          64,
          48,
          58,
          54,
          50,
          45,
          43,
          46,
          47,
          46,
          49,
          50,
          48,
          47,
          54,
          48,
          50,
          46,
          41,
          40,
          47,
          44,
          42,
          38,
          44,
          43,
          33,
          36,
          35,
          39,
          42,
          38,
          36,
          34,
          25,
          35,
          40,
          38,
          37,
          37,
          41,
          38,
          43,
          36,
          37,
          42,
          38,
          42,
          40,
          40,
          36,
          39,
          37,
          44,
          39,
          34,
          37,
          43,
          43,
          36,
          36,
          33,
          32,
          40,
          38,
          44,
          38,
          36,
          37,
          34,
          44,
          38,
          32,
          33,
          35,
          35,
          31,
          31,
          31,
          28,
          39,
          36,
          35,
          32,
          35,
          37,
          34,
          39,
          37,
          40,
          36,
          36,
          39,
          35,
          30,
          38,
          37,
          35,
          42,
          37,
          36
         ],
         "yaxis": "y"
        }
       ],
       "layout": {
        "legend": {
         "title": {
          "text": "Year"
         },
         "tracegroupgap": 0
        },
        "template": {
         "data": {
          "bar": [
           {
            "error_x": {
             "color": "#2a3f5f"
            },
            "error_y": {
             "color": "#2a3f5f"
            },
            "marker": {
             "line": {
              "color": "#E5ECF6",
              "width": 0.5
             }
            },
            "type": "bar"
           }
          ],
          "barpolar": [
           {
            "marker": {
             "line": {
              "color": "#E5ECF6",
              "width": 0.5
             }
            },
            "type": "barpolar"
           }
          ],
          "carpet": [
           {
            "aaxis": {
             "endlinecolor": "#2a3f5f",
             "gridcolor": "white",
             "linecolor": "white",
             "minorgridcolor": "white",
             "startlinecolor": "#2a3f5f"
            },
            "baxis": {
             "endlinecolor": "#2a3f5f",
             "gridcolor": "white",
             "linecolor": "white",
             "minorgridcolor": "white",
             "startlinecolor": "#2a3f5f"
            },
            "type": "carpet"
           }
          ],
          "choropleth": [
           {
            "colorbar": {
             "outlinewidth": 0,
             "ticks": ""
            },
            "type": "choropleth"
           }
          ],
          "contour": [
           {
            "colorbar": {
             "outlinewidth": 0,
             "ticks": ""
            },
            "colorscale": [
             [
              0,
              "#0d0887"
             ],
             [
              0.1111111111111111,
              "#46039f"
             ],
             [
              0.2222222222222222,
              "#7201a8"
             ],
             [
              0.3333333333333333,
              "#9c179e"
             ],
             [
              0.4444444444444444,
              "#bd3786"
             ],
             [
              0.5555555555555556,
              "#d8576b"
             ],
             [
              0.6666666666666666,
              "#ed7953"
             ],
             [
              0.7777777777777778,
              "#fb9f3a"
             ],
             [
              0.8888888888888888,
              "#fdca26"
             ],
             [
              1,
              "#f0f921"
             ]
            ],
            "type": "contour"
           }
          ],
          "contourcarpet": [
           {
            "colorbar": {
             "outlinewidth": 0,
             "ticks": ""
            },
            "type": "contourcarpet"
           }
          ],
          "heatmap": [
           {
            "colorbar": {
             "outlinewidth": 0,
             "ticks": ""
            },
            "colorscale": [
             [
              0,
              "#0d0887"
             ],
             [
              0.1111111111111111,
              "#46039f"
             ],
             [
              0.2222222222222222,
              "#7201a8"
             ],
             [
              0.3333333333333333,
              "#9c179e"
             ],
             [
              0.4444444444444444,
              "#bd3786"
             ],
             [
              0.5555555555555556,
              "#d8576b"
             ],
             [
              0.6666666666666666,
              "#ed7953"
             ],
             [
              0.7777777777777778,
              "#fb9f3a"
             ],
             [
              0.8888888888888888,
              "#fdca26"
             ],
             [
              1,
              "#f0f921"
             ]
            ],
            "type": "heatmap"
           }
          ],
          "heatmapgl": [
           {
            "colorbar": {
             "outlinewidth": 0,
             "ticks": ""
            },
            "colorscale": [
             [
              0,
              "#0d0887"
             ],
             [
              0.1111111111111111,
              "#46039f"
             ],
             [
              0.2222222222222222,
              "#7201a8"
             ],
             [
              0.3333333333333333,
              "#9c179e"
             ],
             [
              0.4444444444444444,
              "#bd3786"
             ],
             [
              0.5555555555555556,
              "#d8576b"
             ],
             [
              0.6666666666666666,
              "#ed7953"
             ],
             [
              0.7777777777777778,
              "#fb9f3a"
             ],
             [
              0.8888888888888888,
              "#fdca26"
             ],
             [
              1,
              "#f0f921"
             ]
            ],
            "type": "heatmapgl"
           }
          ],
          "histogram": [
           {
            "marker": {
             "colorbar": {
              "outlinewidth": 0,
              "ticks": ""
             }
            },
            "type": "histogram"
           }
          ],
          "histogram2d": [
           {
            "colorbar": {
             "outlinewidth": 0,
             "ticks": ""
            },
            "colorscale": [
             [
              0,
              "#0d0887"
             ],
             [
              0.1111111111111111,
              "#46039f"
             ],
             [
              0.2222222222222222,
              "#7201a8"
             ],
             [
              0.3333333333333333,
              "#9c179e"
             ],
             [
              0.4444444444444444,
              "#bd3786"
             ],
             [
              0.5555555555555556,
              "#d8576b"
             ],
             [
              0.6666666666666666,
              "#ed7953"
             ],
             [
              0.7777777777777778,
              "#fb9f3a"
             ],
             [
              0.8888888888888888,
              "#fdca26"
             ],
             [
              1,
              "#f0f921"
             ]
            ],
            "type": "histogram2d"
           }
          ],
          "histogram2dcontour": [
           {
            "colorbar": {
             "outlinewidth": 0,
             "ticks": ""
            },
            "colorscale": [
             [
              0,
              "#0d0887"
             ],
             [
              0.1111111111111111,
              "#46039f"
             ],
             [
              0.2222222222222222,
              "#7201a8"
             ],
             [
              0.3333333333333333,
              "#9c179e"
             ],
             [
              0.4444444444444444,
              "#bd3786"
             ],
             [
              0.5555555555555556,
              "#d8576b"
             ],
             [
              0.6666666666666666,
              "#ed7953"
             ],
             [
              0.7777777777777778,
              "#fb9f3a"
             ],
             [
              0.8888888888888888,
              "#fdca26"
             ],
             [
              1,
              "#f0f921"
             ]
            ],
            "type": "histogram2dcontour"
           }
          ],
          "mesh3d": [
           {
            "colorbar": {
             "outlinewidth": 0,
             "ticks": ""
            },
            "type": "mesh3d"
           }
          ],
          "parcoords": [
           {
            "line": {
             "colorbar": {
              "outlinewidth": 0,
              "ticks": ""
             }
            },
            "type": "parcoords"
           }
          ],
          "pie": [
           {
            "automargin": true,
            "type": "pie"
           }
          ],
          "scatter": [
           {
            "marker": {
             "colorbar": {
              "outlinewidth": 0,
              "ticks": ""
             }
            },
            "type": "scatter"
           }
          ],
          "scatter3d": [
           {
            "line": {
             "colorbar": {
              "outlinewidth": 0,
              "ticks": ""
             }
            },
            "marker": {
             "colorbar": {
              "outlinewidth": 0,
              "ticks": ""
             }
            },
            "type": "scatter3d"
           }
          ],
          "scattercarpet": [
           {
            "marker": {
             "colorbar": {
              "outlinewidth": 0,
              "ticks": ""
             }
            },
            "type": "scattercarpet"
           }
          ],
          "scattergeo": [
           {
            "marker": {
             "colorbar": {
              "outlinewidth": 0,
              "ticks": ""
             }
            },
            "type": "scattergeo"
           }
          ],
          "scattergl": [
           {
            "marker": {
             "colorbar": {
              "outlinewidth": 0,
              "ticks": ""
             }
            },
            "type": "scattergl"
           }
          ],
          "scattermapbox": [
           {
            "marker": {
             "colorbar": {
              "outlinewidth": 0,
              "ticks": ""
             }
            },
            "type": "scattermapbox"
           }
          ],
          "scatterpolar": [
           {
            "marker": {
             "colorbar": {
              "outlinewidth": 0,
              "ticks": ""
             }
            },
            "type": "scatterpolar"
           }
          ],
          "scatterpolargl": [
           {
            "marker": {
             "colorbar": {
              "outlinewidth": 0,
              "ticks": ""
             }
            },
            "type": "scatterpolargl"
           }
          ],
          "scatterternary": [
           {
            "marker": {
             "colorbar": {
              "outlinewidth": 0,
              "ticks": ""
             }
            },
            "type": "scatterternary"
           }
          ],
          "surface": [
           {
            "colorbar": {
             "outlinewidth": 0,
             "ticks": ""
            },
            "colorscale": [
             [
              0,
              "#0d0887"
             ],
             [
              0.1111111111111111,
              "#46039f"
             ],
             [
              0.2222222222222222,
              "#7201a8"
             ],
             [
              0.3333333333333333,
              "#9c179e"
             ],
             [
              0.4444444444444444,
              "#bd3786"
             ],
             [
              0.5555555555555556,
              "#d8576b"
             ],
             [
              0.6666666666666666,
              "#ed7953"
             ],
             [
              0.7777777777777778,
              "#fb9f3a"
             ],
             [
              0.8888888888888888,
              "#fdca26"
             ],
             [
              1,
              "#f0f921"
             ]
            ],
            "type": "surface"
           }
          ],
          "table": [
           {
            "cells": {
             "fill": {
              "color": "#EBF0F8"
             },
             "line": {
              "color": "white"
             }
            },
            "header": {
             "fill": {
              "color": "#C8D4E3"
             },
             "line": {
              "color": "white"
             }
            },
            "type": "table"
           }
          ]
         },
         "layout": {
          "annotationdefaults": {
           "arrowcolor": "#2a3f5f",
           "arrowhead": 0,
           "arrowwidth": 1
          },
          "coloraxis": {
           "colorbar": {
            "outlinewidth": 0,
            "ticks": ""
           }
          },
          "colorscale": {
           "diverging": [
            [
             0,
             "#8e0152"
            ],
            [
             0.1,
             "#c51b7d"
            ],
            [
             0.2,
             "#de77ae"
            ],
            [
             0.3,
             "#f1b6da"
            ],
            [
             0.4,
             "#fde0ef"
            ],
            [
             0.5,
             "#f7f7f7"
            ],
            [
             0.6,
             "#e6f5d0"
            ],
            [
             0.7,
             "#b8e186"
            ],
            [
             0.8,
             "#7fbc41"
            ],
            [
             0.9,
             "#4d9221"
            ],
            [
             1,
             "#276419"
            ]
           ],
           "sequential": [
            [
             0,
             "#0d0887"
            ],
            [
             0.1111111111111111,
             "#46039f"
            ],
            [
             0.2222222222222222,
             "#7201a8"
            ],
            [
             0.3333333333333333,
             "#9c179e"
            ],
            [
             0.4444444444444444,
             "#bd3786"
            ],
            [
             0.5555555555555556,
             "#d8576b"
            ],
            [
             0.6666666666666666,
             "#ed7953"
            ],
            [
             0.7777777777777778,
             "#fb9f3a"
            ],
            [
             0.8888888888888888,
             "#fdca26"
            ],
            [
             1,
             "#f0f921"
            ]
           ],
           "sequentialminus": [
            [
             0,
             "#0d0887"
            ],
            [
             0.1111111111111111,
             "#46039f"
            ],
            [
             0.2222222222222222,
             "#7201a8"
            ],
            [
             0.3333333333333333,
             "#9c179e"
            ],
            [
             0.4444444444444444,
             "#bd3786"
            ],
            [
             0.5555555555555556,
             "#d8576b"
            ],
            [
             0.6666666666666666,
             "#ed7953"
            ],
            [
             0.7777777777777778,
             "#fb9f3a"
            ],
            [
             0.8888888888888888,
             "#fdca26"
            ],
            [
             1,
             "#f0f921"
            ]
           ]
          },
          "colorway": [
           "#636efa",
           "#EF553B",
           "#00cc96",
           "#ab63fa",
           "#FFA15A",
           "#19d3f3",
           "#FF6692",
           "#B6E880",
           "#FF97FF",
           "#FECB52"
          ],
          "font": {
           "color": "#2a3f5f"
          },
          "geo": {
           "bgcolor": "white",
           "lakecolor": "white",
           "landcolor": "#E5ECF6",
           "showlakes": true,
           "showland": true,
           "subunitcolor": "white"
          },
          "hoverlabel": {
           "align": "left"
          },
          "hovermode": "closest",
          "mapbox": {
           "style": "light"
          },
          "paper_bgcolor": "white",
          "plot_bgcolor": "#E5ECF6",
          "polar": {
           "angularaxis": {
            "gridcolor": "white",
            "linecolor": "white",
            "ticks": ""
           },
           "bgcolor": "#E5ECF6",
           "radialaxis": {
            "gridcolor": "white",
            "linecolor": "white",
            "ticks": ""
           }
          },
          "scene": {
           "xaxis": {
            "backgroundcolor": "#E5ECF6",
            "gridcolor": "white",
            "gridwidth": 2,
            "linecolor": "white",
            "showbackground": true,
            "ticks": "",
            "zerolinecolor": "white"
           },
           "yaxis": {
            "backgroundcolor": "#E5ECF6",
            "gridcolor": "white",
            "gridwidth": 2,
            "linecolor": "white",
            "showbackground": true,
            "ticks": "",
            "zerolinecolor": "white"
           },
           "zaxis": {
            "backgroundcolor": "#E5ECF6",
            "gridcolor": "white",
            "gridwidth": 2,
            "linecolor": "white",
            "showbackground": true,
            "ticks": "",
            "zerolinecolor": "white"
           }
          },
          "shapedefaults": {
           "line": {
            "color": "#2a3f5f"
           }
          },
          "ternary": {
           "aaxis": {
            "gridcolor": "white",
            "linecolor": "white",
            "ticks": ""
           },
           "baxis": {
            "gridcolor": "white",
            "linecolor": "white",
            "ticks": ""
           },
           "bgcolor": "#E5ECF6",
           "caxis": {
            "gridcolor": "white",
            "linecolor": "white",
            "ticks": ""
           }
          },
          "title": {
           "x": 0.05
          },
          "xaxis": {
           "automargin": true,
           "gridcolor": "white",
           "linecolor": "white",
           "ticks": "",
           "title": {
            "standoff": 15
           },
           "zerolinecolor": "white",
           "zerolinewidth": 2
          },
          "yaxis": {
           "automargin": true,
           "gridcolor": "white",
           "linecolor": "white",
           "ticks": "",
           "title": {
            "standoff": 15
           },
           "zerolinecolor": "white",
           "zerolinewidth": 2
          }
         }
        },
        "title": {
         "text": "Ozone AQI Values"
        },
        "xaxis": {
         "anchor": "y",
         "domain": [
          0,
          1
         ],
         "title": {
          "text": "month_day"
         },
         "type": "category"
        },
        "yaxis": {
         "anchor": "x",
         "domain": [
          0,
          1
         ],
         "title": {
          "text": "Ozone AQI Value"
         }
        }
       }
      },
      "text/html": [
       "<div>                            <div id=\"cf3b9899-a24a-4433-99a7-abb8b2e3d5c8\" class=\"plotly-graph-div\" style=\"height:525px; width:100%;\"></div>            <script type=\"text/javascript\">                require([\"plotly\"], function(Plotly) {                    window.PLOTLYENV=window.PLOTLYENV || {};                                    if (document.getElementById(\"cf3b9899-a24a-4433-99a7-abb8b2e3d5c8\")) {                    Plotly.newPlot(                        \"cf3b9899-a24a-4433-99a7-abb8b2e3d5c8\",                        [{\"hovertemplate\": \"Year=1982<br>month_day=%{x}<br>Ozone AQI Value=%{y}<extra></extra>\", \"legendgroup\": \"1982\", \"line\": {\"color\": \"#636efa\", \"dash\": \"solid\"}, \"mode\": \"lines\", \"name\": \"1982\", \"orientation\": \"v\", \"showlegend\": true, \"type\": \"scatter\", \"x\": [\"01-01\", \"01-02\", \"01-03\", \"01-04\", \"01-05\", \"01-06\", \"01-07\", \"01-08\", \"01-09\", \"01-10\", \"01-11\", \"01-12\", \"01-13\", \"01-14\", \"01-15\", \"01-16\", \"01-17\", \"01-18\", \"01-19\", \"01-20\", \"01-21\", \"01-22\", \"01-23\", \"01-24\", \"01-25\", \"01-26\", \"01-27\", \"01-28\", \"01-29\", \"01-30\", \"01-31\", \"02-01\", \"02-02\", \"02-03\", \"02-04\", \"02-05\", \"02-06\", \"02-07\", \"02-08\", \"02-09\", \"02-10\", \"02-11\", \"02-12\", \"02-13\", \"02-14\", \"02-15\", \"02-16\", \"02-17\", \"02-18\", \"02-19\", \"02-20\", \"02-21\", \"02-22\", \"02-23\", \"02-24\", \"02-25\", \"02-26\", \"02-27\", \"02-28\", \"03-01\", \"03-02\", \"03-03\", \"03-04\", \"03-05\", \"03-06\", \"03-07\", \"03-08\", \"03-09\", \"03-10\", \"03-11\", \"03-12\", \"03-13\", \"03-14\", \"03-15\", \"03-16\", \"03-17\", \"03-18\", \"03-19\", \"03-20\", \"03-21\", \"03-22\", \"03-23\", \"03-24\", \"03-25\", \"03-26\", \"03-27\", \"03-28\", \"03-29\", \"03-30\", \"03-31\", \"04-01\", \"04-02\", \"04-03\", \"04-04\", \"04-05\", \"04-06\", \"04-07\", \"04-08\", \"04-09\", \"04-10\", \"04-11\", \"04-12\", \"04-13\", \"04-14\", \"04-15\", \"04-16\", \"04-17\", \"04-18\", \"04-19\", \"04-20\", \"04-21\", \"04-22\", \"04-23\", \"04-24\", \"04-25\", \"04-26\", \"04-27\", \"04-28\", \"04-29\", \"04-30\", \"05-01\", \"05-02\", \"05-03\", \"05-04\", \"05-05\", \"05-06\", \"05-07\", \"05-08\", \"05-09\", \"05-10\", \"05-11\", \"05-12\", \"05-13\", \"05-14\", \"05-15\", \"05-16\", \"05-17\", \"05-18\", \"05-19\", \"05-20\", \"05-21\", \"05-22\", \"05-23\", \"05-24\", \"05-25\", \"05-26\", \"05-27\", \"05-28\", \"05-29\", \"05-30\", \"05-31\", \"06-01\", \"06-02\", \"06-03\", \"06-04\", \"06-05\", \"06-06\", \"06-07\", \"06-08\", \"06-09\", \"06-10\", \"06-11\", \"06-12\", \"06-13\", \"06-14\", \"06-15\", \"06-16\", \"06-17\", \"06-18\", \"06-19\", \"06-20\", \"06-21\", \"06-22\", \"06-23\", \"06-24\", \"06-25\", \"06-26\", \"06-27\", \"06-28\", \"06-29\", \"06-30\", \"07-01\", \"07-02\", \"07-03\", \"07-04\", \"07-05\", \"07-06\", \"07-07\", \"07-08\", \"07-09\", \"07-10\", \"07-11\", \"07-12\", \"07-13\", \"07-14\", \"07-15\", \"07-16\", \"07-17\", \"07-18\", \"07-19\", \"07-20\", \"07-21\", \"07-22\", \"07-23\", \"07-24\", \"07-25\", \"07-26\", \"07-27\", \"07-28\", \"07-29\", \"07-30\", \"07-31\", \"08-01\", \"08-02\", \"08-03\", \"08-04\", \"08-05\", \"08-06\", \"08-07\", \"08-08\", \"08-09\", \"08-10\", \"08-11\", \"08-12\", \"08-13\", \"08-14\", \"08-15\", \"08-16\", \"08-17\", \"08-18\", \"08-19\", \"08-20\", \"08-21\", \"08-22\", \"08-23\", \"08-24\", \"08-25\", \"08-26\", \"08-27\", \"08-28\", \"08-29\", \"08-30\", \"08-31\", \"09-01\", \"09-02\", \"09-03\", \"09-04\", \"09-05\", \"09-06\", \"09-07\", \"09-08\", \"09-09\", \"09-10\", \"09-11\", \"09-12\", \"09-13\", \"09-14\", \"09-15\", \"09-16\", \"09-17\", \"09-18\", \"09-19\", \"09-20\", \"09-21\", \"09-22\", \"09-23\", \"09-24\", \"09-25\", \"09-26\", \"09-27\", \"09-28\", \"09-29\", \"09-30\", \"10-01\", \"10-02\", \"10-03\", \"10-04\", \"10-05\", \"10-06\", \"10-07\", \"10-08\", \"10-09\", \"10-10\", \"10-11\", \"10-12\", \"10-13\", \"10-14\", \"10-15\", \"10-16\", \"10-17\", \"10-18\", \"10-19\", \"10-20\", \"10-21\", \"10-22\", \"10-23\", \"10-24\", \"10-25\", \"10-26\", \"10-27\", \"10-28\", \"10-29\", \"10-30\", \"10-31\", \"11-01\", \"11-02\", \"11-03\", \"11-04\", \"11-05\", \"11-06\", \"11-07\", \"11-08\", \"11-09\", \"11-10\", \"11-11\", \"11-12\", \"11-13\", \"11-14\", \"11-15\", \"11-16\", \"11-17\", \"11-18\", \"11-19\", \"11-20\", \"11-21\", \"11-22\", \"11-23\", \"11-24\", \"11-25\", \"11-26\", \"11-27\", \"11-28\", \"11-29\", \"11-30\", \"12-01\", \"12-02\", \"12-03\", \"12-04\", \"12-05\", \"12-06\", \"12-07\", \"12-08\", \"12-09\", \"12-10\", \"12-11\", \"12-12\", \"12-13\", \"12-14\", \"12-15\", \"12-16\", \"12-17\", \"12-18\", \"12-19\", \"12-20\", \"12-21\", \"12-22\", \"12-23\", \"12-24\", \"12-25\", \"12-26\", \"12-27\", \"12-28\", \"12-29\", \"12-30\", \"12-31\"], \"xaxis\": \"x\", \"y\": [26, 30, 37, 31, 28, 28, 28, 32, 32, 28, 25, 27, 31, 31, 32, 31, 34, 31, 30, 34, 37, 37, 34, 37, 41, 34, 37, 31, 34, 35, 34, 33, 33, 34, 31, 37, 38, 38, 38, 46, 34, 39, 39, 44, 43, 37, 38, 33, 38, 43, 38, 44, 44, 42, 34, 32, 38, 34, 44, 44, 30, 42, 41, 35, 35, 41, 38, 42, 37, 30, 37, 35, 39, 42, 45, 44, 43, 46, 46, 51, 51, 47, 44, 44, 34, 42, 42, 42, 46, 49, 46, 46, 54, 47, 49, 38, 84, 49, 46, 61, 43, 44, 54, 46, 49, 67, 45, 61, 43, 46, 46, 46, 46, 47, 46, 58, 58, 46, 71, 44, 61, 44, 41, 34, 46, 49, 46, 46, 46, 46, 46, 50, 46, 49, 50, 67, 58, 54, 40, 74, 101, 44, 58, 54, 54, 87, 58, 43, 44, 46, 84, 45, 64, 84, 77, 51, 50, 47, 48, 51, 58, 47, 50, 42, 48, 90, 77, 58, 47, 41, 44, 51, 40, 44, 54, 50, 74, 77, 54, 48, 38, 42, 39, 46, 37, 35, 47, 33, 35, 38, 77, 47, 48, 51, 50, 44, 47, 54, 54, 50, 71, 147, 71, 87, 101, 77, 100, 84, 74, 61, 54, 108, 84, 46, 51, 84, 115, 50, 64, 47, 150, 105, 101, 93, 105, 54, 84, 115, 122, 119, 133, 77, 133, 97, 87, 87, 51, 71, 84, 97, 64, 45, 54, 49, 51, 67, 46, 42, 71, 74, 93, 58, 46, 37, 36, 42, 48, 40, 39, 47, 37, 54, 44, 54, 93, 44, 74, 58, 39, 34, 43, 46, 25, 44, 39, 61, 42, 42, 45, 45, 44, 44, 43, 44, 32, 48, 49, 58, 31, 51, 43, 44, 33, 44, 43, 50, 48, 34, 25, 37, 33, 40, 43, 38, 39, 34, 35, 39, 34, 44, 38, 26, 23, 33, 35, 38, 40, 42, 37, 25, 30, 22, 28, 34, 34, 34, 29, 28, 29, 37, 26, 26, 26, 32, 32, 29, 28, 28, 32, 31, 32, 27, 22, 20, 26, 26, 28, 27, 25, 30, 31, 30, 29, 32, 29, 24, 30, 29, 37, 32, 29, 33, 28, 32, 40], \"yaxis\": \"y\"}, {\"hovertemplate\": \"Year=2020<br>month_day=%{x}<br>Ozone AQI Value=%{y}<extra></extra>\", \"legendgroup\": \"2020\", \"line\": {\"color\": \"#EF553B\", \"dash\": \"solid\"}, \"mode\": \"lines\", \"name\": \"2020\", \"orientation\": \"v\", \"showlegend\": true, \"type\": \"scatter\", \"x\": [\"01-01\", \"01-02\", \"01-03\", \"01-04\", \"01-05\", \"01-06\", \"01-07\", \"01-08\", \"01-09\", \"01-10\", \"01-11\", \"01-12\", \"01-13\", \"01-14\", \"01-15\", \"01-16\", \"01-17\", \"01-18\", \"01-19\", \"01-20\", \"01-21\", \"01-22\", \"01-23\", \"01-24\", \"01-25\", \"01-26\", \"01-27\", \"01-28\", \"01-29\", \"01-30\", \"01-31\", \"02-01\", \"02-02\", \"02-03\", \"02-04\", \"02-05\", \"02-06\", \"02-07\", \"02-08\", \"02-09\", \"02-10\", \"02-11\", \"02-12\", \"02-13\", \"02-14\", \"02-15\", \"02-16\", \"02-17\", \"02-18\", \"02-19\", \"02-20\", \"02-21\", \"02-22\", \"02-23\", \"02-24\", \"02-25\", \"02-26\", \"02-27\", \"02-28\", \"02-29\", \"03-01\", \"03-02\", \"03-03\", \"03-04\", \"03-05\", \"03-06\", \"03-07\", \"03-08\", \"03-09\", \"03-10\", \"03-11\", \"03-12\", \"03-13\", \"03-14\", \"03-15\", \"03-16\", \"03-17\", \"03-18\", \"03-19\", \"03-20\", \"03-21\", \"03-22\", \"03-23\", \"03-24\", \"03-25\", \"03-26\", \"03-27\", \"03-28\", \"03-29\", \"03-30\", \"03-31\", \"04-01\", \"04-02\", \"04-03\", \"04-04\", \"04-05\", \"04-06\", \"04-07\", \"04-08\", \"04-09\", \"04-10\", \"04-11\", \"04-12\", \"04-13\", \"04-14\", \"04-15\", \"04-16\", \"04-17\", \"04-18\", \"04-19\", \"04-20\", \"04-21\", \"04-22\", \"04-23\", \"04-24\", \"04-25\", \"04-26\", \"04-27\", \"04-28\", \"04-29\", \"04-30\", \"05-01\", \"05-02\", \"05-03\", \"05-04\", \"05-05\", \"05-06\", \"05-07\", \"05-08\", \"05-09\", \"05-10\", \"05-11\", \"05-12\", \"05-13\", \"05-14\", \"05-15\", \"05-16\", \"05-17\", \"05-18\", \"05-19\", \"05-20\", \"05-21\", \"05-22\", \"05-23\", \"05-24\", \"05-25\", \"05-26\", \"05-27\", \"05-28\", \"05-29\", \"05-30\", \"05-31\", \"06-01\", \"06-02\", \"06-03\", \"06-04\", \"06-05\", \"06-06\", \"06-07\", \"06-08\", \"06-09\", \"06-10\", \"06-11\", \"06-12\", \"06-13\", \"06-14\", \"06-15\", \"06-16\", \"06-17\", \"06-18\", \"06-19\", \"06-20\", \"06-21\", \"06-22\", \"06-23\", \"06-24\", \"06-25\", \"06-26\", \"06-27\", \"06-28\", \"06-29\", \"06-30\", \"07-01\", \"07-02\", \"07-03\", \"07-04\", \"07-05\", \"07-06\", \"07-07\", \"07-08\", \"07-09\", \"07-10\", \"07-11\", \"07-12\", \"07-13\", \"07-14\", \"07-15\", \"07-16\", \"07-17\", \"07-18\", \"07-19\", \"07-20\", \"07-21\", \"07-22\", \"07-23\", \"07-24\", \"07-25\", \"07-26\", \"07-27\", \"07-28\", \"07-29\", \"07-30\", \"07-31\", \"08-01\", \"08-02\", \"08-03\", \"08-04\", \"08-05\", \"08-06\", \"08-07\", \"08-08\", \"08-09\", \"08-10\", \"08-11\", \"08-12\", \"08-13\", \"08-14\", \"08-15\", \"08-16\", \"08-17\", \"08-18\", \"08-19\", \"08-20\", \"08-21\", \"08-22\", \"08-23\", \"08-24\", \"08-25\", \"08-26\", \"08-27\", \"08-28\", \"08-29\", \"08-30\", \"08-31\", \"09-01\", \"09-02\", \"09-03\", \"09-04\", \"09-05\", \"09-06\", \"09-07\", \"09-08\", \"09-09\", \"09-10\", \"09-11\", \"09-12\", \"09-13\", \"09-14\", \"09-15\", \"09-16\", \"09-17\", \"09-18\", \"09-19\", \"09-20\", \"09-21\", \"09-22\", \"09-23\", \"09-24\", \"09-25\", \"09-26\", \"09-27\", \"09-28\", \"09-29\", \"09-30\", \"10-01\", \"10-02\", \"10-03\", \"10-04\", \"10-05\", \"10-06\", \"10-07\", \"10-08\", \"10-09\", \"10-10\", \"10-11\", \"10-12\", \"10-13\", \"10-14\", \"10-15\", \"10-16\", \"10-17\", \"10-18\", \"10-19\", \"10-20\", \"10-21\", \"10-22\", \"10-23\", \"10-24\", \"10-25\", \"10-26\", \"10-27\", \"10-28\", \"10-29\", \"10-30\", \"10-31\", \"11-01\", \"11-02\", \"11-03\", \"11-04\", \"11-05\", \"11-06\", \"11-07\", \"11-08\", \"11-09\", \"11-10\", \"11-11\", \"11-12\", \"11-13\", \"11-14\", \"11-15\", \"11-16\", \"11-17\", \"11-18\", \"11-19\", \"11-20\", \"11-21\", \"11-22\", \"11-23\", \"11-24\", \"11-25\", \"11-26\", \"11-27\", \"11-28\", \"11-29\", \"11-30\", \"12-01\", \"12-02\", \"12-03\", \"12-04\", \"12-05\", \"12-06\", \"12-07\", \"12-08\", \"12-09\", \"12-10\", \"12-11\", \"12-12\", \"12-13\", \"12-14\", \"12-15\", \"12-16\", \"12-17\", \"12-18\", \"12-19\", \"12-20\", \"12-21\", \"12-22\", \"12-23\", \"12-24\", \"12-25\", \"12-26\", \"12-27\", \"12-28\", \"12-29\", \"12-30\", \"12-31\"], \"xaxis\": \"x\", \"y\": [42, 39, 38, 36, 36, 40, 38, 38, 37, 38, 39, 39, 40, 41, 43, 31, 41, 45, 42, 34, 26, 35, 35, 35, 37, 37, 35, 40, 39, 40, 40, 38, 37, 42, 38, 37, 35, 34, 35, 43, 30, 36, 40, 37, 38, 43, 42, 37, 42, 36, 31, 31, 27, 44, 44, 40, 40, 41, 40, 43, 43, 42, 43, 46, 44, 44, 45, 35, 45, 38, 31, 33, 40, 41, 43, 49, 42, 42, 45, 43, 43, 50, 58, 54, 51, 41, 50, 44, 48, 48, 49, 50, 45, 48, 45, 47, 50, 46, 51, 50, 61, 64, 45, 42, 50, 46, 48, 51, 51, 48, 51, 58, 58, 45, 64, 51, 50, 54, 49, 50, 54, 61, 58, 51, 54, 58, 64, 93, 48, 67, 64, 54, 51, 48, 64, 74, 48, 54, 74, 51, 71, 61, 74, 64, 64, 50, 61, 44, 48, 50, 47, 48, 61, 58, 50, 54, 54, 64, 54, 54, 46, 45, 61, 54, 51, 48, 54, 50, 58, 97, 100, 74, 64, 61, 48, 61, 61, 51, 49, 49, 48, 77, 54, 49, 44, 44, 45, 58, 44, 43, 44, 45, 47, 46, 44, 51, 45, 54, 67, 58, 64, 67, 61, 48, 58, 51, 50, 58, 54, 64, 64, 58, 84, 64, 54, 64, 58, 51, 51, 44, 49, 51, 50, 50, 47, 54, 58, 51, 67, 58, 84, 84, 87, 87, 119, 112, 115, 119, 105, 101, 90, 77, 51, 48, 49, 64, 84, 90, 64, 54, 61, 42, 22, 24, 44, 44, 50, 71, 54, 51, 80, 71, 74, 80, 77, 64, 48, 58, 54, 50, 45, 43, 46, 47, 46, 49, 50, 48, 47, 54, 48, 50, 46, 41, 40, 47, 44, 42, 38, 44, 43, 33, 36, 35, 39, 42, 38, 36, 34, 25, 35, 40, 38, 37, 37, 41, 38, 43, 36, 37, 42, 38, 42, 40, 40, 36, 39, 37, 44, 39, 34, 37, 43, 43, 36, 36, 33, 32, 40, 38, 44, 38, 36, 37, 34, 44, 38, 32, 33, 35, 35, 31, 31, 31, 28, 39, 36, 35, 32, 35, 37, 34, 39, 37, 40, 36, 36, 39, 35, 30, 38, 37, 35, 42, 37, 36], \"yaxis\": \"y\"}],                        {\"legend\": {\"title\": {\"text\": \"Year\"}, \"tracegroupgap\": 0}, \"template\": {\"data\": {\"bar\": [{\"error_x\": {\"color\": \"#2a3f5f\"}, \"error_y\": {\"color\": \"#2a3f5f\"}, \"marker\": {\"line\": {\"color\": \"#E5ECF6\", \"width\": 0.5}}, \"type\": \"bar\"}], \"barpolar\": [{\"marker\": {\"line\": {\"color\": \"#E5ECF6\", \"width\": 0.5}}, \"type\": \"barpolar\"}], \"carpet\": [{\"aaxis\": {\"endlinecolor\": \"#2a3f5f\", \"gridcolor\": \"white\", \"linecolor\": \"white\", \"minorgridcolor\": \"white\", \"startlinecolor\": \"#2a3f5f\"}, \"baxis\": {\"endlinecolor\": \"#2a3f5f\", \"gridcolor\": \"white\", \"linecolor\": \"white\", \"minorgridcolor\": \"white\", \"startlinecolor\": \"#2a3f5f\"}, \"type\": \"carpet\"}], \"choropleth\": [{\"colorbar\": {\"outlinewidth\": 0, \"ticks\": \"\"}, \"type\": \"choropleth\"}], \"contour\": [{\"colorbar\": {\"outlinewidth\": 0, \"ticks\": \"\"}, \"colorscale\": [[0.0, \"#0d0887\"], [0.1111111111111111, \"#46039f\"], [0.2222222222222222, \"#7201a8\"], [0.3333333333333333, \"#9c179e\"], [0.4444444444444444, \"#bd3786\"], [0.5555555555555556, \"#d8576b\"], [0.6666666666666666, \"#ed7953\"], [0.7777777777777778, \"#fb9f3a\"], [0.8888888888888888, \"#fdca26\"], [1.0, \"#f0f921\"]], \"type\": \"contour\"}], \"contourcarpet\": [{\"colorbar\": {\"outlinewidth\": 0, \"ticks\": \"\"}, \"type\": \"contourcarpet\"}], \"heatmap\": [{\"colorbar\": {\"outlinewidth\": 0, \"ticks\": \"\"}, \"colorscale\": [[0.0, \"#0d0887\"], [0.1111111111111111, \"#46039f\"], [0.2222222222222222, \"#7201a8\"], [0.3333333333333333, \"#9c179e\"], [0.4444444444444444, \"#bd3786\"], [0.5555555555555556, \"#d8576b\"], [0.6666666666666666, \"#ed7953\"], [0.7777777777777778, \"#fb9f3a\"], [0.8888888888888888, \"#fdca26\"], [1.0, \"#f0f921\"]], \"type\": \"heatmap\"}], \"heatmapgl\": [{\"colorbar\": {\"outlinewidth\": 0, \"ticks\": \"\"}, \"colorscale\": [[0.0, \"#0d0887\"], [0.1111111111111111, \"#46039f\"], [0.2222222222222222, \"#7201a8\"], [0.3333333333333333, \"#9c179e\"], [0.4444444444444444, \"#bd3786\"], [0.5555555555555556, \"#d8576b\"], [0.6666666666666666, \"#ed7953\"], [0.7777777777777778, \"#fb9f3a\"], [0.8888888888888888, \"#fdca26\"], [1.0, \"#f0f921\"]], \"type\": \"heatmapgl\"}], \"histogram\": [{\"marker\": {\"colorbar\": {\"outlinewidth\": 0, \"ticks\": \"\"}}, \"type\": \"histogram\"}], \"histogram2d\": [{\"colorbar\": {\"outlinewidth\": 0, \"ticks\": \"\"}, \"colorscale\": [[0.0, \"#0d0887\"], [0.1111111111111111, \"#46039f\"], [0.2222222222222222, \"#7201a8\"], [0.3333333333333333, \"#9c179e\"], [0.4444444444444444, \"#bd3786\"], [0.5555555555555556, \"#d8576b\"], [0.6666666666666666, \"#ed7953\"], [0.7777777777777778, \"#fb9f3a\"], [0.8888888888888888, \"#fdca26\"], [1.0, \"#f0f921\"]], \"type\": \"histogram2d\"}], \"histogram2dcontour\": [{\"colorbar\": {\"outlinewidth\": 0, \"ticks\": \"\"}, \"colorscale\": [[0.0, \"#0d0887\"], [0.1111111111111111, \"#46039f\"], [0.2222222222222222, \"#7201a8\"], [0.3333333333333333, \"#9c179e\"], [0.4444444444444444, \"#bd3786\"], [0.5555555555555556, \"#d8576b\"], [0.6666666666666666, \"#ed7953\"], [0.7777777777777778, \"#fb9f3a\"], [0.8888888888888888, \"#fdca26\"], [1.0, \"#f0f921\"]], \"type\": \"histogram2dcontour\"}], \"mesh3d\": [{\"colorbar\": {\"outlinewidth\": 0, \"ticks\": \"\"}, \"type\": \"mesh3d\"}], \"parcoords\": [{\"line\": {\"colorbar\": {\"outlinewidth\": 0, \"ticks\": \"\"}}, \"type\": \"parcoords\"}], \"pie\": [{\"automargin\": true, \"type\": \"pie\"}], \"scatter\": [{\"marker\": {\"colorbar\": {\"outlinewidth\": 0, \"ticks\": \"\"}}, \"type\": \"scatter\"}], \"scatter3d\": [{\"line\": {\"colorbar\": {\"outlinewidth\": 0, \"ticks\": \"\"}}, \"marker\": {\"colorbar\": {\"outlinewidth\": 0, \"ticks\": \"\"}}, \"type\": \"scatter3d\"}], \"scattercarpet\": [{\"marker\": {\"colorbar\": {\"outlinewidth\": 0, \"ticks\": \"\"}}, \"type\": \"scattercarpet\"}], \"scattergeo\": [{\"marker\": {\"colorbar\": {\"outlinewidth\": 0, \"ticks\": \"\"}}, \"type\": \"scattergeo\"}], \"scattergl\": [{\"marker\": {\"colorbar\": {\"outlinewidth\": 0, \"ticks\": \"\"}}, \"type\": \"scattergl\"}], \"scattermapbox\": [{\"marker\": {\"colorbar\": {\"outlinewidth\": 0, \"ticks\": \"\"}}, \"type\": \"scattermapbox\"}], \"scatterpolar\": [{\"marker\": {\"colorbar\": {\"outlinewidth\": 0, \"ticks\": \"\"}}, \"type\": \"scatterpolar\"}], \"scatterpolargl\": [{\"marker\": {\"colorbar\": {\"outlinewidth\": 0, \"ticks\": \"\"}}, \"type\": \"scatterpolargl\"}], \"scatterternary\": [{\"marker\": {\"colorbar\": {\"outlinewidth\": 0, \"ticks\": \"\"}}, \"type\": \"scatterternary\"}], \"surface\": [{\"colorbar\": {\"outlinewidth\": 0, \"ticks\": \"\"}, \"colorscale\": [[0.0, \"#0d0887\"], [0.1111111111111111, \"#46039f\"], [0.2222222222222222, \"#7201a8\"], [0.3333333333333333, \"#9c179e\"], [0.4444444444444444, \"#bd3786\"], [0.5555555555555556, \"#d8576b\"], [0.6666666666666666, \"#ed7953\"], [0.7777777777777778, \"#fb9f3a\"], [0.8888888888888888, \"#fdca26\"], [1.0, \"#f0f921\"]], \"type\": \"surface\"}], \"table\": [{\"cells\": {\"fill\": {\"color\": \"#EBF0F8\"}, \"line\": {\"color\": \"white\"}}, \"header\": {\"fill\": {\"color\": \"#C8D4E3\"}, \"line\": {\"color\": \"white\"}}, \"type\": \"table\"}]}, \"layout\": {\"annotationdefaults\": {\"arrowcolor\": \"#2a3f5f\", \"arrowhead\": 0, \"arrowwidth\": 1}, \"coloraxis\": {\"colorbar\": {\"outlinewidth\": 0, \"ticks\": \"\"}}, \"colorscale\": {\"diverging\": [[0, \"#8e0152\"], [0.1, \"#c51b7d\"], [0.2, \"#de77ae\"], [0.3, \"#f1b6da\"], [0.4, \"#fde0ef\"], [0.5, \"#f7f7f7\"], [0.6, \"#e6f5d0\"], [0.7, \"#b8e186\"], [0.8, \"#7fbc41\"], [0.9, \"#4d9221\"], [1, \"#276419\"]], \"sequential\": [[0.0, \"#0d0887\"], [0.1111111111111111, \"#46039f\"], [0.2222222222222222, \"#7201a8\"], [0.3333333333333333, \"#9c179e\"], [0.4444444444444444, \"#bd3786\"], [0.5555555555555556, \"#d8576b\"], [0.6666666666666666, \"#ed7953\"], [0.7777777777777778, \"#fb9f3a\"], [0.8888888888888888, \"#fdca26\"], [1.0, \"#f0f921\"]], \"sequentialminus\": [[0.0, \"#0d0887\"], [0.1111111111111111, \"#46039f\"], [0.2222222222222222, \"#7201a8\"], [0.3333333333333333, \"#9c179e\"], [0.4444444444444444, \"#bd3786\"], [0.5555555555555556, \"#d8576b\"], [0.6666666666666666, \"#ed7953\"], [0.7777777777777778, \"#fb9f3a\"], [0.8888888888888888, \"#fdca26\"], [1.0, \"#f0f921\"]]}, \"colorway\": [\"#636efa\", \"#EF553B\", \"#00cc96\", \"#ab63fa\", \"#FFA15A\", \"#19d3f3\", \"#FF6692\", \"#B6E880\", \"#FF97FF\", \"#FECB52\"], \"font\": {\"color\": \"#2a3f5f\"}, \"geo\": {\"bgcolor\": \"white\", \"lakecolor\": \"white\", \"landcolor\": \"#E5ECF6\", \"showlakes\": true, \"showland\": true, \"subunitcolor\": \"white\"}, \"hoverlabel\": {\"align\": \"left\"}, \"hovermode\": \"closest\", \"mapbox\": {\"style\": \"light\"}, \"paper_bgcolor\": \"white\", \"plot_bgcolor\": \"#E5ECF6\", \"polar\": {\"angularaxis\": {\"gridcolor\": \"white\", \"linecolor\": \"white\", \"ticks\": \"\"}, \"bgcolor\": \"#E5ECF6\", \"radialaxis\": {\"gridcolor\": \"white\", \"linecolor\": \"white\", \"ticks\": \"\"}}, \"scene\": {\"xaxis\": {\"backgroundcolor\": \"#E5ECF6\", \"gridcolor\": \"white\", \"gridwidth\": 2, \"linecolor\": \"white\", \"showbackground\": true, \"ticks\": \"\", \"zerolinecolor\": \"white\"}, \"yaxis\": {\"backgroundcolor\": \"#E5ECF6\", \"gridcolor\": \"white\", \"gridwidth\": 2, \"linecolor\": \"white\", \"showbackground\": true, \"ticks\": \"\", \"zerolinecolor\": \"white\"}, \"zaxis\": {\"backgroundcolor\": \"#E5ECF6\", \"gridcolor\": \"white\", \"gridwidth\": 2, \"linecolor\": \"white\", \"showbackground\": true, \"ticks\": \"\", \"zerolinecolor\": \"white\"}}, \"shapedefaults\": {\"line\": {\"color\": \"#2a3f5f\"}}, \"ternary\": {\"aaxis\": {\"gridcolor\": \"white\", \"linecolor\": \"white\", \"ticks\": \"\"}, \"baxis\": {\"gridcolor\": \"white\", \"linecolor\": \"white\", \"ticks\": \"\"}, \"bgcolor\": \"#E5ECF6\", \"caxis\": {\"gridcolor\": \"white\", \"linecolor\": \"white\", \"ticks\": \"\"}}, \"title\": {\"x\": 0.05}, \"xaxis\": {\"automargin\": true, \"gridcolor\": \"white\", \"linecolor\": \"white\", \"ticks\": \"\", \"title\": {\"standoff\": 15}, \"zerolinecolor\": \"white\", \"zerolinewidth\": 2}, \"yaxis\": {\"automargin\": true, \"gridcolor\": \"white\", \"linecolor\": \"white\", \"ticks\": \"\", \"title\": {\"standoff\": 15}, \"zerolinecolor\": \"white\", \"zerolinewidth\": 2}}}, \"title\": {\"text\": \"Ozone AQI Values\"}, \"xaxis\": {\"anchor\": \"y\", \"domain\": [0.0, 1.0], \"title\": {\"text\": \"month_day\"}, \"type\": \"category\"}, \"yaxis\": {\"anchor\": \"x\", \"domain\": [0.0, 1.0], \"title\": {\"text\": \"Ozone AQI Value\"}}},                        {\"responsive\": true}                    ).then(function(){\n",
       "                            \n",
       "var gd = document.getElementById('cf3b9899-a24a-4433-99a7-abb8b2e3d5c8');\n",
       "var x = new MutationObserver(function (mutations, observer) {{\n",
       "        var display = window.getComputedStyle(gd).display;\n",
       "        if (!display || display === 'none') {{\n",
       "            console.log([gd, 'removed!']);\n",
       "            Plotly.purge(gd);\n",
       "            observer.disconnect();\n",
       "        }}\n",
       "}});\n",
       "\n",
       "// Listen for the removal of the full notebook cells\n",
       "var notebookContainer = gd.closest('#notebook-container');\n",
       "if (notebookContainer) {{\n",
       "    x.observe(notebookContainer, {childList: true});\n",
       "}}\n",
       "\n",
       "// Listen for the clearing of the current output cell\n",
       "var outputEl = gd.closest('.output');\n",
       "if (outputEl) {{\n",
       "    x.observe(outputEl, {childList: true});\n",
       "}}\n",
       "\n",
       "                        })                };                });            </script>        </div>"
      ]
     },
     "metadata": {},
     "output_type": "display_data"
    }
   ],
   "source": [
    "fig = px.line(df, x='month_day', y='Ozone AQI Value', color='Year', title=\"Ozone AQI Values\")\n",
    "fig.update_xaxes(type='category')\n",
    "fig.show()\n",
    "#find out how to set date-time format to day_month in x-axis\n",
    "#find out why strange values shown below"
   ]
  },
  {
   "cell_type": "code",
   "execution_count": 84,
   "id": "numeric-founder",
   "metadata": {},
   "outputs": [],
   "source": [
    "#import seaborn as sns\n",
    "#%matplotlib inline"
   ]
  },
  {
   "cell_type": "code",
   "execution_count": 85,
   "id": "frequent-powell",
   "metadata": {},
   "outputs": [
    {
     "data": {
      "image/png": "[encoded data removed]",
      "text/plain": [
       "<Figure size 432x288 with 1 Axes>"
      ]
     },
     "metadata": {
      "needs_background": "light"
     },
     "output_type": "display_data"
    }
   ],
   "source": [
    "#fig_sns = sns.lineplot(data=df, x=\"month_day\", y=\"Ozone AQI Value\", hue='Year')"
   ]
  },
  {
   "cell_type": "code",
   "execution_count": 46,
   "id": "hearing-looking",
   "metadata": {},
   "outputs": [
    {
     "data": {
      "application/vnd.plotly.v1+json": {
       "config": {
        "plotlyServerURL": "https://plot.ly"
       },
       "data": [
        {
         "hovertemplate": "Date=%{x}<br>Ozone AQI Value=%{y}<extra></extra>",
         "legendgroup": "",
         "line": {
          "color": "#636efa",
          "dash": "solid"
         },
         "mode": "lines",
         "name": "",
         "orientation": "v",
         "showlegend": false,
         "type": "scatter",
         "x": [
          "2020-01-01T00:00:00",
          "2020-01-02T00:00:00",
          "2020-01-03T00:00:00",
          "2020-01-04T00:00:00",
          "2020-01-05T00:00:00",
          "2020-01-06T00:00:00",
          "2020-01-07T00:00:00",
          "2020-01-08T00:00:00",
          "2020-01-09T00:00:00",
          "2020-01-10T00:00:00",
          "2020-01-11T00:00:00",
          "2020-01-12T00:00:00",
          "2020-01-13T00:00:00",
          "2020-01-14T00:00:00",
          "2020-01-15T00:00:00",
          "2020-01-16T00:00:00",
          "2020-01-17T00:00:00",
          "2020-01-18T00:00:00",
          "2020-01-19T00:00:00",
          "2020-01-20T00:00:00",
          "2020-01-21T00:00:00",
          "2020-01-22T00:00:00",
          "2020-01-23T00:00:00",
          "2020-01-24T00:00:00",
          "2020-01-25T00:00:00",
          "2020-01-26T00:00:00",
          "2020-01-27T00:00:00",
          "2020-01-28T00:00:00",
          "2020-01-29T00:00:00",
          "2020-01-30T00:00:00",
          "2020-01-31T00:00:00",
          "2020-02-01T00:00:00",
          "2020-02-02T00:00:00",
          "2020-02-03T00:00:00",
          "2020-02-04T00:00:00",
          "2020-02-05T00:00:00",
          "2020-02-06T00:00:00",
          "2020-02-07T00:00:00",
          "2020-02-08T00:00:00",
          "2020-02-09T00:00:00",
          "2020-02-10T00:00:00",
          "2020-02-11T00:00:00",
          "2020-02-12T00:00:00",
          "2020-02-13T00:00:00",
          "2020-02-14T00:00:00",
          "2020-02-15T00:00:00",
          "2020-02-16T00:00:00",
          "2020-02-17T00:00:00",
          "2020-02-18T00:00:00",
          "2020-02-19T00:00:00",
          "2020-02-20T00:00:00",
          "2020-02-21T00:00:00",
          "2020-02-22T00:00:00",
          "2020-02-23T00:00:00",
          "2020-02-24T00:00:00",
          "2020-02-25T00:00:00",
          "2020-02-26T00:00:00",
          "2020-02-27T00:00:00",
          "2020-02-28T00:00:00",
          "2020-02-29T00:00:00",
          "2020-03-01T00:00:00",
          "2020-03-02T00:00:00",
          "2020-03-03T00:00:00",
          "2020-03-04T00:00:00",
          "2020-03-05T00:00:00",
          "2020-03-06T00:00:00",
          "2020-03-07T00:00:00",
          "2020-03-08T00:00:00",
          "2020-03-09T00:00:00",
          "2020-03-10T00:00:00",
          "2020-03-11T00:00:00",
          "2020-03-12T00:00:00",
          "2020-03-13T00:00:00",
          "2020-03-14T00:00:00",
          "2020-03-15T00:00:00",
          "2020-03-16T00:00:00",
          "2020-03-17T00:00:00",
          "2020-03-18T00:00:00",
          "2020-03-19T00:00:00",
          "2020-03-20T00:00:00",
          "2020-03-21T00:00:00",
          "2020-03-22T00:00:00",
          "2020-03-23T00:00:00",
          "2020-03-24T00:00:00",
          "2020-03-25T00:00:00",
          "2020-03-26T00:00:00",
          "2020-03-27T00:00:00",
          "2020-03-28T00:00:00",
          "2020-03-29T00:00:00",
          "2020-03-30T00:00:00",
          "2020-03-31T00:00:00",
          "2020-04-01T00:00:00",
          "2020-04-02T00:00:00",
          "2020-04-03T00:00:00",
          "2020-04-04T00:00:00",
          "2020-04-05T00:00:00",
          "2020-04-06T00:00:00",
          "2020-04-07T00:00:00",
          "2020-04-08T00:00:00",
          "2020-04-09T00:00:00",
          "2020-04-10T00:00:00",
          "2020-04-11T00:00:00",
          "2020-04-12T00:00:00",
          "2020-04-13T00:00:00",
          "2020-04-14T00:00:00",
          "2020-04-15T00:00:00",
          "2020-04-16T00:00:00",
          "2020-04-17T00:00:00",
          "2020-04-18T00:00:00",
          "2020-04-19T00:00:00",
          "2020-04-20T00:00:00",
          "2020-04-21T00:00:00",
          "2020-04-22T00:00:00",
          "2020-04-23T00:00:00",
          "2020-04-24T00:00:00",
          "2020-04-25T00:00:00",
          "2020-04-26T00:00:00",
          "2020-04-27T00:00:00",
          "2020-04-28T00:00:00",
          "2020-04-29T00:00:00",
          "2020-04-30T00:00:00",
          "2020-05-01T00:00:00",
          "2020-05-02T00:00:00",
          "2020-05-03T00:00:00",
          "2020-05-04T00:00:00",
          "2020-05-05T00:00:00",
          "2020-05-06T00:00:00",
          "2020-05-07T00:00:00",
          "2020-05-08T00:00:00",
          "2020-05-09T00:00:00",
          "2020-05-10T00:00:00",
          "2020-05-11T00:00:00",
          "2020-05-12T00:00:00",
          "2020-05-13T00:00:00",
          "2020-05-14T00:00:00",
          "2020-05-15T00:00:00",
          "2020-05-16T00:00:00",
          "2020-05-17T00:00:00",
          "2020-05-18T00:00:00",
          "2020-05-19T00:00:00",
          "2020-05-20T00:00:00",
          "2020-05-21T00:00:00",
          "2020-05-22T00:00:00",
          "2020-05-23T00:00:00",
          "2020-05-24T00:00:00",
          "2020-05-25T00:00:00",
          "2020-05-26T00:00:00",
          "2020-05-27T00:00:00",
          "2020-05-28T00:00:00",
          "2020-05-29T00:00:00",
          "2020-05-30T00:00:00",
          "2020-05-31T00:00:00",
          "2020-06-01T00:00:00",
          "2020-06-02T00:00:00",
          "2020-06-03T00:00:00",
          "2020-06-04T00:00:00",
          "2020-06-05T00:00:00",
          "2020-06-06T00:00:00",
          "2020-06-07T00:00:00",
          "2020-06-08T00:00:00",
          "2020-06-09T00:00:00",
          "2020-06-10T00:00:00",
          "2020-06-11T00:00:00",
          "2020-06-12T00:00:00",
          "2020-06-13T00:00:00",
          "2020-06-14T00:00:00",
          "2020-06-15T00:00:00",
          "2020-06-16T00:00:00",
          "2020-06-17T00:00:00",
          "2020-06-18T00:00:00",
          "2020-06-19T00:00:00",
          "2020-06-20T00:00:00",
          "2020-06-21T00:00:00",
          "2020-06-22T00:00:00",
          "2020-06-23T00:00:00",
          "2020-06-24T00:00:00",
          "2020-06-25T00:00:00",
          "2020-06-26T00:00:00",
          "2020-06-27T00:00:00",
          "2020-06-28T00:00:00",
          "2020-06-29T00:00:00",
          "2020-06-30T00:00:00",
          "2020-07-01T00:00:00",
          "2020-07-02T00:00:00",
          "2020-07-03T00:00:00",
          "2020-07-04T00:00:00",
          "2020-07-05T00:00:00",
          "2020-07-06T00:00:00",
          "2020-07-07T00:00:00",
          "2020-07-08T00:00:00",
          "2020-07-09T00:00:00",
          "2020-07-10T00:00:00",
          "2020-07-11T00:00:00",
          "2020-07-12T00:00:00",
          "2020-07-13T00:00:00",
          "2020-07-14T00:00:00",
          "2020-07-15T00:00:00",
          "2020-07-16T00:00:00",
          "2020-07-17T00:00:00",
          "2020-07-18T00:00:00",
          "2020-07-19T00:00:00",
          "2020-07-20T00:00:00",
          "2020-07-21T00:00:00",
          "2020-07-22T00:00:00",
          "2020-07-23T00:00:00",
          "2020-07-24T00:00:00",
          "2020-07-25T00:00:00",
          "2020-07-26T00:00:00",
          "2020-07-27T00:00:00",
          "2020-07-28T00:00:00",
          "2020-07-29T00:00:00",
          "2020-07-30T00:00:00",
          "2020-07-31T00:00:00",
          "2020-08-01T00:00:00",
          "2020-08-02T00:00:00",
          "2020-08-03T00:00:00",
          "2020-08-04T00:00:00",
          "2020-08-05T00:00:00",
          "2020-08-06T00:00:00",
          "2020-08-07T00:00:00",
          "2020-08-08T00:00:00",
          "2020-08-09T00:00:00",
          "2020-08-10T00:00:00",
          "2020-08-11T00:00:00",
          "2020-08-12T00:00:00",
          "2020-08-13T00:00:00",
          "2020-08-14T00:00:00",
          "2020-08-15T00:00:00",
          "2020-08-16T00:00:00",
          "2020-08-17T00:00:00",
          "2020-08-18T00:00:00",
          "2020-08-19T00:00:00",
          "2020-08-20T00:00:00",
          "2020-08-21T00:00:00",
          "2020-08-22T00:00:00",
          "2020-08-23T00:00:00",
          "2020-08-24T00:00:00",
          "2020-08-25T00:00:00",
          "2020-08-26T00:00:00",
          "2020-08-27T00:00:00",
          "2020-08-28T00:00:00",
          "2020-08-29T00:00:00",
          "2020-08-30T00:00:00",
          "2020-08-31T00:00:00",
          "2020-09-01T00:00:00",
          "2020-09-02T00:00:00",
          "2020-09-03T00:00:00",
          "2020-09-04T00:00:00",
          "2020-09-05T00:00:00",
          "2020-09-06T00:00:00",
          "2020-09-07T00:00:00",
          "2020-09-08T00:00:00",
          "2020-09-09T00:00:00",
          "2020-09-10T00:00:00",
          "2020-09-11T00:00:00",
          "2020-09-12T00:00:00",
          "2020-09-13T00:00:00",
          "2020-09-14T00:00:00",
          "2020-09-15T00:00:00",
          "2020-09-16T00:00:00",
          "2020-09-17T00:00:00",
          "2020-09-18T00:00:00",
          "2020-09-19T00:00:00",
          "2020-09-20T00:00:00",
          "2020-09-21T00:00:00",
          "2020-09-22T00:00:00",
          "2020-09-23T00:00:00",
          "2020-09-24T00:00:00",
          "2020-09-25T00:00:00",
          "2020-09-26T00:00:00",
          "2020-09-27T00:00:00",
          "2020-09-28T00:00:00",
          "2020-09-29T00:00:00",
          "2020-09-30T00:00:00",
          "2020-10-01T00:00:00",
          "2020-10-02T00:00:00",
          "2020-10-03T00:00:00",
          "2020-10-04T00:00:00",
          "2020-10-05T00:00:00",
          "2020-10-06T00:00:00",
          "2020-10-07T00:00:00",
          "2020-10-08T00:00:00",
          "2020-10-09T00:00:00",
          "2020-10-10T00:00:00",
          "2020-10-11T00:00:00",
          "2020-10-12T00:00:00",
          "2020-10-13T00:00:00",
          "2020-10-14T00:00:00",
          "2020-10-15T00:00:00",
          "2020-10-16T00:00:00",
          "2020-10-17T00:00:00",
          "2020-10-18T00:00:00",
          "2020-10-19T00:00:00",
          "2020-10-20T00:00:00",
          "2020-10-21T00:00:00",
          "2020-10-22T00:00:00",
          "2020-10-23T00:00:00",
          "2020-10-24T00:00:00",
          "2020-10-25T00:00:00",
          "2020-10-26T00:00:00",
          "2020-10-27T00:00:00",
          "2020-10-28T00:00:00",
          "2020-10-29T00:00:00",
          "2020-10-30T00:00:00",
          "2020-10-31T00:00:00",
          "2020-11-01T00:00:00",
          "2020-11-02T00:00:00",
          "2020-11-03T00:00:00",
          "2020-11-04T00:00:00",
          "2020-11-05T00:00:00",
          "2020-11-06T00:00:00",
          "2020-11-07T00:00:00",
          "2020-11-08T00:00:00",
          "2020-11-09T00:00:00",
          "2020-11-10T00:00:00",
          "2020-11-11T00:00:00",
          "2020-11-12T00:00:00",
          "2020-11-13T00:00:00",
          "2020-11-14T00:00:00",
          "2020-11-15T00:00:00",
          "2020-11-16T00:00:00",
          "2020-11-17T00:00:00",
          "2020-11-18T00:00:00",
          "2020-11-19T00:00:00",
          "2020-11-20T00:00:00",
          "2020-11-21T00:00:00",
          "2020-11-22T00:00:00",
          "2020-11-23T00:00:00",
          "2020-11-24T00:00:00",
          "2020-11-25T00:00:00",
          "2020-11-26T00:00:00",
          "2020-11-27T00:00:00",
          "2020-11-28T00:00:00",
          "2020-11-29T00:00:00",
          "2020-11-30T00:00:00",
          "2020-12-01T00:00:00",
          "2020-12-02T00:00:00",
          "2020-12-03T00:00:00",
          "2020-12-04T00:00:00",
          "2020-12-05T00:00:00",
          "2020-12-06T00:00:00",
          "2020-12-07T00:00:00",
          "2020-12-08T00:00:00",
          "2020-12-09T00:00:00",
          "2020-12-10T00:00:00",
          "2020-12-11T00:00:00",
          "2020-12-12T00:00:00",
          "2020-12-13T00:00:00",
          "2020-12-14T00:00:00",
          "2020-12-15T00:00:00",
          "2020-12-16T00:00:00",
          "2020-12-17T00:00:00",
          "2020-12-18T00:00:00",
          "2020-12-19T00:00:00",
          "2020-12-20T00:00:00",
          "2020-12-21T00:00:00",
          "2020-12-22T00:00:00",
          "2020-12-23T00:00:00",
          "2020-12-24T00:00:00",
          "2020-12-25T00:00:00",
          "2020-12-26T00:00:00",
          "2020-12-27T00:00:00",
          "2020-12-28T00:00:00",
          "2020-12-29T00:00:00",
          "2020-12-30T00:00:00",
          "2020-12-31T00:00:00"
         ],
         "xaxis": "x",
         "y": [
          42,
          39,
          38,
          36,
          36,
          40,
          38,
          38,
          37,
          38,
          39,
          39,
          40,
          41,
          43,
          31,
          41,
          45,
          42,
          34,
          26,
          35,
          35,
          35,
          37,
          37,
          35,
          40,
          39,
          40,
          40,
          38,
          37,
          42,
          38,
          37,
          35,
          34,
          35,
          43,
          30,
          36,
          40,
          37,
          38,
          43,
          42,
          37,
          42,
          36,
          31,
          31,
          27,
          44,
          44,
          40,
          40,
          41,
          40,
          43,
          43,
          42,
          43,
          46,
          44,
          44,
          45,
          35,
          45,
          38,
          31,
          33,
          40,
          41,
          43,
          49,
          42,
          42,
          45,
          43,
          43,
          50,
          58,
          54,
          51,
          41,
          50,
          44,
          48,
          48,
          49,
          50,
          45,
          48,
          45,
          47,
          50,
          46,
          51,
          50,
          61,
          64,
          45,
          42,
          50,
          46,
          48,
          51,
          51,
          48,
          51,
          58,
          58,
          45,
          64,
          51,
          50,
          54,
          49,
          50,
          54,
          61,
          58,
          51,
          54,
          58,
          64,
          93,
          48,
          67,
          64,
          54,
          51,
          48,
          64,
          74,
          48,
          54,
          74,
          51,
          71,
          61,
          74,
          64,
          64,
          50,
          61,
          44,
          48,
          50,
          47,
          48,
          61,
          58,
          50,
          54,
          54,
          64,
          54,
          54,
          46,
          45,
          61,
          54,
          51,
          48,
          54,
          50,
          58,
          97,
          100,
          74,
          64,
          61,
          48,
          61,
          61,
          51,
          49,
          49,
          48,
          77,
          54,
          49,
          44,
          44,
          45,
          58,
          44,
          43,
          44,
          45,
          47,
          46,
          44,
          51,
          45,
          54,
          67,
          58,
          64,
          67,
          61,
          48,
          58,
          51,
          50,
          58,
          54,
          64,
          64,
          58,
          84,
          64,
          54,
          64,
          58,
          51,
          51,
          44,
          49,
          51,
          50,
          50,
          47,
          54,
          58,
          51,
          67,
          58,
          84,
          84,
          87,
          87,
          119,
          112,
          115,
          119,
          105,
          101,
          90,
          77,
          51,
          48,
          49,
          64,
          84,
          90,
          64,
          54,
          61,
          42,
          22,
          24,
          44,
          44,
          50,
          71,
          54,
          51,
          80,
          71,
          74,
          80,
          77,
          64,
          48,
          58,
          54,
          50,
          45,
          43,
          46,
          47,
          46,
          49,
          50,
          48,
          47,
          54,
          48,
          50,
          46,
          41,
          40,
          47,
          44,
          42,
          38,
          44,
          43,
          33,
          36,
          35,
          39,
          42,
          38,
          36,
          34,
          25,
          35,
          40,
          38,
          37,
          37,
          41,
          38,
          43,
          36,
          37,
          42,
          38,
          42,
          40,
          40,
          36,
          39,
          37,
          44,
          39,
          34,
          37,
          43,
          43,
          36,
          36,
          33,
          32,
          40,
          38,
          44,
          38,
          36,
          37,
          34,
          44,
          38,
          32,
          33,
          35,
          35,
          31,
          31,
          31,
          28,
          39,
          36,
          35,
          32,
          35,
          37,
          34,
          39,
          37,
          40,
          36,
          36,
          39,
          35,
          30,
          38,
          37,
          35,
          42,
          37,
          36
         ],
         "yaxis": "y"
        }
       ],
       "layout": {
        "legend": {
         "tracegroupgap": 0
        },
        "template": {
         "data": {
          "bar": [
           {
            "error_x": {
             "color": "#2a3f5f"
            },
            "error_y": {
             "color": "#2a3f5f"
            },
            "marker": {
             "line": {
              "color": "#E5ECF6",
              "width": 0.5
             }
            },
            "type": "bar"
           }
          ],
          "barpolar": [
           {
            "marker": {
             "line": {
              "color": "#E5ECF6",
              "width": 0.5
             }
            },
            "type": "barpolar"
           }
          ],
          "carpet": [
           {
            "aaxis": {
             "endlinecolor": "#2a3f5f",
             "gridcolor": "white",
             "linecolor": "white",
             "minorgridcolor": "white",
             "startlinecolor": "#2a3f5f"
            },
            "baxis": {
             "endlinecolor": "#2a3f5f",
             "gridcolor": "white",
             "linecolor": "white",
             "minorgridcolor": "white",
             "startlinecolor": "#2a3f5f"
            },
            "type": "carpet"
           }
          ],
          "choropleth": [
           {
            "colorbar": {
             "outlinewidth": 0,
             "ticks": ""
            },
            "type": "choropleth"
           }
          ],
          "contour": [
           {
            "colorbar": {
             "outlinewidth": 0,
             "ticks": ""
            },
            "colorscale": [
             [
              0,
              "#0d0887"
             ],
             [
              0.1111111111111111,
              "#46039f"
             ],
             [
              0.2222222222222222,
              "#7201a8"
             ],
             [
              0.3333333333333333,
              "#9c179e"
             ],
             [
              0.4444444444444444,
              "#bd3786"
             ],
             [
              0.5555555555555556,
              "#d8576b"
             ],
             [
              0.6666666666666666,
              "#ed7953"
             ],
             [
              0.7777777777777778,
              "#fb9f3a"
             ],
             [
              0.8888888888888888,
              "#fdca26"
             ],
             [
              1,
              "#f0f921"
             ]
            ],
            "type": "contour"
           }
          ],
          "contourcarpet": [
           {
            "colorbar": {
             "outlinewidth": 0,
             "ticks": ""
            },
            "type": "contourcarpet"
           }
          ],
          "heatmap": [
           {
            "colorbar": {
             "outlinewidth": 0,
             "ticks": ""
            },
            "colorscale": [
             [
              0,
              "#0d0887"
             ],
             [
              0.1111111111111111,
              "#46039f"
             ],
             [
              0.2222222222222222,
              "#7201a8"
             ],
             [
              0.3333333333333333,
              "#9c179e"
             ],
             [
              0.4444444444444444,
              "#bd3786"
             ],
             [
              0.5555555555555556,
              "#d8576b"
             ],
             [
              0.6666666666666666,
              "#ed7953"
             ],
             [
              0.7777777777777778,
              "#fb9f3a"
             ],
             [
              0.8888888888888888,
              "#fdca26"
             ],
             [
              1,
              "#f0f921"
             ]
            ],
            "type": "heatmap"
           }
          ],
          "heatmapgl": [
           {
            "colorbar": {
             "outlinewidth": 0,
             "ticks": ""
            },
            "colorscale": [
             [
              0,
              "#0d0887"
             ],
             [
              0.1111111111111111,
              "#46039f"
             ],
             [
              0.2222222222222222,
              "#7201a8"
             ],
             [
              0.3333333333333333,
              "#9c179e"
             ],
             [
              0.4444444444444444,
              "#bd3786"
             ],
             [
              0.5555555555555556,
              "#d8576b"
             ],
             [
              0.6666666666666666,
              "#ed7953"
             ],
             [
              0.7777777777777778,
              "#fb9f3a"
             ],
             [
              0.8888888888888888,
              "#fdca26"
             ],
             [
              1,
              "#f0f921"
             ]
            ],
            "type": "heatmapgl"
           }
          ],
          "histogram": [
           {
            "marker": {
             "colorbar": {
              "outlinewidth": 0,
              "ticks": ""
             }
            },
            "type": "histogram"
           }
          ],
          "histogram2d": [
           {
            "colorbar": {
             "outlinewidth": 0,
             "ticks": ""
            },
            "colorscale": [
             [
              0,
              "#0d0887"
             ],
             [
              0.1111111111111111,
              "#46039f"
             ],
             [
              0.2222222222222222,
              "#7201a8"
             ],
             [
              0.3333333333333333,
              "#9c179e"
             ],
             [
              0.4444444444444444,
              "#bd3786"
             ],
             [
              0.5555555555555556,
              "#d8576b"
             ],
             [
              0.6666666666666666,
              "#ed7953"
             ],
             [
              0.7777777777777778,
              "#fb9f3a"
             ],
             [
              0.8888888888888888,
              "#fdca26"
             ],
             [
              1,
              "#f0f921"
             ]
            ],
            "type": "histogram2d"
           }
          ],
          "histogram2dcontour": [
           {
            "colorbar": {
             "outlinewidth": 0,
             "ticks": ""
            },
            "colorscale": [
             [
              0,
              "#0d0887"
             ],
             [
              0.1111111111111111,
              "#46039f"
             ],
             [
              0.2222222222222222,
              "#7201a8"
             ],
             [
              0.3333333333333333,
              "#9c179e"
             ],
             [
              0.4444444444444444,
              "#bd3786"
             ],
             [
              0.5555555555555556,
              "#d8576b"
             ],
             [
              0.6666666666666666,
              "#ed7953"
             ],
             [
              0.7777777777777778,
              "#fb9f3a"
             ],
             [
              0.8888888888888888,
              "#fdca26"
             ],
             [
              1,
              "#f0f921"
             ]
            ],
            "type": "histogram2dcontour"
           }
          ],
          "mesh3d": [
           {
            "colorbar": {
             "outlinewidth": 0,
             "ticks": ""
            },
            "type": "mesh3d"
           }
          ],
          "parcoords": [
           {
            "line": {
             "colorbar": {
              "outlinewidth": 0,
              "ticks": ""
             }
            },
            "type": "parcoords"
           }
          ],
          "pie": [
           {
            "automargin": true,
            "type": "pie"
           }
          ],
          "scatter": [
           {
            "marker": {
             "colorbar": {
              "outlinewidth": 0,
              "ticks": ""
             }
            },
            "type": "scatter"
           }
          ],
          "scatter3d": [
           {
            "line": {
             "colorbar": {
              "outlinewidth": 0,
              "ticks": ""
             }
            },
            "marker": {
             "colorbar": {
              "outlinewidth": 0,
              "ticks": ""
             }
            },
            "type": "scatter3d"
           }
          ],
          "scattercarpet": [
           {
            "marker": {
             "colorbar": {
              "outlinewidth": 0,
              "ticks": ""
             }
            },
            "type": "scattercarpet"
           }
          ],
          "scattergeo": [
           {
            "marker": {
             "colorbar": {
              "outlinewidth": 0,
              "ticks": ""
             }
            },
            "type": "scattergeo"
           }
          ],
          "scattergl": [
           {
            "marker": {
             "colorbar": {
              "outlinewidth": 0,
              "ticks": ""
             }
            },
            "type": "scattergl"
           }
          ],
          "scattermapbox": [
           {
            "marker": {
             "colorbar": {
              "outlinewidth": 0,
              "ticks": ""
             }
            },
            "type": "scattermapbox"
           }
          ],
          "scatterpolar": [
           {
            "marker": {
             "colorbar": {
              "outlinewidth": 0,
              "ticks": ""
             }
            },
            "type": "scatterpolar"
           }
          ],
          "scatterpolargl": [
           {
            "marker": {
             "colorbar": {
              "outlinewidth": 0,
              "ticks": ""
             }
            },
            "type": "scatterpolargl"
           }
          ],
          "scatterternary": [
           {
            "marker": {
             "colorbar": {
              "outlinewidth": 0,
              "ticks": ""
             }
            },
            "type": "scatterternary"
           }
          ],
          "surface": [
           {
            "colorbar": {
             "outlinewidth": 0,
             "ticks": ""
            },
            "colorscale": [
             [
              0,
              "#0d0887"
             ],
             [
              0.1111111111111111,
              "#46039f"
             ],
             [
              0.2222222222222222,
              "#7201a8"
             ],
             [
              0.3333333333333333,
              "#9c179e"
             ],
             [
              0.4444444444444444,
              "#bd3786"
             ],
             [
              0.5555555555555556,
              "#d8576b"
             ],
             [
              0.6666666666666666,
              "#ed7953"
             ],
             [
              0.7777777777777778,
              "#fb9f3a"
             ],
             [
              0.8888888888888888,
              "#fdca26"
             ],
             [
              1,
              "#f0f921"
             ]
            ],
            "type": "surface"
           }
          ],
          "table": [
           {
            "cells": {
             "fill": {
              "color": "#EBF0F8"
             },
             "line": {
              "color": "white"
             }
            },
            "header": {
             "fill": {
              "color": "#C8D4E3"
             },
             "line": {
              "color": "white"
             }
            },
            "type": "table"
           }
          ]
         },
         "layout": {
          "annotationdefaults": {
           "arrowcolor": "#2a3f5f",
           "arrowhead": 0,
           "arrowwidth": 1
          },
          "coloraxis": {
           "colorbar": {
            "outlinewidth": 0,
            "ticks": ""
           }
          },
          "colorscale": {
           "diverging": [
            [
             0,
             "#8e0152"
            ],
            [
             0.1,
             "#c51b7d"
            ],
            [
             0.2,
             "#de77ae"
            ],
            [
             0.3,
             "#f1b6da"
            ],
            [
             0.4,
             "#fde0ef"
            ],
            [
             0.5,
             "#f7f7f7"
            ],
            [
             0.6,
             "#e6f5d0"
            ],
            [
             0.7,
             "#b8e186"
            ],
            [
             0.8,
             "#7fbc41"
            ],
            [
             0.9,
             "#4d9221"
            ],
            [
             1,
             "#276419"
            ]
           ],
           "sequential": [
            [
             0,
             "#0d0887"
            ],
            [
             0.1111111111111111,
             "#46039f"
            ],
            [
             0.2222222222222222,
             "#7201a8"
            ],
            [
             0.3333333333333333,
             "#9c179e"
            ],
            [
             0.4444444444444444,
             "#bd3786"
            ],
            [
             0.5555555555555556,
             "#d8576b"
            ],
            [
             0.6666666666666666,
             "#ed7953"
            ],
            [
             0.7777777777777778,
             "#fb9f3a"
            ],
            [
             0.8888888888888888,
             "#fdca26"
            ],
            [
             1,
             "#f0f921"
            ]
           ],
           "sequentialminus": [
            [
             0,
             "#0d0887"
            ],
            [
             0.1111111111111111,
             "#46039f"
            ],
            [
             0.2222222222222222,
             "#7201a8"
            ],
            [
             0.3333333333333333,
             "#9c179e"
            ],
            [
             0.4444444444444444,
             "#bd3786"
            ],
            [
             0.5555555555555556,
             "#d8576b"
            ],
            [
             0.6666666666666666,
             "#ed7953"
            ],
            [
             0.7777777777777778,
             "#fb9f3a"
            ],
            [
             0.8888888888888888,
             "#fdca26"
            ],
            [
             1,
             "#f0f921"
            ]
           ]
          },
          "colorway": [
           "#636efa",
           "#EF553B",
           "#00cc96",
           "#ab63fa",
           "#FFA15A",
           "#19d3f3",
           "#FF6692",
           "#B6E880",
           "#FF97FF",
           "#FECB52"
          ],
          "font": {
           "color": "#2a3f5f"
          },
          "geo": {
           "bgcolor": "white",
           "lakecolor": "white",
           "landcolor": "#E5ECF6",
           "showlakes": true,
           "showland": true,
           "subunitcolor": "white"
          },
          "hoverlabel": {
           "align": "left"
          },
          "hovermode": "closest",
          "mapbox": {
           "style": "light"
          },
          "paper_bgcolor": "white",
          "plot_bgcolor": "#E5ECF6",
          "polar": {
           "angularaxis": {
            "gridcolor": "white",
            "linecolor": "white",
            "ticks": ""
           },
           "bgcolor": "#E5ECF6",
           "radialaxis": {
            "gridcolor": "white",
            "linecolor": "white",
            "ticks": ""
           }
          },
          "scene": {
           "xaxis": {
            "backgroundcolor": "#E5ECF6",
            "gridcolor": "white",
            "gridwidth": 2,
            "linecolor": "white",
            "showbackground": true,
            "ticks": "",
            "zerolinecolor": "white"
           },
           "yaxis": {
            "backgroundcolor": "#E5ECF6",
            "gridcolor": "white",
            "gridwidth": 2,
            "linecolor": "white",
            "showbackground": true,
            "ticks": "",
            "zerolinecolor": "white"
           },
           "zaxis": {
            "backgroundcolor": "#E5ECF6",
            "gridcolor": "white",
            "gridwidth": 2,
            "linecolor": "white",
            "showbackground": true,
            "ticks": "",
            "zerolinecolor": "white"
           }
          },
          "shapedefaults": {
           "line": {
            "color": "#2a3f5f"
           }
          },
          "ternary": {
           "aaxis": {
            "gridcolor": "white",
            "linecolor": "white",
            "ticks": ""
           },
           "baxis": {
            "gridcolor": "white",
            "linecolor": "white",
            "ticks": ""
           },
           "bgcolor": "#E5ECF6",
           "caxis": {
            "gridcolor": "white",
            "linecolor": "white",
            "ticks": ""
           }
          },
          "title": {
           "x": 0.05
          },
          "xaxis": {
           "automargin": true,
           "gridcolor": "white",
           "linecolor": "white",
           "ticks": "",
           "title": {
            "standoff": 15
           },
           "zerolinecolor": "white",
           "zerolinewidth": 2
          },
          "yaxis": {
           "automargin": true,
           "gridcolor": "white",
           "linecolor": "white",
           "ticks": "",
           "title": {
            "standoff": 15
           },
           "zerolinecolor": "white",
           "zerolinewidth": 2
          }
         }
        },
        "title": {
         "text": "Ozone AQI Values 2020"
        },
        "xaxis": {
         "anchor": "y",
         "domain": [
          0,
          1
         ],
         "title": {
          "text": "Date"
         }
        },
        "yaxis": {
         "anchor": "x",
         "domain": [
          0,
          1
         ],
         "title": {
          "text": "Ozone AQI Value"
         }
        }
       }
      },
      "text/html": [
       "<div>                            <div id=\"3f80bc04-0b17-4a02-9b1b-2b1a968fd6a6\" class=\"plotly-graph-div\" style=\"height:525px; width:100%;\"></div>            <script type=\"text/javascript\">                require([\"plotly\"], function(Plotly) {                    window.PLOTLYENV=window.PLOTLYENV || {};                                    if (document.getElementById(\"3f80bc04-0b17-4a02-9b1b-2b1a968fd6a6\")) {                    Plotly.newPlot(                        \"3f80bc04-0b17-4a02-9b1b-2b1a968fd6a6\",                        [{\"hovertemplate\": \"Date=%{x}<br>Ozone AQI Value=%{y}<extra></extra>\", \"legendgroup\": \"\", \"line\": {\"color\": \"#636efa\", \"dash\": \"solid\"}, \"mode\": \"lines\", \"name\": \"\", \"orientation\": \"v\", \"showlegend\": false, \"type\": \"scatter\", \"x\": [\"2020-01-01T00:00:00\", \"2020-01-02T00:00:00\", \"2020-01-03T00:00:00\", \"2020-01-04T00:00:00\", \"2020-01-05T00:00:00\", \"2020-01-06T00:00:00\", \"2020-01-07T00:00:00\", \"2020-01-08T00:00:00\", \"2020-01-09T00:00:00\", \"2020-01-10T00:00:00\", \"2020-01-11T00:00:00\", \"2020-01-12T00:00:00\", \"2020-01-13T00:00:00\", \"2020-01-14T00:00:00\", \"2020-01-15T00:00:00\", \"2020-01-16T00:00:00\", \"2020-01-17T00:00:00\", \"2020-01-18T00:00:00\", \"2020-01-19T00:00:00\", \"2020-01-20T00:00:00\", \"2020-01-21T00:00:00\", \"2020-01-22T00:00:00\", \"2020-01-23T00:00:00\", \"2020-01-24T00:00:00\", \"2020-01-25T00:00:00\", \"2020-01-26T00:00:00\", \"2020-01-27T00:00:00\", \"2020-01-28T00:00:00\", \"2020-01-29T00:00:00\", \"2020-01-30T00:00:00\", \"2020-01-31T00:00:00\", \"2020-02-01T00:00:00\", \"2020-02-02T00:00:00\", \"2020-02-03T00:00:00\", \"2020-02-04T00:00:00\", \"2020-02-05T00:00:00\", \"2020-02-06T00:00:00\", \"2020-02-07T00:00:00\", \"2020-02-08T00:00:00\", \"2020-02-09T00:00:00\", \"2020-02-10T00:00:00\", \"2020-02-11T00:00:00\", \"2020-02-12T00:00:00\", \"2020-02-13T00:00:00\", \"2020-02-14T00:00:00\", \"2020-02-15T00:00:00\", \"2020-02-16T00:00:00\", \"2020-02-17T00:00:00\", \"2020-02-18T00:00:00\", \"2020-02-19T00:00:00\", \"2020-02-20T00:00:00\", \"2020-02-21T00:00:00\", \"2020-02-22T00:00:00\", \"2020-02-23T00:00:00\", \"2020-02-24T00:00:00\", \"2020-02-25T00:00:00\", \"2020-02-26T00:00:00\", \"2020-02-27T00:00:00\", \"2020-02-28T00:00:00\", \"2020-02-29T00:00:00\", \"2020-03-01T00:00:00\", \"2020-03-02T00:00:00\", \"2020-03-03T00:00:00\", \"2020-03-04T00:00:00\", \"2020-03-05T00:00:00\", \"2020-03-06T00:00:00\", \"2020-03-07T00:00:00\", \"2020-03-08T00:00:00\", \"2020-03-09T00:00:00\", \"2020-03-10T00:00:00\", \"2020-03-11T00:00:00\", \"2020-03-12T00:00:00\", \"2020-03-13T00:00:00\", \"2020-03-14T00:00:00\", \"2020-03-15T00:00:00\", \"2020-03-16T00:00:00\", \"2020-03-17T00:00:00\", \"2020-03-18T00:00:00\", \"2020-03-19T00:00:00\", \"2020-03-20T00:00:00\", \"2020-03-21T00:00:00\", \"2020-03-22T00:00:00\", \"2020-03-23T00:00:00\", \"2020-03-24T00:00:00\", \"2020-03-25T00:00:00\", \"2020-03-26T00:00:00\", \"2020-03-27T00:00:00\", \"2020-03-28T00:00:00\", \"2020-03-29T00:00:00\", \"2020-03-30T00:00:00\", \"2020-03-31T00:00:00\", \"2020-04-01T00:00:00\", \"2020-04-02T00:00:00\", \"2020-04-03T00:00:00\", \"2020-04-04T00:00:00\", \"2020-04-05T00:00:00\", \"2020-04-06T00:00:00\", \"2020-04-07T00:00:00\", \"2020-04-08T00:00:00\", \"2020-04-09T00:00:00\", \"2020-04-10T00:00:00\", \"2020-04-11T00:00:00\", \"2020-04-12T00:00:00\", \"2020-04-13T00:00:00\", \"2020-04-14T00:00:00\", \"2020-04-15T00:00:00\", \"2020-04-16T00:00:00\", \"2020-04-17T00:00:00\", \"2020-04-18T00:00:00\", \"2020-04-19T00:00:00\", \"2020-04-20T00:00:00\", \"2020-04-21T00:00:00\", \"2020-04-22T00:00:00\", \"2020-04-23T00:00:00\", \"2020-04-24T00:00:00\", \"2020-04-25T00:00:00\", \"2020-04-26T00:00:00\", \"2020-04-27T00:00:00\", \"2020-04-28T00:00:00\", \"2020-04-29T00:00:00\", \"2020-04-30T00:00:00\", \"2020-05-01T00:00:00\", \"2020-05-02T00:00:00\", \"2020-05-03T00:00:00\", \"2020-05-04T00:00:00\", \"2020-05-05T00:00:00\", \"2020-05-06T00:00:00\", \"2020-05-07T00:00:00\", \"2020-05-08T00:00:00\", \"2020-05-09T00:00:00\", \"2020-05-10T00:00:00\", \"2020-05-11T00:00:00\", \"2020-05-12T00:00:00\", \"2020-05-13T00:00:00\", \"2020-05-14T00:00:00\", \"2020-05-15T00:00:00\", \"2020-05-16T00:00:00\", \"2020-05-17T00:00:00\", \"2020-05-18T00:00:00\", \"2020-05-19T00:00:00\", \"2020-05-20T00:00:00\", \"2020-05-21T00:00:00\", \"2020-05-22T00:00:00\", \"2020-05-23T00:00:00\", \"2020-05-24T00:00:00\", \"2020-05-25T00:00:00\", \"2020-05-26T00:00:00\", \"2020-05-27T00:00:00\", \"2020-05-28T00:00:00\", \"2020-05-29T00:00:00\", \"2020-05-30T00:00:00\", \"2020-05-31T00:00:00\", \"2020-06-01T00:00:00\", \"2020-06-02T00:00:00\", \"2020-06-03T00:00:00\", \"2020-06-04T00:00:00\", \"2020-06-05T00:00:00\", \"2020-06-06T00:00:00\", \"2020-06-07T00:00:00\", \"2020-06-08T00:00:00\", \"2020-06-09T00:00:00\", \"2020-06-10T00:00:00\", \"2020-06-11T00:00:00\", \"2020-06-12T00:00:00\", \"2020-06-13T00:00:00\", \"2020-06-14T00:00:00\", \"2020-06-15T00:00:00\", \"2020-06-16T00:00:00\", \"2020-06-17T00:00:00\", \"2020-06-18T00:00:00\", \"2020-06-19T00:00:00\", \"2020-06-20T00:00:00\", \"2020-06-21T00:00:00\", \"2020-06-22T00:00:00\", \"2020-06-23T00:00:00\", \"2020-06-24T00:00:00\", \"2020-06-25T00:00:00\", \"2020-06-26T00:00:00\", \"2020-06-27T00:00:00\", \"2020-06-28T00:00:00\", \"2020-06-29T00:00:00\", \"2020-06-30T00:00:00\", \"2020-07-01T00:00:00\", \"2020-07-02T00:00:00\", \"2020-07-03T00:00:00\", \"2020-07-04T00:00:00\", \"2020-07-05T00:00:00\", \"2020-07-06T00:00:00\", \"2020-07-07T00:00:00\", \"2020-07-08T00:00:00\", \"2020-07-09T00:00:00\", \"2020-07-10T00:00:00\", \"2020-07-11T00:00:00\", \"2020-07-12T00:00:00\", \"2020-07-13T00:00:00\", \"2020-07-14T00:00:00\", \"2020-07-15T00:00:00\", \"2020-07-16T00:00:00\", \"2020-07-17T00:00:00\", \"2020-07-18T00:00:00\", \"2020-07-19T00:00:00\", \"2020-07-20T00:00:00\", \"2020-07-21T00:00:00\", \"2020-07-22T00:00:00\", \"2020-07-23T00:00:00\", \"2020-07-24T00:00:00\", \"2020-07-25T00:00:00\", \"2020-07-26T00:00:00\", \"2020-07-27T00:00:00\", \"2020-07-28T00:00:00\", \"2020-07-29T00:00:00\", \"2020-07-30T00:00:00\", \"2020-07-31T00:00:00\", \"2020-08-01T00:00:00\", \"2020-08-02T00:00:00\", \"2020-08-03T00:00:00\", \"2020-08-04T00:00:00\", \"2020-08-05T00:00:00\", \"2020-08-06T00:00:00\", \"2020-08-07T00:00:00\", \"2020-08-08T00:00:00\", \"2020-08-09T00:00:00\", \"2020-08-10T00:00:00\", \"2020-08-11T00:00:00\", \"2020-08-12T00:00:00\", \"2020-08-13T00:00:00\", \"2020-08-14T00:00:00\", \"2020-08-15T00:00:00\", \"2020-08-16T00:00:00\", \"2020-08-17T00:00:00\", \"2020-08-18T00:00:00\", \"2020-08-19T00:00:00\", \"2020-08-20T00:00:00\", \"2020-08-21T00:00:00\", \"2020-08-22T00:00:00\", \"2020-08-23T00:00:00\", \"2020-08-24T00:00:00\", \"2020-08-25T00:00:00\", \"2020-08-26T00:00:00\", \"2020-08-27T00:00:00\", \"2020-08-28T00:00:00\", \"2020-08-29T00:00:00\", \"2020-08-30T00:00:00\", \"2020-08-31T00:00:00\", \"2020-09-01T00:00:00\", \"2020-09-02T00:00:00\", \"2020-09-03T00:00:00\", \"2020-09-04T00:00:00\", \"2020-09-05T00:00:00\", \"2020-09-06T00:00:00\", \"2020-09-07T00:00:00\", \"2020-09-08T00:00:00\", \"2020-09-09T00:00:00\", \"2020-09-10T00:00:00\", \"2020-09-11T00:00:00\", \"2020-09-12T00:00:00\", \"2020-09-13T00:00:00\", \"2020-09-14T00:00:00\", \"2020-09-15T00:00:00\", \"2020-09-16T00:00:00\", \"2020-09-17T00:00:00\", \"2020-09-18T00:00:00\", \"2020-09-19T00:00:00\", \"2020-09-20T00:00:00\", \"2020-09-21T00:00:00\", \"2020-09-22T00:00:00\", \"2020-09-23T00:00:00\", \"2020-09-24T00:00:00\", \"2020-09-25T00:00:00\", \"2020-09-26T00:00:00\", \"2020-09-27T00:00:00\", \"2020-09-28T00:00:00\", \"2020-09-29T00:00:00\", \"2020-09-30T00:00:00\", \"2020-10-01T00:00:00\", \"2020-10-02T00:00:00\", \"2020-10-03T00:00:00\", \"2020-10-04T00:00:00\", \"2020-10-05T00:00:00\", \"2020-10-06T00:00:00\", \"2020-10-07T00:00:00\", \"2020-10-08T00:00:00\", \"2020-10-09T00:00:00\", \"2020-10-10T00:00:00\", \"2020-10-11T00:00:00\", \"2020-10-12T00:00:00\", \"2020-10-13T00:00:00\", \"2020-10-14T00:00:00\", \"2020-10-15T00:00:00\", \"2020-10-16T00:00:00\", \"2020-10-17T00:00:00\", \"2020-10-18T00:00:00\", \"2020-10-19T00:00:00\", \"2020-10-20T00:00:00\", \"2020-10-21T00:00:00\", \"2020-10-22T00:00:00\", \"2020-10-23T00:00:00\", \"2020-10-24T00:00:00\", \"2020-10-25T00:00:00\", \"2020-10-26T00:00:00\", \"2020-10-27T00:00:00\", \"2020-10-28T00:00:00\", \"2020-10-29T00:00:00\", \"2020-10-30T00:00:00\", \"2020-10-31T00:00:00\", \"2020-11-01T00:00:00\", \"2020-11-02T00:00:00\", \"2020-11-03T00:00:00\", \"2020-11-04T00:00:00\", \"2020-11-05T00:00:00\", \"2020-11-06T00:00:00\", \"2020-11-07T00:00:00\", \"2020-11-08T00:00:00\", \"2020-11-09T00:00:00\", \"2020-11-10T00:00:00\", \"2020-11-11T00:00:00\", \"2020-11-12T00:00:00\", \"2020-11-13T00:00:00\", \"2020-11-14T00:00:00\", \"2020-11-15T00:00:00\", \"2020-11-16T00:00:00\", \"2020-11-17T00:00:00\", \"2020-11-18T00:00:00\", \"2020-11-19T00:00:00\", \"2020-11-20T00:00:00\", \"2020-11-21T00:00:00\", \"2020-11-22T00:00:00\", \"2020-11-23T00:00:00\", \"2020-11-24T00:00:00\", \"2020-11-25T00:00:00\", \"2020-11-26T00:00:00\", \"2020-11-27T00:00:00\", \"2020-11-28T00:00:00\", \"2020-11-29T00:00:00\", \"2020-11-30T00:00:00\", \"2020-12-01T00:00:00\", \"2020-12-02T00:00:00\", \"2020-12-03T00:00:00\", \"2020-12-04T00:00:00\", \"2020-12-05T00:00:00\", \"2020-12-06T00:00:00\", \"2020-12-07T00:00:00\", \"2020-12-08T00:00:00\", \"2020-12-09T00:00:00\", \"2020-12-10T00:00:00\", \"2020-12-11T00:00:00\", \"2020-12-12T00:00:00\", \"2020-12-13T00:00:00\", \"2020-12-14T00:00:00\", \"2020-12-15T00:00:00\", \"2020-12-16T00:00:00\", \"2020-12-17T00:00:00\", \"2020-12-18T00:00:00\", \"2020-12-19T00:00:00\", \"2020-12-20T00:00:00\", \"2020-12-21T00:00:00\", \"2020-12-22T00:00:00\", \"2020-12-23T00:00:00\", \"2020-12-24T00:00:00\", \"2020-12-25T00:00:00\", \"2020-12-26T00:00:00\", \"2020-12-27T00:00:00\", \"2020-12-28T00:00:00\", \"2020-12-29T00:00:00\", \"2020-12-30T00:00:00\", \"2020-12-31T00:00:00\"], \"xaxis\": \"x\", \"y\": [42, 39, 38, 36, 36, 40, 38, 38, 37, 38, 39, 39, 40, 41, 43, 31, 41, 45, 42, 34, 26, 35, 35, 35, 37, 37, 35, 40, 39, 40, 40, 38, 37, 42, 38, 37, 35, 34, 35, 43, 30, 36, 40, 37, 38, 43, 42, 37, 42, 36, 31, 31, 27, 44, 44, 40, 40, 41, 40, 43, 43, 42, 43, 46, 44, 44, 45, 35, 45, 38, 31, 33, 40, 41, 43, 49, 42, 42, 45, 43, 43, 50, 58, 54, 51, 41, 50, 44, 48, 48, 49, 50, 45, 48, 45, 47, 50, 46, 51, 50, 61, 64, 45, 42, 50, 46, 48, 51, 51, 48, 51, 58, 58, 45, 64, 51, 50, 54, 49, 50, 54, 61, 58, 51, 54, 58, 64, 93, 48, 67, 64, 54, 51, 48, 64, 74, 48, 54, 74, 51, 71, 61, 74, 64, 64, 50, 61, 44, 48, 50, 47, 48, 61, 58, 50, 54, 54, 64, 54, 54, 46, 45, 61, 54, 51, 48, 54, 50, 58, 97, 100, 74, 64, 61, 48, 61, 61, 51, 49, 49, 48, 77, 54, 49, 44, 44, 45, 58, 44, 43, 44, 45, 47, 46, 44, 51, 45, 54, 67, 58, 64, 67, 61, 48, 58, 51, 50, 58, 54, 64, 64, 58, 84, 64, 54, 64, 58, 51, 51, 44, 49, 51, 50, 50, 47, 54, 58, 51, 67, 58, 84, 84, 87, 87, 119, 112, 115, 119, 105, 101, 90, 77, 51, 48, 49, 64, 84, 90, 64, 54, 61, 42, 22, 24, 44, 44, 50, 71, 54, 51, 80, 71, 74, 80, 77, 64, 48, 58, 54, 50, 45, 43, 46, 47, 46, 49, 50, 48, 47, 54, 48, 50, 46, 41, 40, 47, 44, 42, 38, 44, 43, 33, 36, 35, 39, 42, 38, 36, 34, 25, 35, 40, 38, 37, 37, 41, 38, 43, 36, 37, 42, 38, 42, 40, 40, 36, 39, 37, 44, 39, 34, 37, 43, 43, 36, 36, 33, 32, 40, 38, 44, 38, 36, 37, 34, 44, 38, 32, 33, 35, 35, 31, 31, 31, 28, 39, 36, 35, 32, 35, 37, 34, 39, 37, 40, 36, 36, 39, 35, 30, 38, 37, 35, 42, 37, 36], \"yaxis\": \"y\"}],                        {\"legend\": {\"tracegroupgap\": 0}, \"template\": {\"data\": {\"bar\": [{\"error_x\": {\"color\": \"#2a3f5f\"}, \"error_y\": {\"color\": \"#2a3f5f\"}, \"marker\": {\"line\": {\"color\": \"#E5ECF6\", \"width\": 0.5}}, \"type\": \"bar\"}], \"barpolar\": [{\"marker\": {\"line\": {\"color\": \"#E5ECF6\", \"width\": 0.5}}, \"type\": \"barpolar\"}], \"carpet\": [{\"aaxis\": {\"endlinecolor\": \"#2a3f5f\", \"gridcolor\": \"white\", \"linecolor\": \"white\", \"minorgridcolor\": \"white\", \"startlinecolor\": \"#2a3f5f\"}, \"baxis\": {\"endlinecolor\": \"#2a3f5f\", \"gridcolor\": \"white\", \"linecolor\": \"white\", \"minorgridcolor\": \"white\", \"startlinecolor\": \"#2a3f5f\"}, \"type\": \"carpet\"}], \"choropleth\": [{\"colorbar\": {\"outlinewidth\": 0, \"ticks\": \"\"}, \"type\": \"choropleth\"}], \"contour\": [{\"colorbar\": {\"outlinewidth\": 0, \"ticks\": \"\"}, \"colorscale\": [[0.0, \"#0d0887\"], [0.1111111111111111, \"#46039f\"], [0.2222222222222222, \"#7201a8\"], [0.3333333333333333, \"#9c179e\"], [0.4444444444444444, \"#bd3786\"], [0.5555555555555556, \"#d8576b\"], [0.6666666666666666, \"#ed7953\"], [0.7777777777777778, \"#fb9f3a\"], [0.8888888888888888, \"#fdca26\"], [1.0, \"#f0f921\"]], \"type\": \"contour\"}], \"contourcarpet\": [{\"colorbar\": {\"outlinewidth\": 0, \"ticks\": \"\"}, \"type\": \"contourcarpet\"}], \"heatmap\": [{\"colorbar\": {\"outlinewidth\": 0, \"ticks\": \"\"}, \"colorscale\": [[0.0, \"#0d0887\"], [0.1111111111111111, \"#46039f\"], [0.2222222222222222, \"#7201a8\"], [0.3333333333333333, \"#9c179e\"], [0.4444444444444444, \"#bd3786\"], [0.5555555555555556, \"#d8576b\"], [0.6666666666666666, \"#ed7953\"], [0.7777777777777778, \"#fb9f3a\"], [0.8888888888888888, \"#fdca26\"], [1.0, \"#f0f921\"]], \"type\": \"heatmap\"}], \"heatmapgl\": [{\"colorbar\": {\"outlinewidth\": 0, \"ticks\": \"\"}, \"colorscale\": [[0.0, \"#0d0887\"], [0.1111111111111111, \"#46039f\"], [0.2222222222222222, \"#7201a8\"], [0.3333333333333333, \"#9c179e\"], [0.4444444444444444, \"#bd3786\"], [0.5555555555555556, \"#d8576b\"], [0.6666666666666666, \"#ed7953\"], [0.7777777777777778, \"#fb9f3a\"], [0.8888888888888888, \"#fdca26\"], [1.0, \"#f0f921\"]], \"type\": \"heatmapgl\"}], \"histogram\": [{\"marker\": {\"colorbar\": {\"outlinewidth\": 0, \"ticks\": \"\"}}, \"type\": \"histogram\"}], \"histogram2d\": [{\"colorbar\": {\"outlinewidth\": 0, \"ticks\": \"\"}, \"colorscale\": [[0.0, \"#0d0887\"], [0.1111111111111111, \"#46039f\"], [0.2222222222222222, \"#7201a8\"], [0.3333333333333333, \"#9c179e\"], [0.4444444444444444, \"#bd3786\"], [0.5555555555555556, \"#d8576b\"], [0.6666666666666666, \"#ed7953\"], [0.7777777777777778, \"#fb9f3a\"], [0.8888888888888888, \"#fdca26\"], [1.0, \"#f0f921\"]], \"type\": \"histogram2d\"}], \"histogram2dcontour\": [{\"colorbar\": {\"outlinewidth\": 0, \"ticks\": \"\"}, \"colorscale\": [[0.0, \"#0d0887\"], [0.1111111111111111, \"#46039f\"], [0.2222222222222222, \"#7201a8\"], [0.3333333333333333, \"#9c179e\"], [0.4444444444444444, \"#bd3786\"], [0.5555555555555556, \"#d8576b\"], [0.6666666666666666, \"#ed7953\"], [0.7777777777777778, \"#fb9f3a\"], [0.8888888888888888, \"#fdca26\"], [1.0, \"#f0f921\"]], \"type\": \"histogram2dcontour\"}], \"mesh3d\": [{\"colorbar\": {\"outlinewidth\": 0, \"ticks\": \"\"}, \"type\": \"mesh3d\"}], \"parcoords\": [{\"line\": {\"colorbar\": {\"outlinewidth\": 0, \"ticks\": \"\"}}, \"type\": \"parcoords\"}], \"pie\": [{\"automargin\": true, \"type\": \"pie\"}], \"scatter\": [{\"marker\": {\"colorbar\": {\"outlinewidth\": 0, \"ticks\": \"\"}}, \"type\": \"scatter\"}], \"scatter3d\": [{\"line\": {\"colorbar\": {\"outlinewidth\": 0, \"ticks\": \"\"}}, \"marker\": {\"colorbar\": {\"outlinewidth\": 0, \"ticks\": \"\"}}, \"type\": \"scatter3d\"}], \"scattercarpet\": [{\"marker\": {\"colorbar\": {\"outlinewidth\": 0, \"ticks\": \"\"}}, \"type\": \"scattercarpet\"}], \"scattergeo\": [{\"marker\": {\"colorbar\": {\"outlinewidth\": 0, \"ticks\": \"\"}}, \"type\": \"scattergeo\"}], \"scattergl\": [{\"marker\": {\"colorbar\": {\"outlinewidth\": 0, \"ticks\": \"\"}}, \"type\": \"scattergl\"}], \"scattermapbox\": [{\"marker\": {\"colorbar\": {\"outlinewidth\": 0, \"ticks\": \"\"}}, \"type\": \"scattermapbox\"}], \"scatterpolar\": [{\"marker\": {\"colorbar\": {\"outlinewidth\": 0, \"ticks\": \"\"}}, \"type\": \"scatterpolar\"}], \"scatterpolargl\": [{\"marker\": {\"colorbar\": {\"outlinewidth\": 0, \"ticks\": \"\"}}, \"type\": \"scatterpolargl\"}], \"scatterternary\": [{\"marker\": {\"colorbar\": {\"outlinewidth\": 0, \"ticks\": \"\"}}, \"type\": \"scatterternary\"}], \"surface\": [{\"colorbar\": {\"outlinewidth\": 0, \"ticks\": \"\"}, \"colorscale\": [[0.0, \"#0d0887\"], [0.1111111111111111, \"#46039f\"], [0.2222222222222222, \"#7201a8\"], [0.3333333333333333, \"#9c179e\"], [0.4444444444444444, \"#bd3786\"], [0.5555555555555556, \"#d8576b\"], [0.6666666666666666, \"#ed7953\"], [0.7777777777777778, \"#fb9f3a\"], [0.8888888888888888, \"#fdca26\"], [1.0, \"#f0f921\"]], \"type\": \"surface\"}], \"table\": [{\"cells\": {\"fill\": {\"color\": \"#EBF0F8\"}, \"line\": {\"color\": \"white\"}}, \"header\": {\"fill\": {\"color\": \"#C8D4E3\"}, \"line\": {\"color\": \"white\"}}, \"type\": \"table\"}]}, \"layout\": {\"annotationdefaults\": {\"arrowcolor\": \"#2a3f5f\", \"arrowhead\": 0, \"arrowwidth\": 1}, \"coloraxis\": {\"colorbar\": {\"outlinewidth\": 0, \"ticks\": \"\"}}, \"colorscale\": {\"diverging\": [[0, \"#8e0152\"], [0.1, \"#c51b7d\"], [0.2, \"#de77ae\"], [0.3, \"#f1b6da\"], [0.4, \"#fde0ef\"], [0.5, \"#f7f7f7\"], [0.6, \"#e6f5d0\"], [0.7, \"#b8e186\"], [0.8, \"#7fbc41\"], [0.9, \"#4d9221\"], [1, \"#276419\"]], \"sequential\": [[0.0, \"#0d0887\"], [0.1111111111111111, \"#46039f\"], [0.2222222222222222, \"#7201a8\"], [0.3333333333333333, \"#9c179e\"], [0.4444444444444444, \"#bd3786\"], [0.5555555555555556, \"#d8576b\"], [0.6666666666666666, \"#ed7953\"], [0.7777777777777778, \"#fb9f3a\"], [0.8888888888888888, \"#fdca26\"], [1.0, \"#f0f921\"]], \"sequentialminus\": [[0.0, \"#0d0887\"], [0.1111111111111111, \"#46039f\"], [0.2222222222222222, \"#7201a8\"], [0.3333333333333333, \"#9c179e\"], [0.4444444444444444, \"#bd3786\"], [0.5555555555555556, \"#d8576b\"], [0.6666666666666666, \"#ed7953\"], [0.7777777777777778, \"#fb9f3a\"], [0.8888888888888888, \"#fdca26\"], [1.0, \"#f0f921\"]]}, \"colorway\": [\"#636efa\", \"#EF553B\", \"#00cc96\", \"#ab63fa\", \"#FFA15A\", \"#19d3f3\", \"#FF6692\", \"#B6E880\", \"#FF97FF\", \"#FECB52\"], \"font\": {\"color\": \"#2a3f5f\"}, \"geo\": {\"bgcolor\": \"white\", \"lakecolor\": \"white\", \"landcolor\": \"#E5ECF6\", \"showlakes\": true, \"showland\": true, \"subunitcolor\": \"white\"}, \"hoverlabel\": {\"align\": \"left\"}, \"hovermode\": \"closest\", \"mapbox\": {\"style\": \"light\"}, \"paper_bgcolor\": \"white\", \"plot_bgcolor\": \"#E5ECF6\", \"polar\": {\"angularaxis\": {\"gridcolor\": \"white\", \"linecolor\": \"white\", \"ticks\": \"\"}, \"bgcolor\": \"#E5ECF6\", \"radialaxis\": {\"gridcolor\": \"white\", \"linecolor\": \"white\", \"ticks\": \"\"}}, \"scene\": {\"xaxis\": {\"backgroundcolor\": \"#E5ECF6\", \"gridcolor\": \"white\", \"gridwidth\": 2, \"linecolor\": \"white\", \"showbackground\": true, \"ticks\": \"\", \"zerolinecolor\": \"white\"}, \"yaxis\": {\"backgroundcolor\": \"#E5ECF6\", \"gridcolor\": \"white\", \"gridwidth\": 2, \"linecolor\": \"white\", \"showbackground\": true, \"ticks\": \"\", \"zerolinecolor\": \"white\"}, \"zaxis\": {\"backgroundcolor\": \"#E5ECF6\", \"gridcolor\": \"white\", \"gridwidth\": 2, \"linecolor\": \"white\", \"showbackground\": true, \"ticks\": \"\", \"zerolinecolor\": \"white\"}}, \"shapedefaults\": {\"line\": {\"color\": \"#2a3f5f\"}}, \"ternary\": {\"aaxis\": {\"gridcolor\": \"white\", \"linecolor\": \"white\", \"ticks\": \"\"}, \"baxis\": {\"gridcolor\": \"white\", \"linecolor\": \"white\", \"ticks\": \"\"}, \"bgcolor\": \"#E5ECF6\", \"caxis\": {\"gridcolor\": \"white\", \"linecolor\": \"white\", \"ticks\": \"\"}}, \"title\": {\"x\": 0.05}, \"xaxis\": {\"automargin\": true, \"gridcolor\": \"white\", \"linecolor\": \"white\", \"ticks\": \"\", \"title\": {\"standoff\": 15}, \"zerolinecolor\": \"white\", \"zerolinewidth\": 2}, \"yaxis\": {\"automargin\": true, \"gridcolor\": \"white\", \"linecolor\": \"white\", \"ticks\": \"\", \"title\": {\"standoff\": 15}, \"zerolinecolor\": \"white\", \"zerolinewidth\": 2}}}, \"title\": {\"text\": \"Ozone AQI Values 2020\"}, \"xaxis\": {\"anchor\": \"y\", \"domain\": [0.0, 1.0], \"title\": {\"text\": \"Date\"}}, \"yaxis\": {\"anchor\": \"x\", \"domain\": [0.0, 1.0], \"title\": {\"text\": \"Ozone AQI Value\"}}},                        {\"responsive\": true}                    ).then(function(){\n",
       "                            \n",
       "var gd = document.getElementById('3f80bc04-0b17-4a02-9b1b-2b1a968fd6a6');\n",
       "var x = new MutationObserver(function (mutations, observer) {{\n",
       "        var display = window.getComputedStyle(gd).display;\n",
       "        if (!display || display === 'none') {{\n",
       "            console.log([gd, 'removed!']);\n",
       "            Plotly.purge(gd);\n",
       "            observer.disconnect();\n",
       "        }}\n",
       "}});\n",
       "\n",
       "// Listen for the removal of the full notebook cells\n",
       "var notebookContainer = gd.closest('#notebook-container');\n",
       "if (notebookContainer) {{\n",
       "    x.observe(notebookContainer, {childList: true});\n",
       "}}\n",
       "\n",
       "// Listen for the clearing of the current output cell\n",
       "var outputEl = gd.closest('.output');\n",
       "if (outputEl) {{\n",
       "    x.observe(outputEl, {childList: true});\n",
       "}}\n",
       "\n",
       "                        })                };                });            </script>        </div>"
      ]
     },
     "metadata": {},
     "output_type": "display_data"
    }
   ],
   "source": [
    "fig2 = px.line(df_2020, x=\"Date\", y=\"Ozone AQI Value\", title=\"Ozone AQI Values 2020\")\n",
    "fig2.show()"
   ]
  },
  {
   "cell_type": "code",
   "execution_count": null,
   "id": "certified-moment",
   "metadata": {},
   "outputs": [],
   "source": []
  }
 ],
 "metadata": {
  "kernelspec": {
   "display_name": "Python 3",
   "language": "python",
   "name": "python3"
  },
  "language_info": {
   "codemirror_mode": {
    "name": "ipython",
    "version": 3
   },
   "file_extension": ".py",
   "mimetype": "text/x-python",
   "name": "python",
   "nbconvert_exporter": "python",
   "pygments_lexer": "ipython3",
   "version": "3.7.6"
  }
 },
 "nbformat": 4,
 "nbformat_minor": 5
}
