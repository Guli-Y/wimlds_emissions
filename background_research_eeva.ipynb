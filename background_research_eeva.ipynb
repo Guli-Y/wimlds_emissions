{
 "cells": [
  {
   "cell_type": "markdown",
   "id": "lightweight-bridge",
   "metadata": {},
   "source": [
    "# Background research on emissions in the USA\n",
    "According to the \"State of the Air\" report 2020 by the American Lung Association there is a general decreasing trend in emissions since the 1970's in the US.\n",
    "\n",
    "According to https://www.cabq.gov/airquality/trends there is also a downward trend between 2000 - 2015 in:\n",
    "\n",
    "* Ozone (parts per million, ppm)\n",
    "* Carbon Monoxide (parts per million, ppm)\n",
    "* Nitrogen Dioxide (parts per billion, ppb) concentration in Albuqurque.\n",
    "* Levels of Sulfur Dioxide and particulate matter (both 10 and 2.5 microns) however appear to be stable over the same time period. \n",
    "\n",
    "For reference a human hair is aproximately 70 microns wide.\n",
    "\n",
    "Mandatory emissions checks on cars where implemented in 1983."
   ]
  },
  {
   "cell_type": "code",
   "execution_count": 1,
   "id": "retained-partition",
   "metadata": {},
   "outputs": [],
   "source": [
    "import pandas as pd\n",
    "from pathlib import Path\n",
    "import numpy as np\n",
    "#import seaborn as sns\n",
    "import matplotlib.pyplot as plt\n",
    "#sns.set_theme(style=\"darkgrid\")\n",
    "import plotly.express as px"
   ]
  },
  {
   "cell_type": "markdown",
   "id": "bottom-reservoir",
   "metadata": {},
   "source": [
    "### What is the change and percent change of pollutants mentioned in Abq 'Trends'?"
   ]
  },
  {
   "cell_type": "code",
   "execution_count": 2,
   "id": "anticipated-deviation",
   "metadata": {},
   "outputs": [],
   "source": [
    "#Change in Ozone levels (Parts per million)\n",
    "level_ozone_2000 = 0.075\n",
    "level_ozone_2015 = 0.066\n",
    "change_ozone = round(level_ozone_2015 - level_ozone_2000, 4)\n",
    "\n",
    "#Change in Carbon Monoxide levels (Parts per million)\n",
    "level_CO_2000 = 3.8\n",
    "level_CO_2015 = 1.4\n",
    "change_CO = round(level_CO_2015 - level_CO_2000, 4)\n",
    "\n",
    "#Change in Nitrogen Dioxide levels (Parts per billion)\n",
    "level_NO_2000 = 65\n",
    "level_NO_2015 = 45\n",
    "change_NO = level_NO_2015 - level_NO_2000\n",
    "#convert to ppm\n",
    "change_NO = change_NO/1000"
   ]
  },
  {
   "cell_type": "code",
   "execution_count": 3,
   "id": "sublime-ivory",
   "metadata": {},
   "outputs": [],
   "source": [
    "#Percent change Ozone\n",
    "percent_ozone = round(change_ozone/level_ozone_2000 * 100, 4)\n",
    "percent_CO = round(change_CO/level_CO_2000 * 100, 4)\n",
    "precent_NO = round(change_NO/level_NO_2000 * 100, 4)"
   ]
  },
  {
   "cell_type": "code",
   "execution_count": 4,
   "id": "informed-medline",
   "metadata": {},
   "outputs": [
    {
     "name": "stdout",
     "output_type": "stream",
     "text": [
      "Change in three air pollutants from 2000 to 2015 in Albuquerque\n"
     ]
    },
    {
     "data": {
      "text/html": [
       "<div>\n",
       "<style scoped>\n",
       "    .dataframe tbody tr th:only-of-type {\n",
       "        vertical-align: middle;\n",
       "    }\n",
       "\n",
       "    .dataframe tbody tr th {\n",
       "        vertical-align: top;\n",
       "    }\n",
       "\n",
       "    .dataframe thead th {\n",
       "        text-align: right;\n",
       "    }\n",
       "</style>\n",
       "<table border=\"1\" class=\"dataframe\">\n",
       "  <thead>\n",
       "    <tr style=\"text-align: right;\">\n",
       "      <th></th>\n",
       "      <th>change_ppm</th>\n",
       "      <th>percent_change</th>\n",
       "    </tr>\n",
       "  </thead>\n",
       "  <tbody>\n",
       "    <tr>\n",
       "      <th>Ozone</th>\n",
       "      <td>-0.009</td>\n",
       "      <td>-12.0000</td>\n",
       "    </tr>\n",
       "    <tr>\n",
       "      <th>Carbon_Monoxide</th>\n",
       "      <td>-2.400</td>\n",
       "      <td>-63.1579</td>\n",
       "    </tr>\n",
       "    <tr>\n",
       "      <th>Nitrogen_Dioxide</th>\n",
       "      <td>-0.020</td>\n",
       "      <td>-0.0308</td>\n",
       "    </tr>\n",
       "  </tbody>\n",
       "</table>\n",
       "</div>"
      ],
      "text/plain": [
       "                  change_ppm  percent_change\n",
       "Ozone                 -0.009        -12.0000\n",
       "Carbon_Monoxide       -2.400        -63.1579\n",
       "Nitrogen_Dioxide      -0.020         -0.0308"
      ]
     },
     "execution_count": 4,
     "metadata": {},
     "output_type": "execute_result"
    }
   ],
   "source": [
    "data = {\"change_ppm\": [change_ozone, change_CO, change_NO], \"percent_change\": [percent_ozone, percent_CO, precent_NO]}\n",
    "df_change = pd.DataFrame(data = data, index = [\"Ozone\", \"Carbon_Monoxide\", \"Nitrogen_Dioxide\"])\n",
    "print(\"Change in three air pollutants from 2000 to 2015 in Albuquerque\")\n",
    "df_change"
   ]
  },
  {
   "cell_type": "code",
   "execution_count": 14,
   "id": "threaded-stewart",
   "metadata": {},
   "outputs": [
    {
     "data": {
      "image/png": "[encoded data removed]",
      "text/plain": [
       "<Figure size 432x288 with 2 Axes>"
      ]
     },
     "metadata": {
      "needs_background": "light"
     },
     "output_type": "display_data"
    }
   ],
   "source": [
    "df_change.plot(kind='bar', subplots=True, legend=False)\n",
    "None"
   ]
  },
  {
   "cell_type": "markdown",
   "id": "willing-tension",
   "metadata": {},
   "source": [
    "### Is there a difference in emissions between 1982 (before mandatory car testing) and 2020?\n",
    "Data is from:  https://www.epa.gov/outdoor-air-quality-data/air-data-daily-air-quality-tracker \n",
    "The metric is the Air Quality Index (AQI) for Ozone. Note: I chose not to use the combined Ozone and and PM2.5 (Particulate Matter 2.5 microns) score, as for 1982 only the Ozone value was used in the combined score."
   ]
  },
  {
   "cell_type": "code",
   "execution_count": 15,
   "id": "useful-suspect",
   "metadata": {},
   "outputs": [],
   "source": [
    "DATA_1982 = Path(\"data/1982_aqi_data.csv\")\n",
    "DATA_2020 = Path(\"data/2020_aqi_data.csv\")"
   ]
  },
  {
   "cell_type": "code",
   "execution_count": 16,
   "id": "wooden-green",
   "metadata": {},
   "outputs": [],
   "source": [
    "df_1982 = pd.read_csv(DATA_1982, parse_dates=[0,8,9], skipinitialspace=True)"
   ]
  },
  {
   "cell_type": "code",
   "execution_count": 17,
   "id": "documented-leone",
   "metadata": {},
   "outputs": [],
   "source": [
    "df_2020 = pd.read_csv(DATA_2020, parse_dates=[0,8,9], skipinitialspace=True)"
   ]
  },
  {
   "cell_type": "code",
   "execution_count": null,
   "id": "sorted-screen",
   "metadata": {},
   "outputs": [],
   "source": [
    "#df = pd.concat([df_1982, df_2020], ignore_index=True)\n",
    "#df['Year'] = pd.DatetimeIndex(df['Date']).year\n",
    "#df.to_csv(\"data/combined_air_data.csv\")"
   ]
  },
  {
   "cell_type": "code",
   "execution_count": 20,
   "id": "accepted-business",
   "metadata": {},
   "outputs": [
    {
     "data": {
      "text/html": [
       "<div>\n",
       "<style scoped>\n",
       "    .dataframe tbody tr th:only-of-type {\n",
       "        vertical-align: middle;\n",
       "    }\n",
       "\n",
       "    .dataframe tbody tr th {\n",
       "        vertical-align: top;\n",
       "    }\n",
       "\n",
       "    .dataframe thead th {\n",
       "        text-align: right;\n",
       "    }\n",
       "</style>\n",
       "<table border=\"1\" class=\"dataframe\">\n",
       "  <thead>\n",
       "    <tr style=\"text-align: right;\">\n",
       "      <th></th>\n",
       "      <th>Unnamed: 0</th>\n",
       "      <th>Date</th>\n",
       "      <th>Ozone AQI Value</th>\n",
       "      <th>Site Name</th>\n",
       "      <th>Site ID</th>\n",
       "      <th>Source</th>\n",
       "      <th>20-year High (2000-2019)</th>\n",
       "      <th>20-year Low (2000-2019)</th>\n",
       "      <th>5-year Average (2015-2019)</th>\n",
       "      <th>Date of 20-year High</th>\n",
       "      <th>Date of 20-year Low</th>\n",
       "      <th>Year</th>\n",
       "      <th>month_day</th>\n",
       "    </tr>\n",
       "  </thead>\n",
       "  <tbody>\n",
       "    <tr>\n",
       "      <th>0</th>\n",
       "      <td>0</td>\n",
       "      <td>1982-01-01</td>\n",
       "      <td>26</td>\n",
       "      <td>Foothills</td>\n",
       "      <td>35-001-1012</td>\n",
       "      <td>AQS</td>\n",
       "      <td>44</td>\n",
       "      <td>27</td>\n",
       "      <td>31.8</td>\n",
       "      <td>2013-01-01</td>\n",
       "      <td>2001-01-01</td>\n",
       "      <td>1982</td>\n",
       "      <td>01-01</td>\n",
       "    </tr>\n",
       "    <tr>\n",
       "      <th>1</th>\n",
       "      <td>1</td>\n",
       "      <td>1982-01-02</td>\n",
       "      <td>30</td>\n",
       "      <td>Foothills</td>\n",
       "      <td>35-001-1012</td>\n",
       "      <td>AQS</td>\n",
       "      <td>49</td>\n",
       "      <td>31</td>\n",
       "      <td>35.4</td>\n",
       "      <td>2007-01-02</td>\n",
       "      <td>2002-01-02</td>\n",
       "      <td>1982</td>\n",
       "      <td>01-02</td>\n",
       "    </tr>\n",
       "    <tr>\n",
       "      <th>2</th>\n",
       "      <td>2</td>\n",
       "      <td>1982-01-03</td>\n",
       "      <td>37</td>\n",
       "      <td>NaN</td>\n",
       "      <td>35-043-1001</td>\n",
       "      <td>AQS</td>\n",
       "      <td>43</td>\n",
       "      <td>24</td>\n",
       "      <td>37.8</td>\n",
       "      <td>2006-01-03</td>\n",
       "      <td>2005-01-03</td>\n",
       "      <td>1982</td>\n",
       "      <td>01-03</td>\n",
       "    </tr>\n",
       "    <tr>\n",
       "      <th>3</th>\n",
       "      <td>3</td>\n",
       "      <td>1982-01-04</td>\n",
       "      <td>31</td>\n",
       "      <td>Foothills</td>\n",
       "      <td>35-001-1012</td>\n",
       "      <td>AQS</td>\n",
       "      <td>42</td>\n",
       "      <td>29</td>\n",
       "      <td>38.4</td>\n",
       "      <td>2019-01-04</td>\n",
       "      <td>2001-01-04</td>\n",
       "      <td>1982</td>\n",
       "      <td>01-04</td>\n",
       "    </tr>\n",
       "    <tr>\n",
       "      <th>4</th>\n",
       "      <td>4</td>\n",
       "      <td>1982-01-05</td>\n",
       "      <td>28</td>\n",
       "      <td>Foothills</td>\n",
       "      <td>35-001-1012</td>\n",
       "      <td>AQS</td>\n",
       "      <td>43</td>\n",
       "      <td>24</td>\n",
       "      <td>32.8</td>\n",
       "      <td>2013-01-05</td>\n",
       "      <td>2001-01-05</td>\n",
       "      <td>1982</td>\n",
       "      <td>01-05</td>\n",
       "    </tr>\n",
       "  </tbody>\n",
       "</table>\n",
       "</div>"
      ],
      "text/plain": [
       "   Unnamed: 0        Date  Ozone AQI Value  Site Name      Site ID Source  \\\n",
       "0           0  1982-01-01               26  Foothills  35-001-1012    AQS   \n",
       "1           1  1982-01-02               30  Foothills  35-001-1012    AQS   \n",
       "2           2  1982-01-03               37        NaN  35-043-1001    AQS   \n",
       "3           3  1982-01-04               31  Foothills  35-001-1012    AQS   \n",
       "4           4  1982-01-05               28  Foothills  35-001-1012    AQS   \n",
       "\n",
       "   20-year High (2000-2019)  20-year Low (2000-2019)  \\\n",
       "0                        44                       27   \n",
       "1                        49                       31   \n",
       "2                        43                       24   \n",
       "3                        42                       29   \n",
       "4                        43                       24   \n",
       "\n",
       "  5-year Average (2015-2019) Date of 20-year High Date of 20-year Low  Year  \\\n",
       "0                       31.8           2013-01-01          2001-01-01  1982   \n",
       "1                       35.4           2007-01-02          2002-01-02  1982   \n",
       "2                       37.8           2006-01-03          2005-01-03  1982   \n",
       "3                       38.4           2019-01-04          2001-01-04  1982   \n",
       "4                       32.8           2013-01-05          2001-01-05  1982   \n",
       "\n",
       "  month_day  \n",
       "0     01-01  \n",
       "1     01-02  \n",
       "2     01-03  \n",
       "3     01-04  \n",
       "4     01-05  "
      ]
     },
     "execution_count": 20,
     "metadata": {},
     "output_type": "execute_result"
    }
   ],
   "source": [
    "DATA_COMBINED = Path(\"data/combined_air_data.csv\")\n",
    "df = pd.read_csv(DATA_COMBINED)\n",
    "df.head()"
   ]
  },
  {
   "cell_type": "code",
   "execution_count": 21,
   "id": "comprehensive-interaction",
   "metadata": {},
   "outputs": [
    {
     "name": "stderr",
     "output_type": "stream",
     "text": [
      "/Users/hanbo/opt/anaconda3/lib/python3.7/site-packages/ipykernel_launcher.py:3: SettingWithCopyWarning: \n",
      "A value is trying to be set on a copy of a slice from a DataFrame.\n",
      "Try using .loc[row_indexer,col_indexer] = value instead\n",
      "\n",
      "See the caveats in the documentation: https://pandas.pydata.org/pandas-docs/stable/user_guide/indexing.html#returning-a-view-versus-a-copy\n",
      "  This is separate from the ipykernel package so we can avoid doing imports until\n"
     ]
    },
    {
     "data": {
      "text/html": [
       "<div>\n",
       "<style scoped>\n",
       "    .dataframe tbody tr th:only-of-type {\n",
       "        vertical-align: middle;\n",
       "    }\n",
       "\n",
       "    .dataframe tbody tr th {\n",
       "        vertical-align: top;\n",
       "    }\n",
       "\n",
       "    .dataframe thead th {\n",
       "        text-align: right;\n",
       "    }\n",
       "</style>\n",
       "<table border=\"1\" class=\"dataframe\">\n",
       "  <thead>\n",
       "    <tr style=\"text-align: right;\">\n",
       "      <th></th>\n",
       "      <th>Unnamed: 0</th>\n",
       "      <th>Date</th>\n",
       "      <th>Ozone AQI Value</th>\n",
       "      <th>Site Name</th>\n",
       "      <th>Site ID</th>\n",
       "      <th>Source</th>\n",
       "      <th>20-year High (2000-2019)</th>\n",
       "      <th>20-year Low (2000-2019)</th>\n",
       "      <th>5-year Average (2015-2019)</th>\n",
       "      <th>Date of 20-year High</th>\n",
       "      <th>Date of 20-year Low</th>\n",
       "      <th>Year</th>\n",
       "      <th>month_day</th>\n",
       "      <th>day_of_year</th>\n",
       "    </tr>\n",
       "  </thead>\n",
       "  <tbody>\n",
       "    <tr>\n",
       "      <th>0</th>\n",
       "      <td>0</td>\n",
       "      <td>1982-01-01</td>\n",
       "      <td>26</td>\n",
       "      <td>Foothills</td>\n",
       "      <td>35-001-1012</td>\n",
       "      <td>AQS</td>\n",
       "      <td>44</td>\n",
       "      <td>27</td>\n",
       "      <td>31.8</td>\n",
       "      <td>2013-01-01</td>\n",
       "      <td>2001-01-01</td>\n",
       "      <td>1982</td>\n",
       "      <td>01-01</td>\n",
       "      <td>1</td>\n",
       "    </tr>\n",
       "    <tr>\n",
       "      <th>1</th>\n",
       "      <td>1</td>\n",
       "      <td>1982-01-02</td>\n",
       "      <td>30</td>\n",
       "      <td>Foothills</td>\n",
       "      <td>35-001-1012</td>\n",
       "      <td>AQS</td>\n",
       "      <td>49</td>\n",
       "      <td>31</td>\n",
       "      <td>35.4</td>\n",
       "      <td>2007-01-02</td>\n",
       "      <td>2002-01-02</td>\n",
       "      <td>1982</td>\n",
       "      <td>01-02</td>\n",
       "      <td>2</td>\n",
       "    </tr>\n",
       "    <tr>\n",
       "      <th>2</th>\n",
       "      <td>2</td>\n",
       "      <td>1982-01-03</td>\n",
       "      <td>37</td>\n",
       "      <td>NaN</td>\n",
       "      <td>35-043-1001</td>\n",
       "      <td>AQS</td>\n",
       "      <td>43</td>\n",
       "      <td>24</td>\n",
       "      <td>37.8</td>\n",
       "      <td>2006-01-03</td>\n",
       "      <td>2005-01-03</td>\n",
       "      <td>1982</td>\n",
       "      <td>01-03</td>\n",
       "      <td>3</td>\n",
       "    </tr>\n",
       "    <tr>\n",
       "      <th>3</th>\n",
       "      <td>3</td>\n",
       "      <td>1982-01-04</td>\n",
       "      <td>31</td>\n",
       "      <td>Foothills</td>\n",
       "      <td>35-001-1012</td>\n",
       "      <td>AQS</td>\n",
       "      <td>42</td>\n",
       "      <td>29</td>\n",
       "      <td>38.4</td>\n",
       "      <td>2019-01-04</td>\n",
       "      <td>2001-01-04</td>\n",
       "      <td>1982</td>\n",
       "      <td>01-04</td>\n",
       "      <td>4</td>\n",
       "    </tr>\n",
       "    <tr>\n",
       "      <th>4</th>\n",
       "      <td>4</td>\n",
       "      <td>1982-01-05</td>\n",
       "      <td>28</td>\n",
       "      <td>Foothills</td>\n",
       "      <td>35-001-1012</td>\n",
       "      <td>AQS</td>\n",
       "      <td>43</td>\n",
       "      <td>24</td>\n",
       "      <td>32.8</td>\n",
       "      <td>2013-01-05</td>\n",
       "      <td>2001-01-05</td>\n",
       "      <td>1982</td>\n",
       "      <td>01-05</td>\n",
       "      <td>5</td>\n",
       "    </tr>\n",
       "  </tbody>\n",
       "</table>\n",
       "</div>"
      ],
      "text/plain": [
       "   Unnamed: 0        Date  Ozone AQI Value  Site Name      Site ID Source  \\\n",
       "0           0  1982-01-01               26  Foothills  35-001-1012    AQS   \n",
       "1           1  1982-01-02               30  Foothills  35-001-1012    AQS   \n",
       "2           2  1982-01-03               37        NaN  35-043-1001    AQS   \n",
       "3           3  1982-01-04               31  Foothills  35-001-1012    AQS   \n",
       "4           4  1982-01-05               28  Foothills  35-001-1012    AQS   \n",
       "\n",
       "   20-year High (2000-2019)  20-year Low (2000-2019)  \\\n",
       "0                        44                       27   \n",
       "1                        49                       31   \n",
       "2                        43                       24   \n",
       "3                        42                       29   \n",
       "4                        43                       24   \n",
       "\n",
       "  5-year Average (2015-2019) Date of 20-year High Date of 20-year Low  Year  \\\n",
       "0                       31.8           2013-01-01          2001-01-01  1982   \n",
       "1                       35.4           2007-01-02          2002-01-02  1982   \n",
       "2                       37.8           2006-01-03          2005-01-03  1982   \n",
       "3                       38.4           2019-01-04          2001-01-04  1982   \n",
       "4                       32.8           2013-01-05          2001-01-05  1982   \n",
       "\n",
       "  month_day  day_of_year  \n",
       "0     01-01            1  \n",
       "1     01-02            2  \n",
       "2     01-03            3  \n",
       "3     01-04            4  \n",
       "4     01-05            5  "
      ]
     },
     "execution_count": 21,
     "metadata": {},
     "output_type": "execute_result"
    }
   ],
   "source": [
    "df_no_leap_year = df[df['Date'] != '2020-02-29']\n",
    "day_of_year = list(range(1,366)) + list(range(1,366))\n",
    "df_no_leap_year['day_of_year'] = day_of_year\n",
    "df_no_leap_year.head()"
   ]
  },
  {
   "cell_type": "code",
   "execution_count": 24,
   "id": "square-establishment",
   "metadata": {},
   "outputs": [
    {
     "name": "stderr",
     "output_type": "stream",
     "text": [
      "/Users/hanbo/opt/anaconda3/lib/python3.7/site-packages/ipykernel_launcher.py:2: SettingWithCopyWarning:\n",
      "\n",
      "\n",
      "A value is trying to be set on a copy of a slice from a DataFrame.\n",
      "Try using .loc[row_indexer,col_indexer] = value instead\n",
      "\n",
      "See the caveats in the documentation: https://pandas.pydata.org/pandas-docs/stable/user_guide/indexing.html#returning-a-view-versus-a-copy\n",
      "\n"
     ]
    }
   ],
   "source": [
    "#create rolling average instead of raw data\n",
    "df_no_leap_year['simple_moving_average'] = df_no_leap_year.iloc[:,2].rolling(window=5).mean()"
   ]
  },
  {
   "cell_type": "code",
   "execution_count": 26,
   "id": "dependent-comparison",
   "metadata": {},
   "outputs": [
    {
     "data": {
      "application/vnd.plotly.v1+json": {
       "config": {
        "plotlyServerURL": "https://plot.ly"
       },
       "data": [
        {
         "hovertemplate": "Day in Year=%{x}<br>5-year Average (2015-2019)=%{y}<extra></extra>",
         "legendgroup": "",
         "line": {
          "color": "#636efa",
          "dash": "solid"
         },
         "mode": "lines",
         "name": "",
         "orientation": "h",
         "showlegend": false,
         "type": "scatter",
         "x": [
          1,
          2,
          3,
          4,
          5,
          6,
          7,
          8,
          9,
          10,
          11,
          12,
          13,
          14,
          15,
          16,
          17,
          18,
          19,
          20,
          21,
          22,
          23,
          24,
          25,
          26,
          27,
          28,
          29,
          30,
          31,
          32,
          33,
          34,
          35,
          36,
          37,
          38,
          39,
          40,
          41,
          42,
          43,
          44,
          45,
          46,
          47,
          48,
          49,
          50,
          51,
          52,
          53,
          54,
          55,
          56,
          57,
          58,
          59,
          60,
          61,
          62,
          63,
          64,
          65,
          66,
          67,
          68,
          69,
          70,
          71,
          72,
          73,
          74,
          75,
          76,
          77,
          78,
          79,
          80,
          81,
          82,
          83,
          84,
          85,
          86,
          87,
          88,
          89,
          90,
          91,
          92,
          93,
          94,
          95,
          96,
          97,
          98,
          99,
          100,
          101,
          102,
          103,
          104,
          105,
          106,
          107,
          108,
          109,
          110,
          111,
          112,
          113,
          114,
          115,
          116,
          117,
          118,
          119,
          120,
          121,
          122,
          123,
          124,
          125,
          126,
          127,
          128,
          129,
          130,
          131,
          132,
          133,
          134,
          135,
          136,
          137,
          138,
          139,
          140,
          141,
          142,
          143,
          144,
          145,
          146,
          147,
          148,
          149,
          150,
          151,
          152,
          153,
          154,
          155,
          156,
          157,
          158,
          159,
          160,
          161,
          162,
          163,
          164,
          165,
          166,
          167,
          168,
          169,
          170,
          171,
          172,
          173,
          174,
          175,
          176,
          177,
          178,
          179,
          180,
          181,
          182,
          183,
          184,
          185,
          186,
          187,
          188,
          189,
          190,
          191,
          192,
          193,
          194,
          195,
          196,
          197,
          198,
          199,
          200,
          201,
          202,
          203,
          204,
          205,
          206,
          207,
          208,
          209,
          210,
          211,
          212,
          213,
          214,
          215,
          216,
          217,
          218,
          219,
          220,
          221,
          222,
          223,
          224,
          225,
          226,
          227,
          228,
          229,
          230,
          231,
          232,
          233,
          234,
          235,
          236,
          237,
          238,
          239,
          240,
          241,
          242,
          243,
          244,
          245,
          246,
          247,
          248,
          249,
          250,
          251,
          252,
          253,
          254,
          255,
          256,
          257,
          258,
          259,
          260,
          261,
          262,
          263,
          264,
          265,
          266,
          267,
          268,
          269,
          270,
          271,
          272,
          273,
          274,
          275,
          276,
          277,
          278,
          279,
          280,
          281,
          282,
          283,
          284,
          285,
          286,
          287,
          288,
          289,
          290,
          291,
          292,
          293,
          294,
          295,
          296,
          297,
          298,
          299,
          300,
          301,
          302,
          303,
          304,
          305,
          306,
          307,
          308,
          309,
          310,
          311,
          312,
          313,
          314,
          315,
          316,
          317,
          318,
          319,
          320,
          321,
          322,
          323,
          324,
          325,
          326,
          327,
          328,
          329,
          330,
          331,
          332,
          333,
          334,
          335,
          336,
          337,
          338,
          339,
          340,
          341,
          342,
          343,
          344,
          345,
          346,
          347,
          348,
          349,
          350,
          351,
          352,
          353,
          354,
          355,
          356,
          357,
          358,
          359,
          360,
          361,
          362,
          363,
          364
         ],
         "xaxis": "x",
         "y": [
          "31.8",
          "35.4",
          "37.8",
          "38.4",
          "32.8",
          "36.4",
          "35.8",
          "32.4",
          "33.8",
          "34.6",
          "36.8",
          "35.6",
          "31.6",
          "31.2",
          "29.6",
          "34.2",
          "36.2",
          "36.8",
          "35.8",
          "40.2",
          "40.2",
          "39.4",
          "38.2",
          "40.6",
          "40.8",
          "38.8",
          "38.8",
          "39.2",
          "36.2",
          "38.2",
          "38.6",
          "38.2",
          "38.4",
          "39.0",
          "38.4",
          "39.2",
          "40.6",
          "40.4",
          "40.6",
          "36.4",
          "39.0",
          "41.0",
          "39.2",
          "39.2",
          "39.2",
          "42.4",
          "38.6",
          "42.2",
          "40.2",
          "42.2",
          "43.6",
          "42.4",
          "41.4",
          "51.2",
          "46.4",
          "45.8",
          "43.2",
          "42.8",
          "44.2",
          "43.2",
          "43.2",
          "44.8",
          "45.6",
          "45.2",
          "45.0",
          "44.8",
          "45.4",
          "45.2",
          "46.8",
          "45.4",
          "44.8",
          "45.8",
          "46.2",
          "47.8",
          "47.6",
          "45.8",
          "50.0",
          "45.4",
          "43.6",
          "48.4",
          "47.4",
          "48.6",
          "47.8",
          "51.4",
          "50.8",
          "50.2",
          "49.0",
          "48.8",
          "47.2",
          "50.2",
          "47.2",
          "52.0",
          "51.8",
          "52.8",
          "61.0",
          "52.4",
          "50.0",
          "49.0",
          "71.4",
          "66.6",
          "58.4",
          "59.6",
          "51.6",
          "56.6",
          "65.2",
          "70.0",
          "64.2",
          "63.0",
          "60.8",
          "61.0",
          "61.8",
          "65.2",
          "58.0",
          "64.8",
          "60.6",
          "56.2",
          "55.8",
          "62.2",
          "57.2",
          "55.6",
          "55.8",
          "58.0",
          "71.2",
          "68.2",
          "75.0",
          "68.0",
          "63.4",
          "61.4",
          "60.2",
          "55.6",
          "61.4",
          "59.6",
          "62.2",
          "59.8",
          "53.2",
          "57.0",
          "60.0",
          "58.0",
          "69.8",
          "62.6",
          "57.6",
          "65.4",
          "72.6",
          "68.4",
          "61.2",
          "59.4",
          "72.0",
          "74.0",
          "66.8",
          "73.2",
          "66.0",
          "62.6",
          "61.0",
          "62.2",
          "76.0",
          "71.2",
          "61.8",
          "64.4",
          "60.6",
          "59.8",
          "48.2",
          "55.2",
          "61.6",
          "69.8",
          "81.6",
          "73.0",
          "70.2",
          "63.8",
          "74.4",
          "76.0",
          "86.0",
          "85.8",
          "75.2",
          "68.8",
          "68.0",
          "73.2",
          "70.6",
          "69.8",
          "68.2",
          "58.4",
          "68.4",
          "66.8",
          "59.4",
          "66.2",
          "60.6",
          "62.8",
          "57.8",
          "73.2",
          "59.6",
          "68.4",
          "76.0",
          "74.2",
          "60.0",
          "67.2",
          "66.4",
          "67.2",
          "58.8",
          "59.4",
          "62.2",
          "69.4",
          "64.8",
          "66.0",
          "73.2",
          "73.0",
          "86.8",
          "77.6",
          "76.0",
          "84.2",
          "81.6",
          "64.4",
          "76.8",
          "69.6",
          "72.4",
          "81.6",
          "67.2",
          "67.6",
          "62.8",
          "69.2",
          "69.8",
          "67.4",
          "63.4",
          "61.0",
          "52.0",
          "60.0",
          "57.4",
          "67.6",
          "68.8",
          "67.6",
          "61.4",
          "55.6",
          "66.4",
          "70.8",
          "58.2",
          "59.0",
          "53.6",
          "62.4",
          "58.0",
          "49.8",
          "56.0",
          "57.2",
          "58.8",
          "61.6",
          "54.0",
          "57.6",
          "57.4",
          "61.2",
          "57.4",
          "62.2",
          "62.8",
          "48.4",
          "51.0",
          "52.6",
          "53.8",
          "54.8",
          "49.8",
          "49.4",
          "42.6",
          "41.6",
          "41.8",
          "43.6",
          "46.8",
          "48.2",
          "43.2",
          "42.8",
          "38.4",
          "41.0",
          "43.6",
          "45.8",
          "41.8",
          "41.6",
          "42.8",
          "45.6",
          "43.8",
          "38.2",
          "39.0",
          "38.6",
          "34.0",
          "37.4",
          "44.6",
          "42.4",
          "40.8",
          "39.4",
          "41.6",
          "39.0",
          "41.0",
          "40.8",
          "40.8",
          "42.4",
          "43.4",
          "42.2",
          "40.2",
          "40.6",
          "40.2",
          "41.2",
          "39.0",
          "37.6",
          "36.6",
          "37.8",
          "38.6",
          "40.6",
          "39.4",
          "38.0",
          "35.8",
          "35.0",
          "37.2",
          "38.4",
          "39.2",
          "37.2",
          "36.2",
          "35.2",
          "32.6",
          "38.8",
          "36.6",
          "37.4",
          "38.4",
          "35.0",
          "36.2",
          "37.2",
          "36.8",
          "34.8",
          "40.0",
          "38.8",
          "35.4",
          "35.0",
          "35.4",
          "34.6",
          "34.2",
          "38.2",
          "37.2",
          "33.4",
          "34.6",
          "35.8",
          "38.4",
          "36.6",
          "35.4",
          "35.4",
          "35.8",
          "37.8",
          "35.4",
          "33.4",
          "32.8",
          "32.2",
          "33.8",
          "34.2",
          "32.2",
          "35.0",
          "35.8",
          "35.8",
          "35.0",
          "34.0",
          "38.0",
          "35.8",
          "37.4",
          "37.8",
          "37.2",
          "34.0",
          "34.4",
          "36.6",
          "39.4",
          "38.2",
          "36.6",
          "35.8",
          "35.4",
          "34.8"
         ],
         "yaxis": "y"
        }
       ],
       "layout": {
        "annotations": [
         {
          "showarrow": false,
          "text": "Good Air Quality Boundary",
          "x": 320,
          "y": 52
         }
        ],
        "legend": {
         "tracegroupgap": 0
        },
        "shapes": [
         {
          "line": {
           "color": "salmon",
           "dash": "dot",
           "width": 3
          },
          "opacity": 1,
          "type": "line",
          "x0": 0,
          "x1": 365,
          "xref": "x",
          "y0": 50,
          "y1": 50,
          "yref": "y"
         }
        ],
        "template": {
         "data": {
          "bar": [
           {
            "error_x": {
             "color": "#2a3f5f"
            },
            "error_y": {
             "color": "#2a3f5f"
            },
            "marker": {
             "line": {
              "color": "#E5ECF6",
              "width": 0.5
             }
            },
            "type": "bar"
           }
          ],
          "barpolar": [
           {
            "marker": {
             "line": {
              "color": "#E5ECF6",
              "width": 0.5
             }
            },
            "type": "barpolar"
           }
          ],
          "carpet": [
           {
            "aaxis": {
             "endlinecolor": "#2a3f5f",
             "gridcolor": "white",
             "linecolor": "white",
             "minorgridcolor": "white",
             "startlinecolor": "#2a3f5f"
            },
            "baxis": {
             "endlinecolor": "#2a3f5f",
             "gridcolor": "white",
             "linecolor": "white",
             "minorgridcolor": "white",
             "startlinecolor": "#2a3f5f"
            },
            "type": "carpet"
           }
          ],
          "choropleth": [
           {
            "colorbar": {
             "outlinewidth": 0,
             "ticks": ""
            },
            "type": "choropleth"
           }
          ],
          "contour": [
           {
            "colorbar": {
             "outlinewidth": 0,
             "ticks": ""
            },
            "colorscale": [
             [
              0,
              "#0d0887"
             ],
             [
              0.1111111111111111,
              "#46039f"
             ],
             [
              0.2222222222222222,
              "#7201a8"
             ],
             [
              0.3333333333333333,
              "#9c179e"
             ],
             [
              0.4444444444444444,
              "#bd3786"
             ],
             [
              0.5555555555555556,
              "#d8576b"
             ],
             [
              0.6666666666666666,
              "#ed7953"
             ],
             [
              0.7777777777777778,
              "#fb9f3a"
             ],
             [
              0.8888888888888888,
              "#fdca26"
             ],
             [
              1,
              "#f0f921"
             ]
            ],
            "type": "contour"
           }
          ],
          "contourcarpet": [
           {
            "colorbar": {
             "outlinewidth": 0,
             "ticks": ""
            },
            "type": "contourcarpet"
           }
          ],
          "heatmap": [
           {
            "colorbar": {
             "outlinewidth": 0,
             "ticks": ""
            },
            "colorscale": [
             [
              0,
              "#0d0887"
             ],
             [
              0.1111111111111111,
              "#46039f"
             ],
             [
              0.2222222222222222,
              "#7201a8"
             ],
             [
              0.3333333333333333,
              "#9c179e"
             ],
             [
              0.4444444444444444,
              "#bd3786"
             ],
             [
              0.5555555555555556,
              "#d8576b"
             ],
             [
              0.6666666666666666,
              "#ed7953"
             ],
             [
              0.7777777777777778,
              "#fb9f3a"
             ],
             [
              0.8888888888888888,
              "#fdca26"
             ],
             [
              1,
              "#f0f921"
             ]
            ],
            "type": "heatmap"
           }
          ],
          "heatmapgl": [
           {
            "colorbar": {
             "outlinewidth": 0,
             "ticks": ""
            },
            "colorscale": [
             [
              0,
              "#0d0887"
             ],
             [
              0.1111111111111111,
              "#46039f"
             ],
             [
              0.2222222222222222,
              "#7201a8"
             ],
             [
              0.3333333333333333,
              "#9c179e"
             ],
             [
              0.4444444444444444,
              "#bd3786"
             ],
             [
              0.5555555555555556,
              "#d8576b"
             ],
             [
              0.6666666666666666,
              "#ed7953"
             ],
             [
              0.7777777777777778,
              "#fb9f3a"
             ],
             [
              0.8888888888888888,
              "#fdca26"
             ],
             [
              1,
              "#f0f921"
             ]
            ],
            "type": "heatmapgl"
           }
          ],
          "histogram": [
           {
            "marker": {
             "colorbar": {
              "outlinewidth": 0,
              "ticks": ""
             }
            },
            "type": "histogram"
           }
          ],
          "histogram2d": [
           {
            "colorbar": {
             "outlinewidth": 0,
             "ticks": ""
            },
            "colorscale": [
             [
              0,
              "#0d0887"
             ],
             [
              0.1111111111111111,
              "#46039f"
             ],
             [
              0.2222222222222222,
              "#7201a8"
             ],
             [
              0.3333333333333333,
              "#9c179e"
             ],
             [
              0.4444444444444444,
              "#bd3786"
             ],
             [
              0.5555555555555556,
              "#d8576b"
             ],
             [
              0.6666666666666666,
              "#ed7953"
             ],
             [
              0.7777777777777778,
              "#fb9f3a"
             ],
             [
              0.8888888888888888,
              "#fdca26"
             ],
             [
              1,
              "#f0f921"
             ]
            ],
            "type": "histogram2d"
           }
          ],
          "histogram2dcontour": [
           {
            "colorbar": {
             "outlinewidth": 0,
             "ticks": ""
            },
            "colorscale": [
             [
              0,
              "#0d0887"
             ],
             [
              0.1111111111111111,
              "#46039f"
             ],
             [
              0.2222222222222222,
              "#7201a8"
             ],
             [
              0.3333333333333333,
              "#9c179e"
             ],
             [
              0.4444444444444444,
              "#bd3786"
             ],
             [
              0.5555555555555556,
              "#d8576b"
             ],
             [
              0.6666666666666666,
              "#ed7953"
             ],
             [
              0.7777777777777778,
              "#fb9f3a"
             ],
             [
              0.8888888888888888,
              "#fdca26"
             ],
             [
              1,
              "#f0f921"
             ]
            ],
            "type": "histogram2dcontour"
           }
          ],
          "mesh3d": [
           {
            "colorbar": {
             "outlinewidth": 0,
             "ticks": ""
            },
            "type": "mesh3d"
           }
          ],
          "parcoords": [
           {
            "line": {
             "colorbar": {
              "outlinewidth": 0,
              "ticks": ""
             }
            },
            "type": "parcoords"
           }
          ],
          "pie": [
           {
            "automargin": true,
            "type": "pie"
           }
          ],
          "scatter": [
           {
            "marker": {
             "colorbar": {
              "outlinewidth": 0,
              "ticks": ""
             }
            },
            "type": "scatter"
           }
          ],
          "scatter3d": [
           {
            "line": {
             "colorbar": {
              "outlinewidth": 0,
              "ticks": ""
             }
            },
            "marker": {
             "colorbar": {
              "outlinewidth": 0,
              "ticks": ""
             }
            },
            "type": "scatter3d"
           }
          ],
          "scattercarpet": [
           {
            "marker": {
             "colorbar": {
              "outlinewidth": 0,
              "ticks": ""
             }
            },
            "type": "scattercarpet"
           }
          ],
          "scattergeo": [
           {
            "marker": {
             "colorbar": {
              "outlinewidth": 0,
              "ticks": ""
             }
            },
            "type": "scattergeo"
           }
          ],
          "scattergl": [
           {
            "marker": {
             "colorbar": {
              "outlinewidth": 0,
              "ticks": ""
             }
            },
            "type": "scattergl"
           }
          ],
          "scattermapbox": [
           {
            "marker": {
             "colorbar": {
              "outlinewidth": 0,
              "ticks": ""
             }
            },
            "type": "scattermapbox"
           }
          ],
          "scatterpolar": [
           {
            "marker": {
             "colorbar": {
              "outlinewidth": 0,
              "ticks": ""
             }
            },
            "type": "scatterpolar"
           }
          ],
          "scatterpolargl": [
           {
            "marker": {
             "colorbar": {
              "outlinewidth": 0,
              "ticks": ""
             }
            },
            "type": "scatterpolargl"
           }
          ],
          "scatterternary": [
           {
            "marker": {
             "colorbar": {
              "outlinewidth": 0,
              "ticks": ""
             }
            },
            "type": "scatterternary"
           }
          ],
          "surface": [
           {
            "colorbar": {
             "outlinewidth": 0,
             "ticks": ""
            },
            "colorscale": [
             [
              0,
              "#0d0887"
             ],
             [
              0.1111111111111111,
              "#46039f"
             ],
             [
              0.2222222222222222,
              "#7201a8"
             ],
             [
              0.3333333333333333,
              "#9c179e"
             ],
             [
              0.4444444444444444,
              "#bd3786"
             ],
             [
              0.5555555555555556,
              "#d8576b"
             ],
             [
              0.6666666666666666,
              "#ed7953"
             ],
             [
              0.7777777777777778,
              "#fb9f3a"
             ],
             [
              0.8888888888888888,
              "#fdca26"
             ],
             [
              1,
              "#f0f921"
             ]
            ],
            "type": "surface"
           }
          ],
          "table": [
           {
            "cells": {
             "fill": {
              "color": "#EBF0F8"
             },
             "line": {
              "color": "white"
             }
            },
            "header": {
             "fill": {
              "color": "#C8D4E3"
             },
             "line": {
              "color": "white"
             }
            },
            "type": "table"
           }
          ]
         },
         "layout": {
          "annotationdefaults": {
           "arrowcolor": "#2a3f5f",
           "arrowhead": 0,
           "arrowwidth": 1
          },
          "coloraxis": {
           "colorbar": {
            "outlinewidth": 0,
            "ticks": ""
           }
          },
          "colorscale": {
           "diverging": [
            [
             0,
             "#8e0152"
            ],
            [
             0.1,
             "#c51b7d"
            ],
            [
             0.2,
             "#de77ae"
            ],
            [
             0.3,
             "#f1b6da"
            ],
            [
             0.4,
             "#fde0ef"
            ],
            [
             0.5,
             "#f7f7f7"
            ],
            [
             0.6,
             "#e6f5d0"
            ],
            [
             0.7,
             "#b8e186"
            ],
            [
             0.8,
             "#7fbc41"
            ],
            [
             0.9,
             "#4d9221"
            ],
            [
             1,
             "#276419"
            ]
           ],
           "sequential": [
            [
             0,
             "#0d0887"
            ],
            [
             0.1111111111111111,
             "#46039f"
            ],
            [
             0.2222222222222222,
             "#7201a8"
            ],
            [
             0.3333333333333333,
             "#9c179e"
            ],
            [
             0.4444444444444444,
             "#bd3786"
            ],
            [
             0.5555555555555556,
             "#d8576b"
            ],
            [
             0.6666666666666666,
             "#ed7953"
            ],
            [
             0.7777777777777778,
             "#fb9f3a"
            ],
            [
             0.8888888888888888,
             "#fdca26"
            ],
            [
             1,
             "#f0f921"
            ]
           ],
           "sequentialminus": [
            [
             0,
             "#0d0887"
            ],
            [
             0.1111111111111111,
             "#46039f"
            ],
            [
             0.2222222222222222,
             "#7201a8"
            ],
            [
             0.3333333333333333,
             "#9c179e"
            ],
            [
             0.4444444444444444,
             "#bd3786"
            ],
            [
             0.5555555555555556,
             "#d8576b"
            ],
            [
             0.6666666666666666,
             "#ed7953"
            ],
            [
             0.7777777777777778,
             "#fb9f3a"
            ],
            [
             0.8888888888888888,
             "#fdca26"
            ],
            [
             1,
             "#f0f921"
            ]
           ]
          },
          "colorway": [
           "#636efa",
           "#EF553B",
           "#00cc96",
           "#ab63fa",
           "#FFA15A",
           "#19d3f3",
           "#FF6692",
           "#B6E880",
           "#FF97FF",
           "#FECB52"
          ],
          "font": {
           "color": "#2a3f5f"
          },
          "geo": {
           "bgcolor": "white",
           "lakecolor": "white",
           "landcolor": "#E5ECF6",
           "showlakes": true,
           "showland": true,
           "subunitcolor": "white"
          },
          "hoverlabel": {
           "align": "left"
          },
          "hovermode": "closest",
          "mapbox": {
           "style": "light"
          },
          "paper_bgcolor": "white",
          "plot_bgcolor": "#E5ECF6",
          "polar": {
           "angularaxis": {
            "gridcolor": "white",
            "linecolor": "white",
            "ticks": ""
           },
           "bgcolor": "#E5ECF6",
           "radialaxis": {
            "gridcolor": "white",
            "linecolor": "white",
            "ticks": ""
           }
          },
          "scene": {
           "xaxis": {
            "backgroundcolor": "#E5ECF6",
            "gridcolor": "white",
            "gridwidth": 2,
            "linecolor": "white",
            "showbackground": true,
            "ticks": "",
            "zerolinecolor": "white"
           },
           "yaxis": {
            "backgroundcolor": "#E5ECF6",
            "gridcolor": "white",
            "gridwidth": 2,
            "linecolor": "white",
            "showbackground": true,
            "ticks": "",
            "zerolinecolor": "white"
           },
           "zaxis": {
            "backgroundcolor": "#E5ECF6",
            "gridcolor": "white",
            "gridwidth": 2,
            "linecolor": "white",
            "showbackground": true,
            "ticks": "",
            "zerolinecolor": "white"
           }
          },
          "shapedefaults": {
           "line": {
            "color": "#2a3f5f"
           }
          },
          "ternary": {
           "aaxis": {
            "gridcolor": "white",
            "linecolor": "white",
            "ticks": ""
           },
           "baxis": {
            "gridcolor": "white",
            "linecolor": "white",
            "ticks": ""
           },
           "bgcolor": "#E5ECF6",
           "caxis": {
            "gridcolor": "white",
            "linecolor": "white",
            "ticks": ""
           }
          },
          "title": {
           "x": 0.05
          },
          "xaxis": {
           "automargin": true,
           "gridcolor": "white",
           "linecolor": "white",
           "ticks": "",
           "title": {
            "standoff": 15
           },
           "zerolinecolor": "white",
           "zerolinewidth": 2
          },
          "yaxis": {
           "automargin": true,
           "gridcolor": "white",
           "linecolor": "white",
           "ticks": "",
           "title": {
            "standoff": 15
           },
           "zerolinecolor": "white",
           "zerolinewidth": 2
          }
         }
        },
        "title": {
         "text": "Albuquerque Ozone Air Quality Index Five Year Average"
        },
        "xaxis": {
         "anchor": "y",
         "domain": [
          0,
          1
         ],
         "title": {
          "text": "Day in Year"
         }
        },
        "yaxis": {
         "anchor": "x",
         "domain": [
          0,
          1
         ],
         "title": {
          "text": "5-year Average (2015-2019)"
         }
        }
       }
      },
      "text/html": [
       "<div>                            <div id=\"c4ae4cb9-40d4-4d59-b4fa-99a48f6dd855\" class=\"plotly-graph-div\" style=\"height:525px; width:100%;\"></div>            <script type=\"text/javascript\">                require([\"plotly\"], function(Plotly) {                    window.PLOTLYENV=window.PLOTLYENV || {};                                    if (document.getElementById(\"c4ae4cb9-40d4-4d59-b4fa-99a48f6dd855\")) {                    Plotly.newPlot(                        \"c4ae4cb9-40d4-4d59-b4fa-99a48f6dd855\",                        [{\"hovertemplate\": \"Day in Year=%{x}<br>5-year Average (2015-2019)=%{y}<extra></extra>\", \"legendgroup\": \"\", \"line\": {\"color\": \"#636efa\", \"dash\": \"solid\"}, \"mode\": \"lines\", \"name\": \"\", \"orientation\": \"h\", \"showlegend\": false, \"type\": \"scatter\", \"x\": [1, 2, 3, 4, 5, 6, 7, 8, 9, 10, 11, 12, 13, 14, 15, 16, 17, 18, 19, 20, 21, 22, 23, 24, 25, 26, 27, 28, 29, 30, 31, 32, 33, 34, 35, 36, 37, 38, 39, 40, 41, 42, 43, 44, 45, 46, 47, 48, 49, 50, 51, 52, 53, 54, 55, 56, 57, 58, 59, 60, 61, 62, 63, 64, 65, 66, 67, 68, 69, 70, 71, 72, 73, 74, 75, 76, 77, 78, 79, 80, 81, 82, 83, 84, 85, 86, 87, 88, 89, 90, 91, 92, 93, 94, 95, 96, 97, 98, 99, 100, 101, 102, 103, 104, 105, 106, 107, 108, 109, 110, 111, 112, 113, 114, 115, 116, 117, 118, 119, 120, 121, 122, 123, 124, 125, 126, 127, 128, 129, 130, 131, 132, 133, 134, 135, 136, 137, 138, 139, 140, 141, 142, 143, 144, 145, 146, 147, 148, 149, 150, 151, 152, 153, 154, 155, 156, 157, 158, 159, 160, 161, 162, 163, 164, 165, 166, 167, 168, 169, 170, 171, 172, 173, 174, 175, 176, 177, 178, 179, 180, 181, 182, 183, 184, 185, 186, 187, 188, 189, 190, 191, 192, 193, 194, 195, 196, 197, 198, 199, 200, 201, 202, 203, 204, 205, 206, 207, 208, 209, 210, 211, 212, 213, 214, 215, 216, 217, 218, 219, 220, 221, 222, 223, 224, 225, 226, 227, 228, 229, 230, 231, 232, 233, 234, 235, 236, 237, 238, 239, 240, 241, 242, 243, 244, 245, 246, 247, 248, 249, 250, 251, 252, 253, 254, 255, 256, 257, 258, 259, 260, 261, 262, 263, 264, 265, 266, 267, 268, 269, 270, 271, 272, 273, 274, 275, 276, 277, 278, 279, 280, 281, 282, 283, 284, 285, 286, 287, 288, 289, 290, 291, 292, 293, 294, 295, 296, 297, 298, 299, 300, 301, 302, 303, 304, 305, 306, 307, 308, 309, 310, 311, 312, 313, 314, 315, 316, 317, 318, 319, 320, 321, 322, 323, 324, 325, 326, 327, 328, 329, 330, 331, 332, 333, 334, 335, 336, 337, 338, 339, 340, 341, 342, 343, 344, 345, 346, 347, 348, 349, 350, 351, 352, 353, 354, 355, 356, 357, 358, 359, 360, 361, 362, 363, 364], \"xaxis\": \"x\", \"y\": [\"31.8\", \"35.4\", \"37.8\", \"38.4\", \"32.8\", \"36.4\", \"35.8\", \"32.4\", \"33.8\", \"34.6\", \"36.8\", \"35.6\", \"31.6\", \"31.2\", \"29.6\", \"34.2\", \"36.2\", \"36.8\", \"35.8\", \"40.2\", \"40.2\", \"39.4\", \"38.2\", \"40.6\", \"40.8\", \"38.8\", \"38.8\", \"39.2\", \"36.2\", \"38.2\", \"38.6\", \"38.2\", \"38.4\", \"39.0\", \"38.4\", \"39.2\", \"40.6\", \"40.4\", \"40.6\", \"36.4\", \"39.0\", \"41.0\", \"39.2\", \"39.2\", \"39.2\", \"42.4\", \"38.6\", \"42.2\", \"40.2\", \"42.2\", \"43.6\", \"42.4\", \"41.4\", \"51.2\", \"46.4\", \"45.8\", \"43.2\", \"42.8\", \"44.2\", \"43.2\", \"43.2\", \"44.8\", \"45.6\", \"45.2\", \"45.0\", \"44.8\", \"45.4\", \"45.2\", \"46.8\", \"45.4\", \"44.8\", \"45.8\", \"46.2\", \"47.8\", \"47.6\", \"45.8\", \"50.0\", \"45.4\", \"43.6\", \"48.4\", \"47.4\", \"48.6\", \"47.8\", \"51.4\", \"50.8\", \"50.2\", \"49.0\", \"48.8\", \"47.2\", \"50.2\", \"47.2\", \"52.0\", \"51.8\", \"52.8\", \"61.0\", \"52.4\", \"50.0\", \"49.0\", \"71.4\", \"66.6\", \"58.4\", \"59.6\", \"51.6\", \"56.6\", \"65.2\", \"70.0\", \"64.2\", \"63.0\", \"60.8\", \"61.0\", \"61.8\", \"65.2\", \"58.0\", \"64.8\", \"60.6\", \"56.2\", \"55.8\", \"62.2\", \"57.2\", \"55.6\", \"55.8\", \"58.0\", \"71.2\", \"68.2\", \"75.0\", \"68.0\", \"63.4\", \"61.4\", \"60.2\", \"55.6\", \"61.4\", \"59.6\", \"62.2\", \"59.8\", \"53.2\", \"57.0\", \"60.0\", \"58.0\", \"69.8\", \"62.6\", \"57.6\", \"65.4\", \"72.6\", \"68.4\", \"61.2\", \"59.4\", \"72.0\", \"74.0\", \"66.8\", \"73.2\", \"66.0\", \"62.6\", \"61.0\", \"62.2\", \"76.0\", \"71.2\", \"61.8\", \"64.4\", \"60.6\", \"59.8\", \"48.2\", \"55.2\", \"61.6\", \"69.8\", \"81.6\", \"73.0\", \"70.2\", \"63.8\", \"74.4\", \"76.0\", \"86.0\", \"85.8\", \"75.2\", \"68.8\", \"68.0\", \"73.2\", \"70.6\", \"69.8\", \"68.2\", \"58.4\", \"68.4\", \"66.8\", \"59.4\", \"66.2\", \"60.6\", \"62.8\", \"57.8\", \"73.2\", \"59.6\", \"68.4\", \"76.0\", \"74.2\", \"60.0\", \"67.2\", \"66.4\", \"67.2\", \"58.8\", \"59.4\", \"62.2\", \"69.4\", \"64.8\", \"66.0\", \"73.2\", \"73.0\", \"86.8\", \"77.6\", \"76.0\", \"84.2\", \"81.6\", \"64.4\", \"76.8\", \"69.6\", \"72.4\", \"81.6\", \"67.2\", \"67.6\", \"62.8\", \"69.2\", \"69.8\", \"67.4\", \"63.4\", \"61.0\", \"52.0\", \"60.0\", \"57.4\", \"67.6\", \"68.8\", \"67.6\", \"61.4\", \"55.6\", \"66.4\", \"70.8\", \"58.2\", \"59.0\", \"53.6\", \"62.4\", \"58.0\", \"49.8\", \"56.0\", \"57.2\", \"58.8\", \"61.6\", \"54.0\", \"57.6\", \"57.4\", \"61.2\", \"57.4\", \"62.2\", \"62.8\", \"48.4\", \"51.0\", \"52.6\", \"53.8\", \"54.8\", \"49.8\", \"49.4\", \"42.6\", \"41.6\", \"41.8\", \"43.6\", \"46.8\", \"48.2\", \"43.2\", \"42.8\", \"38.4\", \"41.0\", \"43.6\", \"45.8\", \"41.8\", \"41.6\", \"42.8\", \"45.6\", \"43.8\", \"38.2\", \"39.0\", \"38.6\", \"34.0\", \"37.4\", \"44.6\", \"42.4\", \"40.8\", \"39.4\", \"41.6\", \"39.0\", \"41.0\", \"40.8\", \"40.8\", \"42.4\", \"43.4\", \"42.2\", \"40.2\", \"40.6\", \"40.2\", \"41.2\", \"39.0\", \"37.6\", \"36.6\", \"37.8\", \"38.6\", \"40.6\", \"39.4\", \"38.0\", \"35.8\", \"35.0\", \"37.2\", \"38.4\", \"39.2\", \"37.2\", \"36.2\", \"35.2\", \"32.6\", \"38.8\", \"36.6\", \"37.4\", \"38.4\", \"35.0\", \"36.2\", \"37.2\", \"36.8\", \"34.8\", \"40.0\", \"38.8\", \"35.4\", \"35.0\", \"35.4\", \"34.6\", \"34.2\", \"38.2\", \"37.2\", \"33.4\", \"34.6\", \"35.8\", \"38.4\", \"36.6\", \"35.4\", \"35.4\", \"35.8\", \"37.8\", \"35.4\", \"33.4\", \"32.8\", \"32.2\", \"33.8\", \"34.2\", \"32.2\", \"35.0\", \"35.8\", \"35.8\", \"35.0\", \"34.0\", \"38.0\", \"35.8\", \"37.4\", \"37.8\", \"37.2\", \"34.0\", \"34.4\", \"36.6\", \"39.4\", \"38.2\", \"36.6\", \"35.8\", \"35.4\", \"34.8\"], \"yaxis\": \"y\"}],                        {\"annotations\": [{\"showarrow\": false, \"text\": \"Good Air Quality Boundary\", \"x\": 320, \"y\": 52}], \"legend\": {\"tracegroupgap\": 0}, \"shapes\": [{\"line\": {\"color\": \"salmon\", \"dash\": \"dot\", \"width\": 3}, \"opacity\": 1, \"type\": \"line\", \"x0\": 0, \"x1\": 365, \"xref\": \"x\", \"y0\": 50, \"y1\": 50, \"yref\": \"y\"}], \"template\": {\"data\": {\"bar\": [{\"error_x\": {\"color\": \"#2a3f5f\"}, \"error_y\": {\"color\": \"#2a3f5f\"}, \"marker\": {\"line\": {\"color\": \"#E5ECF6\", \"width\": 0.5}}, \"type\": \"bar\"}], \"barpolar\": [{\"marker\": {\"line\": {\"color\": \"#E5ECF6\", \"width\": 0.5}}, \"type\": \"barpolar\"}], \"carpet\": [{\"aaxis\": {\"endlinecolor\": \"#2a3f5f\", \"gridcolor\": \"white\", \"linecolor\": \"white\", \"minorgridcolor\": \"white\", \"startlinecolor\": \"#2a3f5f\"}, \"baxis\": {\"endlinecolor\": \"#2a3f5f\", \"gridcolor\": \"white\", \"linecolor\": \"white\", \"minorgridcolor\": \"white\", \"startlinecolor\": \"#2a3f5f\"}, \"type\": \"carpet\"}], \"choropleth\": [{\"colorbar\": {\"outlinewidth\": 0, \"ticks\": \"\"}, \"type\": \"choropleth\"}], \"contour\": [{\"colorbar\": {\"outlinewidth\": 0, \"ticks\": \"\"}, \"colorscale\": [[0.0, \"#0d0887\"], [0.1111111111111111, \"#46039f\"], [0.2222222222222222, \"#7201a8\"], [0.3333333333333333, \"#9c179e\"], [0.4444444444444444, \"#bd3786\"], [0.5555555555555556, \"#d8576b\"], [0.6666666666666666, \"#ed7953\"], [0.7777777777777778, \"#fb9f3a\"], [0.8888888888888888, \"#fdca26\"], [1.0, \"#f0f921\"]], \"type\": \"contour\"}], \"contourcarpet\": [{\"colorbar\": {\"outlinewidth\": 0, \"ticks\": \"\"}, \"type\": \"contourcarpet\"}], \"heatmap\": [{\"colorbar\": {\"outlinewidth\": 0, \"ticks\": \"\"}, \"colorscale\": [[0.0, \"#0d0887\"], [0.1111111111111111, \"#46039f\"], [0.2222222222222222, \"#7201a8\"], [0.3333333333333333, \"#9c179e\"], [0.4444444444444444, \"#bd3786\"], [0.5555555555555556, \"#d8576b\"], [0.6666666666666666, \"#ed7953\"], [0.7777777777777778, \"#fb9f3a\"], [0.8888888888888888, \"#fdca26\"], [1.0, \"#f0f921\"]], \"type\": \"heatmap\"}], \"heatmapgl\": [{\"colorbar\": {\"outlinewidth\": 0, \"ticks\": \"\"}, \"colorscale\": [[0.0, \"#0d0887\"], [0.1111111111111111, \"#46039f\"], [0.2222222222222222, \"#7201a8\"], [0.3333333333333333, \"#9c179e\"], [0.4444444444444444, \"#bd3786\"], [0.5555555555555556, \"#d8576b\"], [0.6666666666666666, \"#ed7953\"], [0.7777777777777778, \"#fb9f3a\"], [0.8888888888888888, \"#fdca26\"], [1.0, \"#f0f921\"]], \"type\": \"heatmapgl\"}], \"histogram\": [{\"marker\": {\"colorbar\": {\"outlinewidth\": 0, \"ticks\": \"\"}}, \"type\": \"histogram\"}], \"histogram2d\": [{\"colorbar\": {\"outlinewidth\": 0, \"ticks\": \"\"}, \"colorscale\": [[0.0, \"#0d0887\"], [0.1111111111111111, \"#46039f\"], [0.2222222222222222, \"#7201a8\"], [0.3333333333333333, \"#9c179e\"], [0.4444444444444444, \"#bd3786\"], [0.5555555555555556, \"#d8576b\"], [0.6666666666666666, \"#ed7953\"], [0.7777777777777778, \"#fb9f3a\"], [0.8888888888888888, \"#fdca26\"], [1.0, \"#f0f921\"]], \"type\": \"histogram2d\"}], \"histogram2dcontour\": [{\"colorbar\": {\"outlinewidth\": 0, \"ticks\": \"\"}, \"colorscale\": [[0.0, \"#0d0887\"], [0.1111111111111111, \"#46039f\"], [0.2222222222222222, \"#7201a8\"], [0.3333333333333333, \"#9c179e\"], [0.4444444444444444, \"#bd3786\"], [0.5555555555555556, \"#d8576b\"], [0.6666666666666666, \"#ed7953\"], [0.7777777777777778, \"#fb9f3a\"], [0.8888888888888888, \"#fdca26\"], [1.0, \"#f0f921\"]], \"type\": \"histogram2dcontour\"}], \"mesh3d\": [{\"colorbar\": {\"outlinewidth\": 0, \"ticks\": \"\"}, \"type\": \"mesh3d\"}], \"parcoords\": [{\"line\": {\"colorbar\": {\"outlinewidth\": 0, \"ticks\": \"\"}}, \"type\": \"parcoords\"}], \"pie\": [{\"automargin\": true, \"type\": \"pie\"}], \"scatter\": [{\"marker\": {\"colorbar\": {\"outlinewidth\": 0, \"ticks\": \"\"}}, \"type\": \"scatter\"}], \"scatter3d\": [{\"line\": {\"colorbar\": {\"outlinewidth\": 0, \"ticks\": \"\"}}, \"marker\": {\"colorbar\": {\"outlinewidth\": 0, \"ticks\": \"\"}}, \"type\": \"scatter3d\"}], \"scattercarpet\": [{\"marker\": {\"colorbar\": {\"outlinewidth\": 0, \"ticks\": \"\"}}, \"type\": \"scattercarpet\"}], \"scattergeo\": [{\"marker\": {\"colorbar\": {\"outlinewidth\": 0, \"ticks\": \"\"}}, \"type\": \"scattergeo\"}], \"scattergl\": [{\"marker\": {\"colorbar\": {\"outlinewidth\": 0, \"ticks\": \"\"}}, \"type\": \"scattergl\"}], \"scattermapbox\": [{\"marker\": {\"colorbar\": {\"outlinewidth\": 0, \"ticks\": \"\"}}, \"type\": \"scattermapbox\"}], \"scatterpolar\": [{\"marker\": {\"colorbar\": {\"outlinewidth\": 0, \"ticks\": \"\"}}, \"type\": \"scatterpolar\"}], \"scatterpolargl\": [{\"marker\": {\"colorbar\": {\"outlinewidth\": 0, \"ticks\": \"\"}}, \"type\": \"scatterpolargl\"}], \"scatterternary\": [{\"marker\": {\"colorbar\": {\"outlinewidth\": 0, \"ticks\": \"\"}}, \"type\": \"scatterternary\"}], \"surface\": [{\"colorbar\": {\"outlinewidth\": 0, \"ticks\": \"\"}, \"colorscale\": [[0.0, \"#0d0887\"], [0.1111111111111111, \"#46039f\"], [0.2222222222222222, \"#7201a8\"], [0.3333333333333333, \"#9c179e\"], [0.4444444444444444, \"#bd3786\"], [0.5555555555555556, \"#d8576b\"], [0.6666666666666666, \"#ed7953\"], [0.7777777777777778, \"#fb9f3a\"], [0.8888888888888888, \"#fdca26\"], [1.0, \"#f0f921\"]], \"type\": \"surface\"}], \"table\": [{\"cells\": {\"fill\": {\"color\": \"#EBF0F8\"}, \"line\": {\"color\": \"white\"}}, \"header\": {\"fill\": {\"color\": \"#C8D4E3\"}, \"line\": {\"color\": \"white\"}}, \"type\": \"table\"}]}, \"layout\": {\"annotationdefaults\": {\"arrowcolor\": \"#2a3f5f\", \"arrowhead\": 0, \"arrowwidth\": 1}, \"coloraxis\": {\"colorbar\": {\"outlinewidth\": 0, \"ticks\": \"\"}}, \"colorscale\": {\"diverging\": [[0, \"#8e0152\"], [0.1, \"#c51b7d\"], [0.2, \"#de77ae\"], [0.3, \"#f1b6da\"], [0.4, \"#fde0ef\"], [0.5, \"#f7f7f7\"], [0.6, \"#e6f5d0\"], [0.7, \"#b8e186\"], [0.8, \"#7fbc41\"], [0.9, \"#4d9221\"], [1, \"#276419\"]], \"sequential\": [[0.0, \"#0d0887\"], [0.1111111111111111, \"#46039f\"], [0.2222222222222222, \"#7201a8\"], [0.3333333333333333, \"#9c179e\"], [0.4444444444444444, \"#bd3786\"], [0.5555555555555556, \"#d8576b\"], [0.6666666666666666, \"#ed7953\"], [0.7777777777777778, \"#fb9f3a\"], [0.8888888888888888, \"#fdca26\"], [1.0, \"#f0f921\"]], \"sequentialminus\": [[0.0, \"#0d0887\"], [0.1111111111111111, \"#46039f\"], [0.2222222222222222, \"#7201a8\"], [0.3333333333333333, \"#9c179e\"], [0.4444444444444444, \"#bd3786\"], [0.5555555555555556, \"#d8576b\"], [0.6666666666666666, \"#ed7953\"], [0.7777777777777778, \"#fb9f3a\"], [0.8888888888888888, \"#fdca26\"], [1.0, \"#f0f921\"]]}, \"colorway\": [\"#636efa\", \"#EF553B\", \"#00cc96\", \"#ab63fa\", \"#FFA15A\", \"#19d3f3\", \"#FF6692\", \"#B6E880\", \"#FF97FF\", \"#FECB52\"], \"font\": {\"color\": \"#2a3f5f\"}, \"geo\": {\"bgcolor\": \"white\", \"lakecolor\": \"white\", \"landcolor\": \"#E5ECF6\", \"showlakes\": true, \"showland\": true, \"subunitcolor\": \"white\"}, \"hoverlabel\": {\"align\": \"left\"}, \"hovermode\": \"closest\", \"mapbox\": {\"style\": \"light\"}, \"paper_bgcolor\": \"white\", \"plot_bgcolor\": \"#E5ECF6\", \"polar\": {\"angularaxis\": {\"gridcolor\": \"white\", \"linecolor\": \"white\", \"ticks\": \"\"}, \"bgcolor\": \"#E5ECF6\", \"radialaxis\": {\"gridcolor\": \"white\", \"linecolor\": \"white\", \"ticks\": \"\"}}, \"scene\": {\"xaxis\": {\"backgroundcolor\": \"#E5ECF6\", \"gridcolor\": \"white\", \"gridwidth\": 2, \"linecolor\": \"white\", \"showbackground\": true, \"ticks\": \"\", \"zerolinecolor\": \"white\"}, \"yaxis\": {\"backgroundcolor\": \"#E5ECF6\", \"gridcolor\": \"white\", \"gridwidth\": 2, \"linecolor\": \"white\", \"showbackground\": true, \"ticks\": \"\", \"zerolinecolor\": \"white\"}, \"zaxis\": {\"backgroundcolor\": \"#E5ECF6\", \"gridcolor\": \"white\", \"gridwidth\": 2, \"linecolor\": \"white\", \"showbackground\": true, \"ticks\": \"\", \"zerolinecolor\": \"white\"}}, \"shapedefaults\": {\"line\": {\"color\": \"#2a3f5f\"}}, \"ternary\": {\"aaxis\": {\"gridcolor\": \"white\", \"linecolor\": \"white\", \"ticks\": \"\"}, \"baxis\": {\"gridcolor\": \"white\", \"linecolor\": \"white\", \"ticks\": \"\"}, \"bgcolor\": \"#E5ECF6\", \"caxis\": {\"gridcolor\": \"white\", \"linecolor\": \"white\", \"ticks\": \"\"}}, \"title\": {\"x\": 0.05}, \"xaxis\": {\"automargin\": true, \"gridcolor\": \"white\", \"linecolor\": \"white\", \"ticks\": \"\", \"title\": {\"standoff\": 15}, \"zerolinecolor\": \"white\", \"zerolinewidth\": 2}, \"yaxis\": {\"automargin\": true, \"gridcolor\": \"white\", \"linecolor\": \"white\", \"ticks\": \"\", \"title\": {\"standoff\": 15}, \"zerolinecolor\": \"white\", \"zerolinewidth\": 2}}}, \"title\": {\"text\": \"Albuquerque Ozone Air Quality Index Five Year Average\"}, \"xaxis\": {\"anchor\": \"y\", \"domain\": [0.0, 1.0], \"title\": {\"text\": \"Day in Year\"}}, \"yaxis\": {\"anchor\": \"x\", \"domain\": [0.0, 1.0], \"title\": {\"text\": \"5-year Average (2015-2019)\"}}},                        {\"responsive\": true}                    ).then(function(){\n",
       "                            \n",
       "var gd = document.getElementById('c4ae4cb9-40d4-4d59-b4fa-99a48f6dd855');\n",
       "var x = new MutationObserver(function (mutations, observer) {{\n",
       "        var display = window.getComputedStyle(gd).display;\n",
       "        if (!display || display === 'none') {{\n",
       "            console.log([gd, 'removed!']);\n",
       "            Plotly.purge(gd);\n",
       "            observer.disconnect();\n",
       "        }}\n",
       "}});\n",
       "\n",
       "// Listen for the removal of the full notebook cells\n",
       "var notebookContainer = gd.closest('#notebook-container');\n",
       "if (notebookContainer) {{\n",
       "    x.observe(notebookContainer, {childList: true});\n",
       "}}\n",
       "\n",
       "// Listen for the clearing of the current output cell\n",
       "var outputEl = gd.closest('.output');\n",
       "if (outputEl) {{\n",
       "    x.observe(outputEl, {childList: true});\n",
       "}}\n",
       "\n",
       "                        })                };                });            </script>        </div>"
      ]
     },
     "metadata": {},
     "output_type": "display_data"
    }
   ],
   "source": [
    "fig3 = px.line(df_no_leap_year.iloc[0:364], x='day_of_year', y='5-year Average (2015-2019)',\n",
    "               labels={\n",
    "                   \"day_of_year\": \"Day in Year\"\n",
    "               },\n",
    "              title=\"Albuquerque Ozone Air Quality Index Five Year Average\")\n",
    "fig3.add_shape(# add a threshold line between 'Good' air and above\n",
    "    type=\"line\", line_color=\"salmon\", line_width=3, opacity=1, line_dash=\"dot\",\n",
    "    x0=0, x1=365, xref=\"x\", y0=50, y1=50, yref=\"y\")\n",
    "fig3.add_annotation(#add text over threshhold line\n",
    "    text=\"Good Air Quality Boundary\", x=320, y=52, showarrow=False)\n",
    "fig3.show()"
   ]
  }
 ],
 "metadata": {
  "kernelspec": {
   "display_name": "Python 3",
   "language": "python",
   "name": "python3"
  },
  "language_info": {
   "codemirror_mode": {
    "name": "ipython",
    "version": 3
   },
   "file_extension": ".py",
   "mimetype": "text/x-python",
   "name": "python",
   "nbconvert_exporter": "python",
   "pygments_lexer": "ipython3",
   "version": "3.7.6"
  }
 },
 "nbformat": 4,
 "nbformat_minor": 5
}
