{
 "cells": [
  {
   "cell_type": "code",
   "execution_count": 1,
   "metadata": {},
   "outputs": [],
   "source": [
    "# import libraries\n",
    "import pandas as pd\n",
    "pd.set_option('display.max_columns', None)\n",
    "import matplotlib.pyplot as plt\n",
    "%matplotlib inline\n",
    "import seaborn as sns\n",
    "from pathlib import Path\n",
    "import numpy as np\n",
    "from datetime import timedelta, datetime\n",
    "from statsmodels.stats.outliers_influence import variance_inflation_factor"
   ]
  },
  {
   "cell_type": "markdown",
   "metadata": {},
   "source": [
    "# Data: what happened so far?\n",
    "\n",
    "**Selection**: what are relevant characteristica?\n",
    "\n",
    "**Cleaning**: \n",
    "- missing values in MODEL: 2\n",
    "    - using the historical records of that VIN fill in the missing MODEL values\n",
    "- engineer new feature: MAKE + MODEL + MODEL_YEAR\n",
    "    - unique MAKE_MODEL_YEAR: 11684\n",
    "    - total records: 187503\n",
    "- drop: MODEL, MAKE, ZIP_CODE\n",
    "- if a vehicle has multiple records from the same date, keep first record\n",
    "    - records where vehicles got tested more than 1 time a day: 4046\n",
    "    - after removing repeated tests from same day\n",
    "        - total number of records: 187503 > 183457 \n",
    "        - P: 173762 > 170120\n",
    "        - F: 13741 > 13337\n",
    "        - data range: 2013-01-01/2020-12-31 \n",
    "- engineer feature: VEHICLE_AGE\n",
    "- extract month, weekday, hour from TEST_SDATE: pause!!!\n",
    "    - testing time ~ testing outcome??   \n",
    "- drop TEST_SDATE\n",
    "- map to numeric: TEST_TYPE:{'I':0, 'A':1}, TRANS_TYPE:{'A':0, 'M':1}\n",
    "- drop VEHICLE_TYPE\n",
    "    - near 1000 MAKE_MODEL_YEARs had more than 1 VEHICLE_TYPE \n",
    "    - it's not clear how vehicle types were defined\n",
    "- dropped CYL\n",
    "    - share of fail is higher when CYL is 9, 12 and R\n",
    "    - but these are very few values\n",
    "- drop FUEL_TYPE (FUEL_TYPE L only has 4 records and all are Pass)\n",
    "    - more than 95% of the tests have FUEL_TYPE G\n",
    "- 0 in GVWR: 11577 (P: 11090, F: 487)\n",
    "    - set 0 to np.nan\n",
    "    - fill in missing values using other records having the same VIN\n",
    "        - left missing values: 7963 (P: 7564, F: 399)\n",
    "- 0 in ODOMETER: 875 --- excluded!\n",
    "    - P:    746\n",
    "    - F:    129"
   ]
  },
  {
   "cell_type": "code",
   "execution_count": 2,
   "metadata": {},
   "outputs": [
    {
     "data": {
      "text/plain": [
       "P    92.671584\n",
       "F     7.328416\n",
       "Name: OVERALL_RESULT, dtype: float64"
      ]
     },
     "execution_count": 2,
     "metadata": {},
     "output_type": "execute_result"
    }
   ],
   "source": [
    "# get original data\n",
    "data_src = Path(\"data/sample201320.csv\")\n",
    "df_full = pd.read_csv(data_src, low_memory=False, sep=',')\n",
    "df_full = df_full[(df_full.OVERALL_RESULT == \"F\") | (df_full.OVERALL_RESULT == \"P\")]\n",
    "df_full['OVERALL_RESULT'].value_counts(normalize=True) * 100"
   ]
  },
  {
   "cell_type": "code",
   "execution_count": 3,
   "metadata": {},
   "outputs": [
    {
     "data": {
      "text/plain": [
       "1    92.655639\n",
       "0     7.344361\n",
       "Name: RESULT, dtype: float64"
      ]
     },
     "execution_count": 3,
     "metadata": {},
     "output_type": "execute_result"
    }
   ],
   "source": [
    "# get clean data\n",
    "data_src = Path(\"data/clean_data_20210505.csv\")\n",
    "df = pd.read_csv(data_src, low_memory=False, sep=',')\n",
    "df.shape\n",
    "df['RESULT'].value_counts(normalize=True) * 100"
   ]
  },
  {
   "cell_type": "markdown",
   "metadata": {},
   "source": [
    "# What are the characteristica?"
   ]
  },
  {
   "cell_type": "code",
   "execution_count": 4,
   "metadata": {
    "scrolled": true
   },
   "outputs": [
    {
     "data": {
      "text/plain": [
       "['RecordID',\n",
       " 'RESULT',\n",
       " 'TEST_TYPE',\n",
       " 'ENGINE_SIZE',\n",
       " 'TRANS_TYPE',\n",
       " 'ODOMETER',\n",
       " 'MAKE_MODEL_YEAR',\n",
       " 'VEHICLE_AGE',\n",
       " 'GVWR']"
      ]
     },
     "execution_count": 4,
     "metadata": {},
     "output_type": "execute_result"
    }
   ],
   "source": [
    "list(df.columns)"
   ]
  },
  {
   "cell_type": "markdown",
   "metadata": {},
   "source": [
    "## TEST_TYPE\n",
    "* Initial\n",
    "* Retest"
   ]
  },
  {
   "cell_type": "code",
   "execution_count": 5,
   "metadata": {
    "scrolled": false
   },
   "outputs": [
    {
     "name": "stderr",
     "output_type": "stream",
     "text": [
      "C:\\Users\\Oswin\\anaconda3\\lib\\site-packages\\seaborn\\axisgrid.py:49: UserWarning: FixedFormatter should only be used together with FixedLocator\n",
      "  ax.set(**kwargs)\n"
     ]
    },
    {
     "data": {
      "text/plain": [
       "<seaborn.axisgrid.FacetGrid at 0x22980019e50>"
      ]
     },
     "execution_count": 5,
     "metadata": {},
     "output_type": "execute_result"
    },
    {
     "data": {
      "image/png": "[encoded data removed]",
      "text/plain": [
       "<Figure size 404.875x360 with 1 Axes>"
      ]
     },
     "metadata": {
      "needs_background": "light"
     },
     "output_type": "display_data"
    }
   ],
   "source": [
    "g_tt = sns.displot(data=df, x='TEST_TYPE', hue='RESULT', multiple='fill', discrete=True, stat='probability')\n",
    "g_tt.set(xticklabels=[\"\",\"\",\"Initial\",\"\",\"\",\"\", \"After\",\"\",\"\"]) "
   ]
  },
  {
   "cell_type": "markdown",
   "metadata": {},
   "source": [
    "## GVWR"
   ]
  },
  {
   "cell_type": "code",
   "execution_count": 6,
   "metadata": {},
   "outputs": [
    {
     "data": {
      "text/plain": [
       "<seaborn.axisgrid.FacetGrid at 0x22980210e20>"
      ]
     },
     "execution_count": 6,
     "metadata": {},
     "output_type": "execute_result"
    },
    {
     "data": {
      "image/png": "[encoded data removed]",
      "text/plain": [
       "<Figure size 404.875x360 with 1 Axes>"
      ]
     },
     "metadata": {
      "needs_background": "light"
     },
     "output_type": "display_data"
    }
   ],
   "source": [
    "sns.displot(data=df, x='GVWR', hue='RESULT', multiple='fill', discrete=False, stat='probability')"
   ]
  },
  {
   "cell_type": "code",
   "execution_count": 7,
   "metadata": {},
   "outputs": [
    {
     "data": {
      "text/plain": [
       "[[Text(0, 0, 'Fail'), Text(1, 0, 'Pass')]]"
      ]
     },
     "execution_count": 7,
     "metadata": {},
     "output_type": "execute_result"
    },
    {
     "data": {
      "image/png": "[encoded data removed]",
      "text/plain": [
       "<Figure size 432x288 with 1 Axes>"
      ]
     },
     "metadata": {
      "needs_background": "light"
     },
     "output_type": "display_data"
    }
   ],
   "source": [
    "g_w = sns.barplot(x='RESULT', y='GVWR', data=df)\n",
    "g_w.set(xticklabels=[\"Fail\",\"Pass\"]) "
   ]
  },
  {
   "cell_type": "markdown",
   "metadata": {},
   "source": [
    "## ENGINE_SIZE"
   ]
  },
  {
   "cell_type": "code",
   "execution_count": 8,
   "metadata": {
    "scrolled": false
   },
   "outputs": [
    {
     "data": {
      "text/plain": [
       "<seaborn.axisgrid.FacetGrid at 0x229cf618ee0>"
      ]
     },
     "execution_count": 8,
     "metadata": {},
     "output_type": "execute_result"
    },
    {
     "data": {
      "image/png": "[encoded data removed]",
      "text/plain": [
       "<Figure size 404.875x360 with 1 Axes>"
      ]
     },
     "metadata": {
      "needs_background": "light"
     },
     "output_type": "display_data"
    }
   ],
   "source": [
    "sns.displot(data=df, x='ENGINE_SIZE', hue='RESULT', multiple='fill', discrete=False, stat='probability')"
   ]
  },
  {
   "cell_type": "code",
   "execution_count": 9,
   "metadata": {},
   "outputs": [
    {
     "data": {
      "text/plain": [
       "[[Text(0, 0, 'Fail'), Text(1, 0, 'Pass')]]"
      ]
     },
     "execution_count": 9,
     "metadata": {},
     "output_type": "execute_result"
    },
    {
     "data": {
      "image/png": "[encoded data removed]",
      "text/plain": [
       "<Figure size 432x288 with 1 Axes>"
      ]
     },
     "metadata": {
      "needs_background": "light"
     },
     "output_type": "display_data"
    }
   ],
   "source": [
    "g_e = sns.boxplot(data=df, y='ENGINE_SIZE', x='RESULT')\n",
    "g_e.set(xticklabels=[\"Fail\",\"Pass\"]) "
   ]
  },
  {
   "cell_type": "markdown",
   "metadata": {},
   "source": [
    "## TRANS_TYPE"
   ]
  },
  {
   "cell_type": "code",
   "execution_count": 10,
   "metadata": {},
   "outputs": [
    {
     "name": "stderr",
     "output_type": "stream",
     "text": [
      "C:\\Users\\Oswin\\anaconda3\\lib\\site-packages\\seaborn\\axisgrid.py:49: UserWarning: FixedFormatter should only be used together with FixedLocator\n",
      "  ax.set(**kwargs)\n"
     ]
    },
    {
     "data": {
      "text/plain": [
       "<seaborn.axisgrid.FacetGrid at 0x2298ce0b940>"
      ]
     },
     "execution_count": 10,
     "metadata": {},
     "output_type": "execute_result"
    },
    {
     "data": {
      "image/png": "[encoded data removed]",
      "text/plain": [
       "<Figure size 404.875x360 with 1 Axes>"
      ]
     },
     "metadata": {
      "needs_background": "light"
     },
     "output_type": "display_data"
    }
   ],
   "source": [
    "g_t = sns.displot(data=df, x='TRANS_TYPE', hue='RESULT', multiple='fill', discrete=True, stat='probability')\n",
    "g_t.set(xticklabels=[\"\",\"\",\"Automatic\",\"\",\"\",\"\", \"Manual\",\"\",\"\"]) "
   ]
  },
  {
   "cell_type": "markdown",
   "metadata": {},
   "source": [
    "## ODOMETER"
   ]
  },
  {
   "cell_type": "code",
   "execution_count": 11,
   "metadata": {
    "scrolled": false
   },
   "outputs": [
    {
     "data": {
      "text/plain": [
       "[[Text(0, 0, 'Fail'), Text(1, 0, 'Pass')]]"
      ]
     },
     "execution_count": 11,
     "metadata": {},
     "output_type": "execute_result"
    },
    {
     "data": {
      "image/png": "[encoded data removed]",
      "text/plain": [
       "<Figure size 432x288 with 1 Axes>"
      ]
     },
     "metadata": {
      "needs_background": "light"
     },
     "output_type": "display_data"
    }
   ],
   "source": [
    "g_o = sns.boxplot(data=df, y='ODOMETER', x='RESULT')\n",
    "g_o.set(xticklabels=[\"Fail\",\"Pass\"]) "
   ]
  },
  {
   "cell_type": "code",
   "execution_count": 12,
   "metadata": {},
   "outputs": [
    {
     "data": {
      "text/plain": [
       "<seaborn.axisgrid.FacetGrid at 0x2298bd8c850>"
      ]
     },
     "execution_count": 12,
     "metadata": {},
     "output_type": "execute_result"
    },
    {
     "data": {
      "image/png": "[encoded data removed]",
      "text/plain": [
       "<Figure size 404.875x360 with 1 Axes>"
      ]
     },
     "metadata": {
      "needs_background": "light"
     },
     "output_type": "display_data"
    }
   ],
   "source": [
    "sns.displot(data=df[df['ODOMETER'] < 500000], x='ODOMETER', hue='RESULT', multiple='fill', discrete=False, stat='probability')"
   ]
  },
  {
   "cell_type": "code",
   "execution_count": 13,
   "metadata": {},
   "outputs": [
    {
     "data": {
      "text/plain": [
       "[[Text(0, 0, 'Fail'), Text(1, 0, 'Pass')]]"
      ]
     },
     "execution_count": 13,
     "metadata": {},
     "output_type": "execute_result"
    },
    {
     "data": {
      "image/png": "[encoded data removed]",
      "text/plain": [
       "<Figure size 432x288 with 1 Axes>"
      ]
     },
     "metadata": {
      "needs_background": "light"
     },
     "output_type": "display_data"
    }
   ],
   "source": [
    "g_ob = sns.barplot(x='RESULT', y='ODOMETER', data=df)\n",
    "g_ob.set(xticklabels=[\"Fail\",\"Pass\"]) "
   ]
  },
  {
   "cell_type": "markdown",
   "metadata": {},
   "source": [
    "## MAKE_MODEL_YEAR"
   ]
  },
  {
   "cell_type": "code",
   "execution_count": 20,
   "metadata": {},
   "outputs": [
    {
     "data": {
      "text/plain": [
       "<seaborn.axisgrid.FacetGrid at 0x229b3f33790>"
      ]
     },
     "execution_count": 20,
     "metadata": {},
     "output_type": "execute_result"
    },
    {
     "data": {
      "image/png": "[encoded data removed]",
      "text/plain": [
       "<Figure size 360x360 with 1 Axes>"
      ]
     },
     "metadata": {
      "needs_background": "light"
     },
     "output_type": "display_data"
    }
   ],
   "source": [
    "g1 = sns.displot(data=df[df.RESULT == 1], x='MAKE_MODEL_YEAR', discrete=True, stat='probability')\n",
    "g1.set(xticklabels=[])"
   ]
  },
  {
   "cell_type": "code",
   "execution_count": 21,
   "metadata": {},
   "outputs": [
    {
     "data": {
      "text/plain": [
       "<seaborn.axisgrid.FacetGrid at 0x229e02c8f70>"
      ]
     },
     "execution_count": 21,
     "metadata": {},
     "output_type": "execute_result"
    },
    {
     "data": {
      "image/png": "[encoded data removed]",
      "text/plain": [
       "<Figure size 360x360 with 1 Axes>"
      ]
     },
     "metadata": {
      "needs_background": "light"
     },
     "output_type": "display_data"
    }
   ],
   "source": [
    "g2 = sns.displot(data=df[df.RESULT == 0], x='MAKE_MODEL_YEAR', discrete=True, stat='probability')\n",
    "g2.set(xticklabels=[])"
   ]
  },
  {
   "cell_type": "markdown",
   "metadata": {},
   "source": [
    "## VEHICLE_AGE"
   ]
  },
  {
   "cell_type": "code",
   "execution_count": 22,
   "metadata": {},
   "outputs": [
    {
     "data": {
      "text/plain": [
       "<seaborn.axisgrid.FacetGrid at 0x229e0c18430>"
      ]
     },
     "execution_count": 22,
     "metadata": {},
     "output_type": "execute_result"
    },
    {
     "data": {
      "image/png": "[encoded data removed]",
      "text/plain": [
       "<Figure size 404.875x360 with 1 Axes>"
      ]
     },
     "metadata": {
      "needs_background": "light"
     },
     "output_type": "display_data"
    }
   ],
   "source": [
    "sns.displot(data=df, x='VEHICLE_AGE', hue='RESULT', multiple='fill', discrete=True, stat='probability')"
   ]
  },
  {
   "cell_type": "code",
   "execution_count": 23,
   "metadata": {},
   "outputs": [
    {
     "data": {
      "text/plain": [
       "[[Text(0, 0, 'Fail'), Text(1, 0, 'Pass')]]"
      ]
     },
     "execution_count": 23,
     "metadata": {},
     "output_type": "execute_result"
    },
    {
     "data": {
      "image/png": "[encoded data removed]",
      "text/plain": [
       "<Figure size 432x288 with 1 Axes>"
      ]
     },
     "metadata": {
      "needs_background": "light"
     },
     "output_type": "display_data"
    }
   ],
   "source": [
    "g_a = sns.boxplot(x='RESULT', y='VEHICLE_AGE', data=df)\n",
    "g_a.set(xticklabels=[\"Fail\",\"Pass\"]) "
   ]
  },
  {
   "cell_type": "markdown",
   "metadata": {},
   "source": [
    "# Do any characteristics relate to one another?"
   ]
  },
  {
   "cell_type": "markdown",
   "metadata": {},
   "source": [
    "## Correlation of our metric variables"
   ]
  },
  {
   "cell_type": "code",
   "execution_count": 24,
   "metadata": {
    "scrolled": true
   },
   "outputs": [
    {
     "data": {
      "text/plain": [
       "<AxesSubplot:>"
      ]
     },
     "execution_count": 24,
     "metadata": {},
     "output_type": "execute_result"
    },
    {
     "data": {
      "image/png": "[encoded data removed]",
      "text/plain": [
       "<Figure size 432x288 with 2 Axes>"
      ]
     },
     "metadata": {
      "needs_background": "light"
     },
     "output_type": "display_data"
    }
   ],
   "source": [
    "# correlation stuff\n",
    "cols = ['ENGINE_SIZE', 'GVWR', 'VEHICLE_AGE', 'ODOMETER']\n",
    "df_cor = df[cols].copy()\n",
    "# show some correlations\n",
    "matrix = np.triu(df_cor.corr())\n",
    "sns.heatmap(df_cor.corr(), annot=True, mask=matrix)"
   ]
  },
  {
   "cell_type": "markdown",
   "metadata": {},
   "source": [
    "## Variance Inflation Factor"
   ]
  },
  {
   "cell_type": "code",
   "execution_count": 25,
   "metadata": {},
   "outputs": [
    {
     "name": "stdout",
     "output_type": "stream",
     "text": [
      "           feature        VIF\n",
      "0           RESULT   8.176861\n",
      "1        TEST_TYPE   1.020905\n",
      "2      ENGINE_SIZE  21.344069\n",
      "3       TRANS_TYPE   1.209103\n",
      "4         ODOMETER   1.315255\n",
      "5      VEHICLE_AGE   4.347421\n",
      "6             GVWR  23.724698\n",
      "7  MAKE_MODEL_YEAR   3.239961\n"
     ]
    }
   ],
   "source": [
    "# selecting columns\n",
    "codes, uniques = pd.factorize(df['MAKE_MODEL_YEAR'])\n",
    "cols = ['RESULT', 'TEST_TYPE', 'ENGINE_SIZE', 'TRANS_TYPE', 'ODOMETER', 'VEHICLE_AGE', 'GVWR']\n",
    "df_vif = df[cols].copy()\n",
    "df_vif['MAKE_MODEL_YEAR'] = codes\n",
    "\n",
    "# VIF dataframe\n",
    "vif_data = pd.DataFrame()\n",
    "vif_data[\"feature\"] = df_vif.columns\n",
    "  \n",
    "# calculating VIF for each feature\n",
    "vif_data[\"VIF\"] = [variance_inflation_factor(df_vif.values, i)\n",
    "                          for i in range(len(df_vif.columns))]\n",
    "  \n",
    "print(vif_data)"
   ]
  }
 ],
 "metadata": {
  "kernelspec": {
   "display_name": "Python 3",
   "language": "python",
   "name": "python3"
  },
  "language_info": {
   "codemirror_mode": {
    "name": "ipython",
    "version": 3
   },
   "file_extension": ".py",
   "mimetype": "text/x-python",
   "name": "python",
   "nbconvert_exporter": "python",
   "pygments_lexer": "ipython3",
   "version": "3.8.5"
  }
 },
 "nbformat": 4,
 "nbformat_minor": 4
}
