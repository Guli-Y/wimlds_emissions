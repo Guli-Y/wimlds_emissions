{
 "cells": [
  {
   "cell_type": "code",
   "execution_count": 1,
   "metadata": {},
   "outputs": [],
   "source": [
    "# import libraries\n",
    "import pandas as pd\n",
    "pd.set_option('display.max_columns', None)\n",
    "import matplotlib.pyplot as plt\n",
    "%matplotlib inline\n",
    "import seaborn as sns\n",
    "from pathlib import Path\n",
    "import numpy as np\n",
    "from datetime import timedelta, datetime\n",
    "from statsmodels.stats.outliers_influence import variance_inflation_factor"
   ]
  },
  {
   "cell_type": "markdown",
   "metadata": {},
   "source": [
    "# Data: what happened so far?\n",
    "\n",
    "**Selection**: what are relevant characteristica?\n",
    "\n",
    "**Cleaning**: \n",
    "- missing values in MODEL: 2\n",
    "    - using the historical records of that VIN fill in the missing MODEL values\n",
    "- engineer new feature: MAKE + MODEL + MODEL_YEAR\n",
    "    - unique MAKE_MODEL_YEAR: 11684\n",
    "    - total records: 187503\n",
    "- drop: MODEL, MAKE, ZIP_CODE\n",
    "- if a vehicle has multiple records from the same date, keep first record\n",
    "    - records where vehicles got tested more than 1 time a day: 4046\n",
    "    - after removing repeated tests from same day\n",
    "        - total number of records: 187503 > 183457 \n",
    "        - P: 173762 > 170120\n",
    "        - F: 13741 > 13337\n",
    "        - data range: 2013-01-01/2020-12-31 \n",
    "- engineer feature: VEHICLE_AGE\n",
    "- extract month, weekday, hour from TEST_SDATE: pause!!!\n",
    "    - testing time ~ testing outcome??   \n",
    "- drop TEST_SDATE\n",
    "- map to numeric: TEST_TYPE:{'I':0, 'A':1}, TRANS_TYPE:{'A':0, 'M':1}\n",
    "- drop VEHICLE_TYPE\n",
    "    - near 1000 MAKE_MODEL_YEARs had more than 1 VEHICLE_TYPE \n",
    "    - it's not clear how vehicle types were defined\n",
    "- dropped CYL\n",
    "    - share of fail is higher when CYL is 9, 12 and R\n",
    "    - but these are very few values\n",
    "- drop FUEL_TYPE (FUEL_TYPE L only has 4 records and all are Pass)\n",
    "    - more than 95% of the tests have FUEL_TYPE G\n",
    "- 0 in GVWR: 11577 (P: 11090, F: 487)\n",
    "    - set 0 to np.nan\n",
    "    - fill in missing values using other records having the same VIN\n",
    "        - left missing values: 7963 (P: 7564, F: 399)\n",
    "- 0 in ODOMETER: 875 --- excluded!\n",
    "    - P:    746\n",
    "    - F:    129"
   ]
  },
  {
   "cell_type": "code",
   "execution_count": 2,
   "metadata": {},
   "outputs": [
    {
     "data": {
      "text/plain": [
       "P    92.671584\n",
       "F     7.328416\n",
       "Name: OVERALL_RESULT, dtype: float64"
      ]
     },
     "execution_count": 2,
     "metadata": {},
     "output_type": "execute_result"
    }
   ],
   "source": [
    "# get original data\n",
    "data_src = Path(\"data/sample201320.csv\")\n",
    "df_full = pd.read_csv(data_src, low_memory=False, sep=',')\n",
    "df_full = df_full[(df_full.OVERALL_RESULT == \"F\") | (df_full.OVERALL_RESULT == \"P\")]\n",
    "df_full['OVERALL_RESULT'].value_counts(normalize=True) * 100"
   ]
  },
  {
   "cell_type": "code",
   "execution_count": 3,
   "metadata": {},
   "outputs": [
    {
     "data": {
      "text/plain": [
       "1    92.655639\n",
       "0     7.344361\n",
       "Name: RESULT, dtype: float64"
      ]
     },
     "execution_count": 3,
     "metadata": {},
     "output_type": "execute_result"
    }
   ],
   "source": [
    "# get clean data\n",
    "data_src = Path(\"data/clean_data_20210505.csv\")\n",
    "df = pd.read_csv(data_src, low_memory=False, sep=',')\n",
    "df.shape\n",
    "df['RESULT'].value_counts(normalize=True) * 100"
   ]
  },
  {
   "cell_type": "markdown",
   "metadata": {},
   "source": [
    "# What are the characteristica?"
   ]
  },
  {
   "cell_type": "code",
   "execution_count": 4,
   "metadata": {
    "scrolled": true
   },
   "outputs": [
    {
     "data": {
      "text/plain": [
       "['RecordID',\n",
       " 'RESULT',\n",
       " 'TEST_TYPE',\n",
       " 'ENGINE_SIZE',\n",
       " 'TRANS_TYPE',\n",
       " 'ODOMETER',\n",
       " 'MAKE_MODEL_YEAR',\n",
       " 'VEHICLE_AGE',\n",
       " 'GVWR']"
      ]
     },
     "execution_count": 4,
     "metadata": {},
     "output_type": "execute_result"
    }
   ],
   "source": [
    "list(df.columns)"
   ]
  },
  {
   "cell_type": "markdown",
   "metadata": {},
   "source": [
    "## What do we think is important conceptually?\n",
    "* VEHICLE_AGE\n",
    "* ODOMETER - sanity check and switch to odometer per year\n",
    "* ENGINE_SIZE\n",
    "* GVWR - switch to weight class?"
   ]
  },
  {
   "cell_type": "markdown",
   "metadata": {},
   "source": [
    "## ODO_YEAR"
   ]
  },
  {
   "cell_type": "code",
   "execution_count": 5,
   "metadata": {},
   "outputs": [
    {
     "name": "stderr",
     "output_type": "stream",
     "text": [
      "<ipython-input-5-2f2cd1add9e9>:2: SettingWithCopyWarning: \n",
      "A value is trying to be set on a copy of a slice from a DataFrame\n",
      "\n",
      "See the caveats in the documentation: https://pandas.pydata.org/pandas-docs/stable/user_guide/indexing.html#returning-a-view-versus-a-copy\n",
      "  df['ODO_YEAR'][np.isinf(df['ODO_YEAR'])] = df['ODOMETER']\n"
     ]
    }
   ],
   "source": [
    "df['ODO_YEAR'] = df.ODOMETER / df.VEHICLE_AGE\n",
    "df['ODO_YEAR'][np.isinf(df['ODO_YEAR'])] = df['ODOMETER']"
   ]
  },
  {
   "cell_type": "code",
   "execution_count": 6,
   "metadata": {},
   "outputs": [
    {
     "name": "stdout",
     "output_type": "stream",
     "text": [
      "It contains 0 infinite values\n"
     ]
    }
   ],
   "source": [
    "count = np.isinf(df['ODO_YEAR']).values.sum()\n",
    "print ( \"It contains \" + str (count) + \" infinite values\" )"
   ]
  },
  {
   "cell_type": "code",
   "execution_count": 7,
   "metadata": {},
   "outputs": [
    {
     "data": {
      "text/html": [
       "<div>\n",
       "<style scoped>\n",
       "    .dataframe tbody tr th:only-of-type {\n",
       "        vertical-align: middle;\n",
       "    }\n",
       "\n",
       "    .dataframe tbody tr th {\n",
       "        vertical-align: top;\n",
       "    }\n",
       "\n",
       "    .dataframe thead th {\n",
       "        text-align: right;\n",
       "    }\n",
       "</style>\n",
       "<table border=\"1\" class=\"dataframe\">\n",
       "  <thead>\n",
       "    <tr style=\"text-align: right;\">\n",
       "      <th></th>\n",
       "      <th>RecordID</th>\n",
       "      <th>RESULT</th>\n",
       "      <th>TEST_TYPE</th>\n",
       "      <th>ENGINE_SIZE</th>\n",
       "      <th>TRANS_TYPE</th>\n",
       "      <th>ODOMETER</th>\n",
       "      <th>MAKE_MODEL_YEAR</th>\n",
       "      <th>VEHICLE_AGE</th>\n",
       "      <th>GVWR</th>\n",
       "      <th>ODO_YEAR</th>\n",
       "    </tr>\n",
       "  </thead>\n",
       "  <tbody>\n",
       "    <tr>\n",
       "      <th>0</th>\n",
       "      <td>4118828</td>\n",
       "      <td>0</td>\n",
       "      <td>0</td>\n",
       "      <td>1600</td>\n",
       "      <td>0</td>\n",
       "      <td>215161.0</td>\n",
       "      <td>geo/prizm/1991</td>\n",
       "      <td>28</td>\n",
       "      <td>2625.0</td>\n",
       "      <td>7684.321429</td>\n",
       "    </tr>\n",
       "    <tr>\n",
       "      <th>1</th>\n",
       "      <td>3716231</td>\n",
       "      <td>1</td>\n",
       "      <td>0</td>\n",
       "      <td>2300</td>\n",
       "      <td>0</td>\n",
       "      <td>156888.0</td>\n",
       "      <td>suzuki/aerio/2004</td>\n",
       "      <td>13</td>\n",
       "      <td>3000.0</td>\n",
       "      <td>12068.307692</td>\n",
       "    </tr>\n",
       "    <tr>\n",
       "      <th>2</th>\n",
       "      <td>2643540</td>\n",
       "      <td>1</td>\n",
       "      <td>0</td>\n",
       "      <td>3400</td>\n",
       "      <td>0</td>\n",
       "      <td>124227.0</td>\n",
       "      <td>toyota/4runner 4wd/2001</td>\n",
       "      <td>13</td>\n",
       "      <td>4250.0</td>\n",
       "      <td>9555.923077</td>\n",
       "    </tr>\n",
       "    <tr>\n",
       "      <th>3</th>\n",
       "      <td>3870644</td>\n",
       "      <td>1</td>\n",
       "      <td>0</td>\n",
       "      <td>5700</td>\n",
       "      <td>0</td>\n",
       "      <td>66315.0</td>\n",
       "      <td>dodge/ram 1500 2wd/2006</td>\n",
       "      <td>12</td>\n",
       "      <td>6000.0</td>\n",
       "      <td>5526.250000</td>\n",
       "    </tr>\n",
       "    <tr>\n",
       "      <th>4</th>\n",
       "      <td>3951493</td>\n",
       "      <td>1</td>\n",
       "      <td>0</td>\n",
       "      <td>2500</td>\n",
       "      <td>0</td>\n",
       "      <td>112471.0</td>\n",
       "      <td>nissan/altima/2010</td>\n",
       "      <td>8</td>\n",
       "      <td>3375.0</td>\n",
       "      <td>14058.875000</td>\n",
       "    </tr>\n",
       "  </tbody>\n",
       "</table>\n",
       "</div>"
      ],
      "text/plain": [
       "   RecordID  RESULT  TEST_TYPE  ENGINE_SIZE  TRANS_TYPE  ODOMETER  \\\n",
       "0   4118828       0          0         1600           0  215161.0   \n",
       "1   3716231       1          0         2300           0  156888.0   \n",
       "2   2643540       1          0         3400           0  124227.0   \n",
       "3   3870644       1          0         5700           0   66315.0   \n",
       "4   3951493       1          0         2500           0  112471.0   \n",
       "\n",
       "           MAKE_MODEL_YEAR  VEHICLE_AGE    GVWR      ODO_YEAR  \n",
       "0           geo/prizm/1991           28  2625.0   7684.321429  \n",
       "1        suzuki/aerio/2004           13  3000.0  12068.307692  \n",
       "2  toyota/4runner 4wd/2001           13  4250.0   9555.923077  \n",
       "3  dodge/ram 1500 2wd/2006           12  6000.0   5526.250000  \n",
       "4       nissan/altima/2010            8  3375.0  14058.875000  "
      ]
     },
     "execution_count": 7,
     "metadata": {},
     "output_type": "execute_result"
    }
   ],
   "source": [
    "df.head()"
   ]
  },
  {
   "cell_type": "code",
   "execution_count": 8,
   "metadata": {},
   "outputs": [
    {
     "data": {
      "text/plain": [
       "0.047619047619047616"
      ]
     },
     "execution_count": 8,
     "metadata": {},
     "output_type": "execute_result"
    }
   ],
   "source": [
    "min(df['ODO_YEAR'])"
   ]
  },
  {
   "cell_type": "code",
   "execution_count": 9,
   "metadata": {},
   "outputs": [
    {
     "data": {
      "text/plain": [
       "1777777.6"
      ]
     },
     "execution_count": 9,
     "metadata": {},
     "output_type": "execute_result"
    }
   ],
   "source": [
    "max(df['ODO_YEAR'])\n",
    "# with 70mph you could theoretically drive 613,000 miles per year if you never pause..."
   ]
  },
  {
   "cell_type": "code",
   "execution_count": 10,
   "metadata": {},
   "outputs": [
    {
     "data": {
      "text/html": [
       "<div>\n",
       "<style scoped>\n",
       "    .dataframe tbody tr th:only-of-type {\n",
       "        vertical-align: middle;\n",
       "    }\n",
       "\n",
       "    .dataframe tbody tr th {\n",
       "        vertical-align: top;\n",
       "    }\n",
       "\n",
       "    .dataframe thead th {\n",
       "        text-align: right;\n",
       "    }\n",
       "</style>\n",
       "<table border=\"1\" class=\"dataframe\">\n",
       "  <thead>\n",
       "    <tr style=\"text-align: right;\">\n",
       "      <th></th>\n",
       "      <th>RecordID</th>\n",
       "      <th>RESULT</th>\n",
       "      <th>TEST_TYPE</th>\n",
       "      <th>ENGINE_SIZE</th>\n",
       "      <th>TRANS_TYPE</th>\n",
       "      <th>ODOMETER</th>\n",
       "      <th>MAKE_MODEL_YEAR</th>\n",
       "      <th>VEHICLE_AGE</th>\n",
       "      <th>GVWR</th>\n",
       "      <th>ODO_YEAR</th>\n",
       "    </tr>\n",
       "  </thead>\n",
       "  <tbody>\n",
       "    <tr>\n",
       "      <th>293</th>\n",
       "      <td>2915505</td>\n",
       "      <td>1</td>\n",
       "      <td>0</td>\n",
       "      <td>3200</td>\n",
       "      <td>0</td>\n",
       "      <td>8888888.0</td>\n",
       "      <td>acura/tl/2005</td>\n",
       "      <td>10</td>\n",
       "      <td>3750.0</td>\n",
       "      <td>8.888888e+05</td>\n",
       "    </tr>\n",
       "    <tr>\n",
       "      <th>3467</th>\n",
       "      <td>3090095</td>\n",
       "      <td>1</td>\n",
       "      <td>0</td>\n",
       "      <td>5900</td>\n",
       "      <td>0</td>\n",
       "      <td>8888888.0</td>\n",
       "      <td>dodge/ram 1500/1996</td>\n",
       "      <td>19</td>\n",
       "      <td>6400.0</td>\n",
       "      <td>4.678362e+05</td>\n",
       "    </tr>\n",
       "    <tr>\n",
       "      <th>11054</th>\n",
       "      <td>3676681</td>\n",
       "      <td>1</td>\n",
       "      <td>0</td>\n",
       "      <td>5000</td>\n",
       "      <td>1</td>\n",
       "      <td>8888888.0</td>\n",
       "      <td>ford/mustang/1991</td>\n",
       "      <td>26</td>\n",
       "      <td>3000.0</td>\n",
       "      <td>3.418803e+05</td>\n",
       "    </tr>\n",
       "    <tr>\n",
       "      <th>11055</th>\n",
       "      <td>3521352</td>\n",
       "      <td>1</td>\n",
       "      <td>0</td>\n",
       "      <td>2300</td>\n",
       "      <td>1</td>\n",
       "      <td>8888888.0</td>\n",
       "      <td>ford/mustang/1992</td>\n",
       "      <td>25</td>\n",
       "      <td>3125.0</td>\n",
       "      <td>3.555555e+05</td>\n",
       "    </tr>\n",
       "    <tr>\n",
       "      <th>12556</th>\n",
       "      <td>3938371</td>\n",
       "      <td>1</td>\n",
       "      <td>0</td>\n",
       "      <td>3800</td>\n",
       "      <td>1</td>\n",
       "      <td>8888888.0</td>\n",
       "      <td>ford/mustang/2001</td>\n",
       "      <td>17</td>\n",
       "      <td>3375.0</td>\n",
       "      <td>5.228758e+05</td>\n",
       "    </tr>\n",
       "    <tr>\n",
       "      <th>...</th>\n",
       "      <td>...</td>\n",
       "      <td>...</td>\n",
       "      <td>...</td>\n",
       "      <td>...</td>\n",
       "      <td>...</td>\n",
       "      <td>...</td>\n",
       "      <td>...</td>\n",
       "      <td>...</td>\n",
       "      <td>...</td>\n",
       "      <td>...</td>\n",
       "    </tr>\n",
       "    <tr>\n",
       "      <th>150025</th>\n",
       "      <td>2758057</td>\n",
       "      <td>1</td>\n",
       "      <td>0</td>\n",
       "      <td>2200</td>\n",
       "      <td>0</td>\n",
       "      <td>8888888.0</td>\n",
       "      <td>toyota/pickup/1993</td>\n",
       "      <td>21</td>\n",
       "      <td>3700.0</td>\n",
       "      <td>4.232804e+05</td>\n",
       "    </tr>\n",
       "    <tr>\n",
       "      <th>157985</th>\n",
       "      <td>4449621</td>\n",
       "      <td>1</td>\n",
       "      <td>0</td>\n",
       "      <td>3500</td>\n",
       "      <td>0</td>\n",
       "      <td>8163604.0</td>\n",
       "      <td>toyota/rav4/2008</td>\n",
       "      <td>12</td>\n",
       "      <td>4720.0</td>\n",
       "      <td>6.803003e+05</td>\n",
       "    </tr>\n",
       "    <tr>\n",
       "      <th>168160</th>\n",
       "      <td>4828224</td>\n",
       "      <td>1</td>\n",
       "      <td>0</td>\n",
       "      <td>3000</td>\n",
       "      <td>0</td>\n",
       "      <td>8888888.0</td>\n",
       "      <td>bmw/3-series/2013</td>\n",
       "      <td>8</td>\n",
       "      <td>3500.0</td>\n",
       "      <td>1.111111e+06</td>\n",
       "    </tr>\n",
       "    <tr>\n",
       "      <th>168367</th>\n",
       "      <td>2838958</td>\n",
       "      <td>1</td>\n",
       "      <td>0</td>\n",
       "      <td>2800</td>\n",
       "      <td>0</td>\n",
       "      <td>8888888.0</td>\n",
       "      <td>bmw/3-series/2000</td>\n",
       "      <td>14</td>\n",
       "      <td>3500.0</td>\n",
       "      <td>6.349206e+05</td>\n",
       "    </tr>\n",
       "    <tr>\n",
       "      <th>170949</th>\n",
       "      <td>4836024</td>\n",
       "      <td>1</td>\n",
       "      <td>0</td>\n",
       "      <td>3500</td>\n",
       "      <td>0</td>\n",
       "      <td>8888888.0</td>\n",
       "      <td>mercedes-benz/glk350/2013</td>\n",
       "      <td>8</td>\n",
       "      <td>5335.0</td>\n",
       "      <td>1.111111e+06</td>\n",
       "    </tr>\n",
       "  </tbody>\n",
       "</table>\n",
       "<p>90 rows × 10 columns</p>\n",
       "</div>"
      ],
      "text/plain": [
       "        RecordID  RESULT  TEST_TYPE  ENGINE_SIZE  TRANS_TYPE   ODOMETER  \\\n",
       "293      2915505       1          0         3200           0  8888888.0   \n",
       "3467     3090095       1          0         5900           0  8888888.0   \n",
       "11054    3676681       1          0         5000           1  8888888.0   \n",
       "11055    3521352       1          0         2300           1  8888888.0   \n",
       "12556    3938371       1          0         3800           1  8888888.0   \n",
       "...          ...     ...        ...          ...         ...        ...   \n",
       "150025   2758057       1          0         2200           0  8888888.0   \n",
       "157985   4449621       1          0         3500           0  8163604.0   \n",
       "168160   4828224       1          0         3000           0  8888888.0   \n",
       "168367   2838958       1          0         2800           0  8888888.0   \n",
       "170949   4836024       1          0         3500           0  8888888.0   \n",
       "\n",
       "                  MAKE_MODEL_YEAR  VEHICLE_AGE    GVWR      ODO_YEAR  \n",
       "293                 acura/tl/2005           10  3750.0  8.888888e+05  \n",
       "3467          dodge/ram 1500/1996           19  6400.0  4.678362e+05  \n",
       "11054           ford/mustang/1991           26  3000.0  3.418803e+05  \n",
       "11055           ford/mustang/1992           25  3125.0  3.555555e+05  \n",
       "12556           ford/mustang/2001           17  3375.0  5.228758e+05  \n",
       "...                           ...          ...     ...           ...  \n",
       "150025         toyota/pickup/1993           21  3700.0  4.232804e+05  \n",
       "157985           toyota/rav4/2008           12  4720.0  6.803003e+05  \n",
       "168160          bmw/3-series/2013            8  3500.0  1.111111e+06  \n",
       "168367          bmw/3-series/2000           14  3500.0  6.349206e+05  \n",
       "170949  mercedes-benz/glk350/2013            8  5335.0  1.111111e+06  \n",
       "\n",
       "[90 rows x 10 columns]"
      ]
     },
     "execution_count": 10,
     "metadata": {},
     "output_type": "execute_result"
    }
   ],
   "source": [
    "df[df['ODO_YEAR'] > 300000]"
   ]
  },
  {
   "cell_type": "code",
   "execution_count": 31,
   "metadata": {},
   "outputs": [
    {
     "data": {
      "text/plain": [
       "1    92.66219\n",
       "0     7.33781\n",
       "Name: RESULT, dtype: float64"
      ]
     },
     "execution_count": 31,
     "metadata": {},
     "output_type": "execute_result"
    }
   ],
   "source": [
    "# most of these have 8888888.0 and 9999999.0 in the ODOMETER column - mistakes?\n",
    "# I am removing them\n",
    "df = df[(df['ODOMETER'] != 8888888) & (df['ODOMETER'] != 9999999)]\n",
    "df = df[df['ODO_YEAR'] < 200000]\n",
    "df['RESULT'].value_counts(normalize=True) * 100"
   ]
  },
  {
   "cell_type": "markdown",
   "metadata": {},
   "source": [
    "## We need to figure out a cut-off for ODO_YEAR"
   ]
  },
  {
   "cell_type": "code",
   "execution_count": 13,
   "metadata": {},
   "outputs": [
    {
     "data": {
      "text/plain": [
       "<seaborn.axisgrid.FacetGrid at 0x15495d342e0>"
      ]
     },
     "execution_count": 13,
     "metadata": {},
     "output_type": "execute_result"
    },
    {
     "data": {
      "image/png": "[encoded data removed]",
      "text/plain": [
       "<Figure size 404.875x360 with 1 Axes>"
      ]
     },
     "metadata": {
      "needs_background": "light"
     },
     "output_type": "display_data"
    }
   ],
   "source": [
    "sns.displot(data=df, x='ODO_YEAR', hue='RESULT', multiple='fill', discrete=False, stat='probability')"
   ]
  },
  {
   "cell_type": "code",
   "execution_count": 14,
   "metadata": {},
   "outputs": [
    {
     "data": {
      "text/plain": [
       "[[Text(0, 0, 'Fail'), Text(1, 0, 'Pass')]]"
      ]
     },
     "execution_count": 14,
     "metadata": {},
     "output_type": "execute_result"
    },
    {
     "data": {
      "image/png": "[encoded data removed]",
      "text/plain": [
       "<Figure size 432x288 with 1 Axes>"
      ]
     },
     "metadata": {
      "needs_background": "light"
     },
     "output_type": "display_data"
    }
   ],
   "source": [
    "g_ob = sns.barplot(x='RESULT', y='ODO_YEAR', data=df)\n",
    "g_ob.set(xticklabels=[\"Fail\",\"Pass\"]) "
   ]
  },
  {
   "cell_type": "code",
   "execution_count": 15,
   "metadata": {},
   "outputs": [
    {
     "data": {
      "text/plain": [
       "[[Text(0, 0, 'Fail'), Text(1, 0, 'Pass')]]"
      ]
     },
     "execution_count": 15,
     "metadata": {},
     "output_type": "execute_result"
    },
    {
     "data": {
      "image/png": "[encoded data removed]",
      "text/plain": [
       "<Figure size 432x288 with 1 Axes>"
      ]
     },
     "metadata": {
      "needs_background": "light"
     },
     "output_type": "display_data"
    }
   ],
   "source": [
    "g_o = sns.boxplot(data=df, y='ODO_YEAR', x='RESULT')\n",
    "g_o.set(xticklabels=[\"Fail\",\"Pass\"]) "
   ]
  },
  {
   "cell_type": "markdown",
   "metadata": {},
   "source": [
    "## ODOMETER"
   ]
  },
  {
   "cell_type": "code",
   "execution_count": 16,
   "metadata": {},
   "outputs": [
    {
     "data": {
      "text/plain": [
       "<seaborn.axisgrid.FacetGrid at 0x15495d93970>"
      ]
     },
     "execution_count": 16,
     "metadata": {},
     "output_type": "execute_result"
    },
    {
     "data": {
      "image/png": "[encoded data removed]",
      "text/plain": [
       "<Figure size 404.875x360 with 1 Axes>"
      ]
     },
     "metadata": {
      "needs_background": "light"
     },
     "output_type": "display_data"
    }
   ],
   "source": [
    "sns.displot(data=df[df['ODOMETER'] < 500000], x='ODOMETER', hue='RESULT', multiple='fill', discrete=False, stat='probability')"
   ]
  },
  {
   "cell_type": "code",
   "execution_count": 17,
   "metadata": {},
   "outputs": [
    {
     "data": {
      "text/plain": [
       "[[Text(0, 0, 'Fail'), Text(1, 0, 'Pass')]]"
      ]
     },
     "execution_count": 17,
     "metadata": {},
     "output_type": "execute_result"
    },
    {
     "data": {
      "image/png": "[encoded data removed]",
      "text/plain": [
       "<Figure size 432x288 with 1 Axes>"
      ]
     },
     "metadata": {
      "needs_background": "light"
     },
     "output_type": "display_data"
    }
   ],
   "source": [
    "g_ob = sns.barplot(x='RESULT', y='ODOMETER', data=df)\n",
    "g_ob.set(xticklabels=[\"Fail\",\"Pass\"]) "
   ]
  },
  {
   "cell_type": "code",
   "execution_count": 18,
   "metadata": {
    "scrolled": false
   },
   "outputs": [
    {
     "data": {
      "text/plain": [
       "[[Text(0, 0, 'Fail'), Text(1, 0, 'Pass')]]"
      ]
     },
     "execution_count": 18,
     "metadata": {},
     "output_type": "execute_result"
    },
    {
     "data": {
      "image/png": "[encoded data removed]",
      "text/plain": [
       "<Figure size 432x288 with 1 Axes>"
      ]
     },
     "metadata": {
      "needs_background": "light"
     },
     "output_type": "display_data"
    }
   ],
   "source": [
    "g_o = sns.boxplot(data=df, y='ODOMETER', x='RESULT')\n",
    "g_o.set(xticklabels=[\"Fail\",\"Pass\"]) "
   ]
  },
  {
   "cell_type": "markdown",
   "metadata": {},
   "source": [
    "## VEHICLE_AGE"
   ]
  },
  {
   "cell_type": "code",
   "execution_count": 19,
   "metadata": {
    "scrolled": false
   },
   "outputs": [
    {
     "data": {
      "text/plain": [
       "<seaborn.axisgrid.FacetGrid at 0x154ad850dc0>"
      ]
     },
     "execution_count": 19,
     "metadata": {},
     "output_type": "execute_result"
    },
    {
     "data": {
      "image/png": "[encoded data removed]",
      "text/plain": [
       "<Figure size 404.875x360 with 1 Axes>"
      ]
     },
     "metadata": {
      "needs_background": "light"
     },
     "output_type": "display_data"
    }
   ],
   "source": [
    "sns.displot(data=df, x='VEHICLE_AGE', hue='RESULT', multiple='fill', discrete=True, stat='probability')"
   ]
  },
  {
   "cell_type": "code",
   "execution_count": 20,
   "metadata": {
    "scrolled": true
   },
   "outputs": [
    {
     "data": {
      "text/plain": [
       "[[Text(0, 0, 'Fail'), Text(1, 0, 'Pass')]]"
      ]
     },
     "execution_count": 20,
     "metadata": {},
     "output_type": "execute_result"
    },
    {
     "data": {
      "image/png": "[encoded data removed]",
      "text/plain": [
       "<Figure size 432x288 with 1 Axes>"
      ]
     },
     "metadata": {
      "needs_background": "light"
     },
     "output_type": "display_data"
    }
   ],
   "source": [
    "g_a = sns.boxplot(x='RESULT', y='VEHICLE_AGE', data=df)\n",
    "g_a.set(xticklabels=[\"Fail\",\"Pass\"]) "
   ]
  },
  {
   "cell_type": "markdown",
   "metadata": {},
   "source": [
    "## GVWR"
   ]
  },
  {
   "cell_type": "code",
   "execution_count": 21,
   "metadata": {},
   "outputs": [
    {
     "data": {
      "text/plain": [
       "<seaborn.axisgrid.FacetGrid at 0x154acc2a640>"
      ]
     },
     "execution_count": 21,
     "metadata": {},
     "output_type": "execute_result"
    },
    {
     "data": {
      "image/png": "[encoded data removed]",
      "text/plain": [
       "<Figure size 404.875x360 with 1 Axes>"
      ]
     },
     "metadata": {
      "needs_background": "light"
     },
     "output_type": "display_data"
    }
   ],
   "source": [
    "sns.displot(data=df, x='GVWR', hue='RESULT', multiple='fill', discrete=False, stat='probability')"
   ]
  },
  {
   "cell_type": "code",
   "execution_count": 22,
   "metadata": {},
   "outputs": [
    {
     "data": {
      "text/plain": [
       "[[Text(0, 0, 'Fail'), Text(1, 0, 'Pass')]]"
      ]
     },
     "execution_count": 22,
     "metadata": {},
     "output_type": "execute_result"
    },
    {
     "data": {
      "image/png": "[encoded data removed]",
      "text/plain": [
       "<Figure size 432x288 with 1 Axes>"
      ]
     },
     "metadata": {
      "needs_background": "light"
     },
     "output_type": "display_data"
    }
   ],
   "source": [
    "g_w = sns.barplot(x='RESULT', y='GVWR', data=df)\n",
    "g_w.set(xticklabels=[\"Fail\",\"Pass\"]) "
   ]
  },
  {
   "cell_type": "markdown",
   "metadata": {},
   "source": [
    "## ENGINE_SIZE"
   ]
  },
  {
   "cell_type": "code",
   "execution_count": 23,
   "metadata": {
    "scrolled": false
   },
   "outputs": [
    {
     "data": {
      "text/plain": [
       "<seaborn.axisgrid.FacetGrid at 0x15495d345b0>"
      ]
     },
     "execution_count": 23,
     "metadata": {},
     "output_type": "execute_result"
    },
    {
     "data": {
      "image/png": "[encoded data removed]",
      "text/plain": [
       "<Figure size 404.875x360 with 1 Axes>"
      ]
     },
     "metadata": {
      "needs_background": "light"
     },
     "output_type": "display_data"
    }
   ],
   "source": [
    "sns.displot(data=df, x='ENGINE_SIZE', hue='RESULT', multiple='fill', discrete=False, stat='probability')"
   ]
  },
  {
   "cell_type": "code",
   "execution_count": 24,
   "metadata": {},
   "outputs": [
    {
     "data": {
      "text/plain": [
       "[[Text(0, 0, 'Fail'), Text(1, 0, 'Pass')]]"
      ]
     },
     "execution_count": 24,
     "metadata": {},
     "output_type": "execute_result"
    },
    {
     "data": {
      "image/png": "[encoded data removed]",
      "text/plain": [
       "<Figure size 432x288 with 1 Axes>"
      ]
     },
     "metadata": {
      "needs_background": "light"
     },
     "output_type": "display_data"
    }
   ],
   "source": [
    "g_e = sns.boxplot(data=df, y='ENGINE_SIZE', x='RESULT')\n",
    "g_e.set(xticklabels=[\"Fail\",\"Pass\"]) "
   ]
  },
  {
   "cell_type": "markdown",
   "metadata": {},
   "source": [
    "# Do any characteristics relate to one another?"
   ]
  },
  {
   "cell_type": "markdown",
   "metadata": {},
   "source": [
    "## Correlation of our metric variables"
   ]
  },
  {
   "cell_type": "code",
   "execution_count": 25,
   "metadata": {
    "scrolled": true
   },
   "outputs": [
    {
     "data": {
      "text/plain": [
       "<AxesSubplot:>"
      ]
     },
     "execution_count": 25,
     "metadata": {},
     "output_type": "execute_result"
    },
    {
     "data": {
      "image/png": "[encoded data removed]",
      "text/plain": [
       "<Figure size 432x288 with 2 Axes>"
      ]
     },
     "metadata": {
      "needs_background": "light"
     },
     "output_type": "display_data"
    }
   ],
   "source": [
    "# correlation stuff\n",
    "cols = ['ENGINE_SIZE', 'GVWR', 'VEHICLE_AGE', 'ODOMETER', 'ODO_YEAR']\n",
    "df_cor = df[cols].copy()\n",
    "# show some correlations\n",
    "matrix = np.triu(df_cor.corr())\n",
    "sns.heatmap(df_cor.corr(), annot=True, mask=matrix)"
   ]
  },
  {
   "cell_type": "markdown",
   "metadata": {},
   "source": [
    "## Variance Inflation Factor"
   ]
  },
  {
   "cell_type": "code",
   "execution_count": 26,
   "metadata": {},
   "outputs": [
    {
     "name": "stdout",
     "output_type": "stream",
     "text": [
      "           feature        VIF\n",
      "0           RESULT   8.180756\n",
      "1        TEST_TYPE   1.021057\n",
      "2      ENGINE_SIZE  21.338848\n",
      "3       TRANS_TYPE   1.209853\n",
      "4         ODOMETER   3.868163\n",
      "5      VEHICLE_AGE   5.850558\n",
      "6             GVWR  23.902940\n",
      "7  MAKE_MODEL_YEAR   3.244213\n"
     ]
    }
   ],
   "source": [
    "# selecting columns\n",
    "codes, uniques = pd.factorize(df['MAKE_MODEL_YEAR'])\n",
    "cols = ['RESULT', 'TEST_TYPE', 'ENGINE_SIZE', 'TRANS_TYPE', 'ODOMETER', 'VEHICLE_AGE', 'GVWR']\n",
    "df_vif = df[cols].copy()\n",
    "df_vif['MAKE_MODEL_YEAR'] = codes\n",
    "\n",
    "# VIF dataframe\n",
    "vif_data = pd.DataFrame()\n",
    "vif_data[\"feature\"] = df_vif.columns\n",
    "  \n",
    "# calculating VIF for each feature\n",
    "vif_data[\"VIF\"] = [variance_inflation_factor(df_vif.values, i)\n",
    "                          for i in range(len(df_vif.columns))]\n",
    "  \n",
    "print(vif_data)"
   ]
  },
  {
   "cell_type": "markdown",
   "metadata": {},
   "source": [
    "# Probably not so important"
   ]
  },
  {
   "cell_type": "markdown",
   "metadata": {},
   "source": [
    "## TEST_TYPE\n",
    "* Initial\n",
    "* Retest"
   ]
  },
  {
   "cell_type": "code",
   "execution_count": 27,
   "metadata": {
    "scrolled": true
   },
   "outputs": [
    {
     "name": "stderr",
     "output_type": "stream",
     "text": [
      "C:\\Users\\Oswin\\anaconda3\\lib\\site-packages\\seaborn\\axisgrid.py:49: UserWarning: FixedFormatter should only be used together with FixedLocator\n",
      "  ax.set(**kwargs)\n"
     ]
    },
    {
     "data": {
      "text/plain": [
       "<seaborn.axisgrid.FacetGrid at 0x1549b491550>"
      ]
     },
     "execution_count": 27,
     "metadata": {},
     "output_type": "execute_result"
    },
    {
     "data": {
      "image/png": "[encoded data removed]",
      "text/plain": [
       "<Figure size 404.875x360 with 1 Axes>"
      ]
     },
     "metadata": {
      "needs_background": "light"
     },
     "output_type": "display_data"
    }
   ],
   "source": [
    "g_tt = sns.displot(data=df, x='TEST_TYPE', hue='RESULT', multiple='fill', discrete=True, stat='probability')\n",
    "g_tt.set(xticklabels=[\"\",\"\",\"Initial\",\"\",\"\",\"\", \"After\",\"\",\"\"]) "
   ]
  },
  {
   "cell_type": "markdown",
   "metadata": {},
   "source": [
    "## TRANS_TYPE"
   ]
  },
  {
   "cell_type": "code",
   "execution_count": 28,
   "metadata": {},
   "outputs": [
    {
     "name": "stderr",
     "output_type": "stream",
     "text": [
      "C:\\Users\\Oswin\\anaconda3\\lib\\site-packages\\seaborn\\axisgrid.py:49: UserWarning: FixedFormatter should only be used together with FixedLocator\n",
      "  ax.set(**kwargs)\n"
     ]
    },
    {
     "data": {
      "text/plain": [
       "<seaborn.axisgrid.FacetGrid at 0x154ad12cdf0>"
      ]
     },
     "execution_count": 28,
     "metadata": {},
     "output_type": "execute_result"
    },
    {
     "data": {
      "image/png": "[encoded data removed]",
      "text/plain": [
       "<Figure size 404.875x360 with 1 Axes>"
      ]
     },
     "metadata": {
      "needs_background": "light"
     },
     "output_type": "display_data"
    }
   ],
   "source": [
    "g_t = sns.displot(data=df, x='TRANS_TYPE', hue='RESULT', multiple='fill', discrete=True, stat='probability')\n",
    "g_t.set(xticklabels=[\"\",\"\",\"Automatic\",\"\",\"\",\"\", \"Manual\",\"\",\"\"]) "
   ]
  },
  {
   "cell_type": "markdown",
   "metadata": {},
   "source": [
    "## MAKE_MODEL_YEAR"
   ]
  },
  {
   "cell_type": "code",
   "execution_count": 29,
   "metadata": {},
   "outputs": [
    {
     "data": {
      "text/plain": [
       "<seaborn.axisgrid.FacetGrid at 0x154a3100520>"
      ]
     },
     "execution_count": 29,
     "metadata": {},
     "output_type": "execute_result"
    },
    {
     "data": {
      "image/png": "[encoded data removed]",
      "text/plain": [
       "<Figure size 360x360 with 1 Axes>"
      ]
     },
     "metadata": {
      "needs_background": "light"
     },
     "output_type": "display_data"
    }
   ],
   "source": [
    "g1 = sns.displot(data=df[df.RESULT == 1], x='MAKE_MODEL_YEAR', discrete=True, stat='probability')\n",
    "g1.set(xticklabels=[])"
   ]
  },
  {
   "cell_type": "code",
   "execution_count": 30,
   "metadata": {},
   "outputs": [
    {
     "data": {
      "text/plain": [
       "<seaborn.axisgrid.FacetGrid at 0x154af621d30>"
      ]
     },
     "execution_count": 30,
     "metadata": {},
     "output_type": "execute_result"
    },
    {
     "data": {
      "image/png": "[encoded data removed]",
      "text/plain": [
       "<Figure size 360x360 with 1 Axes>"
      ]
     },
     "metadata": {
      "needs_background": "light"
     },
     "output_type": "display_data"
    }
   ],
   "source": [
    "g2 = sns.displot(data=df[df.RESULT == 0], x='MAKE_MODEL_YEAR', discrete=True, stat='probability')\n",
    "g2.set(xticklabels=[])"
   ]
  }
 ],
 "metadata": {
  "kernelspec": {
   "display_name": "Python 3",
   "language": "python",
   "name": "python3"
  },
  "language_info": {
   "codemirror_mode": {
    "name": "ipython",
    "version": 3
   },
   "file_extension": ".py",
   "mimetype": "text/x-python",
   "name": "python",
   "nbconvert_exporter": "python",
   "pygments_lexer": "ipython3",
   "version": "3.8.5"
  }
 },
 "nbformat": 4,
 "nbformat_minor": 4
}
