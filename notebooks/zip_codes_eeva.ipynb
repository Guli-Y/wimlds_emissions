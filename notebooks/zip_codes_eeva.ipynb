{
 "cells": [
  {
   "cell_type": "markdown",
   "id": "d080d8ff",
   "metadata": {},
   "source": [
    "Is there an association between FAIL and ZIP_CODE?"
   ]
  },
  {
   "cell_type": "markdown",
   "id": "d47420d2",
   "metadata": {},
   "source": [
    "Is there an association between FAIL and Station_License_Number?"
   ]
  },
  {
   "cell_type": "code",
   "execution_count": 1,
   "id": "f80777be",
   "metadata": {},
   "outputs": [],
   "source": [
    "import pandas as pd\n",
    "import numpy as np\n",
    "from pathlib import Path\n",
    "import seaborn as sns"
   ]
  },
  {
   "cell_type": "code",
   "execution_count": 3,
   "id": "94b22ee4",
   "metadata": {},
   "outputs": [],
   "source": [
    "DATA_DIR = Path(\"../data/sample201320.csv\")\n",
    "cols = ['ZIP_CODE', 'VIN', 'OVERALL_RESULT', 'Station_License_Number']\n",
    "df = pd.read_csv(DATA_DIR, usecols = cols, dtype=object, skipinitialspace=True, )"
   ]
  },
  {
   "cell_type": "code",
   "execution_count": 4,
   "id": "006bea28",
   "metadata": {},
   "outputs": [
    {
     "data": {
      "text/html": [
       "<div>\n",
       "<style scoped>\n",
       "    .dataframe tbody tr th:only-of-type {\n",
       "        vertical-align: middle;\n",
       "    }\n",
       "\n",
       "    .dataframe tbody tr th {\n",
       "        vertical-align: top;\n",
       "    }\n",
       "\n",
       "    .dataframe thead th {\n",
       "        text-align: right;\n",
       "    }\n",
       "</style>\n",
       "<table border=\"1\" class=\"dataframe\">\n",
       "  <thead>\n",
       "    <tr style=\"text-align: right;\">\n",
       "      <th></th>\n",
       "      <th>VIN</th>\n",
       "      <th>ZIP_CODE</th>\n",
       "      <th>OVERALL_RESULT</th>\n",
       "      <th>Station_License_Number</th>\n",
       "    </tr>\n",
       "  </thead>\n",
       "  <tbody>\n",
       "    <tr>\n",
       "      <th>0</th>\n",
       "      <td>1G4HP52K45U160372</td>\n",
       "      <td>87121</td>\n",
       "      <td>P</td>\n",
       "      <td>IS311</td>\n",
       "    </tr>\n",
       "    <tr>\n",
       "      <th>1</th>\n",
       "      <td>3VWSF71K66M706988</td>\n",
       "      <td>87108</td>\n",
       "      <td>P</td>\n",
       "      <td>IR317</td>\n",
       "    </tr>\n",
       "    <tr>\n",
       "      <th>2</th>\n",
       "      <td>1FTRX17W43NA86035</td>\n",
       "      <td>87112</td>\n",
       "      <td>P</td>\n",
       "      <td>IS435</td>\n",
       "    </tr>\n",
       "    <tr>\n",
       "      <th>3</th>\n",
       "      <td>JTEEP21A560170542</td>\n",
       "      <td>87119</td>\n",
       "      <td>P</td>\n",
       "      <td>IS311</td>\n",
       "    </tr>\n",
       "    <tr>\n",
       "      <th>4</th>\n",
       "      <td>1G1ZT52865F313274</td>\n",
       "      <td>87111</td>\n",
       "      <td>F</td>\n",
       "      <td>IS404</td>\n",
       "    </tr>\n",
       "  </tbody>\n",
       "</table>\n",
       "</div>"
      ],
      "text/plain": [
       "                 VIN ZIP_CODE OVERALL_RESULT Station_License_Number\n",
       "0  1G4HP52K45U160372    87121              P                  IS311\n",
       "1  3VWSF71K66M706988    87108              P                  IR317\n",
       "2  1FTRX17W43NA86035    87112              P                  IS435\n",
       "3  JTEEP21A560170542    87119              P                  IS311\n",
       "4  1G1ZT52865F313274    87111              F                  IS404"
      ]
     },
     "execution_count": 4,
     "metadata": {},
     "output_type": "execute_result"
    }
   ],
   "source": [
    "df.head()"
   ]
  },
  {
   "cell_type": "code",
   "execution_count": 5,
   "id": "4f2f02ed",
   "metadata": {},
   "outputs": [
    {
     "data": {
      "text/plain": [
       "VIN                       86612\n",
       "ZIP_CODE                    476\n",
       "OVERALL_RESULT                4\n",
       "Station_License_Number      183\n",
       "dtype: int64"
      ]
     },
     "execution_count": 5,
     "metadata": {},
     "output_type": "execute_result"
    }
   ],
   "source": [
    "df.nunique()"
   ]
  },
  {
   "cell_type": "code",
   "execution_count": 6,
   "id": "0df583c1",
   "metadata": {},
   "outputs": [],
   "source": [
    "df = df[df.OVERALL_RESULT.isin(['P','F'])]"
   ]
  },
  {
   "cell_type": "code",
   "execution_count": 7,
   "id": "710c546b",
   "metadata": {},
   "outputs": [
    {
     "data": {
      "text/plain": [
       "VIN                       86341\n",
       "ZIP_CODE                    468\n",
       "OVERALL_RESULT                2\n",
       "Station_License_Number      183\n",
       "dtype: int64"
      ]
     },
     "execution_count": 7,
     "metadata": {},
     "output_type": "execute_result"
    }
   ],
   "source": [
    "df.nunique()"
   ]
  },
  {
   "cell_type": "code",
   "execution_count": 9,
   "id": "72283353",
   "metadata": {},
   "outputs": [
    {
     "data": {
      "text/plain": [
       "(187503, 4)"
      ]
     },
     "execution_count": 9,
     "metadata": {},
     "output_type": "execute_result"
    }
   ],
   "source": [
    "df.shape"
   ]
  },
  {
   "cell_type": "code",
   "execution_count": 11,
   "id": "344d829f",
   "metadata": {},
   "outputs": [
    {
     "data": {
      "text/plain": [
       "<seaborn.axisgrid.FacetGrid at 0x1271d8450>"
      ]
     },
     "execution_count": 11,
     "metadata": {},
     "output_type": "execute_result"
    },
    {
     "data": {
      "image/png": "[encoded data removed]",
      "text/plain": [
       "<Figure size 455x360 with 1 Axes>"
      ]
     },
     "metadata": {
      "needs_background": "light"
     },
     "output_type": "display_data"
    }
   ],
   "source": [
    "sns.displot(data=df, x='Station_License_Number', hue='OVERALL_RESULT', multiple='fill', discrete=True, stat='probability')"
   ]
  },
  {
   "cell_type": "code",
   "execution_count": 12,
   "id": "240caedd",
   "metadata": {},
   "outputs": [
    {
     "data": {
      "text/plain": [
       "0     87121\n",
       "1     87108\n",
       "2     87112\n",
       "3     87119\n",
       "4     87111\n",
       "5     87123\n",
       "6     87102\n",
       "7     87110\n",
       "8     87110\n",
       "9     87107\n",
       "10    87121\n",
       "11    87105\n",
       "12    87109\n",
       "13    87120\n",
       "14    87110\n",
       "15    87120\n",
       "16    87114\n",
       "17    87113\n",
       "18    87121\n",
       "19    87107\n",
       "Name: ZIP_CODE, dtype: object"
      ]
     },
     "execution_count": 12,
     "metadata": {},
     "output_type": "execute_result"
    }
   ],
   "source": [
    "df['ZIP_CODE'].head(20)"
   ]
  },
  {
   "cell_type": "code",
   "execution_count": 13,
   "id": "6f70e420",
   "metadata": {},
   "outputs": [],
   "source": [
    "df_sorted = df.sort_values(by='ZIP_CODE')"
   ]
  },
  {
   "cell_type": "code",
   "execution_count": 15,
   "id": "96eba16d",
   "metadata": {},
   "outputs": [
    {
     "name": "stdout",
     "output_type": "stream",
     "text": [
      "<class 'pandas.core.frame.DataFrame'>\n",
      "Int64Index: 187503 entries, 166525 to 191701\n",
      "Data columns (total 4 columns):\n",
      " #   Column                  Non-Null Count   Dtype \n",
      "---  ------                  --------------   ----- \n",
      " 0   VIN                     187503 non-null  object\n",
      " 1   ZIP_CODE                187503 non-null  object\n",
      " 2   OVERALL_RESULT          187503 non-null  object\n",
      " 3   Station_License_Number  187503 non-null  object\n",
      "dtypes: object(4)\n",
      "memory usage: 7.2+ MB\n"
     ]
    }
   ],
   "source": [
    "df_sorted.info()"
   ]
  },
  {
   "cell_type": "code",
   "execution_count": 17,
   "id": "138a0096",
   "metadata": {},
   "outputs": [
    {
     "data": {
      "text/plain": [
       "<seaborn.axisgrid.FacetGrid at 0x126b9a450>"
      ]
     },
     "execution_count": 17,
     "metadata": {},
     "output_type": "execute_result"
    },
    {
     "data": {
      "image/png": "[encoded data removed]",
      "text/plain": [
       "<Figure size 455x360 with 1 Axes>"
      ]
     },
     "metadata": {
      "needs_background": "light"
     },
     "output_type": "display_data"
    }
   ],
   "source": [
    "sns.displot(data=df_sorted, x='ZIP_CODE', hue='OVERALL_RESULT', multiple='fill', discrete=True, stat='probability')"
   ]
  },
  {
   "cell_type": "code",
   "execution_count": 19,
   "id": "6e6c3369",
   "metadata": {},
   "outputs": [
    {
     "data": {
      "text/html": [
       "<div>\n",
       "<style scoped>\n",
       "    .dataframe tbody tr th:only-of-type {\n",
       "        vertical-align: middle;\n",
       "    }\n",
       "\n",
       "    .dataframe tbody tr th {\n",
       "        vertical-align: top;\n",
       "    }\n",
       "\n",
       "    .dataframe thead th {\n",
       "        text-align: right;\n",
       "    }\n",
       "</style>\n",
       "<table border=\"1\" class=\"dataframe\">\n",
       "  <thead>\n",
       "    <tr style=\"text-align: right;\">\n",
       "      <th></th>\n",
       "      <th>VIN</th>\n",
       "      <th>OVERALL_RESULT</th>\n",
       "      <th>Station_License_Number</th>\n",
       "    </tr>\n",
       "    <tr>\n",
       "      <th>ZIP_CODE</th>\n",
       "      <th></th>\n",
       "      <th></th>\n",
       "      <th></th>\n",
       "    </tr>\n",
       "  </thead>\n",
       "  <tbody>\n",
       "    <tr>\n",
       "      <th>01464</th>\n",
       "      <td>1</td>\n",
       "      <td>1</td>\n",
       "      <td>1</td>\n",
       "    </tr>\n",
       "    <tr>\n",
       "      <th>04104</th>\n",
       "      <td>1</td>\n",
       "      <td>1</td>\n",
       "      <td>1</td>\n",
       "    </tr>\n",
       "    <tr>\n",
       "      <th>06820</th>\n",
       "      <td>1</td>\n",
       "      <td>1</td>\n",
       "      <td>1</td>\n",
       "    </tr>\n",
       "    <tr>\n",
       "      <th>07801</th>\n",
       "      <td>1</td>\n",
       "      <td>1</td>\n",
       "      <td>1</td>\n",
       "    </tr>\n",
       "    <tr>\n",
       "      <th>08107</th>\n",
       "      <td>1</td>\n",
       "      <td>1</td>\n",
       "      <td>1</td>\n",
       "    </tr>\n",
       "    <tr>\n",
       "      <th>...</th>\n",
       "      <td>...</td>\n",
       "      <td>...</td>\n",
       "      <td>...</td>\n",
       "    </tr>\n",
       "    <tr>\n",
       "      <th>98123</th>\n",
       "      <td>2</td>\n",
       "      <td>2</td>\n",
       "      <td>2</td>\n",
       "    </tr>\n",
       "    <tr>\n",
       "      <th>98199</th>\n",
       "      <td>1</td>\n",
       "      <td>1</td>\n",
       "      <td>1</td>\n",
       "    </tr>\n",
       "    <tr>\n",
       "      <th>98661</th>\n",
       "      <td>1</td>\n",
       "      <td>1</td>\n",
       "      <td>1</td>\n",
       "    </tr>\n",
       "    <tr>\n",
       "      <th>98710</th>\n",
       "      <td>9</td>\n",
       "      <td>9</td>\n",
       "      <td>9</td>\n",
       "    </tr>\n",
       "    <tr>\n",
       "      <th>98711</th>\n",
       "      <td>1</td>\n",
       "      <td>1</td>\n",
       "      <td>1</td>\n",
       "    </tr>\n",
       "  </tbody>\n",
       "</table>\n",
       "<p>468 rows × 3 columns</p>\n",
       "</div>"
      ],
      "text/plain": [
       "          VIN  OVERALL_RESULT  Station_License_Number\n",
       "ZIP_CODE                                             \n",
       "01464       1               1                       1\n",
       "04104       1               1                       1\n",
       "06820       1               1                       1\n",
       "07801       1               1                       1\n",
       "08107       1               1                       1\n",
       "...       ...             ...                     ...\n",
       "98123       2               2                       2\n",
       "98199       1               1                       1\n",
       "98661       1               1                       1\n",
       "98710       9               9                       9\n",
       "98711       1               1                       1\n",
       "\n",
       "[468 rows x 3 columns]"
      ]
     },
     "execution_count": 19,
     "metadata": {},
     "output_type": "execute_result"
    }
   ],
   "source": [
    "#counts per zip code\n",
    "df_sorted.groupby('ZIP_CODE').count()"
   ]
  },
  {
   "cell_type": "code",
   "execution_count": 20,
   "id": "3f0b5756",
   "metadata": {},
   "outputs": [
    {
     "data": {
      "text/html": [
       "<div>\n",
       "<style scoped>\n",
       "    .dataframe tbody tr th:only-of-type {\n",
       "        vertical-align: middle;\n",
       "    }\n",
       "\n",
       "    .dataframe tbody tr th {\n",
       "        vertical-align: top;\n",
       "    }\n",
       "\n",
       "    .dataframe thead th {\n",
       "        text-align: right;\n",
       "    }\n",
       "</style>\n",
       "<table border=\"1\" class=\"dataframe\">\n",
       "  <thead>\n",
       "    <tr style=\"text-align: right;\">\n",
       "      <th></th>\n",
       "      <th>VIN</th>\n",
       "      <th>ZIP_CODE</th>\n",
       "      <th>OVERALL_RESULT</th>\n",
       "    </tr>\n",
       "    <tr>\n",
       "      <th>Station_License_Number</th>\n",
       "      <th></th>\n",
       "      <th></th>\n",
       "      <th></th>\n",
       "    </tr>\n",
       "  </thead>\n",
       "  <tbody>\n",
       "    <tr>\n",
       "      <th>FG002</th>\n",
       "      <td>85</td>\n",
       "      <td>85</td>\n",
       "      <td>85</td>\n",
       "    </tr>\n",
       "    <tr>\n",
       "      <th>FG008</th>\n",
       "      <td>269</td>\n",
       "      <td>269</td>\n",
       "      <td>269</td>\n",
       "    </tr>\n",
       "    <tr>\n",
       "      <th>FG012</th>\n",
       "      <td>165</td>\n",
       "      <td>165</td>\n",
       "      <td>165</td>\n",
       "    </tr>\n",
       "    <tr>\n",
       "      <th>FG020</th>\n",
       "      <td>10</td>\n",
       "      <td>10</td>\n",
       "      <td>10</td>\n",
       "    </tr>\n",
       "    <tr>\n",
       "      <th>FG025</th>\n",
       "      <td>68</td>\n",
       "      <td>68</td>\n",
       "      <td>68</td>\n",
       "    </tr>\n",
       "    <tr>\n",
       "      <th>...</th>\n",
       "      <td>...</td>\n",
       "      <td>...</td>\n",
       "      <td>...</td>\n",
       "    </tr>\n",
       "    <tr>\n",
       "      <th>IS525</th>\n",
       "      <td>13</td>\n",
       "      <td>13</td>\n",
       "      <td>13</td>\n",
       "    </tr>\n",
       "    <tr>\n",
       "      <th>WW09</th>\n",
       "      <td>5</td>\n",
       "      <td>5</td>\n",
       "      <td>5</td>\n",
       "    </tr>\n",
       "    <tr>\n",
       "      <th>is420</th>\n",
       "      <td>3</td>\n",
       "      <td>3</td>\n",
       "      <td>3</td>\n",
       "    </tr>\n",
       "    <tr>\n",
       "      <th>is503</th>\n",
       "      <td>4</td>\n",
       "      <td>4</td>\n",
       "      <td>4</td>\n",
       "    </tr>\n",
       "    <tr>\n",
       "      <th>is517</th>\n",
       "      <td>8</td>\n",
       "      <td>8</td>\n",
       "      <td>8</td>\n",
       "    </tr>\n",
       "  </tbody>\n",
       "</table>\n",
       "<p>183 rows × 3 columns</p>\n",
       "</div>"
      ],
      "text/plain": [
       "                        VIN  ZIP_CODE  OVERALL_RESULT\n",
       "Station_License_Number                               \n",
       "FG002                    85        85              85\n",
       "FG008                   269       269             269\n",
       "FG012                   165       165             165\n",
       "FG020                    10        10              10\n",
       "FG025                    68        68              68\n",
       "...                     ...       ...             ...\n",
       "IS525                    13        13              13\n",
       "WW09                      5         5               5\n",
       "is420                     3         3               3\n",
       "is503                     4         4               4\n",
       "is517                     8         8               8\n",
       "\n",
       "[183 rows x 3 columns]"
      ]
     },
     "execution_count": 20,
     "metadata": {},
     "output_type": "execute_result"
    }
   ],
   "source": [
    "df_sorted.groupby('Station_License_Number').count()"
   ]
  },
  {
   "cell_type": "code",
   "execution_count": null,
   "id": "15796ae4",
   "metadata": {},
   "outputs": [],
   "source": [
    "#normalize the station license number\n",
    "#ignore invalid zip codes/ zip codes with low counts"
   ]
  }
 ],
 "metadata": {
  "kernelspec": {
   "display_name": "Python 3",
   "language": "python",
   "name": "python3"
  },
  "language_info": {
   "codemirror_mode": {
    "name": "ipython",
    "version": 3
   },
   "file_extension": ".py",
   "mimetype": "text/x-python",
   "name": "python",
   "nbconvert_exporter": "python",
   "pygments_lexer": "ipython3",
   "version": "3.7.10"
  }
 },
 "nbformat": 4,
 "nbformat_minor": 5
}
