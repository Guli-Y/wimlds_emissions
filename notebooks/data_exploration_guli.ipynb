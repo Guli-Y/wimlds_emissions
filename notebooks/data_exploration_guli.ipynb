{
 "cells": [
  {
   "cell_type": "code",
   "execution_count": 1,
   "id": "3bc650dc",
   "metadata": {},
   "outputs": [],
   "source": [
    "%load_ext autoreload\n",
    "%autoreload 2"
   ]
  },
  {
   "cell_type": "code",
   "execution_count": 2,
   "id": "9346fc7e",
   "metadata": {},
   "outputs": [],
   "source": [
    "# import libraries\n",
    "import pandas as pd\n",
    "pd.set_option('display.max_columns', None)\n",
    "import matplotlib.pyplot as plt\n",
    "%matplotlib inline\n",
    "import seaborn as sns\n",
    "import numpy as np\n",
    "from datetime import timedelta, datetime\n",
    "from termcolor import colored"
   ]
  },
  {
   "cell_type": "markdown",
   "id": "bbfc493c",
   "metadata": {},
   "source": [
    "aims:\n",
    "1. extract features from test failing vehicles\n",
    "2. build classification model for predicting outcome of emission test for vehicles\n",
    "\n",
    "additionals:\n",
    "\n",
    "1. new customer - prediction\n",
    "2. return customer - prediction\n",
    "3. predict test cost"
   ]
  },
  {
   "cell_type": "markdown",
   "id": "45ea8b03",
   "metadata": {},
   "source": [
    "# import data\n",
    "[here](https://opendata.cabq.gov/dataset/vehicle-emissions/resource/2663c138-549e-4d55-932f-6aa549c7d158) is the MetaData\n"
   ]
  },
  {
   "cell_type": "code",
   "execution_count": 3,
   "id": "9a9dd4fc",
   "metadata": {
    "scrolled": true
   },
   "outputs": [
    {
     "name": "stdout",
     "output_type": "stream",
     "text": [
      "data size: (193310, 127)\n"
     ]
    },
    {
     "data": {
      "text/html": [
       "<div>\n",
       "<style scoped>\n",
       "    .dataframe tbody tr th:only-of-type {\n",
       "        vertical-align: middle;\n",
       "    }\n",
       "\n",
       "    .dataframe tbody tr th {\n",
       "        vertical-align: top;\n",
       "    }\n",
       "\n",
       "    .dataframe thead th {\n",
       "        text-align: right;\n",
       "    }\n",
       "</style>\n",
       "<table border=\"1\" class=\"dataframe\">\n",
       "  <thead>\n",
       "    <tr style=\"text-align: right;\">\n",
       "      <th></th>\n",
       "      <th>RecordID</th>\n",
       "      <th>RECORD_NUM</th>\n",
       "      <th>VIR_CERT_NUMBER</th>\n",
       "      <th>STATION_NUM</th>\n",
       "      <th>ANALYZER_NUM</th>\n",
       "      <th>INSPECTOR_NUM</th>\n",
       "      <th>TEST_TYPE</th>\n",
       "      <th>VID_TEST_TYPE</th>\n",
       "      <th>TEST_SDATE</th>\n",
       "      <th>TEST_EDATE</th>\n",
       "      <th>VIN</th>\n",
       "      <th>VIN_SOURCE</th>\n",
       "      <th>VEH_LICENSE</th>\n",
       "      <th>GVW_TYPE</th>\n",
       "      <th>GVWR</th>\n",
       "      <th>MODEL_YEAR</th>\n",
       "      <th>MAKE</th>\n",
       "      <th>MODEL</th>\n",
       "      <th>CYL</th>\n",
       "      <th>ENGINE_SIZE</th>\n",
       "      <th>TRANS_TYPE</th>\n",
       "      <th>DUAL_EXHAUST</th>\n",
       "      <th>ODOMETER</th>\n",
       "      <th>FUEL_TYPE</th>\n",
       "      <th>VEHICLE_TYPE</th>\n",
       "      <th>EMISS_COST</th>\n",
       "      <th>ZIP_CODE</th>\n",
       "      <th>CERTIFICATION</th>\n",
       "      <th>ESC</th>\n",
       "      <th>VRT_RECORD_ID</th>\n",
       "      <th>E_TEST_SEQUENCE</th>\n",
       "      <th>E_PRECOND_PROCEDURE</th>\n",
       "      <th>E_HIGH_DCF</th>\n",
       "      <th>E_HIGH_RPM</th>\n",
       "      <th>E_HIGH_CO2</th>\n",
       "      <th>E_HIGH_O2</th>\n",
       "      <th>E_HIGH_HC</th>\n",
       "      <th>E_HIGH_HC_DCF</th>\n",
       "      <th>E_HIGH_HC_LIMIT</th>\n",
       "      <th>E_HIGH_CO</th>\n",
       "      <th>E_HIGH_CO_DCF</th>\n",
       "      <th>E_HIGH_CO_LIMIT</th>\n",
       "      <th>E_IDLE_DCF</th>\n",
       "      <th>E_IDLE_RPM</th>\n",
       "      <th>E_IDLE_CO2</th>\n",
       "      <th>E_IDLE_O2</th>\n",
       "      <th>E_IDLE_HC</th>\n",
       "      <th>E_IDLE_HC_DCF</th>\n",
       "      <th>E_IDLE_HC_LIMIT</th>\n",
       "      <th>E_IDLE_CO</th>\n",
       "      <th>E_IDLE_CO_DCF</th>\n",
       "      <th>E_IDLE_CO_LIMIT</th>\n",
       "      <th>E_HIGH_DCF_2</th>\n",
       "      <th>E_HIGH_RPM_2</th>\n",
       "      <th>E_HIGH_CO2_2</th>\n",
       "      <th>E_HIGH_O2_2</th>\n",
       "      <th>E_HIGH_HC_2</th>\n",
       "      <th>E_HIGH_HC_DCF_2</th>\n",
       "      <th>E_HIGH_CO_2</th>\n",
       "      <th>E_HIGH_CO_DCF_2</th>\n",
       "      <th>E_IDLE_DCF_2</th>\n",
       "      <th>E_IDLE_RPM_2</th>\n",
       "      <th>E_IDLE_CO2_2</th>\n",
       "      <th>E_IDLE_O2_2</th>\n",
       "      <th>E_IDLE_HC_2</th>\n",
       "      <th>E_IDLE_HC_DCF_2</th>\n",
       "      <th>E_IDLE_CO_2</th>\n",
       "      <th>E_IDLE_CO_DCF_2</th>\n",
       "      <th>E_RESULT_STRING</th>\n",
       "      <th>V_SMOKE1</th>\n",
       "      <th>V_SMOKE2</th>\n",
       "      <th>V_GASCAP</th>\n",
       "      <th>V_CAT</th>\n",
       "      <th>V_RESULT</th>\n",
       "      <th>KOEO_RESULT</th>\n",
       "      <th>KOER_RESULT</th>\n",
       "      <th>OBD_RDY_MISFIRE</th>\n",
       "      <th>OBD_RDY_FUEL</th>\n",
       "      <th>OBD_RDY_COMPONENT</th>\n",
       "      <th>OBD_RDY_CAT</th>\n",
       "      <th>OBD_RDY_CAT_HEATED</th>\n",
       "      <th>OBD_RDY_EVAP</th>\n",
       "      <th>OBD_RDY_SEC_AIR</th>\n",
       "      <th>OBD_RDY_AIR_COND</th>\n",
       "      <th>OBD_RDY_O2_SENSOR</th>\n",
       "      <th>OBD_RDY_O2_HEATER</th>\n",
       "      <th>OBD_RDY_EGR</th>\n",
       "      <th>OBD_RDY_RESULT</th>\n",
       "      <th>OBD_PID</th>\n",
       "      <th>OBD_PCM_ID</th>\n",
       "      <th>OBD_VIN</th>\n",
       "      <th>OBD_FLT_CODES</th>\n",
       "      <th>OBD_FLT_RESULT</th>\n",
       "      <th>OBD_MIL_STATUS</th>\n",
       "      <th>OBD_RESULT</th>\n",
       "      <th>ONLINE_STATUS</th>\n",
       "      <th>OFFLINE_REASON_CODE</th>\n",
       "      <th>ABORT_CODE</th>\n",
       "      <th>SOFTWARE_VERSION</th>\n",
       "      <th>INSP_COMMENTS</th>\n",
       "      <th>OVERALL_RESULT</th>\n",
       "      <th>R_TOTAL_COST</th>\n",
       "      <th>R_EGR</th>\n",
       "      <th>R_ELECTRICAL</th>\n",
       "      <th>R_EVAP_CONTROL</th>\n",
       "      <th>R_EXHAUST</th>\n",
       "      <th>R_IGNITION</th>\n",
       "      <th>R_INTAKE</th>\n",
       "      <th>R_ENGINE</th>\n",
       "      <th>R_PCV</th>\n",
       "      <th>R_OTHER</th>\n",
       "      <th>SentToWW</th>\n",
       "      <th>ABORT_CODE_OTHER_DESC</th>\n",
       "      <th>OBDII_AFFECT_OVERALL</th>\n",
       "      <th>E_HIGH_CO_RESULT</th>\n",
       "      <th>E_HIGH_HC_RESULT</th>\n",
       "      <th>E_IDLE_CO_RESULT</th>\n",
       "      <th>E_IDLE_HC_RESULT</th>\n",
       "      <th>MECHANIC_LAST_NAME</th>\n",
       "      <th>MECHANIC_FIRST_NAME</th>\n",
       "      <th>MECHANIC_MIDDLE_INIT</th>\n",
       "      <th>ENGINE_SIZE_ORIG</th>\n",
       "      <th>FAILED_IDLE_RPM</th>\n",
       "      <th>SENTTOVID</th>\n",
       "      <th>Station_License_Number</th>\n",
       "      <th>Analyzer_Number</th>\n",
       "      <th>Insert_DateTime</th>\n",
       "    </tr>\n",
       "  </thead>\n",
       "  <tbody>\n",
       "    <tr>\n",
       "      <th>0</th>\n",
       "      <td>2690332</td>\n",
       "      <td>10433</td>\n",
       "      <td>6878785.0</td>\n",
       "      <td>IS311</td>\n",
       "      <td>W028</td>\n",
       "      <td>AC084149</td>\n",
       "      <td>A</td>\n",
       "      <td>A</td>\n",
       "      <td>2013-03-04 10:11:00</td>\n",
       "      <td>2013-03-04 10:14:00</td>\n",
       "      <td>1G4HP52K45U160372</td>\n",
       "      <td>S</td>\n",
       "      <td>368RBP</td>\n",
       "      <td>1.0</td>\n",
       "      <td>3875</td>\n",
       "      <td>2005</td>\n",
       "      <td>BUICK</td>\n",
       "      <td>LESABRE</td>\n",
       "      <td>6</td>\n",
       "      <td>3800</td>\n",
       "      <td>A</td>\n",
       "      <td>N</td>\n",
       "      <td>114034</td>\n",
       "      <td>G</td>\n",
       "      <td>1</td>\n",
       "      <td>5.0</td>\n",
       "      <td>87121</td>\n",
       "      <td>C</td>\n",
       "      <td>6.0</td>\n",
       "      <td>20050189</td>\n",
       "      <td>1</td>\n",
       "      <td>1</td>\n",
       "      <td>0.0</td>\n",
       "      <td>0</td>\n",
       "      <td>0.0</td>\n",
       "      <td>0.0</td>\n",
       "      <td>0</td>\n",
       "      <td>0</td>\n",
       "      <td>100</td>\n",
       "      <td>0.0</td>\n",
       "      <td>0.0</td>\n",
       "      <td>1.0</td>\n",
       "      <td>0.0</td>\n",
       "      <td>0</td>\n",
       "      <td>0.0</td>\n",
       "      <td>0.0</td>\n",
       "      <td>0</td>\n",
       "      <td>0</td>\n",
       "      <td>100</td>\n",
       "      <td>0.0</td>\n",
       "      <td>0.0</td>\n",
       "      <td>1.0</td>\n",
       "      <td>0.0</td>\n",
       "      <td>0</td>\n",
       "      <td>0.0</td>\n",
       "      <td>0.0</td>\n",
       "      <td>0</td>\n",
       "      <td>0</td>\n",
       "      <td>0.0</td>\n",
       "      <td>0.0</td>\n",
       "      <td>0.0</td>\n",
       "      <td>0</td>\n",
       "      <td>0.0</td>\n",
       "      <td>0.0</td>\n",
       "      <td>0</td>\n",
       "      <td>0</td>\n",
       "      <td>0.0</td>\n",
       "      <td>0.0</td>\n",
       "      <td>N</td>\n",
       "      <td>N</td>\n",
       "      <td>P</td>\n",
       "      <td>P</td>\n",
       "      <td>P</td>\n",
       "      <td>P</td>\n",
       "      <td>P</td>\n",
       "      <td>P</td>\n",
       "      <td>1.0</td>\n",
       "      <td>1.0</td>\n",
       "      <td>1.0</td>\n",
       "      <td>2.0</td>\n",
       "      <td>0.0</td>\n",
       "      <td>2.0</td>\n",
       "      <td>0.0</td>\n",
       "      <td>0.0</td>\n",
       "      <td>1.0</td>\n",
       "      <td>1.0</td>\n",
       "      <td>1.0</td>\n",
       "      <td>P</td>\n",
       "      <td>19.0</td>\n",
       "      <td>10</td>\n",
       "      <td>1G4HP52K45U160372</td>\n",
       "      <td>NaN</td>\n",
       "      <td>P</td>\n",
       "      <td>1.0</td>\n",
       "      <td>P</td>\n",
       "      <td>0</td>\n",
       "      <td>0</td>\n",
       "      <td>NaN</td>\n",
       "      <td>502</td>\n",
       "      <td>NaN</td>\n",
       "      <td>P</td>\n",
       "      <td>0.0</td>\n",
       "      <td>NaN</td>\n",
       "      <td>NaN</td>\n",
       "      <td>NaN</td>\n",
       "      <td>NaN</td>\n",
       "      <td>NaN</td>\n",
       "      <td>NaN</td>\n",
       "      <td>NaN</td>\n",
       "      <td>NaN</td>\n",
       "      <td>Y</td>\n",
       "      <td>0</td>\n",
       "      <td>NaN</td>\n",
       "      <td>N</td>\n",
       "      <td>N</td>\n",
       "      <td>N</td>\n",
       "      <td>N</td>\n",
       "      <td>N</td>\n",
       "      <td>Huber</td>\n",
       "      <td>Bryan</td>\n",
       "      <td>S</td>\n",
       "      <td>NaN</td>\n",
       "      <td>NaN</td>\n",
       "      <td>0</td>\n",
       "      <td>IS311</td>\n",
       "      <td>W028</td>\n",
       "      <td>2013-03-04 16:26:26</td>\n",
       "    </tr>\n",
       "    <tr>\n",
       "      <th>1</th>\n",
       "      <td>2804644</td>\n",
       "      <td>18225</td>\n",
       "      <td>6979071.0</td>\n",
       "      <td>IR317</td>\n",
       "      <td>W039</td>\n",
       "      <td>37826481</td>\n",
       "      <td>I</td>\n",
       "      <td>I</td>\n",
       "      <td>2013-07-22 16:55:00</td>\n",
       "      <td>2013-07-22 16:56:00</td>\n",
       "      <td>3VWSF71K66M706988</td>\n",
       "      <td>S</td>\n",
       "      <td>843NWS</td>\n",
       "      <td>1.0</td>\n",
       "      <td>3250</td>\n",
       "      <td>2006</td>\n",
       "      <td>VOLKSWAGEN</td>\n",
       "      <td>JETTA</td>\n",
       "      <td>5</td>\n",
       "      <td>2500</td>\n",
       "      <td>M</td>\n",
       "      <td>N</td>\n",
       "      <td>76338</td>\n",
       "      <td>G</td>\n",
       "      <td>1</td>\n",
       "      <td>16.0</td>\n",
       "      <td>87108</td>\n",
       "      <td>C</td>\n",
       "      <td>6.0</td>\n",
       "      <td>0</td>\n",
       "      <td>1</td>\n",
       "      <td>1</td>\n",
       "      <td>0.0</td>\n",
       "      <td>0</td>\n",
       "      <td>0.0</td>\n",
       "      <td>0.0</td>\n",
       "      <td>0</td>\n",
       "      <td>0</td>\n",
       "      <td>100</td>\n",
       "      <td>0.0</td>\n",
       "      <td>0.0</td>\n",
       "      <td>1.0</td>\n",
       "      <td>0.0</td>\n",
       "      <td>0</td>\n",
       "      <td>0.0</td>\n",
       "      <td>0.0</td>\n",
       "      <td>0</td>\n",
       "      <td>0</td>\n",
       "      <td>100</td>\n",
       "      <td>0.0</td>\n",
       "      <td>0.0</td>\n",
       "      <td>1.0</td>\n",
       "      <td>0.0</td>\n",
       "      <td>0</td>\n",
       "      <td>0.0</td>\n",
       "      <td>0.0</td>\n",
       "      <td>0</td>\n",
       "      <td>0</td>\n",
       "      <td>0.0</td>\n",
       "      <td>0.0</td>\n",
       "      <td>0.0</td>\n",
       "      <td>0</td>\n",
       "      <td>0.0</td>\n",
       "      <td>0.0</td>\n",
       "      <td>0</td>\n",
       "      <td>0</td>\n",
       "      <td>0.0</td>\n",
       "      <td>0.0</td>\n",
       "      <td>N</td>\n",
       "      <td>N</td>\n",
       "      <td>P</td>\n",
       "      <td>N</td>\n",
       "      <td>P</td>\n",
       "      <td>P</td>\n",
       "      <td>P</td>\n",
       "      <td>P</td>\n",
       "      <td>1.0</td>\n",
       "      <td>1.0</td>\n",
       "      <td>1.0</td>\n",
       "      <td>1.0</td>\n",
       "      <td>0.0</td>\n",
       "      <td>1.0</td>\n",
       "      <td>1.0</td>\n",
       "      <td>0.0</td>\n",
       "      <td>1.0</td>\n",
       "      <td>1.0</td>\n",
       "      <td>0.0</td>\n",
       "      <td>P</td>\n",
       "      <td>38.0</td>\n",
       "      <td>E8</td>\n",
       "      <td>3VWSF71K66M706988</td>\n",
       "      <td>NaN</td>\n",
       "      <td>P</td>\n",
       "      <td>1.0</td>\n",
       "      <td>P</td>\n",
       "      <td>1</td>\n",
       "      <td>0</td>\n",
       "      <td>NaN</td>\n",
       "      <td>502</td>\n",
       "      <td>NaN</td>\n",
       "      <td>P</td>\n",
       "      <td>NaN</td>\n",
       "      <td>NaN</td>\n",
       "      <td>NaN</td>\n",
       "      <td>NaN</td>\n",
       "      <td>NaN</td>\n",
       "      <td>NaN</td>\n",
       "      <td>NaN</td>\n",
       "      <td>NaN</td>\n",
       "      <td>NaN</td>\n",
       "      <td>NaN</td>\n",
       "      <td>0</td>\n",
       "      <td>NaN</td>\n",
       "      <td>N</td>\n",
       "      <td>N</td>\n",
       "      <td>N</td>\n",
       "      <td>N</td>\n",
       "      <td>N</td>\n",
       "      <td>NGUYEN</td>\n",
       "      <td>HANH</td>\n",
       "      <td>A</td>\n",
       "      <td>2.5L</td>\n",
       "      <td>NaN</td>\n",
       "      <td>0</td>\n",
       "      <td>IR317</td>\n",
       "      <td>W039</td>\n",
       "      <td>2013-07-22 17:41:06</td>\n",
       "    </tr>\n",
       "  </tbody>\n",
       "</table>\n",
       "</div>"
      ],
      "text/plain": [
       "   RecordID  RECORD_NUM  VIR_CERT_NUMBER STATION_NUM ANALYZER_NUM  \\\n",
       "0   2690332       10433        6878785.0       IS311         W028   \n",
       "1   2804644       18225        6979071.0       IR317         W039   \n",
       "\n",
       "  INSPECTOR_NUM TEST_TYPE VID_TEST_TYPE           TEST_SDATE  \\\n",
       "0      AC084149         A             A  2013-03-04 10:11:00   \n",
       "1      37826481         I             I  2013-07-22 16:55:00   \n",
       "\n",
       "            TEST_EDATE                VIN VIN_SOURCE VEH_LICENSE  GVW_TYPE  \\\n",
       "0  2013-03-04 10:14:00  1G4HP52K45U160372          S      368RBP       1.0   \n",
       "1  2013-07-22 16:56:00  3VWSF71K66M706988          S      843NWS       1.0   \n",
       "\n",
       "   GVWR  MODEL_YEAR        MAKE    MODEL CYL  ENGINE_SIZE TRANS_TYPE  \\\n",
       "0  3875        2005       BUICK  LESABRE   6         3800          A   \n",
       "1  3250        2006  VOLKSWAGEN    JETTA   5         2500          M   \n",
       "\n",
       "  DUAL_EXHAUST  ODOMETER FUEL_TYPE  VEHICLE_TYPE  EMISS_COST ZIP_CODE  \\\n",
       "0            N    114034         G             1         5.0    87121   \n",
       "1            N     76338         G             1        16.0    87108   \n",
       "\n",
       "  CERTIFICATION  ESC  VRT_RECORD_ID  E_TEST_SEQUENCE  E_PRECOND_PROCEDURE  \\\n",
       "0             C  6.0       20050189                1                    1   \n",
       "1             C  6.0              0                1                    1   \n",
       "\n",
       "   E_HIGH_DCF  E_HIGH_RPM  E_HIGH_CO2  E_HIGH_O2  E_HIGH_HC  E_HIGH_HC_DCF  \\\n",
       "0         0.0           0         0.0        0.0          0              0   \n",
       "1         0.0           0         0.0        0.0          0              0   \n",
       "\n",
       "   E_HIGH_HC_LIMIT  E_HIGH_CO  E_HIGH_CO_DCF  E_HIGH_CO_LIMIT  E_IDLE_DCF  \\\n",
       "0              100        0.0            0.0              1.0         0.0   \n",
       "1              100        0.0            0.0              1.0         0.0   \n",
       "\n",
       "   E_IDLE_RPM  E_IDLE_CO2  E_IDLE_O2  E_IDLE_HC  E_IDLE_HC_DCF  \\\n",
       "0           0         0.0        0.0          0              0   \n",
       "1           0         0.0        0.0          0              0   \n",
       "\n",
       "   E_IDLE_HC_LIMIT  E_IDLE_CO  E_IDLE_CO_DCF  E_IDLE_CO_LIMIT  E_HIGH_DCF_2  \\\n",
       "0              100        0.0            0.0              1.0           0.0   \n",
       "1              100        0.0            0.0              1.0           0.0   \n",
       "\n",
       "   E_HIGH_RPM_2  E_HIGH_CO2_2  E_HIGH_O2_2  E_HIGH_HC_2  E_HIGH_HC_DCF_2  \\\n",
       "0             0           0.0          0.0            0                0   \n",
       "1             0           0.0          0.0            0                0   \n",
       "\n",
       "   E_HIGH_CO_2  E_HIGH_CO_DCF_2  E_IDLE_DCF_2  E_IDLE_RPM_2  E_IDLE_CO2_2  \\\n",
       "0          0.0              0.0           0.0             0           0.0   \n",
       "1          0.0              0.0           0.0             0           0.0   \n",
       "\n",
       "   E_IDLE_O2_2  E_IDLE_HC_2  E_IDLE_HC_DCF_2  E_IDLE_CO_2  E_IDLE_CO_DCF_2  \\\n",
       "0          0.0            0                0          0.0              0.0   \n",
       "1          0.0            0                0          0.0              0.0   \n",
       "\n",
       "  E_RESULT_STRING V_SMOKE1 V_SMOKE2 V_GASCAP V_CAT V_RESULT KOEO_RESULT  \\\n",
       "0               N        N        P        P     P        P           P   \n",
       "1               N        N        P        N     P        P           P   \n",
       "\n",
       "  KOER_RESULT  OBD_RDY_MISFIRE  OBD_RDY_FUEL  OBD_RDY_COMPONENT  OBD_RDY_CAT  \\\n",
       "0           P              1.0           1.0                1.0          2.0   \n",
       "1           P              1.0           1.0                1.0          1.0   \n",
       "\n",
       "   OBD_RDY_CAT_HEATED  OBD_RDY_EVAP  OBD_RDY_SEC_AIR  OBD_RDY_AIR_COND  \\\n",
       "0                 0.0           2.0              0.0               0.0   \n",
       "1                 0.0           1.0              1.0               0.0   \n",
       "\n",
       "   OBD_RDY_O2_SENSOR  OBD_RDY_O2_HEATER  OBD_RDY_EGR OBD_RDY_RESULT  OBD_PID  \\\n",
       "0                1.0                1.0          1.0              P     19.0   \n",
       "1                1.0                1.0          0.0              P     38.0   \n",
       "\n",
       "  OBD_PCM_ID            OBD_VIN OBD_FLT_CODES OBD_FLT_RESULT  OBD_MIL_STATUS  \\\n",
       "0         10  1G4HP52K45U160372           NaN              P             1.0   \n",
       "1         E8  3VWSF71K66M706988           NaN              P             1.0   \n",
       "\n",
       "  OBD_RESULT  ONLINE_STATUS  OFFLINE_REASON_CODE  ABORT_CODE  \\\n",
       "0          P              0                    0         NaN   \n",
       "1          P              1                    0         NaN   \n",
       "\n",
       "   SOFTWARE_VERSION  INSP_COMMENTS OVERALL_RESULT  R_TOTAL_COST R_EGR  \\\n",
       "0               502            NaN              P           0.0   NaN   \n",
       "1               502            NaN              P           NaN   NaN   \n",
       "\n",
       "  R_ELECTRICAL R_EVAP_CONTROL R_EXHAUST R_IGNITION R_INTAKE R_ENGINE R_PCV  \\\n",
       "0          NaN            NaN       NaN        NaN      NaN      NaN   NaN   \n",
       "1          NaN            NaN       NaN        NaN      NaN      NaN   NaN   \n",
       "\n",
       "  R_OTHER  SentToWW ABORT_CODE_OTHER_DESC OBDII_AFFECT_OVERALL  \\\n",
       "0       Y         0                   NaN                    N   \n",
       "1     NaN         0                   NaN                    N   \n",
       "\n",
       "  E_HIGH_CO_RESULT E_HIGH_HC_RESULT E_IDLE_CO_RESULT E_IDLE_HC_RESULT  \\\n",
       "0                N                N                N                N   \n",
       "1                N                N                N                N   \n",
       "\n",
       "  MECHANIC_LAST_NAME MECHANIC_FIRST_NAME MECHANIC_MIDDLE_INIT  \\\n",
       "0              Huber               Bryan                    S   \n",
       "1             NGUYEN                HANH                    A   \n",
       "\n",
       "  ENGINE_SIZE_ORIG FAILED_IDLE_RPM  SENTTOVID Station_License_Number  \\\n",
       "0              NaN             NaN          0                  IS311   \n",
       "1             2.5L             NaN          0                  IR317   \n",
       "\n",
       "  Analyzer_Number      Insert_DateTime  \n",
       "0            W028  2013-03-04 16:26:26  \n",
       "1            W039  2013-07-22 17:41:06  "
      ]
     },
     "execution_count": 3,
     "metadata": {},
     "output_type": "execute_result"
    }
   ],
   "source": [
    "df_all = pd.read_csv('../data/sample201320.csv', low_memory=False)\n",
    "\n",
    "print(\"data size:\", df_all.shape)\n",
    "df_all.head(2)"
   ]
  },
  {
   "cell_type": "markdown",
   "id": "efaecdd5",
   "metadata": {},
   "source": [
    "# target\n",
    "\n",
    "1. keep all the records with OVERALL_RESULT = P or F\n",
    "2. change to numeric\n",
    "- P    173762\n",
    "- F     13741"
   ]
  },
  {
   "cell_type": "code",
   "execution_count": 4,
   "id": "bff6f59a",
   "metadata": {},
   "outputs": [
    {
     "name": "stdout",
     "output_type": "stream",
     "text": [
      "Num of rows with missing values: 0\n"
     ]
    },
    {
     "data": {
      "image/png": "[encoded data removed]",
      "text/plain": [
       "<Figure size 432x288 with 1 Axes>"
      ]
     },
     "metadata": {
      "needs_background": "light"
     },
     "output_type": "display_data"
    }
   ],
   "source": [
    "import seaborn as sns\n",
    "y = df_all['OVERALL_RESULT']\n",
    "print('Num of rows with missing values:', y.isnull().sum())\n",
    "tmp = y.value_counts()*100.0/y.shape[0]\n",
    "sns.barplot(x=tmp.index, y=tmp);"
   ]
  },
  {
   "cell_type": "code",
   "execution_count": 5,
   "id": "2eba3b88",
   "metadata": {},
   "outputs": [
    {
     "data": {
      "text/plain": [
       "P    173762\n",
       "F     13741\n",
       "A      5805\n",
       "O         2\n",
       "Name: OVERALL_RESULT, dtype: int64"
      ]
     },
     "execution_count": 5,
     "metadata": {},
     "output_type": "execute_result"
    }
   ],
   "source": [
    "y.value_counts()"
   ]
  },
  {
   "cell_type": "code",
   "execution_count": 6,
   "id": "0f457ac0",
   "metadata": {},
   "outputs": [
    {
     "data": {
      "text/plain": [
       "129                               vin wrong\n",
       "524                    Test Time Expiration\n",
       "564                       wrong action used\n",
       "610                             wrong plate\n",
       "766                    Test Time Expiration\n",
       "826                    Test Time Expiration\n",
       "994                              wrong info\n",
       "1059              WILL NOT PICK UP OBD INFO\n",
       "1119                   DIDNT NEED EMISSIONS\n",
       "1147                             wrong info\n",
       "1472                             wrong year\n",
       "1802                            wrong plage\n",
       "1862                   Test Time Expiration\n",
       "1930                              WRONG CAR\n",
       "1942              wrong engine size entered\n",
       "2225                   Test Time Expiration\n",
       "2283                            wrong plate\n",
       "2377                               car info\n",
       "2571                         11000 LBS GVWR\n",
       "2985                             WRONG INFO\n",
       "3040                           not required\n",
       "3137                            WRONG MODEL\n",
       "3143                             WRONG INFO\n",
       "3272                      MILES NOT CORRECT\n",
       "3324                    gvwr was over 10000\n",
       "3352    wrong test came up for this vehicle\n",
       "3365               obd II unable to connect\n",
       "3426                           coolant leak\n",
       "3435                                hang up\n",
       "3479        OBDII Secondary Readiness Abort\n",
       "Name: ABORT_CODE_OTHER_DESC, dtype: object"
      ]
     },
     "execution_count": 6,
     "metadata": {},
     "output_type": "execute_result"
    }
   ],
   "source": [
    "df_all.loc[(df_all.OVERALL_RESULT=='A') & (df_all.ABORT_CODE_OTHER_DESC.notnull()), 'ABORT_CODE_OTHER_DESC'].head(30)"
   ]
  },
  {
   "cell_type": "code",
   "execution_count": 7,
   "id": "4a6a5585",
   "metadata": {},
   "outputs": [
    {
     "data": {
      "text/plain": [
       "P    173762\n",
       "F     13741\n",
       "Name: OVERALL_RESULT, dtype: int64"
      ]
     },
     "execution_count": 7,
     "metadata": {},
     "output_type": "execute_result"
    }
   ],
   "source": [
    "# drop the rows where the test was aborted\n",
    "df_all = df_all[~df_all.OVERALL_RESULT.isin(['A','O'])]\n",
    "df_all.OVERALL_RESULT.value_counts()"
   ]
  },
  {
   "cell_type": "code",
   "execution_count": 8,
   "id": "120d1913",
   "metadata": {},
   "outputs": [
    {
     "data": {
      "text/plain": [
       "1    173762\n",
       "0     13741\n",
       "Name: RESULT, dtype: int64"
      ]
     },
     "execution_count": 8,
     "metadata": {},
     "output_type": "execute_result"
    }
   ],
   "source": [
    "# P=1, F=1\n",
    "df_all['RESULT'] = df_all['OVERALL_RESULT'].map({'P':1, 'F':0})\n",
    "df_all.RESULT.value_counts()"
   ]
  },
  {
   "cell_type": "markdown",
   "id": "ce38824d",
   "metadata": {},
   "source": [
    "# vehicle features\n"
   ]
  },
  {
   "cell_type": "code",
   "execution_count": 9,
   "id": "e364ec28",
   "metadata": {},
   "outputs": [
    {
     "name": "stdout",
     "output_type": "stream",
     "text": [
      "187503\n",
      "RecordID           187503\n",
      "RECORD_NUM          31005\n",
      "VIR_CERT_NUMBER    187312\n",
      "dtype: int64\n"
     ]
    }
   ],
   "source": [
    "# find the unique id column\n",
    "print(df_all.shape[0])\n",
    "print(df_all[['RecordID', 'RECORD_NUM', 'VIR_CERT_NUMBER']].nunique())"
   ]
  },
  {
   "cell_type": "code",
   "execution_count": 10,
   "id": "3f71ab15",
   "metadata": {},
   "outputs": [
    {
     "name": "stdout",
     "output_type": "stream",
     "text": [
      "RecordID has been set as index\n"
     ]
    }
   ],
   "source": [
    "# set RecordID as index\n",
    "df_all.set_index('RecordID', inplace=True)\n",
    "print(\"RecordID has been set as index\")"
   ]
  },
  {
   "cell_type": "markdown",
   "id": "594e89b0",
   "metadata": {},
   "source": [
    "## quick exploration for selecting features"
   ]
  },
  {
   "cell_type": "markdown",
   "id": "c5185cef",
   "metadata": {
    "heading_collapsed": true
   },
   "source": [
    "### vehicle features and missing values\n",
    "- VID_TEST_TYPE:    80462\n",
    "- GVW_TYPE:            71\n",
    "- VEH_LICENSE:         13\n",
    "- MODEL:                2\n"
   ]
  },
  {
   "cell_type": "code",
   "execution_count": 11,
   "id": "222090a6",
   "metadata": {
    "hidden": true
   },
   "outputs": [
    {
     "data": {
      "text/html": [
       "<div>\n",
       "<style scoped>\n",
       "    .dataframe tbody tr th:only-of-type {\n",
       "        vertical-align: middle;\n",
       "    }\n",
       "\n",
       "    .dataframe tbody tr th {\n",
       "        vertical-align: top;\n",
       "    }\n",
       "\n",
       "    .dataframe thead th {\n",
       "        text-align: right;\n",
       "    }\n",
       "</style>\n",
       "<table border=\"1\" class=\"dataframe\">\n",
       "  <thead>\n",
       "    <tr style=\"text-align: right;\">\n",
       "      <th></th>\n",
       "      <th>RESULT</th>\n",
       "      <th>TEST_TYPE</th>\n",
       "      <th>VID_TEST_TYPE</th>\n",
       "      <th>TEST_SDATE</th>\n",
       "      <th>TEST_EDATE</th>\n",
       "      <th>VIN</th>\n",
       "      <th>ZIP_CODE</th>\n",
       "      <th>VEHICLE_TYPE</th>\n",
       "      <th>MODEL_YEAR</th>\n",
       "      <th>MAKE</th>\n",
       "      <th>MODEL</th>\n",
       "      <th>GVW_TYPE</th>\n",
       "      <th>GVWR</th>\n",
       "      <th>CYL</th>\n",
       "      <th>ENGINE_SIZE</th>\n",
       "      <th>TRANS_TYPE</th>\n",
       "      <th>DUAL_EXHAUST</th>\n",
       "      <th>ODOMETER</th>\n",
       "      <th>FUEL_TYPE</th>\n",
       "    </tr>\n",
       "    <tr>\n",
       "      <th>RecordID</th>\n",
       "      <th></th>\n",
       "      <th></th>\n",
       "      <th></th>\n",
       "      <th></th>\n",
       "      <th></th>\n",
       "      <th></th>\n",
       "      <th></th>\n",
       "      <th></th>\n",
       "      <th></th>\n",
       "      <th></th>\n",
       "      <th></th>\n",
       "      <th></th>\n",
       "      <th></th>\n",
       "      <th></th>\n",
       "      <th></th>\n",
       "      <th></th>\n",
       "      <th></th>\n",
       "      <th></th>\n",
       "      <th></th>\n",
       "    </tr>\n",
       "  </thead>\n",
       "  <tbody>\n",
       "    <tr>\n",
       "      <th>2690332</th>\n",
       "      <td>1</td>\n",
       "      <td>A</td>\n",
       "      <td>A</td>\n",
       "      <td>2013-03-04 10:11:00</td>\n",
       "      <td>2013-03-04 10:14:00</td>\n",
       "      <td>1G4HP52K45U160372</td>\n",
       "      <td>87121</td>\n",
       "      <td>1</td>\n",
       "      <td>2005</td>\n",
       "      <td>BUICK</td>\n",
       "      <td>LESABRE</td>\n",
       "      <td>1.0</td>\n",
       "      <td>3875</td>\n",
       "      <td>6</td>\n",
       "      <td>3800</td>\n",
       "      <td>A</td>\n",
       "      <td>N</td>\n",
       "      <td>114034</td>\n",
       "      <td>G</td>\n",
       "    </tr>\n",
       "    <tr>\n",
       "      <th>2804644</th>\n",
       "      <td>1</td>\n",
       "      <td>I</td>\n",
       "      <td>I</td>\n",
       "      <td>2013-07-22 16:55:00</td>\n",
       "      <td>2013-07-22 16:56:00</td>\n",
       "      <td>3VWSF71K66M706988</td>\n",
       "      <td>87108</td>\n",
       "      <td>1</td>\n",
       "      <td>2006</td>\n",
       "      <td>VOLKSWAGEN</td>\n",
       "      <td>JETTA</td>\n",
       "      <td>1.0</td>\n",
       "      <td>3250</td>\n",
       "      <td>5</td>\n",
       "      <td>2500</td>\n",
       "      <td>M</td>\n",
       "      <td>N</td>\n",
       "      <td>76338</td>\n",
       "      <td>G</td>\n",
       "    </tr>\n",
       "    <tr>\n",
       "      <th>2779074</th>\n",
       "      <td>1</td>\n",
       "      <td>I</td>\n",
       "      <td>I</td>\n",
       "      <td>2013-06-18 12:45:00</td>\n",
       "      <td>2013-06-18 12:47:00</td>\n",
       "      <td>1FTRX17W43NA86035</td>\n",
       "      <td>87112</td>\n",
       "      <td>3</td>\n",
       "      <td>2003</td>\n",
       "      <td>FORD</td>\n",
       "      <td>F150 2WD</td>\n",
       "      <td>2.0</td>\n",
       "      <td>6050</td>\n",
       "      <td>8</td>\n",
       "      <td>4600</td>\n",
       "      <td>A</td>\n",
       "      <td>N</td>\n",
       "      <td>104849</td>\n",
       "      <td>G</td>\n",
       "    </tr>\n",
       "    <tr>\n",
       "      <th>2761810</th>\n",
       "      <td>1</td>\n",
       "      <td>I</td>\n",
       "      <td>I</td>\n",
       "      <td>2013-05-29 16:17:00</td>\n",
       "      <td>2013-05-29 16:18:00</td>\n",
       "      <td>JTEEP21A560170542</td>\n",
       "      <td>87119</td>\n",
       "      <td>4</td>\n",
       "      <td>2006</td>\n",
       "      <td>TOYOTA</td>\n",
       "      <td>HIGHLANDER 4WD</td>\n",
       "      <td>1.0</td>\n",
       "      <td>5360</td>\n",
       "      <td>6</td>\n",
       "      <td>3300</td>\n",
       "      <td>A</td>\n",
       "      <td>N</td>\n",
       "      <td>70130</td>\n",
       "      <td>G</td>\n",
       "    </tr>\n",
       "    <tr>\n",
       "      <th>2733004</th>\n",
       "      <td>0</td>\n",
       "      <td>I</td>\n",
       "      <td>I</td>\n",
       "      <td>2013-04-22 15:54:00</td>\n",
       "      <td>2013-04-22 15:58:00</td>\n",
       "      <td>1G1ZT52865F313274</td>\n",
       "      <td>87111</td>\n",
       "      <td>1</td>\n",
       "      <td>2005</td>\n",
       "      <td>CHEVROLET</td>\n",
       "      <td>MALIBU</td>\n",
       "      <td>1.0</td>\n",
       "      <td>3375</td>\n",
       "      <td>6</td>\n",
       "      <td>3500</td>\n",
       "      <td>A</td>\n",
       "      <td>N</td>\n",
       "      <td>133251</td>\n",
       "      <td>G</td>\n",
       "    </tr>\n",
       "  </tbody>\n",
       "</table>\n",
       "</div>"
      ],
      "text/plain": [
       "          RESULT TEST_TYPE VID_TEST_TYPE           TEST_SDATE  \\\n",
       "RecordID                                                        \n",
       "2690332        1         A             A  2013-03-04 10:11:00   \n",
       "2804644        1         I             I  2013-07-22 16:55:00   \n",
       "2779074        1         I             I  2013-06-18 12:45:00   \n",
       "2761810        1         I             I  2013-05-29 16:17:00   \n",
       "2733004        0         I             I  2013-04-22 15:54:00   \n",
       "\n",
       "                   TEST_EDATE                VIN ZIP_CODE  VEHICLE_TYPE  \\\n",
       "RecordID                                                                  \n",
       "2690332   2013-03-04 10:14:00  1G4HP52K45U160372    87121             1   \n",
       "2804644   2013-07-22 16:56:00  3VWSF71K66M706988    87108             1   \n",
       "2779074   2013-06-18 12:47:00  1FTRX17W43NA86035    87112             3   \n",
       "2761810   2013-05-29 16:18:00  JTEEP21A560170542    87119             4   \n",
       "2733004   2013-04-22 15:58:00  1G1ZT52865F313274    87111             1   \n",
       "\n",
       "          MODEL_YEAR        MAKE           MODEL  GVW_TYPE  GVWR CYL  \\\n",
       "RecordID                                                               \n",
       "2690332         2005       BUICK         LESABRE       1.0  3875   6   \n",
       "2804644         2006  VOLKSWAGEN           JETTA       1.0  3250   5   \n",
       "2779074         2003        FORD        F150 2WD       2.0  6050   8   \n",
       "2761810         2006      TOYOTA  HIGHLANDER 4WD       1.0  5360   6   \n",
       "2733004         2005   CHEVROLET          MALIBU       1.0  3375   6   \n",
       "\n",
       "          ENGINE_SIZE TRANS_TYPE DUAL_EXHAUST  ODOMETER FUEL_TYPE  \n",
       "RecordID                                                           \n",
       "2690332          3800          A            N    114034         G  \n",
       "2804644          2500          M            N     76338         G  \n",
       "2779074          4600          A            N    104849         G  \n",
       "2761810          3300          A            N     70130         G  \n",
       "2733004          3500          A            N    133251         G  "
      ]
     },
     "execution_count": 11,
     "metadata": {},
     "output_type": "execute_result"
    }
   ],
   "source": [
    "cols = ['RESULT',\n",
    "        'TEST_TYPE', 'VID_TEST_TYPE', # which\n",
    "        'TEST_SDATE', 'TEST_EDATE', \n",
    "        'VIN', \n",
    "        'ZIP_CODE',\n",
    "        'VEHICLE_TYPE',\n",
    "        'MODEL_YEAR', 'MAKE', 'MODEL',\n",
    "        'GVW_TYPE', 'GVWR', # which\n",
    "        'CYL', \n",
    "        'ENGINE_SIZE', \n",
    "        'TRANS_TYPE',\n",
    "        'DUAL_EXHAUST', \n",
    "        'ODOMETER', \n",
    "        'FUEL_TYPE']\n",
    "df = df_all[cols]\n",
    "df.head()"
   ]
  },
  {
   "cell_type": "code",
   "execution_count": 12,
   "id": "6ee3394f",
   "metadata": {
    "hidden": true
   },
   "outputs": [
    {
     "data": {
      "text/plain": [
       "VID_TEST_TYPE    80462\n",
       "GVW_TYPE            71\n",
       "MODEL                2\n",
       "RESULT               0\n",
       "ODOMETER             0\n",
       "dtype: int64"
      ]
     },
     "execution_count": 12,
     "metadata": {},
     "output_type": "execute_result"
    }
   ],
   "source": [
    "df.isnull().sum().sort_values(ascending=False)[:5]"
   ]
  },
  {
   "cell_type": "code",
   "execution_count": 13,
   "id": "a2cfac66",
   "metadata": {
    "hidden": true
   },
   "outputs": [
    {
     "data": {
      "text/plain": [
       "86341"
      ]
     },
     "execution_count": 13,
     "metadata": {},
     "output_type": "execute_result"
    }
   ],
   "source": [
    "# how many unique vehicles\n",
    "df.VIN.nunique()"
   ]
  },
  {
   "cell_type": "markdown",
   "id": "927b47f9",
   "metadata": {
    "heading_collapsed": true
   },
   "source": [
    "### TEST_TYPE VS VID_TEST_TYPE\n",
    "- drop VID_TEST_TYPE due to the missing values"
   ]
  },
  {
   "cell_type": "code",
   "execution_count": 14,
   "id": "3b7cb1cb",
   "metadata": {
    "hidden": true,
    "scrolled": true
   },
   "outputs": [
    {
     "data": {
      "text/plain": [
       "<AxesSubplot:xlabel='RESULT', ylabel='count'>"
      ]
     },
     "execution_count": 14,
     "metadata": {},
     "output_type": "execute_result"
    },
    {
     "data": {
      "image/png": "[encoded data removed]",
      "text/plain": [
       "<Figure size 1440x288 with 2 Axes>"
      ]
     },
     "metadata": {
      "needs_background": "light"
     },
     "output_type": "display_data"
    }
   ],
   "source": [
    "tmp = df[['RESULT','TEST_TYPE', 'VID_TEST_TYPE']]\n",
    "fig, axs = plt.subplots(1, 2, figsize=(20, 4))\n",
    "sns.countplot(data=tmp, x='RESULT', hue='TEST_TYPE', ax=axs[0])\n",
    "sns.countplot(data=tmp, x='RESULT', hue='VID_TEST_TYPE', ax=axs[1])"
   ]
  },
  {
   "cell_type": "code",
   "execution_count": 15,
   "id": "69839758",
   "metadata": {
    "hidden": true
   },
   "outputs": [],
   "source": [
    "df = df.drop(columns=['VID_TEST_TYPE'])"
   ]
  },
  {
   "cell_type": "markdown",
   "id": "0db06031",
   "metadata": {},
   "source": [
    "### GVW_TYPE vs GVWR\n",
    "- drop GVW_TYPE\n"
   ]
  },
  {
   "cell_type": "code",
   "execution_count": 16,
   "id": "f4438505",
   "metadata": {},
   "outputs": [
    {
     "data": {
      "text/plain": [
       "<AxesSubplot:xlabel='RESULT', ylabel='count'>"
      ]
     },
     "execution_count": 16,
     "metadata": {},
     "output_type": "execute_result"
    },
    {
     "data": {
      "image/png": "[encoded data removed]",
      "text/plain": [
       "<Figure size 432x288 with 1 Axes>"
      ]
     },
     "metadata": {
      "needs_background": "light"
     },
     "output_type": "display_data"
    }
   ],
   "source": [
    "tmp = df[['RESULT','GVW_TYPE', 'GVWR']]\n",
    "sns.countplot(data=tmp, x='RESULT', hue='GVW_TYPE')"
   ]
  },
  {
   "cell_type": "code",
   "execution_count": 17,
   "id": "9ad2ea9f",
   "metadata": {},
   "outputs": [
    {
     "data": {
      "text/plain": [
       "<seaborn.axisgrid.PairGrid at 0x7f21715c4cd0>"
      ]
     },
     "execution_count": 17,
     "metadata": {},
     "output_type": "execute_result"
    },
    {
     "data": {
      "image/png": "[encoded data removed]",
      "text/plain": [
       "<Figure size 540x540 with 12 Axes>"
      ]
     },
     "metadata": {
      "needs_background": "light"
     },
     "output_type": "display_data"
    }
   ],
   "source": [
    "sns.pairplot(tmp)"
   ]
  },
  {
   "cell_type": "code",
   "execution_count": 18,
   "id": "1dc020d3",
   "metadata": {},
   "outputs": [],
   "source": [
    "# drop GVW\n",
    "df = df.drop(columns=['GVW_TYPE'])"
   ]
  },
  {
   "cell_type": "markdown",
   "id": "7f9981b0",
   "metadata": {
    "heading_collapsed": true
   },
   "source": [
    "### categorical cols distribution\n",
    "- drop DUAL_EXHAUST"
   ]
  },
  {
   "cell_type": "code",
   "execution_count": 19,
   "id": "068d1f63",
   "metadata": {
    "hidden": true
   },
   "outputs": [
    {
     "data": {
      "text/plain": [
       "RESULT               2\n",
       "TEST_TYPE            2\n",
       "DUAL_EXHAUST         2\n",
       "TRANS_TYPE           2\n",
       "VEHICLE_TYPE         7\n",
       "FUEL_TYPE            7\n",
       "CYL                 10\n",
       "MODEL_YEAR          43\n",
       "ENGINE_SIZE         83\n",
       "MAKE                92\n",
       "ZIP_CODE           468\n",
       "GVWR              2426\n",
       "MODEL             2537\n",
       "VIN              86341\n",
       "ODOMETER        124790\n",
       "TEST_EDATE      180666\n",
       "TEST_SDATE      180717\n",
       "dtype: int64"
      ]
     },
     "execution_count": 19,
     "metadata": {},
     "output_type": "execute_result"
    }
   ],
   "source": [
    "df.nunique().sort_values()"
   ]
  },
  {
   "cell_type": "code",
   "execution_count": 20,
   "id": "66c601b6",
   "metadata": {
    "hidden": true
   },
   "outputs": [
    {
     "data": {
      "text/plain": [
       "Index(['RESULT', 'TEST_TYPE', 'DUAL_EXHAUST', 'TRANS_TYPE', 'VEHICLE_TYPE',\n",
       "       'FUEL_TYPE', 'CYL', 'MODEL_YEAR', 'ENGINE_SIZE', 'MAKE', 'ZIP_CODE',\n",
       "       'GVWR', 'MODEL', 'VIN', 'ODOMETER', 'TEST_EDATE', 'TEST_SDATE'],\n",
       "      dtype='object')"
      ]
     },
     "execution_count": 20,
     "metadata": {},
     "output_type": "execute_result"
    }
   ],
   "source": [
    "df.nunique().sort_values().index"
   ]
  },
  {
   "cell_type": "code",
   "execution_count": 21,
   "id": "03d36efc",
   "metadata": {
    "hidden": true,
    "scrolled": false
   },
   "outputs": [
    {
     "data": {
      "image/png": "[encoded data removed]",
      "text/plain": [
       "<Figure size 360x1728 with 4 Axes>"
      ]
     },
     "metadata": {
      "needs_background": "light"
     },
     "output_type": "display_data"
    }
   ],
   "source": [
    "categorical_cols = ['TEST_TYPE', \n",
    "                    'TRANS_TYPE', \n",
    "                    'VEHICLE_TYPE', \n",
    "                    'FUEL_TYPE', \n",
    "                    'CYL']\n",
    "\n",
    "# distribution of categorical values in Pass and Fail data sets\n",
    "df['count'] = 1\n",
    "n = len(categorical_cols[1:])\n",
    "fig, axs = plt.subplots(n, 1, figsize=(5, 6*n))\n",
    "for col, ax in zip(categorical_cols[1:], axs.flat):\n",
    "    tmp = df.groupby(['RESULT', col])['count'].count().groupby('RESULT').apply(lambda x: 100*x/x.sum()).unstack(level=1)\n",
    "    tmp.plot(kind='bar', stacked=True, ax=ax)\n",
    "    ax.set_title(col)\n",
    "df = df.drop(columns=['count'])"
   ]
  },
  {
   "cell_type": "code",
   "execution_count": 22,
   "id": "a8bd4810",
   "metadata": {
    "hidden": true
   },
   "outputs": [
    {
     "data": {
      "text/plain": [
       "RESULT  DUAL_EXHAUST\n",
       "0       N               0.072639\n",
       "        Y               0.000645\n",
       "1       N               0.921729\n",
       "        Y               0.004987\n",
       "Name: DUAL_EXHAUST, dtype: float64"
      ]
     },
     "execution_count": 22,
     "metadata": {},
     "output_type": "execute_result"
    }
   ],
   "source": [
    "# let's look closer to DUAL_EXHAUST\n",
    "df.groupby(['RESULT'])['DUAL_EXHAUST'].value_counts()/df.shape[0]"
   ]
  },
  {
   "cell_type": "code",
   "execution_count": 23,
   "id": "73dbc3f5",
   "metadata": {
    "hidden": true
   },
   "outputs": [],
   "source": [
    "# let's drop dual_exhaust\n",
    "df = df.drop(columns=['DUAL_EXHAUST'])"
   ]
  },
  {
   "cell_type": "markdown",
   "id": "7f576c01",
   "metadata": {},
   "source": [
    "## cleaning and feature engineering\n",
    "\n",
    "\n",
    "**set RecordID as index**\n",
    "\n",
    "    - total records: 187503\n",
    "    - P: 173762\n",
    "    - F: 13741\n",
    "\n",
    "**string columns : VIN, MAKE, MODEL, ZIP_CODE, MODEL_YEAR**\n",
    "\n",
    "\n",
    "    - missing values in MODEL: 2\n",
    "        - using the historical records of that VIN fill in the missing MODEL values\n",
    "\n",
    "\n",
    "    - engineer new feature: MAKE + MODEL + MODEL_YEAR\n",
    "        - unique MAKE_MODEL_YEAR: 11684\n",
    "        - total records: 187503\n",
    "        \n",
    "        \n",
    "    - drop: MODEL, MAKE, MODEL_YEAR\n",
    "    \n",
    "    \n",
    "    - extract features from ZIP_CODE: pause!!!\n",
    "        - typos\n",
    "        - zip codes of ABQ are not structured\n",
    "    \n",
    "    \n",
    "    - drop: ZIP_CODE\n",
    "    \n",
    "    \n",
    "final columns: VIN, MAKE_MODEL_YEAR\n",
    "    \n",
    "\n",
    "**datetime columns: TEST_SDATE, TEST_EDATE**\n",
    "\n",
    "    - if a vehicle has multiple records from the same date, keep first record\n",
    "    \n",
    "        - records where vehicles got tested more than 1 time a day: 4046\n",
    "        \n",
    "        \n",
    "        - after removing repeated tests from same day\n",
    "        \n",
    "        \n",
    "            - total number of records: 187503 > 183457 \n",
    "            - P: 173762 > 170120\n",
    "            - F: 13741 > 13337\n",
    "            - data range: 2013-01-01/2020-12-31 \n",
    "            \n",
    "            \n",
    "    - engineer feature: VEHICLE_AGE   \n",
    "        \n",
    "    - drop TEST_SDATE\n",
    "    \n",
    "final columns: VEHICLE_AGE\n",
    "        \n",
    "**categorical columns: TEST_TYPE, TRANS_TYPE, VEHICLE_TYPE, FUEL_TYPE, CYL**\n",
    "\n",
    "    - map to numeric: TEST_TYPE:{'I':0, 'A':1}, TRANS_TYPE:{'A':0, 'M':1}\n",
    "\n",
    "    - drop VEHICLE_TYPE\n",
    "        - near 1000 MAKE_MODEL_YEARs had more than 1 VEHICLE_TYPE \n",
    "        - it's not clear how vehicle types were defined     \n",
    "        \n",
    "    - drop CYL\n",
    "        - share of fail is higher when CYL is 9, 12 and R\n",
    "        - however only 82 records whose CYL is 9, 12 and R\n",
    "\n",
    "    - drop FUEL_TYPE (FUEL_TYPE L only has 4 records and all are Pass)\n",
    "        - more than 95% of the tests have FUEL_TYPE G\n",
    "\n",
    "final columns: TEST_TYPE, TRANS_TYPE\n",
    "\n",
    "\n",
    "**numeric columns: GVWR, ENGINE_SIZE, ODOMETER**\n",
    "    \n",
    "    - 0 in GVWR: 11577 (P: 11090, F: 487)\n",
    "        \n",
    "        - took the median GVWR values for each VIN\n",
    "            \n",
    "        - drop records where GVWR values are missing: 7942 (P: 7560, F: 382) \n",
    "        \n",
    "        - range of GVWR: 847 - 10000\n",
    "        \n",
    "    - drop records where ODOMETER = 0 : 875 (P: 746, F: 129) \n",
    "    \n",
    "    - possible outliers in ODOMETER\n",
    "        - records where ODOMETER > 1 million miles: 229\n",
    "        - vehicles with ODOMETER > 1 million miles: 218\n",
    "        \n",
    "**final columns: RESULT, TEST_TYPE, ENGINE_SIZE, TRANS_TYPE, ODOMETER, VEHICLE_AGE, GVWR**\n",
    "\n",
    "\n",
    "**final data size: 174651, 8**"
   ]
  },
  {
   "cell_type": "markdown",
   "id": "0e1f9dc0",
   "metadata": {
    "heading_collapsed": true
   },
   "source": [
    "### missing values \n"
   ]
  },
  {
   "cell_type": "code",
   "execution_count": 24,
   "id": "089377cb",
   "metadata": {
    "hidden": true,
    "scrolled": false
   },
   "outputs": [
    {
     "data": {
      "text/html": [
       "<div>\n",
       "<style scoped>\n",
       "    .dataframe tbody tr th:only-of-type {\n",
       "        vertical-align: middle;\n",
       "    }\n",
       "\n",
       "    .dataframe tbody tr th {\n",
       "        vertical-align: top;\n",
       "    }\n",
       "\n",
       "    .dataframe thead th {\n",
       "        text-align: right;\n",
       "    }\n",
       "</style>\n",
       "<table border=\"1\" class=\"dataframe\">\n",
       "  <thead>\n",
       "    <tr style=\"text-align: right;\">\n",
       "      <th></th>\n",
       "      <th>RESULT</th>\n",
       "      <th>TEST_TYPE</th>\n",
       "      <th>TEST_SDATE</th>\n",
       "      <th>TEST_EDATE</th>\n",
       "      <th>VIN</th>\n",
       "      <th>ZIP_CODE</th>\n",
       "      <th>VEHICLE_TYPE</th>\n",
       "      <th>MODEL_YEAR</th>\n",
       "      <th>MAKE</th>\n",
       "      <th>MODEL</th>\n",
       "      <th>GVWR</th>\n",
       "      <th>CYL</th>\n",
       "      <th>ENGINE_SIZE</th>\n",
       "      <th>TRANS_TYPE</th>\n",
       "      <th>ODOMETER</th>\n",
       "      <th>FUEL_TYPE</th>\n",
       "    </tr>\n",
       "    <tr>\n",
       "      <th>RecordID</th>\n",
       "      <th></th>\n",
       "      <th></th>\n",
       "      <th></th>\n",
       "      <th></th>\n",
       "      <th></th>\n",
       "      <th></th>\n",
       "      <th></th>\n",
       "      <th></th>\n",
       "      <th></th>\n",
       "      <th></th>\n",
       "      <th></th>\n",
       "      <th></th>\n",
       "      <th></th>\n",
       "      <th></th>\n",
       "      <th></th>\n",
       "      <th></th>\n",
       "    </tr>\n",
       "  </thead>\n",
       "  <tbody>\n",
       "    <tr>\n",
       "      <th>2690332</th>\n",
       "      <td>1</td>\n",
       "      <td>A</td>\n",
       "      <td>2013-03-04 10:11:00</td>\n",
       "      <td>2013-03-04 10:14:00</td>\n",
       "      <td>1G4HP52K45U160372</td>\n",
       "      <td>87121</td>\n",
       "      <td>1</td>\n",
       "      <td>2005</td>\n",
       "      <td>BUICK</td>\n",
       "      <td>LESABRE</td>\n",
       "      <td>3875</td>\n",
       "      <td>6</td>\n",
       "      <td>3800</td>\n",
       "      <td>A</td>\n",
       "      <td>114034</td>\n",
       "      <td>G</td>\n",
       "    </tr>\n",
       "    <tr>\n",
       "      <th>2804644</th>\n",
       "      <td>1</td>\n",
       "      <td>I</td>\n",
       "      <td>2013-07-22 16:55:00</td>\n",
       "      <td>2013-07-22 16:56:00</td>\n",
       "      <td>3VWSF71K66M706988</td>\n",
       "      <td>87108</td>\n",
       "      <td>1</td>\n",
       "      <td>2006</td>\n",
       "      <td>VOLKSWAGEN</td>\n",
       "      <td>JETTA</td>\n",
       "      <td>3250</td>\n",
       "      <td>5</td>\n",
       "      <td>2500</td>\n",
       "      <td>M</td>\n",
       "      <td>76338</td>\n",
       "      <td>G</td>\n",
       "    </tr>\n",
       "  </tbody>\n",
       "</table>\n",
       "</div>"
      ],
      "text/plain": [
       "          RESULT TEST_TYPE           TEST_SDATE           TEST_EDATE  \\\n",
       "RecordID                                                               \n",
       "2690332        1         A  2013-03-04 10:11:00  2013-03-04 10:14:00   \n",
       "2804644        1         I  2013-07-22 16:55:00  2013-07-22 16:56:00   \n",
       "\n",
       "                        VIN ZIP_CODE  VEHICLE_TYPE  MODEL_YEAR        MAKE  \\\n",
       "RecordID                                                                     \n",
       "2690332   1G4HP52K45U160372    87121             1        2005       BUICK   \n",
       "2804644   3VWSF71K66M706988    87108             1        2006  VOLKSWAGEN   \n",
       "\n",
       "            MODEL  GVWR CYL  ENGINE_SIZE TRANS_TYPE  ODOMETER FUEL_TYPE  \n",
       "RecordID                                                                 \n",
       "2690332   LESABRE  3875   6         3800          A    114034         G  \n",
       "2804644     JETTA  3250   5         2500          M     76338         G  "
      ]
     },
     "execution_count": 24,
     "metadata": {},
     "output_type": "execute_result"
    }
   ],
   "source": [
    "df.head(2)"
   ]
  },
  {
   "cell_type": "code",
   "execution_count": 25,
   "id": "89df1f70",
   "metadata": {
    "hidden": true
   },
   "outputs": [
    {
     "data": {
      "text/plain": [
       "1    173762\n",
       "0     13741\n",
       "Name: RESULT, dtype: int64"
      ]
     },
     "execution_count": 25,
     "metadata": {},
     "output_type": "execute_result"
    }
   ],
   "source": [
    "df['RESULT'].value_counts()"
   ]
  },
  {
   "cell_type": "code",
   "execution_count": 26,
   "id": "2a55c31c",
   "metadata": {
    "hidden": true
   },
   "outputs": [
    {
     "data": {
      "text/plain": [
       "MODEL         2\n",
       "RESULT        0\n",
       "TEST_TYPE     0\n",
       "TEST_SDATE    0\n",
       "TEST_EDATE    0\n",
       "dtype: int64"
      ]
     },
     "execution_count": 26,
     "metadata": {},
     "output_type": "execute_result"
    }
   ],
   "source": [
    "df.isnull().sum().sort_values(ascending=False)[:5]"
   ]
  },
  {
   "cell_type": "code",
   "execution_count": 27,
   "id": "3fde6f23",
   "metadata": {
    "hidden": true,
    "scrolled": false
   },
   "outputs": [
    {
     "name": "stdout",
     "output_type": "stream",
     "text": [
      "MODEL_YEAR 1978 2021\n",
      "GVWR 0 10000\n",
      "ENGINE_SIZE 500 8400\n",
      "ODOMETER 0 9999999\n"
     ]
    },
    {
     "data": {
      "image/png": "[encoded data removed]",
      "text/plain": [
       "<Figure size 1440x864 with 4 Axes>"
      ]
     },
     "metadata": {
      "needs_background": "light"
     },
     "output_type": "display_data"
    }
   ],
   "source": [
    "numeric_cols = ['MODEL_YEAR', 'GVWR', 'ENGINE_SIZE', 'ODOMETER']\n",
    "\n",
    "fig, axs = plt.subplots(4, 1, figsize=(20, 12))\n",
    "for col, ax in zip(numeric_cols, axs.flat):\n",
    "    print(col, df[col].sort_values().values[0], df[col].sort_values().values[-1])\n",
    "    sns.boxplot(x=df[col], ax=ax)"
   ]
  },
  {
   "cell_type": "code",
   "execution_count": 28,
   "id": "26f9deed",
   "metadata": {
    "hidden": true
   },
   "outputs": [
    {
     "data": {
      "text/html": [
       "<div>\n",
       "<style scoped>\n",
       "    .dataframe tbody tr th:only-of-type {\n",
       "        vertical-align: middle;\n",
       "    }\n",
       "\n",
       "    .dataframe tbody tr th {\n",
       "        vertical-align: top;\n",
       "    }\n",
       "\n",
       "    .dataframe thead th {\n",
       "        text-align: right;\n",
       "    }\n",
       "</style>\n",
       "<table border=\"1\" class=\"dataframe\">\n",
       "  <thead>\n",
       "    <tr style=\"text-align: right;\">\n",
       "      <th></th>\n",
       "      <th>RESULT</th>\n",
       "      <th>TEST_TYPE</th>\n",
       "      <th>TEST_SDATE</th>\n",
       "      <th>TEST_EDATE</th>\n",
       "      <th>VIN</th>\n",
       "      <th>ZIP_CODE</th>\n",
       "      <th>VEHICLE_TYPE</th>\n",
       "      <th>MODEL_YEAR</th>\n",
       "      <th>MAKE</th>\n",
       "      <th>MODEL</th>\n",
       "      <th>GVWR</th>\n",
       "      <th>CYL</th>\n",
       "      <th>ENGINE_SIZE</th>\n",
       "      <th>TRANS_TYPE</th>\n",
       "      <th>ODOMETER</th>\n",
       "      <th>FUEL_TYPE</th>\n",
       "    </tr>\n",
       "    <tr>\n",
       "      <th>RecordID</th>\n",
       "      <th></th>\n",
       "      <th></th>\n",
       "      <th></th>\n",
       "      <th></th>\n",
       "      <th></th>\n",
       "      <th></th>\n",
       "      <th></th>\n",
       "      <th></th>\n",
       "      <th></th>\n",
       "      <th></th>\n",
       "      <th></th>\n",
       "      <th></th>\n",
       "      <th></th>\n",
       "      <th></th>\n",
       "      <th></th>\n",
       "      <th></th>\n",
       "    </tr>\n",
       "  </thead>\n",
       "  <tbody>\n",
       "    <tr>\n",
       "      <th>2690332</th>\n",
       "      <td>1</td>\n",
       "      <td>A</td>\n",
       "      <td>2013-03-04 10:11:00</td>\n",
       "      <td>2013-03-04 10:14:00</td>\n",
       "      <td>1G4HP52K45U160372</td>\n",
       "      <td>87121</td>\n",
       "      <td>1</td>\n",
       "      <td>2005</td>\n",
       "      <td>BUICK</td>\n",
       "      <td>LESABRE</td>\n",
       "      <td>3875</td>\n",
       "      <td>6</td>\n",
       "      <td>3800</td>\n",
       "      <td>A</td>\n",
       "      <td>114034</td>\n",
       "      <td>G</td>\n",
       "    </tr>\n",
       "    <tr>\n",
       "      <th>2804644</th>\n",
       "      <td>1</td>\n",
       "      <td>I</td>\n",
       "      <td>2013-07-22 16:55:00</td>\n",
       "      <td>2013-07-22 16:56:00</td>\n",
       "      <td>3VWSF71K66M706988</td>\n",
       "      <td>87108</td>\n",
       "      <td>1</td>\n",
       "      <td>2006</td>\n",
       "      <td>VOLKSWAGEN</td>\n",
       "      <td>JETTA</td>\n",
       "      <td>3250</td>\n",
       "      <td>5</td>\n",
       "      <td>2500</td>\n",
       "      <td>M</td>\n",
       "      <td>76338</td>\n",
       "      <td>G</td>\n",
       "    </tr>\n",
       "    <tr>\n",
       "      <th>2779074</th>\n",
       "      <td>1</td>\n",
       "      <td>I</td>\n",
       "      <td>2013-06-18 12:45:00</td>\n",
       "      <td>2013-06-18 12:47:00</td>\n",
       "      <td>1FTRX17W43NA86035</td>\n",
       "      <td>87112</td>\n",
       "      <td>3</td>\n",
       "      <td>2003</td>\n",
       "      <td>FORD</td>\n",
       "      <td>F150 2WD</td>\n",
       "      <td>6050</td>\n",
       "      <td>8</td>\n",
       "      <td>4600</td>\n",
       "      <td>A</td>\n",
       "      <td>104849</td>\n",
       "      <td>G</td>\n",
       "    </tr>\n",
       "    <tr>\n",
       "      <th>2761810</th>\n",
       "      <td>1</td>\n",
       "      <td>I</td>\n",
       "      <td>2013-05-29 16:17:00</td>\n",
       "      <td>2013-05-29 16:18:00</td>\n",
       "      <td>JTEEP21A560170542</td>\n",
       "      <td>87119</td>\n",
       "      <td>4</td>\n",
       "      <td>2006</td>\n",
       "      <td>TOYOTA</td>\n",
       "      <td>HIGHLANDER 4WD</td>\n",
       "      <td>5360</td>\n",
       "      <td>6</td>\n",
       "      <td>3300</td>\n",
       "      <td>A</td>\n",
       "      <td>70130</td>\n",
       "      <td>G</td>\n",
       "    </tr>\n",
       "    <tr>\n",
       "      <th>2733004</th>\n",
       "      <td>0</td>\n",
       "      <td>I</td>\n",
       "      <td>2013-04-22 15:54:00</td>\n",
       "      <td>2013-04-22 15:58:00</td>\n",
       "      <td>1G1ZT52865F313274</td>\n",
       "      <td>87111</td>\n",
       "      <td>1</td>\n",
       "      <td>2005</td>\n",
       "      <td>CHEVROLET</td>\n",
       "      <td>MALIBU</td>\n",
       "      <td>3375</td>\n",
       "      <td>6</td>\n",
       "      <td>3500</td>\n",
       "      <td>A</td>\n",
       "      <td>133251</td>\n",
       "      <td>G</td>\n",
       "    </tr>\n",
       "  </tbody>\n",
       "</table>\n",
       "</div>"
      ],
      "text/plain": [
       "          RESULT TEST_TYPE           TEST_SDATE           TEST_EDATE  \\\n",
       "RecordID                                                               \n",
       "2690332        1         A  2013-03-04 10:11:00  2013-03-04 10:14:00   \n",
       "2804644        1         I  2013-07-22 16:55:00  2013-07-22 16:56:00   \n",
       "2779074        1         I  2013-06-18 12:45:00  2013-06-18 12:47:00   \n",
       "2761810        1         I  2013-05-29 16:17:00  2013-05-29 16:18:00   \n",
       "2733004        0         I  2013-04-22 15:54:00  2013-04-22 15:58:00   \n",
       "\n",
       "                        VIN ZIP_CODE  VEHICLE_TYPE  MODEL_YEAR        MAKE  \\\n",
       "RecordID                                                                     \n",
       "2690332   1G4HP52K45U160372    87121             1        2005       BUICK   \n",
       "2804644   3VWSF71K66M706988    87108             1        2006  VOLKSWAGEN   \n",
       "2779074   1FTRX17W43NA86035    87112             3        2003        FORD   \n",
       "2761810   JTEEP21A560170542    87119             4        2006      TOYOTA   \n",
       "2733004   1G1ZT52865F313274    87111             1        2005   CHEVROLET   \n",
       "\n",
       "                   MODEL  GVWR CYL  ENGINE_SIZE TRANS_TYPE  ODOMETER FUEL_TYPE  \n",
       "RecordID                                                                        \n",
       "2690332          LESABRE  3875   6         3800          A    114034         G  \n",
       "2804644            JETTA  3250   5         2500          M     76338         G  \n",
       "2779074         F150 2WD  6050   8         4600          A    104849         G  \n",
       "2761810   HIGHLANDER 4WD  5360   6         3300          A     70130         G  \n",
       "2733004           MALIBU  3375   6         3500          A    133251         G  "
      ]
     },
     "execution_count": 28,
     "metadata": {},
     "output_type": "execute_result"
    }
   ],
   "source": [
    "df.head()"
   ]
  },
  {
   "cell_type": "markdown",
   "id": "53c7e3f0",
   "metadata": {
    "heading_collapsed": true
   },
   "source": [
    "### strings"
   ]
  },
  {
   "cell_type": "code",
   "execution_count": 29,
   "id": "865cfb7a",
   "metadata": {
    "hidden": true
   },
   "outputs": [
    {
     "name": "stdout",
     "output_type": "stream",
     "text": [
      "VIN           string\n",
      "ZIP_CODE      string\n",
      "MODEL_YEAR    string\n",
      "MAKE          string\n",
      "MODEL         string\n",
      "dtype: object\n"
     ]
    },
    {
     "data": {
      "text/html": [
       "<div>\n",
       "<style scoped>\n",
       "    .dataframe tbody tr th:only-of-type {\n",
       "        vertical-align: middle;\n",
       "    }\n",
       "\n",
       "    .dataframe tbody tr th {\n",
       "        vertical-align: top;\n",
       "    }\n",
       "\n",
       "    .dataframe thead th {\n",
       "        text-align: right;\n",
       "    }\n",
       "</style>\n",
       "<table border=\"1\" class=\"dataframe\">\n",
       "  <thead>\n",
       "    <tr style=\"text-align: right;\">\n",
       "      <th></th>\n",
       "      <th>VIN</th>\n",
       "      <th>ZIP_CODE</th>\n",
       "      <th>MODEL_YEAR</th>\n",
       "      <th>MAKE</th>\n",
       "      <th>MODEL</th>\n",
       "    </tr>\n",
       "    <tr>\n",
       "      <th>RecordID</th>\n",
       "      <th></th>\n",
       "      <th></th>\n",
       "      <th></th>\n",
       "      <th></th>\n",
       "      <th></th>\n",
       "    </tr>\n",
       "  </thead>\n",
       "  <tbody>\n",
       "    <tr>\n",
       "      <th>2690332</th>\n",
       "      <td>1g4hp52k45u160372</td>\n",
       "      <td>87121</td>\n",
       "      <td>2005</td>\n",
       "      <td>buick</td>\n",
       "      <td>lesabre</td>\n",
       "    </tr>\n",
       "    <tr>\n",
       "      <th>2804644</th>\n",
       "      <td>3vwsf71k66m706988</td>\n",
       "      <td>87108</td>\n",
       "      <td>2006</td>\n",
       "      <td>volkswagen</td>\n",
       "      <td>jetta</td>\n",
       "    </tr>\n",
       "    <tr>\n",
       "      <th>2779074</th>\n",
       "      <td>1ftrx17w43na86035</td>\n",
       "      <td>87112</td>\n",
       "      <td>2003</td>\n",
       "      <td>ford</td>\n",
       "      <td>f150 2wd</td>\n",
       "    </tr>\n",
       "    <tr>\n",
       "      <th>2761810</th>\n",
       "      <td>jteep21a560170542</td>\n",
       "      <td>87119</td>\n",
       "      <td>2006</td>\n",
       "      <td>toyota</td>\n",
       "      <td>highlander 4wd</td>\n",
       "    </tr>\n",
       "    <tr>\n",
       "      <th>2733004</th>\n",
       "      <td>1g1zt52865f313274</td>\n",
       "      <td>87111</td>\n",
       "      <td>2005</td>\n",
       "      <td>chevrolet</td>\n",
       "      <td>malibu</td>\n",
       "    </tr>\n",
       "  </tbody>\n",
       "</table>\n",
       "</div>"
      ],
      "text/plain": [
       "                        VIN ZIP_CODE MODEL_YEAR        MAKE           MODEL\n",
       "RecordID                                                                   \n",
       "2690332   1g4hp52k45u160372    87121       2005       buick         lesabre\n",
       "2804644   3vwsf71k66m706988    87108       2006  volkswagen           jetta\n",
       "2779074   1ftrx17w43na86035    87112       2003        ford        f150 2wd\n",
       "2761810   jteep21a560170542    87119       2006      toyota  highlander 4wd\n",
       "2733004   1g1zt52865f313274    87111       2005   chevrolet          malibu"
      ]
     },
     "execution_count": 29,
     "metadata": {},
     "output_type": "execute_result"
    }
   ],
   "source": [
    "# select string columns\n",
    "\n",
    "string_cols = ['VIN', 'ZIP_CODE', 'MODEL_YEAR', 'MAKE', 'MODEL']\n",
    "\n",
    "# tranform string columns\n",
    "\n",
    "def to_string(df, string_cols):\n",
    "    for col in string_cols:\n",
    "        df[col] = df[col].astype('string').str.strip().str.lower()\n",
    "        df\n",
    "    return df\n",
    "\n",
    "df = to_string(df, string_cols)\n",
    "print(df[string_cols].dtypes)\n",
    "df[string_cols].head()"
   ]
  },
  {
   "cell_type": "code",
   "execution_count": 30,
   "id": "8d1340ad",
   "metadata": {
    "hidden": true
   },
   "outputs": [
    {
     "data": {
      "text/plain": [
       "VIN           0\n",
       "ZIP_CODE      0\n",
       "MODEL_YEAR    0\n",
       "MAKE          0\n",
       "MODEL         2\n",
       "dtype: int64"
      ]
     },
     "execution_count": 30,
     "metadata": {},
     "output_type": "execute_result"
    }
   ],
   "source": [
    "df[string_cols].isnull().sum()"
   ]
  },
  {
   "cell_type": "code",
   "execution_count": 31,
   "id": "34357b15",
   "metadata": {
    "hidden": true
   },
   "outputs": [
    {
     "data": {
      "text/plain": [
       "0"
      ]
     },
     "execution_count": 31,
     "metadata": {},
     "output_type": "execute_result"
    }
   ],
   "source": [
    "# using the historical values for that VIN fill in the missing MODEL values\n",
    "vin = df[df.MODEL.isnull()].VIN.values[0]\n",
    "model = df[df.VIN==vin].MODEL.values[-1]\n",
    "df.loc[df.MODEL.isnull(), 'MODEL'] = model\n",
    "df.MODEL.isnull().sum()"
   ]
  },
  {
   "cell_type": "code",
   "execution_count": 32,
   "id": "04167389",
   "metadata": {
    "hidden": true
   },
   "outputs": [
    {
     "name": "stdout",
     "output_type": "stream",
     "text": [
      "unique MAKE_MODEL_YEAR: 11684\n",
      "total records: 187503\n"
     ]
    }
   ],
   "source": [
    "# make + model + year\n",
    "df['MAKE_MODEL_YEAR'] = df.MAKE + '/' + df.MODEL + '/' + df.MODEL_YEAR\n",
    "print(\"unique MAKE_MODEL_YEAR:\", df.MAKE_MODEL_YEAR.nunique())\n",
    "\n",
    "# drop MAKE and MODEL\n",
    "df = df.drop(columns=['MAKE', 'MODEL'])\n",
    "\n",
    "print(\"total records:\", df.shape[0])"
   ]
  },
  {
   "cell_type": "code",
   "execution_count": 33,
   "id": "b99c3c98",
   "metadata": {
    "hidden": true
   },
   "outputs": [],
   "source": [
    "ABQ_zipcodes = [87101, 87102, 87103, 87104, \n",
    "                87105, 87106, 87107, 87108, 87109,\n",
    "                87110, 87111, 87112, 87113, 87114,\n",
    "                87115, 87116, 87119, 87120, 87121,\n",
    "                87122, 87123, 87125, 87131, 87151,\n",
    "                87153, 87154, 87158, 87176, 87181, \n",
    "                87184, 87185, 87187, 87190, 87191,\n",
    "                87192, 87193, 87194, 87195, 87196, \n",
    "                87197, 87198, 87199]\n",
    "\n",
    "# extract ZIP_CODE\n",
    "def extract_zipcode(df, col):\n",
    "    # whether from the city\n",
    "    df['ABQ'] = 0\n",
    "    df.loc[df[col].str[:3]=='871', 'ABQ'] = 1\n",
    "    # which part of the city\n",
    "    df['DISTRICT'] = df[col].str[3:].str.strip('-')\n",
    "    return df\n",
    "\n",
    "# drop ZIP_CODE\n",
    "df = df.drop(columns=['ZIP_CODE'])"
   ]
  },
  {
   "cell_type": "code",
   "execution_count": 34,
   "id": "8ac1668f",
   "metadata": {
    "hidden": true
   },
   "outputs": [
    {
     "data": {
      "text/html": [
       "<div>\n",
       "<style scoped>\n",
       "    .dataframe tbody tr th:only-of-type {\n",
       "        vertical-align: middle;\n",
       "    }\n",
       "\n",
       "    .dataframe tbody tr th {\n",
       "        vertical-align: top;\n",
       "    }\n",
       "\n",
       "    .dataframe thead th {\n",
       "        text-align: right;\n",
       "    }\n",
       "</style>\n",
       "<table border=\"1\" class=\"dataframe\">\n",
       "  <thead>\n",
       "    <tr style=\"text-align: right;\">\n",
       "      <th></th>\n",
       "      <th>VIN</th>\n",
       "      <th>MODEL_YEAR</th>\n",
       "      <th>MAKE_MODEL_YEAR</th>\n",
       "    </tr>\n",
       "    <tr>\n",
       "      <th>RecordID</th>\n",
       "      <th></th>\n",
       "      <th></th>\n",
       "      <th></th>\n",
       "    </tr>\n",
       "  </thead>\n",
       "  <tbody>\n",
       "    <tr>\n",
       "      <th>2690332</th>\n",
       "      <td>1g4hp52k45u160372</td>\n",
       "      <td>2005</td>\n",
       "      <td>buick/lesabre/2005</td>\n",
       "    </tr>\n",
       "    <tr>\n",
       "      <th>2804644</th>\n",
       "      <td>3vwsf71k66m706988</td>\n",
       "      <td>2006</td>\n",
       "      <td>volkswagen/jetta/2006</td>\n",
       "    </tr>\n",
       "    <tr>\n",
       "      <th>2779074</th>\n",
       "      <td>1ftrx17w43na86035</td>\n",
       "      <td>2003</td>\n",
       "      <td>ford/f150 2wd/2003</td>\n",
       "    </tr>\n",
       "    <tr>\n",
       "      <th>2761810</th>\n",
       "      <td>jteep21a560170542</td>\n",
       "      <td>2006</td>\n",
       "      <td>toyota/highlander 4wd/2006</td>\n",
       "    </tr>\n",
       "    <tr>\n",
       "      <th>2733004</th>\n",
       "      <td>1g1zt52865f313274</td>\n",
       "      <td>2005</td>\n",
       "      <td>chevrolet/malibu/2005</td>\n",
       "    </tr>\n",
       "  </tbody>\n",
       "</table>\n",
       "</div>"
      ],
      "text/plain": [
       "                        VIN MODEL_YEAR             MAKE_MODEL_YEAR\n",
       "RecordID                                                          \n",
       "2690332   1g4hp52k45u160372       2005          buick/lesabre/2005\n",
       "2804644   3vwsf71k66m706988       2006       volkswagen/jetta/2006\n",
       "2779074   1ftrx17w43na86035       2003          ford/f150 2wd/2003\n",
       "2761810   jteep21a560170542       2006  toyota/highlander 4wd/2006\n",
       "2733004   1g1zt52865f313274       2005       chevrolet/malibu/2005"
      ]
     },
     "execution_count": 34,
     "metadata": {},
     "output_type": "execute_result"
    }
   ],
   "source": [
    "df.select_dtypes(include='string').head()"
   ]
  },
  {
   "cell_type": "code",
   "execution_count": 35,
   "id": "bf46a2f0",
   "metadata": {
    "hidden": true
   },
   "outputs": [
    {
     "data": {
      "text/html": [
       "<div>\n",
       "<style scoped>\n",
       "    .dataframe tbody tr th:only-of-type {\n",
       "        vertical-align: middle;\n",
       "    }\n",
       "\n",
       "    .dataframe tbody tr th {\n",
       "        vertical-align: top;\n",
       "    }\n",
       "\n",
       "    .dataframe thead th {\n",
       "        text-align: right;\n",
       "    }\n",
       "</style>\n",
       "<table border=\"1\" class=\"dataframe\">\n",
       "  <thead>\n",
       "    <tr style=\"text-align: right;\">\n",
       "      <th>RESULT</th>\n",
       "      <th>0</th>\n",
       "      <th>1</th>\n",
       "    </tr>\n",
       "    <tr>\n",
       "      <th>MAKE_MODEL_YEAR</th>\n",
       "      <th></th>\n",
       "      <th></th>\n",
       "    </tr>\n",
       "  </thead>\n",
       "  <tbody>\n",
       "    <tr>\n",
       "      <th>bmw/335d/2011</th>\n",
       "      <td>3.0</td>\n",
       "      <td>NaN</td>\n",
       "    </tr>\n",
       "    <tr>\n",
       "      <th>buick/regal/1987</th>\n",
       "      <td>4.0</td>\n",
       "      <td>NaN</td>\n",
       "    </tr>\n",
       "    <tr>\n",
       "      <th>chevrolet/astro awd/1998</th>\n",
       "      <td>3.0</td>\n",
       "      <td>NaN</td>\n",
       "    </tr>\n",
       "    <tr>\n",
       "      <th>chevrolet/c1500/1989</th>\n",
       "      <td>4.0</td>\n",
       "      <td>NaN</td>\n",
       "    </tr>\n",
       "    <tr>\n",
       "      <th>ford/econoline cargo van/2001</th>\n",
       "      <td>3.0</td>\n",
       "      <td>NaN</td>\n",
       "    </tr>\n",
       "    <tr>\n",
       "      <th>freightliner/sprinter/2007</th>\n",
       "      <td>3.0</td>\n",
       "      <td>NaN</td>\n",
       "    </tr>\n",
       "    <tr>\n",
       "      <th>isuzu/trooper/1993</th>\n",
       "      <td>3.0</td>\n",
       "      <td>NaN</td>\n",
       "    </tr>\n",
       "    <tr>\n",
       "      <th>pontiac/passenger/2006</th>\n",
       "      <td>3.0</td>\n",
       "      <td>NaN</td>\n",
       "    </tr>\n",
       "    <tr>\n",
       "      <th>saturn/sl2/2002</th>\n",
       "      <td>3.0</td>\n",
       "      <td>NaN</td>\n",
       "    </tr>\n",
       "  </tbody>\n",
       "</table>\n",
       "</div>"
      ],
      "text/plain": [
       "RESULT                           0   1\n",
       "MAKE_MODEL_YEAR                       \n",
       "bmw/335d/2011                  3.0 NaN\n",
       "buick/regal/1987               4.0 NaN\n",
       "chevrolet/astro awd/1998       3.0 NaN\n",
       "chevrolet/c1500/1989           4.0 NaN\n",
       "ford/econoline cargo van/2001  3.0 NaN\n",
       "freightliner/sprinter/2007     3.0 NaN\n",
       "isuzu/trooper/1993             3.0 NaN\n",
       "pontiac/passenger/2006         3.0 NaN\n",
       "saturn/sl2/2002                3.0 NaN"
      ]
     },
     "execution_count": 35,
     "metadata": {},
     "output_type": "execute_result"
    }
   ],
   "source": [
    "# vehicles from a specific brand/model/year fails the test?\n",
    "tmp = df.groupby('MAKE_MODEL_YEAR')['RESULT'].value_counts().unstack(level=1)\n",
    "tmp[(tmp[0] > 2) & tmp[1].isnull()]"
   ]
  },
  {
   "cell_type": "markdown",
   "id": "f1112bdb",
   "metadata": {},
   "source": [
    "### dates\n"
   ]
  },
  {
   "cell_type": "code",
   "execution_count": 36,
   "id": "ea19071c",
   "metadata": {},
   "outputs": [
    {
     "name": "stdout",
     "output_type": "stream",
     "text": [
      "TEST_SDATE    datetime64[ns]\n",
      "TEST_EDATE    datetime64[ns]\n",
      "dtype: object\n"
     ]
    },
    {
     "data": {
      "text/html": [
       "<div>\n",
       "<style scoped>\n",
       "    .dataframe tbody tr th:only-of-type {\n",
       "        vertical-align: middle;\n",
       "    }\n",
       "\n",
       "    .dataframe tbody tr th {\n",
       "        vertical-align: top;\n",
       "    }\n",
       "\n",
       "    .dataframe thead th {\n",
       "        text-align: right;\n",
       "    }\n",
       "</style>\n",
       "<table border=\"1\" class=\"dataframe\">\n",
       "  <thead>\n",
       "    <tr style=\"text-align: right;\">\n",
       "      <th></th>\n",
       "      <th>TEST_SDATE</th>\n",
       "      <th>TEST_EDATE</th>\n",
       "    </tr>\n",
       "    <tr>\n",
       "      <th>RecordID</th>\n",
       "      <th></th>\n",
       "      <th></th>\n",
       "    </tr>\n",
       "  </thead>\n",
       "  <tbody>\n",
       "    <tr>\n",
       "      <th>2690332</th>\n",
       "      <td>2013-03-04 10:11:00</td>\n",
       "      <td>2013-03-04 10:14:00</td>\n",
       "    </tr>\n",
       "    <tr>\n",
       "      <th>2804644</th>\n",
       "      <td>2013-07-22 16:55:00</td>\n",
       "      <td>2013-07-22 16:56:00</td>\n",
       "    </tr>\n",
       "    <tr>\n",
       "      <th>2779074</th>\n",
       "      <td>2013-06-18 12:45:00</td>\n",
       "      <td>2013-06-18 12:47:00</td>\n",
       "    </tr>\n",
       "    <tr>\n",
       "      <th>2761810</th>\n",
       "      <td>2013-05-29 16:17:00</td>\n",
       "      <td>2013-05-29 16:18:00</td>\n",
       "    </tr>\n",
       "    <tr>\n",
       "      <th>2733004</th>\n",
       "      <td>2013-04-22 15:54:00</td>\n",
       "      <td>2013-04-22 15:58:00</td>\n",
       "    </tr>\n",
       "  </tbody>\n",
       "</table>\n",
       "</div>"
      ],
      "text/plain": [
       "                  TEST_SDATE          TEST_EDATE\n",
       "RecordID                                        \n",
       "2690332  2013-03-04 10:11:00 2013-03-04 10:14:00\n",
       "2804644  2013-07-22 16:55:00 2013-07-22 16:56:00\n",
       "2779074  2013-06-18 12:45:00 2013-06-18 12:47:00\n",
       "2761810  2013-05-29 16:17:00 2013-05-29 16:18:00\n",
       "2733004  2013-04-22 15:54:00 2013-04-22 15:58:00"
      ]
     },
     "execution_count": 36,
     "metadata": {},
     "output_type": "execute_result"
    }
   ],
   "source": [
    "# select date columns\n",
    "date_cols = ['TEST_SDATE', 'TEST_EDATE']\n",
    "\n",
    "# transform date columns\n",
    "def to_datetime(df, date_cols):\n",
    "    for col in date_cols:\n",
    "        df[col] = pd.to_datetime(df[col])\n",
    "    return df\n",
    "\n",
    "df = to_datetime(df, date_cols)\n",
    "print(df[date_cols].dtypes)\n",
    "df[date_cols].head()"
   ]
  },
  {
   "cell_type": "markdown",
   "id": "082e9227",
   "metadata": {},
   "source": [
    "**⚠️ if a vehicle has multiple records from the same date, keep earliest record**\n"
   ]
  },
  {
   "cell_type": "code",
   "execution_count": 37,
   "id": "62e039cf",
   "metadata": {},
   "outputs": [
    {
     "data": {
      "image/png": "[encoded data removed]",
      "text/plain": [
       "<Figure size 1440x288 with 1 Axes>"
      ]
     },
     "metadata": {
      "needs_background": "light"
     },
     "output_type": "display_data"
    }
   ],
   "source": [
    "# the gap between test ending time and test starting time\n",
    "df['gap'] = (df['TEST_EDATE'] - df['TEST_SDATE'])/timedelta(hours=1)\n",
    "# distribution of gap\n",
    "plt.figure(figsize=(20, 4))\n",
    "sns.boxplot(x=df.gap);\n",
    "# drop gap column\n",
    "df = df.drop(columns=['gap'])"
   ]
  },
  {
   "cell_type": "code",
   "execution_count": 38,
   "id": "e183e4b3",
   "metadata": {},
   "outputs": [
    {
     "name": "stdout",
     "output_type": "stream",
     "text": [
      "records where vehicles got tested more than 1 time a day: 4046\n",
      "records after removing repeated tests from same day: 183457\n",
      "data range: 2013-01-01 2020-12-31\n"
     ]
    }
   ],
   "source": [
    "# add a helper column which has date but not hours of the day\n",
    "df['TEST_DATE'] = df['TEST_SDATE'].dt.date\n",
    "\n",
    "# keep the first record from the same date for each vehicle\n",
    "df1 = df.loc[df.groupby(['VIN', 'TEST_DATE'])['TEST_SDATE'].idxmin(),:].copy()\n",
    "\n",
    "# select the records whose vehicles got tested more than 1 time a day, can capture some extra information here\n",
    "df2 = df[~df.index.isin(df1.index)]\n",
    "print(\"records where vehicles got tested more than 1 time a day:\", df2.shape[0])\n",
    "print(\"records after removing repeated tests from same day:\", df1.shape[0])\n",
    "\n",
    "# date range\n",
    "print('data range:', df1.TEST_DATE.min(), df1.TEST_DATE.max())\n",
    "\n",
    "# drop the some columns\n",
    "df = df1.drop(columns=['TEST_DATE', 'TEST_EDATE'])"
   ]
  },
  {
   "cell_type": "code",
   "execution_count": 39,
   "id": "0d456a7d",
   "metadata": {},
   "outputs": [
    {
     "data": {
      "text/plain": [
       "1    170120\n",
       "0     13337\n",
       "Name: RESULT, dtype: int64"
      ]
     },
     "execution_count": 39,
     "metadata": {},
     "output_type": "execute_result"
    }
   ],
   "source": [
    "# check the distribution of target\n",
    "df.RESULT.value_counts()"
   ]
  },
  {
   "cell_type": "code",
   "execution_count": 40,
   "id": "159465dd",
   "metadata": {},
   "outputs": [
    {
     "data": {
      "image/png": "[encoded data removed]",
      "text/plain": [
       "<Figure size 432x288 with 1 Axes>"
      ]
     },
     "metadata": {
      "needs_background": "light"
     },
     "output_type": "display_data"
    }
   ],
   "source": [
    "# engineering VEHICLE_AGE\n",
    "df['VEHICLE_AGE'] = df.TEST_SDATE.dt.year.astype('int') - df.MODEL_YEAR.astype('int') + 2\n",
    "\n",
    "# drop TEST_SDATE\n",
    "# df = df.drop(columns=['TEST_SDATE'])\n",
    "\n",
    "# check out the VEHICLE_AGE distribution\n",
    "sns.histplot(data=df, x='VEHICLE_AGE');"
   ]
  },
  {
   "cell_type": "code",
   "execution_count": 41,
   "id": "54464131",
   "metadata": {},
   "outputs": [
    {
     "name": "stdout",
     "output_type": "stream",
     "text": [
      "Age distribution of vehicles which PASSED in emission test\n"
     ]
    },
    {
     "data": {
      "image/png": "[encoded data removed]",
      "text/plain": [
       "<Figure size 1440x288 with 1 Axes>"
      ]
     },
     "metadata": {
      "needs_background": "light"
     },
     "output_type": "display_data"
    }
   ],
   "source": [
    "print(\"Age distribution of vehicles which PASSED in emission test\")\n",
    "plt.figure(figsize=(20,4))\n",
    "sns.countplot(data=df[df.RESULT==1], x='VEHICLE_AGE');"
   ]
  },
  {
   "cell_type": "code",
   "execution_count": 42,
   "id": "097ef2a9",
   "metadata": {
    "scrolled": false
   },
   "outputs": [
    {
     "name": "stdout",
     "output_type": "stream",
     "text": [
      "Age distribution of vehicles which FAILED in emission test\n"
     ]
    },
    {
     "data": {
      "image/png": "[encoded data removed]",
      "text/plain": [
       "<Figure size 1440x288 with 1 Axes>"
      ]
     },
     "metadata": {
      "needs_background": "light"
     },
     "output_type": "display_data"
    }
   ],
   "source": [
    "print(\"Age distribution of vehicles which FAILED in emission test\")\n",
    "plt.figure(figsize=(20,4))\n",
    "sns.countplot(data=df[df.RESULT==0], x='VEHICLE_AGE');"
   ]
  },
  {
   "cell_type": "code",
   "execution_count": 43,
   "id": "a1d6afb9",
   "metadata": {},
   "outputs": [],
   "source": [
    "def extract_time(df, col):\n",
    "    df['month'] = df[col].dt.month\n",
    "    df['weekday'] = df[col].dt.weekday\n",
    "    df['hour'] = df[col].dt.hour\n",
    "    return df\n",
    "\n",
    "# df = extract_time(df, 'TEST_SDATE')"
   ]
  },
  {
   "cell_type": "code",
   "execution_count": 44,
   "id": "03d8b8d3",
   "metadata": {},
   "outputs": [],
   "source": [
    "# sns.pairplot(data=df[['RESULT', 'month', 'weekday', 'hour']], corner=True)"
   ]
  },
  {
   "cell_type": "markdown",
   "id": "d843e078",
   "metadata": {
    "heading_collapsed": true
   },
   "source": [
    "### categorical columns "
   ]
  },
  {
   "cell_type": "code",
   "execution_count": 45,
   "id": "d9ce45e5",
   "metadata": {
    "hidden": true
   },
   "outputs": [
    {
     "data": {
      "text/plain": [
       "TEST_TYPE       0\n",
       "TRANS_TYPE      0\n",
       "VEHICLE_TYPE    0\n",
       "FUEL_TYPE       0\n",
       "CYL             0\n",
       "dtype: int64"
      ]
     },
     "execution_count": 45,
     "metadata": {},
     "output_type": "execute_result"
    }
   ],
   "source": [
    "categorical_cols = ['TEST_TYPE', \n",
    "                    'TRANS_TYPE', \n",
    "                    'VEHICLE_TYPE', \n",
    "                    'FUEL_TYPE', \n",
    "                    'CYL']\n",
    "\n",
    "df[categorical_cols].isnull().sum()"
   ]
  },
  {
   "cell_type": "code",
   "execution_count": 46,
   "id": "871873bf",
   "metadata": {
    "hidden": true
   },
   "outputs": [
    {
     "data": {
      "image/png": "[encoded data removed]",
      "text/plain": [
       "<Figure size 360x2160 with 5 Axes>"
      ]
     },
     "metadata": {
      "needs_background": "light"
     },
     "output_type": "display_data"
    }
   ],
   "source": [
    "# distribution of categorical values in Pass and Fail data sets\n",
    "df['count'] = 1\n",
    "n = len(categorical_cols)\n",
    "fig, axs = plt.subplots(n, 1, figsize=(5, 6*n))\n",
    "for col, ax in zip(categorical_cols, axs.flat):\n",
    "    tmp = df.groupby(['RESULT', col])['count'].count().groupby('RESULT').apply(lambda x: 100*x/x.sum()).unstack(level=1)\n",
    "    tmp.plot(kind='bar', stacked=True, ax=ax)\n",
    "    ax.set_title(col)\n",
    "df = df.drop(columns=['count'])"
   ]
  },
  {
   "cell_type": "code",
   "execution_count": 47,
   "id": "a3b7774b",
   "metadata": {
    "hidden": true
   },
   "outputs": [
    {
     "data": {
      "text/plain": [
       "0    180901\n",
       "1      2556\n",
       "Name: TEST_TYPE, dtype: int64"
      ]
     },
     "execution_count": 47,
     "metadata": {},
     "output_type": "execute_result"
    }
   ],
   "source": [
    "# TEST_TYPE\n",
    "df = df.replace({'TEST_TYPE':{'I':0, 'A':1}})\n",
    "df.TEST_TYPE.value_counts()"
   ]
  },
  {
   "cell_type": "code",
   "execution_count": 48,
   "id": "f00ffaac",
   "metadata": {
    "hidden": true
   },
   "outputs": [
    {
     "data": {
      "text/plain": [
       "0    165895\n",
       "1     17562\n",
       "Name: TRANS_TYPE, dtype: int64"
      ]
     },
     "execution_count": 48,
     "metadata": {},
     "output_type": "execute_result"
    }
   ],
   "source": [
    "# TRANS_TYPE\n",
    "df = df.replace({'TRANS_TYPE':{'A':0, 'M':1}})\n",
    "df.TRANS_TYPE.value_counts()"
   ]
  },
  {
   "cell_type": "code",
   "execution_count": 49,
   "id": "7d03ae46",
   "metadata": {
    "hidden": true
   },
   "outputs": [
    {
     "name": "stdout",
     "output_type": "stream",
     "text": [
      "MAKE_MODEL_YEARs with more than 1 VEHICLE_TYPE assigned to them: 956\n"
     ]
    },
    {
     "data": {
      "image/png": "[encoded data removed]",
      "text/plain": [
       "<Figure size 432x288 with 1 Axes>"
      ]
     },
     "metadata": {
      "needs_background": "light"
     },
     "output_type": "display_data"
    }
   ],
   "source": [
    "# VEHICLE_TYPE\n",
    "# for each vehicle tpye, compare pass and fail\n",
    "df.groupby(['VEHICLE_TYPE', 'RESULT']).size()\\\n",
    "    .groupby('VEHICLE_TYPE').apply(lambda x: 100*x/x.sum())\\\n",
    "    .unstack(level=1).plot(kind='bar', stacked=True);\n",
    "\n",
    "# check how many records have more than 1 VEHICLE_TYPE were assigned to the same MAKE_MODEL_YEAR\n",
    "tmp = df[['VEHICLE_TYPE', 'MAKE_MODEL_YEAR']].groupby('MAKE_MODEL_YEAR').nunique().sort_values('VEHICLE_TYPE')\n",
    "print('MAKE_MODEL_YEARs with more than 1 VEHICLE_TYPE assigned to them:', tmp[tmp.VEHICLE_TYPE > 1].shape[0])"
   ]
  },
  {
   "cell_type": "code",
   "execution_count": 50,
   "id": "7281a55b",
   "metadata": {
    "hidden": true
   },
   "outputs": [
    {
     "name": "stdout",
     "output_type": "stream",
     "text": [
      "0    183375\n",
      "1        82\n",
      "Name: CYL_912R, dtype: int64\n"
     ]
    },
    {
     "data": {
      "image/png": "[encoded data removed]",
      "text/plain": [
       "<Figure size 432x288 with 1 Axes>"
      ]
     },
     "metadata": {
      "needs_background": "light"
     },
     "output_type": "display_data"
    }
   ],
   "source": [
    "# CYL\n",
    "# for each CYL, compare pass and fail\n",
    "df.groupby(['CYL', 'RESULT']).size()\\\n",
    "    .groupby('CYL').apply(lambda x: 100*x/x.sum())\\\n",
    "    .unstack(level=1).plot(kind='bar', stacked=True);\n",
    "\n",
    "df['CYL_912R'] = 0\n",
    "df.loc[df.CYL.isin(['9', '12', 'R']), 'CYL_912R'] = 1\n",
    "print(df.CYL_912R.value_counts())"
   ]
  },
  {
   "cell_type": "code",
   "execution_count": 51,
   "id": "c71e49ec",
   "metadata": {
    "hidden": true
   },
   "outputs": [],
   "source": [
    "# drop CYL\n",
    "df = df.drop(columns=['CYL', 'CYL_912R'])"
   ]
  },
  {
   "cell_type": "code",
   "execution_count": 52,
   "id": "38e495f7",
   "metadata": {
    "hidden": true
   },
   "outputs": [
    {
     "name": "stdout",
     "output_type": "stream",
     "text": [
      "RESULT  FUEL_TYPE\n",
      "1       L            4\n",
      "Name: FUEL_TYPE, dtype: int64\n"
     ]
    },
    {
     "data": {
      "image/png": "[encoded data removed]",
      "text/plain": [
       "<Figure size 432x288 with 1 Axes>"
      ]
     },
     "metadata": {
      "needs_background": "light"
     },
     "output_type": "display_data"
    }
   ],
   "source": [
    "# FUEL TYPE \n",
    "# for each FUEL_TYPE, compare pass and fail\n",
    "df.groupby(['FUEL_TYPE', 'RESULT']).size()\\\n",
    "    .groupby('FUEL_TYPE').apply(lambda x: 100*x/x.sum())\\\n",
    "    .unstack(level=1).plot(kind='bar', stacked=True);\n",
    "\n",
    "# check FUEL_TYPE L\n",
    "print(df[df.FUEL_TYPE=='L'].groupby('RESULT')['FUEL_TYPE'].value_counts())\n",
    "\n",
    "# drop FUEL_TYPE\n",
    "df = df.drop(columns=['FUEL_TYPE'])"
   ]
  },
  {
   "cell_type": "code",
   "execution_count": 53,
   "id": "4a64f797",
   "metadata": {
    "hidden": true
   },
   "outputs": [
    {
     "data": {
      "text/html": [
       "<div>\n",
       "<style scoped>\n",
       "    .dataframe tbody tr th:only-of-type {\n",
       "        vertical-align: middle;\n",
       "    }\n",
       "\n",
       "    .dataframe tbody tr th {\n",
       "        vertical-align: top;\n",
       "    }\n",
       "\n",
       "    .dataframe thead th {\n",
       "        text-align: right;\n",
       "    }\n",
       "</style>\n",
       "<table border=\"1\" class=\"dataframe\">\n",
       "  <thead>\n",
       "    <tr style=\"text-align: right;\">\n",
       "      <th></th>\n",
       "      <th>RESULT</th>\n",
       "      <th>TEST_TYPE</th>\n",
       "      <th>TEST_SDATE</th>\n",
       "      <th>VIN</th>\n",
       "      <th>VEHICLE_TYPE</th>\n",
       "      <th>MODEL_YEAR</th>\n",
       "      <th>GVWR</th>\n",
       "      <th>ENGINE_SIZE</th>\n",
       "      <th>TRANS_TYPE</th>\n",
       "      <th>ODOMETER</th>\n",
       "      <th>MAKE_MODEL_YEAR</th>\n",
       "      <th>VEHICLE_AGE</th>\n",
       "    </tr>\n",
       "    <tr>\n",
       "      <th>RecordID</th>\n",
       "      <th></th>\n",
       "      <th></th>\n",
       "      <th></th>\n",
       "      <th></th>\n",
       "      <th></th>\n",
       "      <th></th>\n",
       "      <th></th>\n",
       "      <th></th>\n",
       "      <th></th>\n",
       "      <th></th>\n",
       "      <th></th>\n",
       "      <th></th>\n",
       "    </tr>\n",
       "  </thead>\n",
       "  <tbody>\n",
       "    <tr>\n",
       "      <th>4118828</th>\n",
       "      <td>0</td>\n",
       "      <td>0</td>\n",
       "      <td>2018-04-11 13:54:28</td>\n",
       "      <td>0bbsk5468mz014126</td>\n",
       "      <td>1</td>\n",
       "      <td>1991</td>\n",
       "      <td>2625</td>\n",
       "      <td>1600</td>\n",
       "      <td>0</td>\n",
       "      <td>215161</td>\n",
       "      <td>geo/prizm/1991</td>\n",
       "      <td>29</td>\n",
       "    </tr>\n",
       "    <tr>\n",
       "      <th>3716231</th>\n",
       "      <td>1</td>\n",
       "      <td>0</td>\n",
       "      <td>2016-10-15 15:09:00</td>\n",
       "      <td>0s2rc61h045251900</td>\n",
       "      <td>1</td>\n",
       "      <td>2004</td>\n",
       "      <td>3000</td>\n",
       "      <td>2300</td>\n",
       "      <td>0</td>\n",
       "      <td>156888</td>\n",
       "      <td>suzuki/aerio/2004</td>\n",
       "      <td>14</td>\n",
       "    </tr>\n",
       "    <tr>\n",
       "      <th>2643540</th>\n",
       "      <td>1</td>\n",
       "      <td>0</td>\n",
       "      <td>2013-01-03 16:45:00</td>\n",
       "      <td>0t3hn86r919053130</td>\n",
       "      <td>4</td>\n",
       "      <td>2001</td>\n",
       "      <td>4250</td>\n",
       "      <td>3400</td>\n",
       "      <td>0</td>\n",
       "      <td>124227</td>\n",
       "      <td>toyota/4runner 4wd/2001</td>\n",
       "      <td>14</td>\n",
       "    </tr>\n",
       "    <tr>\n",
       "      <th>3870644</th>\n",
       "      <td>1</td>\n",
       "      <td>0</td>\n",
       "      <td>2017-05-13 14:56:00</td>\n",
       "      <td>107ha182x6j111384</td>\n",
       "      <td>3</td>\n",
       "      <td>2006</td>\n",
       "      <td>6000</td>\n",
       "      <td>5700</td>\n",
       "      <td>0</td>\n",
       "      <td>66315</td>\n",
       "      <td>dodge/ram 1500 2wd/2006</td>\n",
       "      <td>13</td>\n",
       "    </tr>\n",
       "    <tr>\n",
       "      <th>3951493</th>\n",
       "      <td>1</td>\n",
       "      <td>0</td>\n",
       "      <td>2017-08-24 17:59:00</td>\n",
       "      <td>124al2ap0an440796</td>\n",
       "      <td>1</td>\n",
       "      <td>2010</td>\n",
       "      <td>3375</td>\n",
       "      <td>2500</td>\n",
       "      <td>0</td>\n",
       "      <td>112471</td>\n",
       "      <td>nissan/altima/2010</td>\n",
       "      <td>9</td>\n",
       "    </tr>\n",
       "  </tbody>\n",
       "</table>\n",
       "</div>"
      ],
      "text/plain": [
       "          RESULT  TEST_TYPE          TEST_SDATE                VIN  \\\n",
       "RecordID                                                             \n",
       "4118828        0          0 2018-04-11 13:54:28  0bbsk5468mz014126   \n",
       "3716231        1          0 2016-10-15 15:09:00  0s2rc61h045251900   \n",
       "2643540        1          0 2013-01-03 16:45:00  0t3hn86r919053130   \n",
       "3870644        1          0 2017-05-13 14:56:00  107ha182x6j111384   \n",
       "3951493        1          0 2017-08-24 17:59:00  124al2ap0an440796   \n",
       "\n",
       "          VEHICLE_TYPE MODEL_YEAR  GVWR  ENGINE_SIZE  TRANS_TYPE  ODOMETER  \\\n",
       "RecordID                                                                     \n",
       "4118828              1       1991  2625         1600           0    215161   \n",
       "3716231              1       2004  3000         2300           0    156888   \n",
       "2643540              4       2001  4250         3400           0    124227   \n",
       "3870644              3       2006  6000         5700           0     66315   \n",
       "3951493              1       2010  3375         2500           0    112471   \n",
       "\n",
       "                  MAKE_MODEL_YEAR  VEHICLE_AGE  \n",
       "RecordID                                        \n",
       "4118828            geo/prizm/1991           29  \n",
       "3716231         suzuki/aerio/2004           14  \n",
       "2643540   toyota/4runner 4wd/2001           14  \n",
       "3870644   dodge/ram 1500 2wd/2006           13  \n",
       "3951493        nissan/altima/2010            9  "
      ]
     },
     "execution_count": 53,
     "metadata": {},
     "output_type": "execute_result"
    }
   ],
   "source": [
    "df.head()"
   ]
  },
  {
   "cell_type": "markdown",
   "id": "1b2dc426",
   "metadata": {},
   "source": [
    "### numeric columns\n",
    "\n"
   ]
  },
  {
   "cell_type": "code",
   "execution_count": 54,
   "id": "3a2cb7d4",
   "metadata": {
    "scrolled": false
   },
   "outputs": [
    {
     "data": {
      "image/png": "[encoded data removed]",
      "text/plain": [
       "<Figure size 1440x864 with 3 Axes>"
      ]
     },
     "metadata": {
      "needs_background": "light"
     },
     "output_type": "display_data"
    }
   ],
   "source": [
    "numeric_cols = ['GVWR', 'ENGINE_SIZE', 'ODOMETER']\n",
    "\n",
    "fig, axs = plt.subplots(3, 1, figsize=(20, 12))\n",
    "for col, ax in zip(numeric_cols, axs.flat):\n",
    "    sns.boxplot(x=df[col], ax=ax)"
   ]
  },
  {
   "cell_type": "code",
   "execution_count": 55,
   "id": "bae523e5",
   "metadata": {},
   "outputs": [
    {
     "data": {
      "text/html": [
       "<div>\n",
       "<style scoped>\n",
       "    .dataframe tbody tr th:only-of-type {\n",
       "        vertical-align: middle;\n",
       "    }\n",
       "\n",
       "    .dataframe tbody tr th {\n",
       "        vertical-align: top;\n",
       "    }\n",
       "\n",
       "    .dataframe thead th {\n",
       "        text-align: right;\n",
       "    }\n",
       "</style>\n",
       "<table border=\"1\" class=\"dataframe\">\n",
       "  <thead>\n",
       "    <tr style=\"text-align: right;\">\n",
       "      <th></th>\n",
       "      <th>GVWR</th>\n",
       "      <th>ENGINE_SIZE</th>\n",
       "      <th>ODOMETER</th>\n",
       "    </tr>\n",
       "  </thead>\n",
       "  <tbody>\n",
       "    <tr>\n",
       "      <th>count</th>\n",
       "      <td>183457.000000</td>\n",
       "      <td>183457.000000</td>\n",
       "      <td>1.834570e+05</td>\n",
       "    </tr>\n",
       "    <tr>\n",
       "      <th>mean</th>\n",
       "      <td>4486.768829</td>\n",
       "      <td>3339.867310</td>\n",
       "      <td>1.094969e+05</td>\n",
       "    </tr>\n",
       "    <tr>\n",
       "      <th>std</th>\n",
       "      <td>1847.992704</td>\n",
       "      <td>1288.911162</td>\n",
       "      <td>2.184283e+05</td>\n",
       "    </tr>\n",
       "    <tr>\n",
       "      <th>min</th>\n",
       "      <td>0.000000</td>\n",
       "      <td>500.000000</td>\n",
       "      <td>0.000000e+00</td>\n",
       "    </tr>\n",
       "    <tr>\n",
       "      <th>25%</th>\n",
       "      <td>3381.000000</td>\n",
       "      <td>2400.000000</td>\n",
       "      <td>5.326300e+04</td>\n",
       "    </tr>\n",
       "    <tr>\n",
       "      <th>50%</th>\n",
       "      <td>4450.000000</td>\n",
       "      <td>3300.000000</td>\n",
       "      <td>9.665100e+04</td>\n",
       "    </tr>\n",
       "    <tr>\n",
       "      <th>75%</th>\n",
       "      <td>5650.000000</td>\n",
       "      <td>4000.000000</td>\n",
       "      <td>1.441350e+05</td>\n",
       "    </tr>\n",
       "    <tr>\n",
       "      <th>max</th>\n",
       "      <td>10000.000000</td>\n",
       "      <td>8400.000000</td>\n",
       "      <td>9.999999e+06</td>\n",
       "    </tr>\n",
       "  </tbody>\n",
       "</table>\n",
       "</div>"
      ],
      "text/plain": [
       "                GVWR    ENGINE_SIZE      ODOMETER\n",
       "count  183457.000000  183457.000000  1.834570e+05\n",
       "mean     4486.768829    3339.867310  1.094969e+05\n",
       "std      1847.992704    1288.911162  2.184283e+05\n",
       "min         0.000000     500.000000  0.000000e+00\n",
       "25%      3381.000000    2400.000000  5.326300e+04\n",
       "50%      4450.000000    3300.000000  9.665100e+04\n",
       "75%      5650.000000    4000.000000  1.441350e+05\n",
       "max     10000.000000    8400.000000  9.999999e+06"
      ]
     },
     "execution_count": 55,
     "metadata": {},
     "output_type": "execute_result"
    }
   ],
   "source": [
    "# statistics\n",
    "df[numeric_cols].describe()"
   ]
  },
  {
   "cell_type": "code",
   "execution_count": 56,
   "id": "1190ecdc",
   "metadata": {
    "scrolled": false
   },
   "outputs": [
    {
     "name": "stdout",
     "output_type": "stream",
     "text": [
      "GVWR_0 = 0: 11577\n",
      "GVWR = 0: 9180\n",
      "GVWR_0 > 9000: 2311\n",
      "GVWR > 9000: 2275\n"
     ]
    },
    {
     "data": {
      "text/plain": [
       "1    7560\n",
       "0     382\n",
       "Name: RESULT, dtype: int64"
      ]
     },
     "execution_count": 56,
     "metadata": {},
     "output_type": "execute_result"
    },
    {
     "data": {
      "image/png": "[encoded data removed]",
      "text/plain": [
       "<Figure size 1440x432 with 2 Axes>"
      ]
     },
     "metadata": {
      "needs_background": "light"
     },
     "output_type": "display_data"
    }
   ],
   "source": [
    "# let's clean GVWR a little bit\n",
    "\n",
    "# get median GVWR of each VIN\n",
    "tmp = df[['VIN', 'GVWR']].groupby('VIN').agg({'GVWR':'median'})\n",
    "tmp.reset_index(inplace=True)\n",
    "\n",
    "# merge tmp with df\n",
    "df.reset_index(inplace=True)\n",
    "df = df.merge(tmp, how='left', on='VIN', suffixes=('_0',''))\n",
    "df.set_index('RecordID', inplace=True)\n",
    "\n",
    "# missing values in GVWR and GVWR_0\n",
    "print('GVWR_0 = 0:', df[df.GVWR_0==0].shape[0])\n",
    "print('GVWR = 0:', df[df.GVWR==0].shape[0])\n",
    "\n",
    "# outliers in GVWR and GVWR_0\n",
    "print('GVWR_0 > 9000:', df[df.GVWR_0 > 9000].shape[0])\n",
    "print('GVWR > 9000:', df[df.GVWR > 9000].shape[0])\n",
    "\n",
    "# distribution of GVWR and GVWR_0\n",
    "cols = ['GVWR_0', 'GVWR']\n",
    "\n",
    "fig, axs = plt.subplots(2, 1, figsize=(20, 6))\n",
    "for col, ax in zip(cols, axs.flat):\n",
    "    sns.boxplot(x=df[col], ax=ax)\n",
    "\n",
    "# replace 0 with np.nan\n",
    "df.loc[df.GVWR==0, 'GVWR'] = np.nan\n",
    "df.loc[df.GVWR_0==0, 'GVWR_0'] = np.nan\n",
    "\n",
    "# using GVWR_0 fill missing values in GVWR\n",
    "df['GVWR'] = df.GVWR.fillna(df.GVWR_0)\n",
    "\n",
    "# keep GVW and drop GVWR_0\n",
    "df = df.drop(columns=['GVWR_0'])\n",
    "\n",
    "# check share of P and F in missing values\n",
    "df.loc[df.GVWR.isnull(), 'RESULT'].value_counts()"
   ]
  },
  {
   "cell_type": "code",
   "execution_count": 57,
   "id": "8bb9aabe",
   "metadata": {},
   "outputs": [
    {
     "name": "stdout",
     "output_type": "stream",
     "text": [
      "number of ODOMETER=0: 875\n"
     ]
    },
    {
     "data": {
      "text/plain": [
       "1    746\n",
       "0    129\n",
       "Name: RESULT, dtype: int64"
      ]
     },
     "execution_count": 57,
     "metadata": {},
     "output_type": "execute_result"
    }
   ],
   "source": [
    "# 0 in ODOMETER\n",
    "df.loc[df.ODOMETER==0, 'ODOMETER'] = np.nan\n",
    "print('number of ODOMETER=0:', df.ODOMETER.isnull().sum())\n",
    "df.loc[df.ODOMETER.isnull(), 'RESULT'].value_counts()"
   ]
  },
  {
   "cell_type": "code",
   "execution_count": 58,
   "id": "3b1624cb",
   "metadata": {},
   "outputs": [
    {
     "name": "stdout",
     "output_type": "stream",
     "text": [
      "records where MILE_YEAR > 100,000 miles: 202\n",
      "vehicles with ODOMETER > 100,000 miles: 192\n"
     ]
    },
    {
     "data": {
      "text/plain": [
       "<AxesSubplot:xlabel='MILE_YEAR'>"
      ]
     },
     "execution_count": 58,
     "metadata": {},
     "output_type": "execute_result"
    },
    {
     "data": {
      "image/png": "[encoded data removed]",
      "text/plain": [
       "<Figure size 1440x576 with 2 Axes>"
      ]
     },
     "metadata": {
      "needs_background": "light"
     },
     "output_type": "display_data"
    }
   ],
   "source": [
    "# drop ODOMETER = 0\n",
    "df = df[df.ODOMETER!=0]\n",
    "\n",
    "# engineer MILE_YEAR from ODOMETER\n",
    "df['MILE_YEAR'] = df['ODOMETER']/df['VEHICLE_AGE']\n",
    "\n",
    "# Americans drive an average of 14,300 miles per year\n",
    "# outliers in MILE_YEAR\n",
    "print('records where MILE_YEAR > 100,000 miles:', df[df.MILE_YEAR > 100000].shape[0])\n",
    "print('vehicles with ODOMETER > 100,000 miles:', df[df.MILE_YEAR > 100000].VIN.nunique())\n",
    "\n",
    "fig, axs = plt.subplots(2, 1, figsize=(20, 8))\n",
    "sns.boxplot(x=df['MILE_YEAR'], ax=axs[0])\n",
    "sns.boxplot(x=df[df.MILE_YEAR < 100000]['MILE_YEAR'], ax=axs[1])"
   ]
  },
  {
   "cell_type": "code",
   "execution_count": 59,
   "id": "f1c1bfa1",
   "metadata": {},
   "outputs": [
    {
     "data": {
      "image/png": "[encoded data removed]",
      "text/plain": [
       "<Figure size 432x288 with 1 Axes>"
      ]
     },
     "metadata": {
      "needs_background": "light"
     },
     "output_type": "display_data"
    }
   ],
   "source": [
    "df['MILE_YEAR_CAT'] = df.MILE_YEAR.apply(lambda x: 1 if x > 40000 else 0)\n",
    "df.groupby(['MILE_YEAR_CAT', 'RESULT']).size()\\\n",
    "    .groupby('MILE_YEAR_CAT').apply(lambda x: 100*x/x.sum())\\\n",
    "    .unstack(level=1).plot(kind='bar', stacked=True);\n",
    "df = df.drop(columns=['MILE_YEAR_CAT'])"
   ]
  },
  {
   "cell_type": "code",
   "execution_count": 60,
   "id": "a410f981",
   "metadata": {},
   "outputs": [
    {
     "name": "stdout",
     "output_type": "stream",
     "text": [
      "(174651, 10)\n"
     ]
    },
    {
     "data": {
      "text/html": [
       "<div>\n",
       "<style scoped>\n",
       "    .dataframe tbody tr th:only-of-type {\n",
       "        vertical-align: middle;\n",
       "    }\n",
       "\n",
       "    .dataframe tbody tr th {\n",
       "        vertical-align: top;\n",
       "    }\n",
       "\n",
       "    .dataframe thead th {\n",
       "        text-align: right;\n",
       "    }\n",
       "</style>\n",
       "<table border=\"1\" class=\"dataframe\">\n",
       "  <thead>\n",
       "    <tr style=\"text-align: right;\">\n",
       "      <th></th>\n",
       "      <th>RESULT</th>\n",
       "      <th>TEST_TYPE</th>\n",
       "      <th>VEHICLE_TYPE</th>\n",
       "      <th>ENGINE_SIZE</th>\n",
       "      <th>TRANS_TYPE</th>\n",
       "      <th>ODOMETER</th>\n",
       "      <th>MAKE_MODEL_YEAR</th>\n",
       "      <th>VEHICLE_AGE</th>\n",
       "      <th>GVWR</th>\n",
       "      <th>MILE_YEAR</th>\n",
       "    </tr>\n",
       "    <tr>\n",
       "      <th>RecordID</th>\n",
       "      <th></th>\n",
       "      <th></th>\n",
       "      <th></th>\n",
       "      <th></th>\n",
       "      <th></th>\n",
       "      <th></th>\n",
       "      <th></th>\n",
       "      <th></th>\n",
       "      <th></th>\n",
       "      <th></th>\n",
       "    </tr>\n",
       "  </thead>\n",
       "  <tbody>\n",
       "    <tr>\n",
       "      <th>4118828</th>\n",
       "      <td>0</td>\n",
       "      <td>0</td>\n",
       "      <td>1</td>\n",
       "      <td>1600</td>\n",
       "      <td>0</td>\n",
       "      <td>215161.0</td>\n",
       "      <td>geo/prizm/1991</td>\n",
       "      <td>29</td>\n",
       "      <td>2625.0</td>\n",
       "      <td>7419.344828</td>\n",
       "    </tr>\n",
       "    <tr>\n",
       "      <th>3716231</th>\n",
       "      <td>1</td>\n",
       "      <td>0</td>\n",
       "      <td>1</td>\n",
       "      <td>2300</td>\n",
       "      <td>0</td>\n",
       "      <td>156888.0</td>\n",
       "      <td>suzuki/aerio/2004</td>\n",
       "      <td>14</td>\n",
       "      <td>3000.0</td>\n",
       "      <td>11206.285714</td>\n",
       "    </tr>\n",
       "    <tr>\n",
       "      <th>2643540</th>\n",
       "      <td>1</td>\n",
       "      <td>0</td>\n",
       "      <td>4</td>\n",
       "      <td>3400</td>\n",
       "      <td>0</td>\n",
       "      <td>124227.0</td>\n",
       "      <td>toyota/4runner 4wd/2001</td>\n",
       "      <td>14</td>\n",
       "      <td>4250.0</td>\n",
       "      <td>8873.357143</td>\n",
       "    </tr>\n",
       "    <tr>\n",
       "      <th>3870644</th>\n",
       "      <td>1</td>\n",
       "      <td>0</td>\n",
       "      <td>3</td>\n",
       "      <td>5700</td>\n",
       "      <td>0</td>\n",
       "      <td>66315.0</td>\n",
       "      <td>dodge/ram 1500 2wd/2006</td>\n",
       "      <td>13</td>\n",
       "      <td>6000.0</td>\n",
       "      <td>5101.153846</td>\n",
       "    </tr>\n",
       "    <tr>\n",
       "      <th>3951493</th>\n",
       "      <td>1</td>\n",
       "      <td>0</td>\n",
       "      <td>1</td>\n",
       "      <td>2500</td>\n",
       "      <td>0</td>\n",
       "      <td>112471.0</td>\n",
       "      <td>nissan/altima/2010</td>\n",
       "      <td>9</td>\n",
       "      <td>3375.0</td>\n",
       "      <td>12496.777778</td>\n",
       "    </tr>\n",
       "  </tbody>\n",
       "</table>\n",
       "</div>"
      ],
      "text/plain": [
       "          RESULT  TEST_TYPE  VEHICLE_TYPE  ENGINE_SIZE  TRANS_TYPE  ODOMETER  \\\n",
       "RecordID                                                                       \n",
       "4118828        0          0             1         1600           0  215161.0   \n",
       "3716231        1          0             1         2300           0  156888.0   \n",
       "2643540        1          0             4         3400           0  124227.0   \n",
       "3870644        1          0             3         5700           0   66315.0   \n",
       "3951493        1          0             1         2500           0  112471.0   \n",
       "\n",
       "                  MAKE_MODEL_YEAR  VEHICLE_AGE    GVWR     MILE_YEAR  \n",
       "RecordID                                                              \n",
       "4118828            geo/prizm/1991           29  2625.0   7419.344828  \n",
       "3716231         suzuki/aerio/2004           14  3000.0  11206.285714  \n",
       "2643540   toyota/4runner 4wd/2001           14  4250.0   8873.357143  \n",
       "3870644   dodge/ram 1500 2wd/2006           13  6000.0   5101.153846  \n",
       "3951493        nissan/altima/2010            9  3375.0  12496.777778  "
      ]
     },
     "execution_count": 60,
     "metadata": {},
     "output_type": "execute_result"
    }
   ],
   "source": [
    "# drop useless columns\n",
    "tmp = df.drop(columns=['TEST_SDATE', 'VIN', 'MODEL_YEAR'])\n",
    "\n",
    "# drop na\n",
    "tmp = tmp.dropna()\n",
    "\n",
    "# data size\n",
    "print(tmp.shape)\n",
    "\n",
    "tmp.head()"
   ]
  },
  {
   "cell_type": "markdown",
   "id": "0f294431",
   "metadata": {},
   "source": [
    "## vehicles with historical records\n"
   ]
  },
  {
   "cell_type": "code",
   "execution_count": 61,
   "id": "065a5e0a",
   "metadata": {
    "scrolled": true
   },
   "outputs": [
    {
     "data": {
      "image/png": "[encoded data removed]",
      "text/plain": [
       "<Figure size 432x288 with 1 Axes>"
      ]
     },
     "metadata": {
      "needs_background": "light"
     },
     "output_type": "display_data"
    }
   ],
   "source": [
    "# how many vehicle were tested how many times\n",
    "tmp = df.VIN.value_counts().sort_values()\n",
    "ax = sns.countplot(x=tmp)\n",
    "ax.set(ylabel='number of vehicles', xlabel='number of tests');"
   ]
  },
  {
   "cell_type": "code",
   "execution_count": 62,
   "id": "09f9c7e5",
   "metadata": {},
   "outputs": [
    {
     "data": {
      "text/plain": [
       "1     38089\n",
       "2     20087\n",
       "3     13154\n",
       "4     10760\n",
       "5      3182\n",
       "6       797\n",
       "7       205\n",
       "8        47\n",
       "9        13\n",
       "10        5\n",
       "11        2\n",
       "Name: VIN, dtype: int64"
      ]
     },
     "execution_count": 62,
     "metadata": {},
     "output_type": "execute_result"
    }
   ],
   "source": [
    "df.VIN.value_counts().value_counts()"
   ]
  },
  {
   "cell_type": "code",
   "execution_count": 63,
   "id": "2919504c",
   "metadata": {
    "scrolled": false
   },
   "outputs": [
    {
     "data": {
      "text/html": [
       "<div>\n",
       "<style scoped>\n",
       "    .dataframe tbody tr th:only-of-type {\n",
       "        vertical-align: middle;\n",
       "    }\n",
       "\n",
       "    .dataframe tbody tr th {\n",
       "        vertical-align: top;\n",
       "    }\n",
       "\n",
       "    .dataframe thead th {\n",
       "        text-align: right;\n",
       "    }\n",
       "</style>\n",
       "<table border=\"1\" class=\"dataframe\">\n",
       "  <thead>\n",
       "    <tr style=\"text-align: right;\">\n",
       "      <th></th>\n",
       "      <th>RESULT</th>\n",
       "      <th>TEST_TYPE</th>\n",
       "      <th>TEST_SDATE</th>\n",
       "      <th>VIN</th>\n",
       "      <th>VEHICLE_TYPE</th>\n",
       "      <th>MODEL_YEAR</th>\n",
       "      <th>ENGINE_SIZE</th>\n",
       "      <th>TRANS_TYPE</th>\n",
       "      <th>ODOMETER</th>\n",
       "      <th>MAKE_MODEL_YEAR</th>\n",
       "      <th>VEHICLE_AGE</th>\n",
       "      <th>GVWR</th>\n",
       "      <th>MILE_YEAR</th>\n",
       "    </tr>\n",
       "    <tr>\n",
       "      <th>RecordID</th>\n",
       "      <th></th>\n",
       "      <th></th>\n",
       "      <th></th>\n",
       "      <th></th>\n",
       "      <th></th>\n",
       "      <th></th>\n",
       "      <th></th>\n",
       "      <th></th>\n",
       "      <th></th>\n",
       "      <th></th>\n",
       "      <th></th>\n",
       "      <th></th>\n",
       "      <th></th>\n",
       "    </tr>\n",
       "  </thead>\n",
       "  <tbody>\n",
       "    <tr>\n",
       "      <th>2659334</th>\n",
       "      <td>0</td>\n",
       "      <td>0</td>\n",
       "      <td>2013-01-24 16:34:00</td>\n",
       "      <td>4tarn01p3rz215462</td>\n",
       "      <td>3</td>\n",
       "      <td>1994</td>\n",
       "      <td>2200</td>\n",
       "      <td>1</td>\n",
       "      <td>172578.0</td>\n",
       "      <td>toyota/pickup/1994</td>\n",
       "      <td>21</td>\n",
       "      <td>5400.0</td>\n",
       "      <td>8218.000000</td>\n",
       "    </tr>\n",
       "    <tr>\n",
       "      <th>2663029</th>\n",
       "      <td>0</td>\n",
       "      <td>1</td>\n",
       "      <td>2013-01-30 17:03:00</td>\n",
       "      <td>4tarn01p3rz215462</td>\n",
       "      <td>3</td>\n",
       "      <td>1994</td>\n",
       "      <td>2200</td>\n",
       "      <td>1</td>\n",
       "      <td>172662.0</td>\n",
       "      <td>toyota/pickup/1994</td>\n",
       "      <td>21</td>\n",
       "      <td>5400.0</td>\n",
       "      <td>8222.000000</td>\n",
       "    </tr>\n",
       "    <tr>\n",
       "      <th>2666215</th>\n",
       "      <td>1</td>\n",
       "      <td>0</td>\n",
       "      <td>2013-02-01 11:42:00</td>\n",
       "      <td>4tarn01p3rz215462</td>\n",
       "      <td>3</td>\n",
       "      <td>1994</td>\n",
       "      <td>2200</td>\n",
       "      <td>1</td>\n",
       "      <td>72679.0</td>\n",
       "      <td>toyota/pickup/1994</td>\n",
       "      <td>21</td>\n",
       "      <td>5400.0</td>\n",
       "      <td>3460.904762</td>\n",
       "    </tr>\n",
       "    <tr>\n",
       "      <th>3189727</th>\n",
       "      <td>0</td>\n",
       "      <td>0</td>\n",
       "      <td>2015-01-05 13:45:00</td>\n",
       "      <td>4tarn01p3rz215462</td>\n",
       "      <td>3</td>\n",
       "      <td>1994</td>\n",
       "      <td>2400</td>\n",
       "      <td>1</td>\n",
       "      <td>177371.0</td>\n",
       "      <td>toyota/pickup/1994</td>\n",
       "      <td>23</td>\n",
       "      <td>5400.0</td>\n",
       "      <td>7711.782609</td>\n",
       "    </tr>\n",
       "    <tr>\n",
       "      <th>3210402</th>\n",
       "      <td>0</td>\n",
       "      <td>0</td>\n",
       "      <td>2015-02-02 11:42:00</td>\n",
       "      <td>4tarn01p3rz215462</td>\n",
       "      <td>3</td>\n",
       "      <td>1994</td>\n",
       "      <td>2200</td>\n",
       "      <td>1</td>\n",
       "      <td>177876.0</td>\n",
       "      <td>toyota/pickup/1994</td>\n",
       "      <td>23</td>\n",
       "      <td>5400.0</td>\n",
       "      <td>7733.739130</td>\n",
       "    </tr>\n",
       "    <tr>\n",
       "      <th>3212071</th>\n",
       "      <td>1</td>\n",
       "      <td>1</td>\n",
       "      <td>2015-02-03 16:03:00</td>\n",
       "      <td>4tarn01p3rz215462</td>\n",
       "      <td>3</td>\n",
       "      <td>1994</td>\n",
       "      <td>2200</td>\n",
       "      <td>1</td>\n",
       "      <td>177879.0</td>\n",
       "      <td>toyota/pickup/1994</td>\n",
       "      <td>23</td>\n",
       "      <td>5400.0</td>\n",
       "      <td>7733.869565</td>\n",
       "    </tr>\n",
       "    <tr>\n",
       "      <th>3497262</th>\n",
       "      <td>1</td>\n",
       "      <td>0</td>\n",
       "      <td>2016-01-12 16:15:00</td>\n",
       "      <td>4tarn01p3rz215462</td>\n",
       "      <td>3</td>\n",
       "      <td>1994</td>\n",
       "      <td>2200</td>\n",
       "      <td>1</td>\n",
       "      <td>180892.0</td>\n",
       "      <td>toyota/pickup/1994</td>\n",
       "      <td>24</td>\n",
       "      <td>5400.0</td>\n",
       "      <td>7537.166667</td>\n",
       "    </tr>\n",
       "    <tr>\n",
       "      <th>3773678</th>\n",
       "      <td>1</td>\n",
       "      <td>0</td>\n",
       "      <td>2017-01-11 15:23:29</td>\n",
       "      <td>4tarn01p3rz215462</td>\n",
       "      <td>3</td>\n",
       "      <td>1994</td>\n",
       "      <td>2200</td>\n",
       "      <td>1</td>\n",
       "      <td>182426.0</td>\n",
       "      <td>toyota/pickup/1994</td>\n",
       "      <td>25</td>\n",
       "      <td>5400.0</td>\n",
       "      <td>7297.040000</td>\n",
       "    </tr>\n",
       "    <tr>\n",
       "      <th>4056734</th>\n",
       "      <td>1</td>\n",
       "      <td>0</td>\n",
       "      <td>2018-01-26 15:41:45</td>\n",
       "      <td>4tarn01p3rz215462</td>\n",
       "      <td>3</td>\n",
       "      <td>1994</td>\n",
       "      <td>2200</td>\n",
       "      <td>1</td>\n",
       "      <td>183254.0</td>\n",
       "      <td>toyota/pickup/1994</td>\n",
       "      <td>26</td>\n",
       "      <td>5400.0</td>\n",
       "      <td>7048.230769</td>\n",
       "    </tr>\n",
       "    <tr>\n",
       "      <th>4341262</th>\n",
       "      <td>0</td>\n",
       "      <td>0</td>\n",
       "      <td>2019-02-08 15:16:24</td>\n",
       "      <td>4tarn01p3rz215462</td>\n",
       "      <td>3</td>\n",
       "      <td>1994</td>\n",
       "      <td>2200</td>\n",
       "      <td>1</td>\n",
       "      <td>184394.0</td>\n",
       "      <td>toyota/pickup/1994</td>\n",
       "      <td>27</td>\n",
       "      <td>5400.0</td>\n",
       "      <td>6829.407407</td>\n",
       "    </tr>\n",
       "  </tbody>\n",
       "</table>\n",
       "</div>"
      ],
      "text/plain": [
       "          RESULT  TEST_TYPE          TEST_SDATE                VIN  \\\n",
       "RecordID                                                             \n",
       "2659334        0          0 2013-01-24 16:34:00  4tarn01p3rz215462   \n",
       "2663029        0          1 2013-01-30 17:03:00  4tarn01p3rz215462   \n",
       "2666215        1          0 2013-02-01 11:42:00  4tarn01p3rz215462   \n",
       "3189727        0          0 2015-01-05 13:45:00  4tarn01p3rz215462   \n",
       "3210402        0          0 2015-02-02 11:42:00  4tarn01p3rz215462   \n",
       "3212071        1          1 2015-02-03 16:03:00  4tarn01p3rz215462   \n",
       "3497262        1          0 2016-01-12 16:15:00  4tarn01p3rz215462   \n",
       "3773678        1          0 2017-01-11 15:23:29  4tarn01p3rz215462   \n",
       "4056734        1          0 2018-01-26 15:41:45  4tarn01p3rz215462   \n",
       "4341262        0          0 2019-02-08 15:16:24  4tarn01p3rz215462   \n",
       "\n",
       "          VEHICLE_TYPE MODEL_YEAR  ENGINE_SIZE  TRANS_TYPE  ODOMETER  \\\n",
       "RecordID                                                               \n",
       "2659334              3       1994         2200           1  172578.0   \n",
       "2663029              3       1994         2200           1  172662.0   \n",
       "2666215              3       1994         2200           1   72679.0   \n",
       "3189727              3       1994         2400           1  177371.0   \n",
       "3210402              3       1994         2200           1  177876.0   \n",
       "3212071              3       1994         2200           1  177879.0   \n",
       "3497262              3       1994         2200           1  180892.0   \n",
       "3773678              3       1994         2200           1  182426.0   \n",
       "4056734              3       1994         2200           1  183254.0   \n",
       "4341262              3       1994         2200           1  184394.0   \n",
       "\n",
       "             MAKE_MODEL_YEAR  VEHICLE_AGE    GVWR    MILE_YEAR  \n",
       "RecordID                                                        \n",
       "2659334   toyota/pickup/1994           21  5400.0  8218.000000  \n",
       "2663029   toyota/pickup/1994           21  5400.0  8222.000000  \n",
       "2666215   toyota/pickup/1994           21  5400.0  3460.904762  \n",
       "3189727   toyota/pickup/1994           23  5400.0  7711.782609  \n",
       "3210402   toyota/pickup/1994           23  5400.0  7733.739130  \n",
       "3212071   toyota/pickup/1994           23  5400.0  7733.869565  \n",
       "3497262   toyota/pickup/1994           24  5400.0  7537.166667  \n",
       "3773678   toyota/pickup/1994           25  5400.0  7297.040000  \n",
       "4056734   toyota/pickup/1994           26  5400.0  7048.230769  \n",
       "4341262   toyota/pickup/1994           27  5400.0  6829.407407  "
      ]
     },
     "execution_count": 63,
     "metadata": {},
     "output_type": "execute_result"
    }
   ],
   "source": [
    "# let's check a vehicle that was tested 10 times\n",
    "df[df.VIN == df.VIN.value_counts().sort_values(ascending=False).index[5]]"
   ]
  },
  {
   "cell_type": "markdown",
   "id": "95cc39f3",
   "metadata": {
    "heading_collapsed": true
   },
   "source": [
    "### current records + last test records\n"
   ]
  },
  {
   "cell_type": "code",
   "execution_count": 64,
   "id": "095e1b7c",
   "metadata": {
    "hidden": true
   },
   "outputs": [
    {
     "name": "stdout",
     "output_type": "stream",
     "text": [
      "Records where vehicles didn't receive test before (86341, 13)\n",
      "Records where vehicles have historical data (145368, 13)\n"
     ]
    }
   ],
   "source": [
    "# all the records where vehicles didn't receive test before\n",
    "df1 = df.loc[df.groupby('VIN')['TEST_SDATE'].idxmin(),:]\n",
    "\n",
    "# records whose vehicle has historical data\n",
    "tmp = df.VIN.value_counts()\n",
    "df2 = df[df.VIN.isin(tmp[tmp>1].index)]\n",
    "\n",
    "print(\"Records where vehicles didn't receive test before\", df1.shape)\n",
    "print(\"Records where vehicles have historical data\", df2.shape)"
   ]
  },
  {
   "cell_type": "code",
   "execution_count": 65,
   "id": "b9b6ed3a",
   "metadata": {
    "hidden": true
   },
   "outputs": [
    {
     "name": "stdout",
     "output_type": "stream",
     "text": [
      "records in historical dataframe 97116\n",
      "unique records in historical dataframe 97116\n",
      "\n",
      "Statistic summary of time gaps between current and last tests\n",
      "\n"
     ]
    },
    {
     "data": {
      "text/plain": [
       "count                          97116\n",
       "mean     632 days 18:38:11.296501080\n",
       "std      357 days 17:42:52.076980080\n",
       "min                  0 days 09:46:41\n",
       "25%         389 days 21:08:47.750000\n",
       "50%                724 days 03:05:04\n",
       "75%                757 days 22:13:00\n",
       "max               2821 days 01:08:10\n",
       "Name: DELTA, dtype: object"
      ]
     },
     "execution_count": 65,
     "metadata": {},
     "output_type": "execute_result"
    }
   ],
   "source": [
    "# merge historical data once on VIN\n",
    "df3 = df2.reset_index()\n",
    "df4 = df2.drop(columns=['MODEL_YEAR', 'MAKE_MODEL_YEAR']).reset_index()\n",
    "merge = pd.merge(df3, df4, how='left', on='VIN', suffixes=(None, '_1'))\n",
    "\n",
    "\n",
    "# add a helper column\n",
    "merge['DELTA'] = merge['TEST_SDATE']-merge['TEST_SDATE_1']\n",
    "\n",
    "# keep the entries where TEST_DATE_1 is earlier than TEST_DATE\n",
    "merge = merge[merge.DELTA > timedelta(days=0)]\n",
    "merge.reset_index(drop=True, inplace=True)\n",
    "\n",
    "\n",
    "# keep the rows whose DELTA is > 90, meaning vehicle's last check up was at least 90 days earlier than this time\n",
    "\n",
    "# print(merge.shape)\n",
    "# merge = merge[merge.DELTA > timedelta(days=90)]\n",
    "# merge.reset_index(inplace=True)\n",
    "# print(merge.shape)\n",
    "\n",
    "# for each RecordID only keep most recent record as previous testing record\n",
    "df_hist = merge.loc[merge.groupby('RecordID')['DELTA'].idxmin(), :]\n",
    "df_hist.set_index('RecordID', inplace=True)\n",
    "\n",
    "print(\"records in historical dataframe\", df_hist.shape[0])\n",
    "print(\"unique records in historical dataframe\", df_hist.index.nunique())\n",
    "\n",
    "print(\"\\nStatistic summary of time gaps between current and last tests\\n\")\n",
    "df_hist.DELTA.describe()"
   ]
  },
  {
   "cell_type": "code",
   "execution_count": 66,
   "id": "f668b91a",
   "metadata": {
    "hidden": true
   },
   "outputs": [
    {
     "name": "stdout",
     "output_type": "stream",
     "text": [
      "Shape of the new dataframe (183457, 25)\n"
     ]
    },
    {
     "data": {
      "text/html": [
       "<div>\n",
       "<style scoped>\n",
       "    .dataframe tbody tr th:only-of-type {\n",
       "        vertical-align: middle;\n",
       "    }\n",
       "\n",
       "    .dataframe tbody tr th {\n",
       "        vertical-align: top;\n",
       "    }\n",
       "\n",
       "    .dataframe thead th {\n",
       "        text-align: right;\n",
       "    }\n",
       "</style>\n",
       "<table border=\"1\" class=\"dataframe\">\n",
       "  <thead>\n",
       "    <tr style=\"text-align: right;\">\n",
       "      <th></th>\n",
       "      <th>RESULT</th>\n",
       "      <th>TEST_TYPE</th>\n",
       "      <th>TEST_SDATE</th>\n",
       "      <th>VIN</th>\n",
       "      <th>VEHICLE_TYPE</th>\n",
       "      <th>MODEL_YEAR</th>\n",
       "      <th>ENGINE_SIZE</th>\n",
       "      <th>TRANS_TYPE</th>\n",
       "      <th>ODOMETER</th>\n",
       "      <th>MAKE_MODEL_YEAR</th>\n",
       "      <th>VEHICLE_AGE</th>\n",
       "      <th>GVWR</th>\n",
       "      <th>MILE_YEAR</th>\n",
       "      <th>RecordID_1</th>\n",
       "      <th>RESULT_1</th>\n",
       "      <th>TEST_TYPE_1</th>\n",
       "      <th>TEST_SDATE_1</th>\n",
       "      <th>VEHICLE_TYPE_1</th>\n",
       "      <th>ENGINE_SIZE_1</th>\n",
       "      <th>TRANS_TYPE_1</th>\n",
       "      <th>ODOMETER_1</th>\n",
       "      <th>VEHICLE_AGE_1</th>\n",
       "      <th>GVWR_1</th>\n",
       "      <th>MILE_YEAR_1</th>\n",
       "      <th>DELTA</th>\n",
       "    </tr>\n",
       "    <tr>\n",
       "      <th>RecordID</th>\n",
       "      <th></th>\n",
       "      <th></th>\n",
       "      <th></th>\n",
       "      <th></th>\n",
       "      <th></th>\n",
       "      <th></th>\n",
       "      <th></th>\n",
       "      <th></th>\n",
       "      <th></th>\n",
       "      <th></th>\n",
       "      <th></th>\n",
       "      <th></th>\n",
       "      <th></th>\n",
       "      <th></th>\n",
       "      <th></th>\n",
       "      <th></th>\n",
       "      <th></th>\n",
       "      <th></th>\n",
       "      <th></th>\n",
       "      <th></th>\n",
       "      <th></th>\n",
       "      <th></th>\n",
       "      <th></th>\n",
       "      <th></th>\n",
       "      <th></th>\n",
       "    </tr>\n",
       "  </thead>\n",
       "  <tbody>\n",
       "    <tr>\n",
       "      <th>4843554</th>\n",
       "      <td>1</td>\n",
       "      <td>0</td>\n",
       "      <td>2020-12-31 16:34:16</td>\n",
       "      <td>1g3nl52f74c169657</td>\n",
       "      <td>1</td>\n",
       "      <td>2004</td>\n",
       "      <td>2200</td>\n",
       "      <td>0</td>\n",
       "      <td>120430.0</td>\n",
       "      <td>oldsmobile/alero/2004</td>\n",
       "      <td>18</td>\n",
       "      <td>3250.0</td>\n",
       "      <td>6690.555556</td>\n",
       "      <td>3994340.0</td>\n",
       "      <td>1.0</td>\n",
       "      <td>0.0</td>\n",
       "      <td>2017-10-25 11:09:37</td>\n",
       "      <td>1.0</td>\n",
       "      <td>2200.0</td>\n",
       "      <td>0.0</td>\n",
       "      <td>84307.0</td>\n",
       "      <td>15.0</td>\n",
       "      <td>3250.0</td>\n",
       "      <td>5620.466667</td>\n",
       "      <td>1163 days 05:24:39</td>\n",
       "    </tr>\n",
       "    <tr>\n",
       "      <th>4843592</th>\n",
       "      <td>1</td>\n",
       "      <td>0</td>\n",
       "      <td>2020-12-31 17:39:11</td>\n",
       "      <td>kmhdu46d88u315460</td>\n",
       "      <td>1</td>\n",
       "      <td>2008</td>\n",
       "      <td>2000</td>\n",
       "      <td>1</td>\n",
       "      <td>153137.0</td>\n",
       "      <td>hyundai/elantra/2008</td>\n",
       "      <td>14</td>\n",
       "      <td>3125.0</td>\n",
       "      <td>10938.357143</td>\n",
       "      <td>4638360.0</td>\n",
       "      <td>1.0</td>\n",
       "      <td>0.0</td>\n",
       "      <td>2020-03-07 12:53:20</td>\n",
       "      <td>1.0</td>\n",
       "      <td>2000.0</td>\n",
       "      <td>1.0</td>\n",
       "      <td>144535.0</td>\n",
       "      <td>14.0</td>\n",
       "      <td>3125.0</td>\n",
       "      <td>10323.928571</td>\n",
       "      <td>299 days 04:45:51</td>\n",
       "    </tr>\n",
       "    <tr>\n",
       "      <th>4843654</th>\n",
       "      <td>1</td>\n",
       "      <td>0</td>\n",
       "      <td>2020-12-31 12:36:33</td>\n",
       "      <td>salgs5rexja381770</td>\n",
       "      <td>4</td>\n",
       "      <td>2018</td>\n",
       "      <td>5000</td>\n",
       "      <td>0</td>\n",
       "      <td>13703.0</td>\n",
       "      <td>land rover/range rover sport/2018</td>\n",
       "      <td>4</td>\n",
       "      <td>6700.0</td>\n",
       "      <td>3425.750000</td>\n",
       "      <td>NaN</td>\n",
       "      <td>NaN</td>\n",
       "      <td>NaN</td>\n",
       "      <td>NaT</td>\n",
       "      <td>NaN</td>\n",
       "      <td>NaN</td>\n",
       "      <td>NaN</td>\n",
       "      <td>NaN</td>\n",
       "      <td>NaN</td>\n",
       "      <td>NaN</td>\n",
       "      <td>NaN</td>\n",
       "      <td>NaT</td>\n",
       "    </tr>\n",
       "    <tr>\n",
       "      <th>4844491</th>\n",
       "      <td>1</td>\n",
       "      <td>0</td>\n",
       "      <td>2020-12-29 14:19:52</td>\n",
       "      <td>3gnek13t22g185380</td>\n",
       "      <td>3</td>\n",
       "      <td>2002</td>\n",
       "      <td>5300</td>\n",
       "      <td>0</td>\n",
       "      <td>NaN</td>\n",
       "      <td>chevrolet/avalanche 4wd/2002</td>\n",
       "      <td>20</td>\n",
       "      <td>7000.0</td>\n",
       "      <td>NaN</td>\n",
       "      <td>NaN</td>\n",
       "      <td>NaN</td>\n",
       "      <td>NaN</td>\n",
       "      <td>NaT</td>\n",
       "      <td>NaN</td>\n",
       "      <td>NaN</td>\n",
       "      <td>NaN</td>\n",
       "      <td>NaN</td>\n",
       "      <td>NaN</td>\n",
       "      <td>NaN</td>\n",
       "      <td>NaN</td>\n",
       "      <td>NaT</td>\n",
       "    </tr>\n",
       "    <tr>\n",
       "      <th>4844706</th>\n",
       "      <td>1</td>\n",
       "      <td>0</td>\n",
       "      <td>2020-12-31 16:13:15</td>\n",
       "      <td>1hgcg56612a017292</td>\n",
       "      <td>1</td>\n",
       "      <td>2002</td>\n",
       "      <td>2300</td>\n",
       "      <td>0</td>\n",
       "      <td>139330.0</td>\n",
       "      <td>honda/accord/2002</td>\n",
       "      <td>20</td>\n",
       "      <td>3665.0</td>\n",
       "      <td>6966.500000</td>\n",
       "      <td>4049454.0</td>\n",
       "      <td>1.0</td>\n",
       "      <td>0.0</td>\n",
       "      <td>2018-01-17 12:29:55</td>\n",
       "      <td>1.0</td>\n",
       "      <td>2300.0</td>\n",
       "      <td>0.0</td>\n",
       "      <td>124072.0</td>\n",
       "      <td>18.0</td>\n",
       "      <td>3665.0</td>\n",
       "      <td>6892.888889</td>\n",
       "      <td>1079 days 03:43:20</td>\n",
       "    </tr>\n",
       "  </tbody>\n",
       "</table>\n",
       "</div>"
      ],
      "text/plain": [
       "          RESULT  TEST_TYPE          TEST_SDATE                VIN  \\\n",
       "RecordID                                                             \n",
       "4843554        1          0 2020-12-31 16:34:16  1g3nl52f74c169657   \n",
       "4843592        1          0 2020-12-31 17:39:11  kmhdu46d88u315460   \n",
       "4843654        1          0 2020-12-31 12:36:33  salgs5rexja381770   \n",
       "4844491        1          0 2020-12-29 14:19:52  3gnek13t22g185380   \n",
       "4844706        1          0 2020-12-31 16:13:15  1hgcg56612a017292   \n",
       "\n",
       "          VEHICLE_TYPE MODEL_YEAR  ENGINE_SIZE  TRANS_TYPE  ODOMETER  \\\n",
       "RecordID                                                               \n",
       "4843554              1       2004         2200           0  120430.0   \n",
       "4843592              1       2008         2000           1  153137.0   \n",
       "4843654              4       2018         5000           0   13703.0   \n",
       "4844491              3       2002         5300           0       NaN   \n",
       "4844706              1       2002         2300           0  139330.0   \n",
       "\n",
       "                            MAKE_MODEL_YEAR  VEHICLE_AGE    GVWR  \\\n",
       "RecordID                                                           \n",
       "4843554               oldsmobile/alero/2004           18  3250.0   \n",
       "4843592                hyundai/elantra/2008           14  3125.0   \n",
       "4843654   land rover/range rover sport/2018            4  6700.0   \n",
       "4844491        chevrolet/avalanche 4wd/2002           20  7000.0   \n",
       "4844706                   honda/accord/2002           20  3665.0   \n",
       "\n",
       "             MILE_YEAR  RecordID_1  RESULT_1  TEST_TYPE_1        TEST_SDATE_1  \\\n",
       "RecordID                                                                        \n",
       "4843554    6690.555556   3994340.0       1.0          0.0 2017-10-25 11:09:37   \n",
       "4843592   10938.357143   4638360.0       1.0          0.0 2020-03-07 12:53:20   \n",
       "4843654    3425.750000         NaN       NaN          NaN                 NaT   \n",
       "4844491            NaN         NaN       NaN          NaN                 NaT   \n",
       "4844706    6966.500000   4049454.0       1.0          0.0 2018-01-17 12:29:55   \n",
       "\n",
       "          VEHICLE_TYPE_1  ENGINE_SIZE_1  TRANS_TYPE_1  ODOMETER_1  \\\n",
       "RecordID                                                            \n",
       "4843554              1.0         2200.0           0.0     84307.0   \n",
       "4843592              1.0         2000.0           1.0    144535.0   \n",
       "4843654              NaN            NaN           NaN         NaN   \n",
       "4844491              NaN            NaN           NaN         NaN   \n",
       "4844706              1.0         2300.0           0.0    124072.0   \n",
       "\n",
       "          VEHICLE_AGE_1  GVWR_1   MILE_YEAR_1              DELTA  \n",
       "RecordID                                                          \n",
       "4843554            15.0  3250.0   5620.466667 1163 days 05:24:39  \n",
       "4843592            14.0  3125.0  10323.928571  299 days 04:45:51  \n",
       "4843654             NaN     NaN           NaN                NaT  \n",
       "4844491             NaN     NaN           NaN                NaT  \n",
       "4844706            18.0  3665.0   6892.888889 1079 days 03:43:20  "
      ]
     },
     "execution_count": 66,
     "metadata": {},
     "output_type": "execute_result"
    }
   ],
   "source": [
    "# stack df1 and df_hist\n",
    "updated_df = pd.concat([df1, df_hist])\n",
    "print(\"Shape of the new dataframe\", updated_df.shape)\n",
    "\n",
    "updated_df.sort_index().tail()"
   ]
  },
  {
   "cell_type": "markdown",
   "id": "c1f13272",
   "metadata": {
    "heading_collapsed": true
   },
   "source": [
    "### one entry for one vehicle\n"
   ]
  },
  {
   "cell_type": "code",
   "execution_count": 68,
   "id": "b44effed",
   "metadata": {
    "hidden": true
   },
   "outputs": [
    {
     "name": "stdout",
     "output_type": "stream",
     "text": [
      "number records that don't belong to historical records: 86341\n",
      "number of unique vehicles in df1: 86341\n",
      "number records that belong to historical records: 97116\n"
     ]
    }
   ],
   "source": [
    "# keep most recent record for each vehicle\n",
    "\n",
    "df1 = df.loc[df.groupby('VIN')['TEST_SDATE'].idxmax(),:]\n",
    "\n",
    "# let's take the historical data out\n",
    "\n",
    "df2 = df[~df.index.isin(df1.index)]\n",
    "\n",
    "print(\"number records that don't belong to historical records:\", df1.shape[0])\n",
    "print('number of unique vehicles in df1:', df1.VIN.nunique())    \n",
    "print('number records that belong to historical records:', df2.shape[0])"
   ]
  },
  {
   "cell_type": "code",
   "execution_count": 71,
   "id": "07c9097b",
   "metadata": {
    "hidden": true
   },
   "outputs": [
    {
     "name": "stdout",
     "output_type": "stream",
     "text": [
      "getting layer 0\n",
      "getting layer 1\n",
      "getting layer 2\n",
      "getting layer 3\n",
      "getting layer 4\n",
      "getting layer 5\n",
      "getting layer 6\n",
      "getting layer 7\n",
      "getting layer 8\n",
      "getting layer 9\n"
     ]
    }
   ],
   "source": [
    "# let's peel the historical df2 like an onion into multiple dataframes according to timeline\n",
    "\n",
    "older_records = [] # a list to collect dataframes\n",
    "\n",
    "updated_df2 = df2\n",
    "\n",
    "for i in range(10):\n",
    "    print(f'getting layer {i}')\n",
    "    latest = updated_df2.loc[updated_df2.groupby('VIN')['TEST_SDATE'].idxmax(), :]\n",
    "    older_records.append(latest.reset_index())\n",
    "    tmp = updated_df2[~updated_df2.index.isin(latest.index)]\n",
    "    updated_df2 = tmp.copy()"
   ]
  },
  {
   "cell_type": "code",
   "execution_count": 72,
   "id": "c58dce30",
   "metadata": {
    "hidden": true
   },
   "outputs": [
    {
     "name": "stdout",
     "output_type": "stream",
     "text": [
      "The size of one-entry-one-vehicle dataframe: (86341, 143)\n"
     ]
    },
    {
     "data": {
      "text/html": [
       "<div>\n",
       "<style scoped>\n",
       "    .dataframe tbody tr th:only-of-type {\n",
       "        vertical-align: middle;\n",
       "    }\n",
       "\n",
       "    .dataframe tbody tr th {\n",
       "        vertical-align: top;\n",
       "    }\n",
       "\n",
       "    .dataframe thead th {\n",
       "        text-align: right;\n",
       "    }\n",
       "</style>\n",
       "<table border=\"1\" class=\"dataframe\">\n",
       "  <thead>\n",
       "    <tr style=\"text-align: right;\">\n",
       "      <th></th>\n",
       "      <th>RESULT</th>\n",
       "      <th>TEST_TYPE</th>\n",
       "      <th>TEST_SDATE</th>\n",
       "      <th>VIN</th>\n",
       "      <th>VEHICLE_TYPE</th>\n",
       "      <th>MODEL_YEAR</th>\n",
       "      <th>ENGINE_SIZE</th>\n",
       "      <th>TRANS_TYPE</th>\n",
       "      <th>ODOMETER</th>\n",
       "      <th>MAKE_MODEL_YEAR</th>\n",
       "      <th>VEHICLE_AGE</th>\n",
       "      <th>GVWR</th>\n",
       "      <th>MILE_YEAR</th>\n",
       "      <th>RecordID</th>\n",
       "      <th>RESULT_1</th>\n",
       "      <th>TEST_TYPE_1</th>\n",
       "      <th>TEST_SDATE_1</th>\n",
       "      <th>VEHICLE_TYPE_1</th>\n",
       "      <th>MODEL_YEAR_1</th>\n",
       "      <th>ENGINE_SIZE_1</th>\n",
       "      <th>TRANS_TYPE_1</th>\n",
       "      <th>ODOMETER_1</th>\n",
       "      <th>MAKE_MODEL_YEAR_1</th>\n",
       "      <th>VEHICLE_AGE_1</th>\n",
       "      <th>GVWR_1</th>\n",
       "      <th>MILE_YEAR_1</th>\n",
       "      <th>RecordID_2</th>\n",
       "      <th>RESULT_2</th>\n",
       "      <th>TEST_TYPE_2</th>\n",
       "      <th>TEST_SDATE_2</th>\n",
       "      <th>VEHICLE_TYPE_2</th>\n",
       "      <th>MODEL_YEAR_2</th>\n",
       "      <th>ENGINE_SIZE_2</th>\n",
       "      <th>TRANS_TYPE_2</th>\n",
       "      <th>ODOMETER_2</th>\n",
       "      <th>MAKE_MODEL_YEAR_2</th>\n",
       "      <th>VEHICLE_AGE_2</th>\n",
       "      <th>GVWR_2</th>\n",
       "      <th>MILE_YEAR_2</th>\n",
       "      <th>RecordID_3</th>\n",
       "      <th>RESULT_3</th>\n",
       "      <th>TEST_TYPE_3</th>\n",
       "      <th>TEST_SDATE_3</th>\n",
       "      <th>VEHICLE_TYPE_3</th>\n",
       "      <th>MODEL_YEAR_3</th>\n",
       "      <th>ENGINE_SIZE_3</th>\n",
       "      <th>TRANS_TYPE_3</th>\n",
       "      <th>ODOMETER_3</th>\n",
       "      <th>MAKE_MODEL_YEAR_3</th>\n",
       "      <th>VEHICLE_AGE_3</th>\n",
       "      <th>GVWR_3</th>\n",
       "      <th>MILE_YEAR_3</th>\n",
       "      <th>RecordID_4</th>\n",
       "      <th>RESULT_4</th>\n",
       "      <th>TEST_TYPE_4</th>\n",
       "      <th>TEST_SDATE_4</th>\n",
       "      <th>VEHICLE_TYPE_4</th>\n",
       "      <th>MODEL_YEAR_4</th>\n",
       "      <th>ENGINE_SIZE_4</th>\n",
       "      <th>TRANS_TYPE_4</th>\n",
       "      <th>ODOMETER_4</th>\n",
       "      <th>MAKE_MODEL_YEAR_4</th>\n",
       "      <th>VEHICLE_AGE_4</th>\n",
       "      <th>GVWR_4</th>\n",
       "      <th>MILE_YEAR_4</th>\n",
       "      <th>RecordID_5</th>\n",
       "      <th>RESULT_5</th>\n",
       "      <th>TEST_TYPE_5</th>\n",
       "      <th>TEST_SDATE_5</th>\n",
       "      <th>VEHICLE_TYPE_5</th>\n",
       "      <th>MODEL_YEAR_5</th>\n",
       "      <th>ENGINE_SIZE_5</th>\n",
       "      <th>TRANS_TYPE_5</th>\n",
       "      <th>ODOMETER_5</th>\n",
       "      <th>MAKE_MODEL_YEAR_5</th>\n",
       "      <th>VEHICLE_AGE_5</th>\n",
       "      <th>GVWR_5</th>\n",
       "      <th>MILE_YEAR_5</th>\n",
       "      <th>RecordID_6</th>\n",
       "      <th>RESULT_6</th>\n",
       "      <th>TEST_TYPE_6</th>\n",
       "      <th>TEST_SDATE_6</th>\n",
       "      <th>VEHICLE_TYPE_6</th>\n",
       "      <th>MODEL_YEAR_6</th>\n",
       "      <th>ENGINE_SIZE_6</th>\n",
       "      <th>TRANS_TYPE_6</th>\n",
       "      <th>ODOMETER_6</th>\n",
       "      <th>MAKE_MODEL_YEAR_6</th>\n",
       "      <th>VEHICLE_AGE_6</th>\n",
       "      <th>GVWR_6</th>\n",
       "      <th>MILE_YEAR_6</th>\n",
       "      <th>RecordID_7</th>\n",
       "      <th>RESULT_7</th>\n",
       "      <th>TEST_TYPE_7</th>\n",
       "      <th>TEST_SDATE_7</th>\n",
       "      <th>VEHICLE_TYPE_7</th>\n",
       "      <th>MODEL_YEAR_7</th>\n",
       "      <th>ENGINE_SIZE_7</th>\n",
       "      <th>TRANS_TYPE_7</th>\n",
       "      <th>ODOMETER_7</th>\n",
       "      <th>MAKE_MODEL_YEAR_7</th>\n",
       "      <th>VEHICLE_AGE_7</th>\n",
       "      <th>GVWR_7</th>\n",
       "      <th>MILE_YEAR_7</th>\n",
       "      <th>RecordID_8</th>\n",
       "      <th>RESULT_8</th>\n",
       "      <th>TEST_TYPE_8</th>\n",
       "      <th>TEST_SDATE_8</th>\n",
       "      <th>VEHICLE_TYPE_8</th>\n",
       "      <th>MODEL_YEAR_8</th>\n",
       "      <th>ENGINE_SIZE_8</th>\n",
       "      <th>TRANS_TYPE_8</th>\n",
       "      <th>ODOMETER_8</th>\n",
       "      <th>MAKE_MODEL_YEAR_8</th>\n",
       "      <th>VEHICLE_AGE_8</th>\n",
       "      <th>GVWR_8</th>\n",
       "      <th>MILE_YEAR_8</th>\n",
       "      <th>RecordID_9</th>\n",
       "      <th>RESULT_9</th>\n",
       "      <th>TEST_TYPE_9</th>\n",
       "      <th>TEST_SDATE_9</th>\n",
       "      <th>VEHICLE_TYPE_9</th>\n",
       "      <th>MODEL_YEAR_9</th>\n",
       "      <th>ENGINE_SIZE_9</th>\n",
       "      <th>TRANS_TYPE_9</th>\n",
       "      <th>ODOMETER_9</th>\n",
       "      <th>MAKE_MODEL_YEAR_9</th>\n",
       "      <th>VEHICLE_AGE_9</th>\n",
       "      <th>GVWR_9</th>\n",
       "      <th>MILE_YEAR_9</th>\n",
       "      <th>RecordID_10</th>\n",
       "      <th>RESULT_10</th>\n",
       "      <th>TEST_TYPE_10</th>\n",
       "      <th>TEST_SDATE_10</th>\n",
       "      <th>VEHICLE_TYPE_10</th>\n",
       "      <th>MODEL_YEAR_10</th>\n",
       "      <th>ENGINE_SIZE_10</th>\n",
       "      <th>TRANS_TYPE_10</th>\n",
       "      <th>ODOMETER_10</th>\n",
       "      <th>MAKE_MODEL_YEAR_10</th>\n",
       "      <th>VEHICLE_AGE_10</th>\n",
       "      <th>GVWR_10</th>\n",
       "      <th>MILE_YEAR_10</th>\n",
       "    </tr>\n",
       "  </thead>\n",
       "  <tbody>\n",
       "    <tr>\n",
       "      <th>69953</th>\n",
       "      <td>1</td>\n",
       "      <td>0</td>\n",
       "      <td>2020-06-15 15:42:56</td>\n",
       "      <td>jm1na3535r0503494</td>\n",
       "      <td>1</td>\n",
       "      <td>1994</td>\n",
       "      <td>1800</td>\n",
       "      <td>1</td>\n",
       "      <td>147254.0</td>\n",
       "      <td>mazda/miata/1994</td>\n",
       "      <td>28</td>\n",
       "      <td>2625.0</td>\n",
       "      <td>5259.071429</td>\n",
       "      <td>4615145.0</td>\n",
       "      <td>1.0</td>\n",
       "      <td>0.0</td>\n",
       "      <td>2020-02-08 09:57:01</td>\n",
       "      <td>1.0</td>\n",
       "      <td>1994</td>\n",
       "      <td>1800.0</td>\n",
       "      <td>1.0</td>\n",
       "      <td>144900.0</td>\n",
       "      <td>mazda/miata/1994</td>\n",
       "      <td>28.0</td>\n",
       "      <td>2625.0</td>\n",
       "      <td>5175.000</td>\n",
       "      <td>4309672.0</td>\n",
       "      <td>1.0</td>\n",
       "      <td>0.0</td>\n",
       "      <td>2018-12-29 11:13:44</td>\n",
       "      <td>1.0</td>\n",
       "      <td>1994</td>\n",
       "      <td>1800.0</td>\n",
       "      <td>1.0</td>\n",
       "      <td>137314.0</td>\n",
       "      <td>mazda/miata/1994</td>\n",
       "      <td>26.0</td>\n",
       "      <td>2625.0</td>\n",
       "      <td>5281.307692</td>\n",
       "      <td>3732894.0</td>\n",
       "      <td>1.0</td>\n",
       "      <td>0.0</td>\n",
       "      <td>2016-11-08 11:31:00</td>\n",
       "      <td>1.0</td>\n",
       "      <td>1994</td>\n",
       "      <td>1800.0</td>\n",
       "      <td>1.0</td>\n",
       "      <td>128221.0</td>\n",
       "      <td>mazda/miata/1994</td>\n",
       "      <td>24.0</td>\n",
       "      <td>2625.0</td>\n",
       "      <td>5342.541667</td>\n",
       "      <td>3611495.0</td>\n",
       "      <td>1.0</td>\n",
       "      <td>0.0</td>\n",
       "      <td>2016-06-03 16:41:00</td>\n",
       "      <td>1.0</td>\n",
       "      <td>1994</td>\n",
       "      <td>1800.0</td>\n",
       "      <td>1.0</td>\n",
       "      <td>127063.0</td>\n",
       "      <td>mazda/miata/1994</td>\n",
       "      <td>24.0</td>\n",
       "      <td>2625.0</td>\n",
       "      <td>5294.291667</td>\n",
       "      <td>3605790.0</td>\n",
       "      <td>0.0</td>\n",
       "      <td>1.0</td>\n",
       "      <td>2016-05-30 14:41:00</td>\n",
       "      <td>1.0</td>\n",
       "      <td>1994</td>\n",
       "      <td>1800.0</td>\n",
       "      <td>1.0</td>\n",
       "      <td>126950.0</td>\n",
       "      <td>mazda/miata/1994</td>\n",
       "      <td>24.0</td>\n",
       "      <td>2625.0</td>\n",
       "      <td>5289.583333</td>\n",
       "      <td>3573675.0</td>\n",
       "      <td>0.0</td>\n",
       "      <td>0.0</td>\n",
       "      <td>2016-04-18 15:39:00</td>\n",
       "      <td>1.0</td>\n",
       "      <td>1994</td>\n",
       "      <td>1800.0</td>\n",
       "      <td>1.0</td>\n",
       "      <td>126781.0</td>\n",
       "      <td>mazda/miata/1994</td>\n",
       "      <td>24.0</td>\n",
       "      <td>2625.0</td>\n",
       "      <td>5282.541667</td>\n",
       "      <td>3334094.0</td>\n",
       "      <td>1.0</td>\n",
       "      <td>1.0</td>\n",
       "      <td>2015-05-31 16:49:00</td>\n",
       "      <td>1.0</td>\n",
       "      <td>1994</td>\n",
       "      <td>1800.0</td>\n",
       "      <td>1.0</td>\n",
       "      <td>125431.0</td>\n",
       "      <td>mazda/miata/1994</td>\n",
       "      <td>23.0</td>\n",
       "      <td>2625.0</td>\n",
       "      <td>5453.521739</td>\n",
       "      <td>3332944.0</td>\n",
       "      <td>0.0</td>\n",
       "      <td>0.0</td>\n",
       "      <td>2015-05-29 15:19:00</td>\n",
       "      <td>1.0</td>\n",
       "      <td>1994</td>\n",
       "      <td>1800.0</td>\n",
       "      <td>1.0</td>\n",
       "      <td>125408.0</td>\n",
       "      <td>mazda/miata/1994</td>\n",
       "      <td>23.0</td>\n",
       "      <td>2625.0</td>\n",
       "      <td>5452.521739</td>\n",
       "      <td>2784833.0</td>\n",
       "      <td>1.0</td>\n",
       "      <td>1.0</td>\n",
       "      <td>2013-06-26 18:14:00</td>\n",
       "      <td>1.0</td>\n",
       "      <td>1994</td>\n",
       "      <td>1800.0</td>\n",
       "      <td>1.0</td>\n",
       "      <td>122541.0</td>\n",
       "      <td>mazda/miata/1994</td>\n",
       "      <td>21.0</td>\n",
       "      <td>2625.0</td>\n",
       "      <td>5835.285714</td>\n",
       "      <td>2779499.0</td>\n",
       "      <td>0.0</td>\n",
       "      <td>0.0</td>\n",
       "      <td>2013-06-19 16:38:00</td>\n",
       "      <td>1.0</td>\n",
       "      <td>1994</td>\n",
       "      <td>1800.0</td>\n",
       "      <td>1.0</td>\n",
       "      <td>122495.0</td>\n",
       "      <td>mazda/miata/1994</td>\n",
       "      <td>21.0</td>\n",
       "      <td>2625.0</td>\n",
       "      <td>5833.095238</td>\n",
       "    </tr>\n",
       "    <tr>\n",
       "      <th>78108</th>\n",
       "      <td>1</td>\n",
       "      <td>0</td>\n",
       "      <td>2020-11-06 14:08:40</td>\n",
       "      <td>km8jn12d86u437446</td>\n",
       "      <td>4</td>\n",
       "      <td>2006</td>\n",
       "      <td>2700</td>\n",
       "      <td>0</td>\n",
       "      <td>182874.0</td>\n",
       "      <td>hyundai/tucson/2006</td>\n",
       "      <td>16</td>\n",
       "      <td>4652.0</td>\n",
       "      <td>11429.625000</td>\n",
       "      <td>4810353.0</td>\n",
       "      <td>0.0</td>\n",
       "      <td>1.0</td>\n",
       "      <td>2020-11-03 13:10:10</td>\n",
       "      <td>4.0</td>\n",
       "      <td>2006</td>\n",
       "      <td>2700.0</td>\n",
       "      <td>0.0</td>\n",
       "      <td>182778.0</td>\n",
       "      <td>hyundai/tucson/2006</td>\n",
       "      <td>16.0</td>\n",
       "      <td>4652.0</td>\n",
       "      <td>11423.625</td>\n",
       "      <td>4809165.0</td>\n",
       "      <td>0.0</td>\n",
       "      <td>0.0</td>\n",
       "      <td>2020-11-02 11:22:58</td>\n",
       "      <td>4.0</td>\n",
       "      <td>2006</td>\n",
       "      <td>2700.0</td>\n",
       "      <td>0.0</td>\n",
       "      <td>182445.0</td>\n",
       "      <td>hyundai/tucson/2006</td>\n",
       "      <td>16.0</td>\n",
       "      <td>4652.0</td>\n",
       "      <td>11402.812500</td>\n",
       "      <td>4311860.0</td>\n",
       "      <td>1.0</td>\n",
       "      <td>0.0</td>\n",
       "      <td>2019-01-03 11:07:46</td>\n",
       "      <td>4.0</td>\n",
       "      <td>2006</td>\n",
       "      <td>2700.0</td>\n",
       "      <td>0.0</td>\n",
       "      <td>180605.0</td>\n",
       "      <td>hyundai/tucson/2006</td>\n",
       "      <td>15.0</td>\n",
       "      <td>4652.0</td>\n",
       "      <td>12040.333333</td>\n",
       "      <td>4285646.0</td>\n",
       "      <td>1.0</td>\n",
       "      <td>0.0</td>\n",
       "      <td>2018-11-21 13:25:29</td>\n",
       "      <td>4.0</td>\n",
       "      <td>2006</td>\n",
       "      <td>2700.0</td>\n",
       "      <td>0.0</td>\n",
       "      <td>179779.0</td>\n",
       "      <td>hyundai/tuscon/2006</td>\n",
       "      <td>14.0</td>\n",
       "      <td>4652.0</td>\n",
       "      <td>12841.357143</td>\n",
       "      <td>4044883.0</td>\n",
       "      <td>1.0</td>\n",
       "      <td>1.0</td>\n",
       "      <td>2018-01-11 10:00:56</td>\n",
       "      <td>4.0</td>\n",
       "      <td>2006</td>\n",
       "      <td>2700.0</td>\n",
       "      <td>0.0</td>\n",
       "      <td>169761.0</td>\n",
       "      <td>hyundai/tuscon/2006</td>\n",
       "      <td>14.0</td>\n",
       "      <td>4652.0</td>\n",
       "      <td>12125.785714</td>\n",
       "      <td>4036297.0</td>\n",
       "      <td>0.0</td>\n",
       "      <td>0.0</td>\n",
       "      <td>2017-12-30 14:06:00</td>\n",
       "      <td>4.0</td>\n",
       "      <td>2006</td>\n",
       "      <td>2700.0</td>\n",
       "      <td>0.0</td>\n",
       "      <td>169259.0</td>\n",
       "      <td>hyundai/tuscon/2006</td>\n",
       "      <td>13.0</td>\n",
       "      <td>4652.0</td>\n",
       "      <td>13019.923077</td>\n",
       "      <td>3753080.0</td>\n",
       "      <td>1.0</td>\n",
       "      <td>0.0</td>\n",
       "      <td>2016-12-09 13:24:00</td>\n",
       "      <td>4.0</td>\n",
       "      <td>2006</td>\n",
       "      <td>2600.0</td>\n",
       "      <td>0.0</td>\n",
       "      <td>152904.0</td>\n",
       "      <td>hyundai/tuscon/2006</td>\n",
       "      <td>12.0</td>\n",
       "      <td>4652.0</td>\n",
       "      <td>12742.000000</td>\n",
       "      <td>3577469.0</td>\n",
       "      <td>1.0</td>\n",
       "      <td>0.0</td>\n",
       "      <td>2016-04-23 12:25:00</td>\n",
       "      <td>4.0</td>\n",
       "      <td>2006</td>\n",
       "      <td>3500.0</td>\n",
       "      <td>0.0</td>\n",
       "      <td>144679.0</td>\n",
       "      <td>hyundai/tucson/2006</td>\n",
       "      <td>12.0</td>\n",
       "      <td>4652.0</td>\n",
       "      <td>12056.583333</td>\n",
       "      <td>3206872.0</td>\n",
       "      <td>1.0</td>\n",
       "      <td>0.0</td>\n",
       "      <td>2015-01-28 14:37:00</td>\n",
       "      <td>4.0</td>\n",
       "      <td>2006</td>\n",
       "      <td>2700.0</td>\n",
       "      <td>0.0</td>\n",
       "      <td>140274.0</td>\n",
       "      <td>hyundai/tucson/2006</td>\n",
       "      <td>11.0</td>\n",
       "      <td>4652.0</td>\n",
       "      <td>12752.181818</td>\n",
       "      <td>3109066.0</td>\n",
       "      <td>1.0</td>\n",
       "      <td>0.0</td>\n",
       "      <td>2014-09-09 17:37:00</td>\n",
       "      <td>4.0</td>\n",
       "      <td>2006</td>\n",
       "      <td>2000.0</td>\n",
       "      <td>0.0</td>\n",
       "      <td>138192.0</td>\n",
       "      <td>hyundai/tucson/2006</td>\n",
       "      <td>10.0</td>\n",
       "      <td>4652.0</td>\n",
       "      <td>13819.200000</td>\n",
       "    </tr>\n",
       "  </tbody>\n",
       "</table>\n",
       "</div>"
      ],
      "text/plain": [
       "       RESULT  TEST_TYPE          TEST_SDATE                VIN  VEHICLE_TYPE  \\\n",
       "69953       1          0 2020-06-15 15:42:56  jm1na3535r0503494             1   \n",
       "78108       1          0 2020-11-06 14:08:40  km8jn12d86u437446             4   \n",
       "\n",
       "      MODEL_YEAR  ENGINE_SIZE  TRANS_TYPE  ODOMETER      MAKE_MODEL_YEAR  \\\n",
       "69953       1994         1800           1  147254.0     mazda/miata/1994   \n",
       "78108       2006         2700           0  182874.0  hyundai/tucson/2006   \n",
       "\n",
       "       VEHICLE_AGE    GVWR     MILE_YEAR   RecordID  RESULT_1  TEST_TYPE_1  \\\n",
       "69953           28  2625.0   5259.071429  4615145.0       1.0          0.0   \n",
       "78108           16  4652.0  11429.625000  4810353.0       0.0          1.0   \n",
       "\n",
       "             TEST_SDATE_1  VEHICLE_TYPE_1 MODEL_YEAR_1  ENGINE_SIZE_1  \\\n",
       "69953 2020-02-08 09:57:01             1.0         1994         1800.0   \n",
       "78108 2020-11-03 13:10:10             4.0         2006         2700.0   \n",
       "\n",
       "       TRANS_TYPE_1  ODOMETER_1    MAKE_MODEL_YEAR_1  VEHICLE_AGE_1  GVWR_1  \\\n",
       "69953           1.0    144900.0     mazda/miata/1994           28.0  2625.0   \n",
       "78108           0.0    182778.0  hyundai/tucson/2006           16.0  4652.0   \n",
       "\n",
       "       MILE_YEAR_1  RecordID_2  RESULT_2  TEST_TYPE_2        TEST_SDATE_2  \\\n",
       "69953     5175.000   4309672.0       1.0          0.0 2018-12-29 11:13:44   \n",
       "78108    11423.625   4809165.0       0.0          0.0 2020-11-02 11:22:58   \n",
       "\n",
       "       VEHICLE_TYPE_2 MODEL_YEAR_2  ENGINE_SIZE_2  TRANS_TYPE_2  ODOMETER_2  \\\n",
       "69953             1.0         1994         1800.0           1.0    137314.0   \n",
       "78108             4.0         2006         2700.0           0.0    182445.0   \n",
       "\n",
       "         MAKE_MODEL_YEAR_2  VEHICLE_AGE_2  GVWR_2   MILE_YEAR_2  RecordID_3  \\\n",
       "69953     mazda/miata/1994           26.0  2625.0   5281.307692   3732894.0   \n",
       "78108  hyundai/tucson/2006           16.0  4652.0  11402.812500   4311860.0   \n",
       "\n",
       "       RESULT_3  TEST_TYPE_3        TEST_SDATE_3  VEHICLE_TYPE_3 MODEL_YEAR_3  \\\n",
       "69953       1.0          0.0 2016-11-08 11:31:00             1.0         1994   \n",
       "78108       1.0          0.0 2019-01-03 11:07:46             4.0         2006   \n",
       "\n",
       "       ENGINE_SIZE_3  TRANS_TYPE_3  ODOMETER_3    MAKE_MODEL_YEAR_3  \\\n",
       "69953         1800.0           1.0    128221.0     mazda/miata/1994   \n",
       "78108         2700.0           0.0    180605.0  hyundai/tucson/2006   \n",
       "\n",
       "       VEHICLE_AGE_3  GVWR_3   MILE_YEAR_3  RecordID_4  RESULT_4  TEST_TYPE_4  \\\n",
       "69953           24.0  2625.0   5342.541667   3611495.0       1.0          0.0   \n",
       "78108           15.0  4652.0  12040.333333   4285646.0       1.0          0.0   \n",
       "\n",
       "             TEST_SDATE_4  VEHICLE_TYPE_4 MODEL_YEAR_4  ENGINE_SIZE_4  \\\n",
       "69953 2016-06-03 16:41:00             1.0         1994         1800.0   \n",
       "78108 2018-11-21 13:25:29             4.0         2006         2700.0   \n",
       "\n",
       "       TRANS_TYPE_4  ODOMETER_4    MAKE_MODEL_YEAR_4  VEHICLE_AGE_4  GVWR_4  \\\n",
       "69953           1.0    127063.0     mazda/miata/1994           24.0  2625.0   \n",
       "78108           0.0    179779.0  hyundai/tuscon/2006           14.0  4652.0   \n",
       "\n",
       "        MILE_YEAR_4  RecordID_5  RESULT_5  TEST_TYPE_5        TEST_SDATE_5  \\\n",
       "69953   5294.291667   3605790.0       0.0          1.0 2016-05-30 14:41:00   \n",
       "78108  12841.357143   4044883.0       1.0          1.0 2018-01-11 10:00:56   \n",
       "\n",
       "       VEHICLE_TYPE_5 MODEL_YEAR_5  ENGINE_SIZE_5  TRANS_TYPE_5  ODOMETER_5  \\\n",
       "69953             1.0         1994         1800.0           1.0    126950.0   \n",
       "78108             4.0         2006         2700.0           0.0    169761.0   \n",
       "\n",
       "         MAKE_MODEL_YEAR_5  VEHICLE_AGE_5  GVWR_5   MILE_YEAR_5  RecordID_6  \\\n",
       "69953     mazda/miata/1994           24.0  2625.0   5289.583333   3573675.0   \n",
       "78108  hyundai/tuscon/2006           14.0  4652.0  12125.785714   4036297.0   \n",
       "\n",
       "       RESULT_6  TEST_TYPE_6        TEST_SDATE_6  VEHICLE_TYPE_6 MODEL_YEAR_6  \\\n",
       "69953       0.0          0.0 2016-04-18 15:39:00             1.0         1994   \n",
       "78108       0.0          0.0 2017-12-30 14:06:00             4.0         2006   \n",
       "\n",
       "       ENGINE_SIZE_6  TRANS_TYPE_6  ODOMETER_6    MAKE_MODEL_YEAR_6  \\\n",
       "69953         1800.0           1.0    126781.0     mazda/miata/1994   \n",
       "78108         2700.0           0.0    169259.0  hyundai/tuscon/2006   \n",
       "\n",
       "       VEHICLE_AGE_6  GVWR_6   MILE_YEAR_6  RecordID_7  RESULT_7  TEST_TYPE_7  \\\n",
       "69953           24.0  2625.0   5282.541667   3334094.0       1.0          1.0   \n",
       "78108           13.0  4652.0  13019.923077   3753080.0       1.0          0.0   \n",
       "\n",
       "             TEST_SDATE_7  VEHICLE_TYPE_7 MODEL_YEAR_7  ENGINE_SIZE_7  \\\n",
       "69953 2015-05-31 16:49:00             1.0         1994         1800.0   \n",
       "78108 2016-12-09 13:24:00             4.0         2006         2600.0   \n",
       "\n",
       "       TRANS_TYPE_7  ODOMETER_7    MAKE_MODEL_YEAR_7  VEHICLE_AGE_7  GVWR_7  \\\n",
       "69953           1.0    125431.0     mazda/miata/1994           23.0  2625.0   \n",
       "78108           0.0    152904.0  hyundai/tuscon/2006           12.0  4652.0   \n",
       "\n",
       "        MILE_YEAR_7  RecordID_8  RESULT_8  TEST_TYPE_8        TEST_SDATE_8  \\\n",
       "69953   5453.521739   3332944.0       0.0          0.0 2015-05-29 15:19:00   \n",
       "78108  12742.000000   3577469.0       1.0          0.0 2016-04-23 12:25:00   \n",
       "\n",
       "       VEHICLE_TYPE_8 MODEL_YEAR_8  ENGINE_SIZE_8  TRANS_TYPE_8  ODOMETER_8  \\\n",
       "69953             1.0         1994         1800.0           1.0    125408.0   \n",
       "78108             4.0         2006         3500.0           0.0    144679.0   \n",
       "\n",
       "         MAKE_MODEL_YEAR_8  VEHICLE_AGE_8  GVWR_8   MILE_YEAR_8  RecordID_9  \\\n",
       "69953     mazda/miata/1994           23.0  2625.0   5452.521739   2784833.0   \n",
       "78108  hyundai/tucson/2006           12.0  4652.0  12056.583333   3206872.0   \n",
       "\n",
       "       RESULT_9  TEST_TYPE_9        TEST_SDATE_9  VEHICLE_TYPE_9 MODEL_YEAR_9  \\\n",
       "69953       1.0          1.0 2013-06-26 18:14:00             1.0         1994   \n",
       "78108       1.0          0.0 2015-01-28 14:37:00             4.0         2006   \n",
       "\n",
       "       ENGINE_SIZE_9  TRANS_TYPE_9  ODOMETER_9    MAKE_MODEL_YEAR_9  \\\n",
       "69953         1800.0           1.0    122541.0     mazda/miata/1994   \n",
       "78108         2700.0           0.0    140274.0  hyundai/tucson/2006   \n",
       "\n",
       "       VEHICLE_AGE_9  GVWR_9   MILE_YEAR_9  RecordID_10  RESULT_10  \\\n",
       "69953           21.0  2625.0   5835.285714    2779499.0        0.0   \n",
       "78108           11.0  4652.0  12752.181818    3109066.0        1.0   \n",
       "\n",
       "       TEST_TYPE_10       TEST_SDATE_10  VEHICLE_TYPE_10 MODEL_YEAR_10  \\\n",
       "69953           0.0 2013-06-19 16:38:00              1.0          1994   \n",
       "78108           0.0 2014-09-09 17:37:00              4.0          2006   \n",
       "\n",
       "       ENGINE_SIZE_10  TRANS_TYPE_10  ODOMETER_10   MAKE_MODEL_YEAR_10  \\\n",
       "69953          1800.0            1.0     122495.0     mazda/miata/1994   \n",
       "78108          2000.0            0.0     138192.0  hyundai/tucson/2006   \n",
       "\n",
       "       VEHICLE_AGE_10  GVWR_10  MILE_YEAR_10  \n",
       "69953            21.0   2625.0   5833.095238  \n",
       "78108            10.0   4652.0  13819.200000  "
      ]
     },
     "execution_count": 72,
     "metadata": {},
     "output_type": "execute_result"
    }
   ],
   "source": [
    "# merge the dataframes in older_records with df1\n",
    "\n",
    "updated_df2 = df1\n",
    "for index, record in enumerate(older_records):\n",
    "    merged_df = pd.merge(updated_df2, record, how='left', on='VIN', suffixes=(None, '_'+str(index+1)))\n",
    "    updated_df2 = merged_df.copy()  \n",
    "\n",
    "print('The size of one-entry-one-vehicle dataframe:', updated_df2.shape)\n",
    "\n",
    "# let's check out the vehicles that were tested for 11 times in last 7 years\n",
    "updated_df2[~updated_df2.RecordID_10.isnull()]"
   ]
  },
  {
   "cell_type": "code",
   "execution_count": null,
   "id": "d382596a",
   "metadata": {
    "hidden": true
   },
   "outputs": [],
   "source": []
  },
  {
   "cell_type": "code",
   "execution_count": null,
   "id": "d6a9bc46",
   "metadata": {
    "hidden": true
   },
   "outputs": [],
   "source": []
  }
 ],
 "metadata": {
  "kernelspec": {
   "display_name": "Python 3",
   "language": "python",
   "name": "python3"
  },
  "language_info": {
   "codemirror_mode": {
    "name": "ipython",
    "version": 3
   },
   "file_extension": ".py",
   "mimetype": "text/x-python",
   "name": "python",
   "nbconvert_exporter": "python",
   "pygments_lexer": "ipython3",
   "version": "3.8.6"
  },
  "toc": {
   "base_numbering": 1,
   "nav_menu": {
    "height": "142px",
    "width": "190px"
   },
   "number_sections": true,
   "sideBar": true,
   "skip_h1_title": false,
   "title_cell": "Table of Contents",
   "title_sidebar": "Contents",
   "toc_cell": false,
   "toc_position": {},
   "toc_section_display": true,
   "toc_window_display": false
  }
 },
 "nbformat": 4,
 "nbformat_minor": 5
}
