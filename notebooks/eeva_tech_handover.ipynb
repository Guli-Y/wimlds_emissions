{
 "cells": [
  {
   "cell_type": "code",
   "execution_count": 1,
   "id": "2b64bcdb",
   "metadata": {},
   "outputs": [],
   "source": [
    "import pandas as pd"
   ]
  },
  {
   "cell_type": "markdown",
   "id": "b3fc0776",
   "metadata": {},
   "source": [
    "0. The Client Brief<br>\n",
    "\"Hi, this is Nisha, I work at the Albuquerque Environmental Health Department. We are on a mission to improve the air quality in our city. Our current mission: get polluting cars off the road and repaired before they are coming in for their regular emissions check. Can you help us?\""
   ]
  },
  {
   "cell_type": "markdown",
   "id": "2f90d41c",
   "metadata": {},
   "source": [
    "1. Background Research"
   ]
  },
  {
   "cell_type": "markdown",
   "id": "ccecc96e",
   "metadata": {},
   "source": [
    "* What is current air quality like in Albuqurque compared to the US?"
   ]
  },
  {
   "cell_type": "code",
   "execution_count": 10,
   "id": "44acf146",
   "metadata": {},
   "outputs": [
    {
     "data": {
      "text/html": [
       "<div>\n",
       "<style scoped>\n",
       "    .dataframe tbody tr th:only-of-type {\n",
       "        vertical-align: middle;\n",
       "    }\n",
       "\n",
       "    .dataframe tbody tr th {\n",
       "        vertical-align: top;\n",
       "    }\n",
       "\n",
       "    .dataframe thead th {\n",
       "        text-align: right;\n",
       "    }\n",
       "</style>\n",
       "<table border=\"1\" class=\"dataframe\">\n",
       "  <thead>\n",
       "    <tr style=\"text-align: right;\">\n",
       "      <th></th>\n",
       "      <th>County_Name</th>\n",
       "      <th>Grade_Hi_Ozone</th>\n",
       "      <th>Grade_Particle_Pollution</th>\n",
       "    </tr>\n",
       "  </thead>\n",
       "  <tbody>\n",
       "    <tr>\n",
       "      <th>Best County</th>\n",
       "      <td>Erie, PA</td>\n",
       "      <td>B</td>\n",
       "      <td>A</td>\n",
       "    </tr>\n",
       "    <tr>\n",
       "      <th>Bernalillo, NM</th>\n",
       "      <td>Bernalillo, NM</td>\n",
       "      <td>F</td>\n",
       "      <td>A</td>\n",
       "    </tr>\n",
       "    <tr>\n",
       "      <th>Worse County</th>\n",
       "      <td>Fresno, CA</td>\n",
       "      <td>F</td>\n",
       "      <td>F</td>\n",
       "    </tr>\n",
       "  </tbody>\n",
       "</table>\n",
       "</div>"
      ],
      "text/plain": [
       "                   County_Name Grade_Hi_Ozone Grade_Particle_Pollution\n",
       "Best County           Erie, PA              B                        A\n",
       "Bernalillo, NM  Bernalillo, NM              F                        A\n",
       "Worse County        Fresno, CA              F                        F"
      ]
     },
     "execution_count": 10,
     "metadata": {},
     "output_type": "execute_result"
    }
   ],
   "source": [
    "data = {\"County_Name\": [\"Erie, PA\", \"Bernalillo, NM\", \"Fresno, CA\"],\n",
    "       \"Grade_Hi_Ozone\": [\"B\", \"F\", \"F\"],\n",
    "       \"Grade_Particle_Pollution\": [\"A\", \"A\", \"F\"]}\n",
    "df = pd.DataFrame(data, index=[\"Best County\", \"Bernalillo, NM\", \"Worse County\"])\n",
    "df\n",
    "# resources:\n",
    "# State of the Air 2020, American Lung Association\n",
    "# A = no days of air quality index exceedences of 100\n",
    "# F = 9 or more days of above 100 air quality index"
   ]
  },
  {
   "cell_type": "code",
   "execution_count": null,
   "id": "fca00561",
   "metadata": {},
   "outputs": [],
   "source": [
    "# resources:\n",
    "# State of the Air 2020, American Lung Association\n",
    "# Air Care Facts, City of Albuquerque (pamphlet)\n",
    "# City of Albuquerque, https://www.cabq.gov/airquality/trends \n",
    "# Environmental Protection Agency, https://www.epa.gov/outdoor-air-quality-data/air-data-daily-air-quality-tracker"
   ]
  },
  {
   "cell_type": "markdown",
   "id": "428ed056",
   "metadata": {},
   "source": [
    "* How has air quality changed over time?"
   ]
  },
  {
   "cell_type": "markdown",
   "id": "b44390cd",
   "metadata": {},
   "source": [
    "* What is the emissions test process?"
   ]
  },
  {
   "cell_type": "markdown",
   "id": "a8769f92",
   "metadata": {},
   "source": [
    "* How is emissions test data collected?"
   ]
  },
  {
   "cell_type": "code",
   "execution_count": null,
   "id": "6c5c2f86",
   "metadata": {},
   "outputs": [],
   "source": []
  }
 ],
 "metadata": {
  "kernelspec": {
   "display_name": "Python 3",
   "language": "python",
   "name": "python3"
  },
  "language_info": {
   "codemirror_mode": {
    "name": "ipython",
    "version": 3
   },
   "file_extension": ".py",
   "mimetype": "text/x-python",
   "name": "python",
   "nbconvert_exporter": "python",
   "pygments_lexer": "ipython3",
   "version": "3.7.10"
  }
 },
 "nbformat": 4,
 "nbformat_minor": 5
}
