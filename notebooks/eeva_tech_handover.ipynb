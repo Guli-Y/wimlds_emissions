{
 "cells": [
  {
   "cell_type": "code",
   "execution_count": 33,
   "id": "3d8c624a",
   "metadata": {},
   "outputs": [],
   "source": [
    "import pandas as pd\n",
    "import seaborn as sns\n",
    "import matplotlib.pyplot as plt"
   ]
  },
  {
   "cell_type": "markdown",
   "id": "8d8ccaa6",
   "metadata": {},
   "source": [
    "0. The Client Brief<br>\n",
    "\"Hi, this is Nisha, I work at the Albuquerque Environmental Health Department. We are on a mission to improve the air quality in our city. Our current mission: get polluting cars off the road and repaired before they are coming in for their regular emissions check. Can you help us?\""
   ]
  },
  {
   "cell_type": "markdown",
   "id": "41ecddad",
   "metadata": {},
   "source": [
    "1. Background Research"
   ]
  },
  {
   "cell_type": "markdown",
   "id": "645133ea",
   "metadata": {},
   "source": [
    "* What is current air quality like in Albuqurque compared to the US?"
   ]
  },
  {
   "cell_type": "code",
   "execution_count": 14,
   "id": "961efb25",
   "metadata": {},
   "outputs": [
    {
     "name": "stdout",
     "output_type": "stream",
     "text": [
      "Comparison of Bernalillo County's air quality grade (A = no air quality exceedences)to best and worse US air quality counties (2016 - 2018)\n"
     ]
    },
    {
     "data": {
      "text/html": [
       "<div>\n",
       "<style scoped>\n",
       "    .dataframe tbody tr th:only-of-type {\n",
       "        vertical-align: middle;\n",
       "    }\n",
       "\n",
       "    .dataframe tbody tr th {\n",
       "        vertical-align: top;\n",
       "    }\n",
       "\n",
       "    .dataframe thead th {\n",
       "        text-align: right;\n",
       "    }\n",
       "</style>\n",
       "<table border=\"1\" class=\"dataframe\">\n",
       "  <thead>\n",
       "    <tr style=\"text-align: right;\">\n",
       "      <th></th>\n",
       "      <th>County_Name</th>\n",
       "      <th>Grade_Ozone</th>\n",
       "      <th>Grade_Particle_Pollution</th>\n",
       "    </tr>\n",
       "  </thead>\n",
       "  <tbody>\n",
       "    <tr>\n",
       "      <th>Best County</th>\n",
       "      <td>Erie, PA</td>\n",
       "      <td>B</td>\n",
       "      <td>A</td>\n",
       "    </tr>\n",
       "    <tr>\n",
       "      <th>Bernalillo, NM</th>\n",
       "      <td>Bernalillo, NM</td>\n",
       "      <td>F</td>\n",
       "      <td>A</td>\n",
       "    </tr>\n",
       "    <tr>\n",
       "      <th>Worse County</th>\n",
       "      <td>Fresno, CA</td>\n",
       "      <td>F</td>\n",
       "      <td>F</td>\n",
       "    </tr>\n",
       "  </tbody>\n",
       "</table>\n",
       "</div>"
      ],
      "text/plain": [
       "                   County_Name Grade_Ozone Grade_Particle_Pollution\n",
       "Best County           Erie, PA           B                        A\n",
       "Bernalillo, NM  Bernalillo, NM           F                        A\n",
       "Worse County        Fresno, CA           F                        F"
      ]
     },
     "execution_count": 14,
     "metadata": {},
     "output_type": "execute_result"
    }
   ],
   "source": [
    "data = {\"County_Name\": [\"Erie, PA\", \"Bernalillo, NM\", \"Fresno, CA\"],\n",
    "       \"Grade_Ozone\": [\"B\", \"F\", \"F\"],\n",
    "       \"Grade_Particle_Pollution\": [\"A\", \"A\", \"F\"]}\n",
    "df = pd.DataFrame(data, index=[\"Best County\", \"Bernalillo, NM\", \"Worse County\"])\n",
    "print(\"Comparison of Bernalillo County's air quality grade (A = no air quality exceedences)\\\n",
    "to best and worse US air quality counties (2016 - 2018)\")\n",
    "df\n",
    "# resources:\n",
    "# State of the Air 2020, American Lung Association\n",
    "# Environmental Protection Agency, https://www.epa.gov\n",
    "# A = no days of air quality index exceedences of 100\n",
    "# F = 9 or more days of above 100 air quality index"
   ]
  },
  {
   "cell_type": "markdown",
   "id": "cd9b9a9b",
   "metadata": {},
   "source": [
    "* How has air quality changed over time?"
   ]
  },
  {
   "cell_type": "code",
   "execution_count": 13,
   "id": "2a88201e",
   "metadata": {},
   "outputs": [
    {
     "name": "stdout",
     "output_type": "stream",
     "text": [
      "Change in three air pollutants from 2000 to 2015 in Albuquerque\n"
     ]
    },
    {
     "data": {
      "text/html": [
       "<div>\n",
       "<style scoped>\n",
       "    .dataframe tbody tr th:only-of-type {\n",
       "        vertical-align: middle;\n",
       "    }\n",
       "\n",
       "    .dataframe tbody tr th {\n",
       "        vertical-align: top;\n",
       "    }\n",
       "\n",
       "    .dataframe thead th {\n",
       "        text-align: right;\n",
       "    }\n",
       "</style>\n",
       "<table border=\"1\" class=\"dataframe\">\n",
       "  <thead>\n",
       "    <tr style=\"text-align: right;\">\n",
       "      <th></th>\n",
       "      <th>change_ppm</th>\n",
       "      <th>percent_change</th>\n",
       "    </tr>\n",
       "  </thead>\n",
       "  <tbody>\n",
       "    <tr>\n",
       "      <th>Ozone</th>\n",
       "      <td>-0.009</td>\n",
       "      <td>-12.0000</td>\n",
       "    </tr>\n",
       "    <tr>\n",
       "      <th>Carbon_Monoxide</th>\n",
       "      <td>-2.400</td>\n",
       "      <td>-63.1579</td>\n",
       "    </tr>\n",
       "    <tr>\n",
       "      <th>Nitrogen_Dioxide</th>\n",
       "      <td>-0.020</td>\n",
       "      <td>-0.0308</td>\n",
       "    </tr>\n",
       "  </tbody>\n",
       "</table>\n",
       "</div>"
      ],
      "text/plain": [
       "                  change_ppm  percent_change\n",
       "Ozone                 -0.009        -12.0000\n",
       "Carbon_Monoxide       -2.400        -63.1579\n",
       "Nitrogen_Dioxide      -0.020         -0.0308"
      ]
     },
     "execution_count": 13,
     "metadata": {},
     "output_type": "execute_result"
    }
   ],
   "source": [
    "#Change in Ozone levels (Parts per million)\n",
    "level_ozone_2000 = 0.075\n",
    "level_ozone_2015 = 0.066\n",
    "change_ozone = round(level_ozone_2015 - level_ozone_2000, 4)\n",
    "\n",
    "#Change in Carbon Monoxide levels (Parts per million)\n",
    "level_CO_2000 = 3.8\n",
    "level_CO_2015 = 1.4\n",
    "change_CO = round(level_CO_2015 - level_CO_2000, 4)\n",
    "\n",
    "#Change in Nitrogen Dioxide levels (Parts per billion)\n",
    "level_NO_2000 = 65\n",
    "level_NO_2015 = 45\n",
    "change_NO = level_NO_2015 - level_NO_2000\n",
    "#convert to ppm\n",
    "change_NO = change_NO/1000\n",
    "\n",
    "#Percent change Ozone\n",
    "percent_ozone = round(change_ozone/level_ozone_2000 * 100, 4)\n",
    "percent_CO = round(change_CO/level_CO_2000 * 100, 4)\n",
    "precent_NO = round(change_NO/level_NO_2000 * 100, 4)\n",
    "\n",
    "data = {\"change_ppm\": [change_ozone, change_CO, change_NO], \"percent_change\": [percent_ozone, percent_CO, precent_NO]}\n",
    "df_change = pd.DataFrame(data = data, index = [\"Ozone\", \"Carbon_Monoxide\", \"Nitrogen_Dioxide\"])\n",
    "print(\"Change in three air pollutants from 2000 to 2015 in Albuquerque\")\n",
    "df_change\n",
    "#resources\n",
    "# City of Albuquerque, https://www.cabq.gov/airquality/trends "
   ]
  },
  {
   "cell_type": "code",
   "execution_count": 15,
   "id": "3eb5dfd5",
   "metadata": {},
   "outputs": [
    {
     "data": {
      "image/png": "[encoded data removed]",
      "text/plain": [
       "<Figure size 432x288 with 2 Axes>"
      ]
     },
     "metadata": {
      "needs_background": "light"
     },
     "output_type": "display_data"
    }
   ],
   "source": [
    "df_change.plot(kind='bar', subplots=True, legend=False)\n",
    "None"
   ]
  },
  {
   "cell_type": "code",
   "execution_count": 23,
   "id": "32931bf6",
   "metadata": {},
   "outputs": [],
   "source": [
    "sns.set_theme()"
   ]
  },
  {
   "cell_type": "code",
   "execution_count": 32,
   "id": "7c7fd69b",
   "metadata": {},
   "outputs": [
    {
     "data": {
      "image/png": "[encoded data removed]",
      "text/plain": [
       "<Figure size 432x288 with 1 Axes>"
      ]
     },
     "metadata": {},
     "output_type": "display_data"
    }
   ],
   "source": [
    "percent_change_plot = sns.barplot(\n",
    "    data=df_change,\n",
    "    x = df_change.index,\n",
    "    y = \"percent_change\"\n",
    "\n",
    ")\n",
    "change_ppm_plot = sns.barplot(\n",
    "    data=df_change,\n",
    "    x = df_change.index,\n",
    "    y = \"change_ppm\"\n",
    "\n",
    ")\n",
    "#my_plot.set(ylim=(-2.5, 0))\n",
    "None"
   ]
  },
  {
   "cell_type": "code",
   "execution_count": 18,
   "id": "f7522320",
   "metadata": {},
   "outputs": [
    {
     "data": {
      "text/plain": [
       "Index(['Best County', 'Bernalillo, NM', 'Worse County'], dtype='object')"
      ]
     },
     "execution_count": 18,
     "metadata": {},
     "output_type": "execute_result"
    }
   ],
   "source": [
    "df.index"
   ]
  },
  {
   "cell_type": "code",
   "execution_count": 43,
   "id": "205852a8",
   "metadata": {},
   "outputs": [
    {
     "data": {
      "image/png": "[encoded data removed]",
      "text/plain": [
       "<Figure size 720x360 with 2 Axes>"
      ]
     },
     "metadata": {},
     "output_type": "display_data"
    }
   ],
   "source": [
    "figure, axes = plt.subplots(1, 2, sharex=False, figsize=(10, 5))\n",
    "figure.suptitle(\"Change in Pollutant Concentration (2000 - 2015) Albuquerque\")\n",
    "sns.barplot(ax = axes[0], data=df_change, x = df_change.index, y = \"percent_change\")\n",
    "sns.barplot(ax = axes[1], data=df_change, x = df_change.index, y = \"change_ppm\")\n",
    "None"
   ]
  },
  {
   "cell_type": "code",
   "execution_count": null,
   "id": "a7b89842",
   "metadata": {},
   "outputs": [],
   "source": [
    "# resources:\n",
    "# Air Care Facts, City of Albuquerque (pamphlet)\n",
    "# City of Albuquerque, https://www.cabq.gov/airquality/trends \n",
    "# Environmental Protection Agency, https://www.epa.gov/outdoor-air-quality-data/air-data-daily-air-quality-tracker"
   ]
  },
  {
   "cell_type": "markdown",
   "id": "265070ad",
   "metadata": {},
   "source": [
    "* What is the emissions test process?"
   ]
  },
  {
   "cell_type": "markdown",
   "id": "f41c1f00",
   "metadata": {},
   "source": [
    "* How is emissions test data collected?"
   ]
  },
  {
   "cell_type": "code",
   "execution_count": null,
   "id": "80cc8c97",
   "metadata": {},
   "outputs": [],
   "source": []
  }
 ],
 "metadata": {
  "kernelspec": {
   "display_name": "Python 3",
   "language": "python",
   "name": "python3"
  },
  "language_info": {
   "codemirror_mode": {
    "name": "ipython",
    "version": 3
   },
   "file_extension": ".py",
   "mimetype": "text/x-python",
   "name": "python",
   "nbconvert_exporter": "python",
   "pygments_lexer": "ipython3",
   "version": "3.7.10"
  }
 },
 "nbformat": 4,
 "nbformat_minor": 5
}
