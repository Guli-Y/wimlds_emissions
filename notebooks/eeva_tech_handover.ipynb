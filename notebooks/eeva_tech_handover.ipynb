{
 "cells": [
  {
   "cell_type": "code",
   "execution_count": 1,
   "id": "3d8c624a",
   "metadata": {},
   "outputs": [],
   "source": [
    "import pandas as pd\n",
    "import seaborn as sns\n",
    "import matplotlib.pyplot as plt"
   ]
  },
  {
   "cell_type": "markdown",
   "id": "8d8ccaa6",
   "metadata": {},
   "source": [
    "0. The Client Brief<br>\n",
    "\"Hi, this is Nisha, I work at the Albuquerque Environmental Health Department. We are on a mission to improve the air quality in our city. Our current mission: get polluting cars off the road and repaired before they are coming in for their regular emissions check. Can you help us?\""
   ]
  },
  {
   "cell_type": "markdown",
   "id": "41ecddad",
   "metadata": {},
   "source": [
    "1. Background Research"
   ]
  },
  {
   "cell_type": "markdown",
   "id": "645133ea",
   "metadata": {},
   "source": [
    "* What is current air quality like in Albuqurque compared to the US?"
   ]
  },
  {
   "cell_type": "code",
   "execution_count": 14,
   "id": "961efb25",
   "metadata": {},
   "outputs": [
    {
     "name": "stdout",
     "output_type": "stream",
     "text": [
      "Comparison of Bernalillo County's air quality grade (A = no air quality exceedences)to best and worse US air quality counties (2016 - 2018)\n"
     ]
    },
    {
     "data": {
      "text/html": [
       "<div>\n",
       "<style scoped>\n",
       "    .dataframe tbody tr th:only-of-type {\n",
       "        vertical-align: middle;\n",
       "    }\n",
       "\n",
       "    .dataframe tbody tr th {\n",
       "        vertical-align: top;\n",
       "    }\n",
       "\n",
       "    .dataframe thead th {\n",
       "        text-align: right;\n",
       "    }\n",
       "</style>\n",
       "<table border=\"1\" class=\"dataframe\">\n",
       "  <thead>\n",
       "    <tr style=\"text-align: right;\">\n",
       "      <th></th>\n",
       "      <th>County_Name</th>\n",
       "      <th>Grade_Ozone</th>\n",
       "      <th>Grade_Particle_Pollution</th>\n",
       "    </tr>\n",
       "  </thead>\n",
       "  <tbody>\n",
       "    <tr>\n",
       "      <th>Best County</th>\n",
       "      <td>Erie, PA</td>\n",
       "      <td>B</td>\n",
       "      <td>A</td>\n",
       "    </tr>\n",
       "    <tr>\n",
       "      <th>Bernalillo, NM</th>\n",
       "      <td>Bernalillo, NM</td>\n",
       "      <td>F</td>\n",
       "      <td>A</td>\n",
       "    </tr>\n",
       "    <tr>\n",
       "      <th>Worse County</th>\n",
       "      <td>Fresno, CA</td>\n",
       "      <td>F</td>\n",
       "      <td>F</td>\n",
       "    </tr>\n",
       "  </tbody>\n",
       "</table>\n",
       "</div>"
      ],
      "text/plain": [
       "                   County_Name Grade_Ozone Grade_Particle_Pollution\n",
       "Best County           Erie, PA           B                        A\n",
       "Bernalillo, NM  Bernalillo, NM           F                        A\n",
       "Worse County        Fresno, CA           F                        F"
      ]
     },
     "execution_count": 14,
     "metadata": {},
     "output_type": "execute_result"
    }
   ],
   "source": [
    "data = {\"County_Name\": [\"Erie, PA\", \"Bernalillo, NM\", \"Fresno, CA\"],\n",
    "       \"Grade_Ozone\": [\"B\", \"F\", \"F\"],\n",
    "       \"Grade_Particle_Pollution\": [\"A\", \"A\", \"F\"]}\n",
    "df = pd.DataFrame(data, index=[\"Best County\", \"Bernalillo, NM\", \"Worse County\"])\n",
    "print(\"Comparison of Bernalillo County's air quality grade (A = no air quality exceedences)\\\n",
    "to best and worse US air quality counties (2016 - 2018)\")\n",
    "df\n",
    "# resources:\n",
    "# State of the Air 2020, American Lung Association\n",
    "# Environmental Protection Agency, https://www.epa.gov\n",
    "# A = no days of air quality index exceedences of 100\n",
    "# F = 9 or more days of above 100 air quality index"
   ]
  },
  {
   "cell_type": "markdown",
   "id": "cd9b9a9b",
   "metadata": {},
   "source": [
    "* How has air quality changed over time?"
   ]
  },
  {
   "cell_type": "code",
   "execution_count": 7,
   "id": "2a88201e",
   "metadata": {},
   "outputs": [
    {
     "name": "stdout",
     "output_type": "stream",
     "text": [
      "Change in three air pollutants from 2000 to 2015 in Albuquerque\n"
     ]
    },
    {
     "data": {
      "text/html": [
       "<div>\n",
       "<style scoped>\n",
       "    .dataframe tbody tr th:only-of-type {\n",
       "        vertical-align: middle;\n",
       "    }\n",
       "\n",
       "    .dataframe tbody tr th {\n",
       "        vertical-align: top;\n",
       "    }\n",
       "\n",
       "    .dataframe thead th {\n",
       "        text-align: right;\n",
       "    }\n",
       "</style>\n",
       "<table border=\"1\" class=\"dataframe\">\n",
       "  <thead>\n",
       "    <tr style=\"text-align: right;\">\n",
       "      <th></th>\n",
       "      <th>Change ppm</th>\n",
       "      <th>Percent Change</th>\n",
       "    </tr>\n",
       "  </thead>\n",
       "  <tbody>\n",
       "    <tr>\n",
       "      <th>Ozone</th>\n",
       "      <td>-0.009</td>\n",
       "      <td>-12.0000</td>\n",
       "    </tr>\n",
       "    <tr>\n",
       "      <th>Carbon Monoxide</th>\n",
       "      <td>-2.400</td>\n",
       "      <td>-63.1579</td>\n",
       "    </tr>\n",
       "    <tr>\n",
       "      <th>Nitrogen Dioxide</th>\n",
       "      <td>-0.020</td>\n",
       "      <td>-0.0308</td>\n",
       "    </tr>\n",
       "  </tbody>\n",
       "</table>\n",
       "</div>"
      ],
      "text/plain": [
       "                  Change ppm  Percent Change\n",
       "Ozone                 -0.009        -12.0000\n",
       "Carbon Monoxide       -2.400        -63.1579\n",
       "Nitrogen Dioxide      -0.020         -0.0308"
      ]
     },
     "execution_count": 7,
     "metadata": {},
     "output_type": "execute_result"
    }
   ],
   "source": [
    "#Change in Ozone levels (Parts per million)\n",
    "level_ozone_2000 = 0.075\n",
    "level_ozone_2015 = 0.066\n",
    "change_ozone = round(level_ozone_2015 - level_ozone_2000, 4)\n",
    "\n",
    "#Change in Carbon Monoxide levels (Parts per million)\n",
    "level_CO_2000 = 3.8\n",
    "level_CO_2015 = 1.4\n",
    "change_CO = round(level_CO_2015 - level_CO_2000, 4)\n",
    "\n",
    "#Change in Nitrogen Dioxide levels (Parts per billion)\n",
    "level_NO_2000 = 65\n",
    "level_NO_2015 = 45\n",
    "change_NO = level_NO_2015 - level_NO_2000\n",
    "#convert to ppm\n",
    "change_NO = change_NO/1000\n",
    "\n",
    "#Percent change Ozone\n",
    "percent_ozone = round(change_ozone/level_ozone_2000 * 100, 4)\n",
    "percent_CO = round(change_CO/level_CO_2000 * 100, 4)\n",
    "precent_NO = round(change_NO/level_NO_2000 * 100, 4)\n",
    "\n",
    "data = {\"Change ppm\": [change_ozone, change_CO, change_NO], \"Percent Change\": [percent_ozone, percent_CO, precent_NO]}\n",
    "df_change = pd.DataFrame(data = data, index = [\"Ozone\", \"Carbon Monoxide\", \"Nitrogen Dioxide\"])\n",
    "print(\"Change in three air pollutants from 2000 to 2015 in Albuquerque\")\n",
    "df_change\n",
    "#resources\n",
    "# City of Albuquerque, https://www.cabq.gov/airquality/trends "
   ]
  },
  {
   "cell_type": "code",
   "execution_count": 4,
   "id": "32931bf6",
   "metadata": {},
   "outputs": [],
   "source": [
    "sns.set_theme()"
   ]
  },
  {
   "cell_type": "code",
   "execution_count": 9,
   "id": "205852a8",
   "metadata": {},
   "outputs": [
    {
     "data": {
      "image/png": "[encoded data removed]",
      "text/plain": [
       "<Figure size 720x360 with 2 Axes>"
      ]
     },
     "metadata": {},
     "output_type": "display_data"
    }
   ],
   "source": [
    "figure, axes = plt.subplots(1, 2, sharex=False, figsize=(10, 5))\n",
    "figure.suptitle(\"Change in Pollutant Concentration (2000 - 2015) Albuquerque\")\n",
    "plot1 = sns.barplot(ax = axes[0], data=df_change, x = df_change.index, y = \"Percent Change\")\n",
    "plot2 = sns.barplot(ax = axes[1], data=df_change, x = df_change.index, y = \"Change ppm\")\n",
    "plot1.set_xticklabels(plot1.get_xticklabels(), rotation=45, horizontalalignment='right')\n",
    "plot2.set_xticklabels(plot2.get_xticklabels(), rotation=45, horizontalalignment='right')\n",
    "None"
   ]
  },
  {
   "cell_type": "code",
   "execution_count": null,
   "id": "c34b84e5",
   "metadata": {},
   "outputs": [],
   "source": [
    "# add seasonality plot"
   ]
  },
  {
   "cell_type": "markdown",
   "id": "265070ad",
   "metadata": {},
   "source": [
    "* What is the emissions test process?"
   ]
  },
  {
   "cell_type": "markdown",
   "id": "0125b8ab",
   "metadata": {},
   "source": [
    "1. All vehicles 35 year old or newer under 10,001 lbs (GVWR) including government, public utility and private fleets must pass an emissions inspection to be registered in Bernalillo County, and must be tested every two years.\n",
    "2. Test Components:\n",
    "* Pollution control equipment - converter and connections.\n",
    "* Visible smoke - For burning oil or poor fuel combustion resulting in toxic particulate emissions.\n",
    "* Gas cap(s)- For fuel vapor leaks.\n",
    "* 1996 and Newer Vehicles: include On-Board Diagnostic (OBDII) for testing.\n",
    "* 1995 and Older Vehicles (Up to 35 years old):receive a Tailpipe exhaust analysis for excessive carbon monoxide and hydrocarbon levels.\n",
    "\n",
    "<br>resources:\n",
    "Air Care Facts, City of Albuquerque (pamphlet)"
   ]
  },
  {
   "cell_type": "markdown",
   "id": "f41c1f00",
   "metadata": {},
   "source": [
    "* How is emissions test data collected?"
   ]
  },
  {
   "cell_type": "markdown",
   "id": "5b5aa10c",
   "metadata": {},
   "source": [
    "* Part of the car data is entered by certified mechanics via a touch screen connected to the testing software and hardware\n",
    "* Part of the emissions data is automatically read from the testing sensor\n",
    "* OBD data is automatically read from the vehicle's software\n",
    "* The procedure takes about 20 minutes"
   ]
  },
  {
   "cell_type": "markdown",
   "id": "24ea04b0",
   "metadata": {},
   "source": [
    "2. Client Meeting\n",
    "* We could use car feature data to predict which cars will fail their emissions test\n",
    "* The City of Albuquerque could use this data for examply to invite owners of vehicles that are likely to fail to come in for more frequent testing "
   ]
  },
  {
   "cell_type": "markdown",
   "id": "baf93542",
   "metadata": {},
   "source": [
    "3. Cleaning, Exploring and Feature Engineering"
   ]
  },
  {
   "cell_type": "markdown",
   "id": "3011ab47",
   "metadata": {},
   "source": [
    "* After several cycles of cleaning and exploring we created a package for loading and cleaning our data\n",
    "* Rows where result is not either Pass or Fail are dropped\n",
    "* Drops missing and strange car weight values\n",
    "* Drops re-test records\n",
    "* Drops strange ODOMETER values\n",
    "* Creates a 'mile per year' feature\n",
    "* Creates an 'engine-weight ratio' feature\n",
    "* Creates a 'vehicle age' feature which is MODEL_YEAR + 2\n",
    "* Creates an 'after covid' feature"
   ]
  },
  {
   "cell_type": "code",
   "execution_count": 10,
   "id": "a08598ef",
   "metadata": {},
   "outputs": [
    {
     "name": "stdout",
     "output_type": "stream",
     "text": [
      "\u001b[32m----------------start loading data----------------\u001b[0m\n",
      "\u001b[34mData loaded: 187503 records\u001b[0m\n",
      "\u001b[32m----------------start cleaning data----------------\u001b[0m\n",
      "\u001b[31m\n",
      "Records in input data: 187503\u001b[0m\n",
      "\u001b[34m\n",
      "Share of Pass and Fail before cleaning:\u001b[0m\n",
      "\u001b[34mFail: 7%\n",
      "Pass: 93%\u001b[0m\n",
      "\u001b[34m\n",
      "Unique vehicles in Fail: 10813\u001b[0m\n",
      "\u001b[34mUnique vehicles in Pass: 84908\u001b[0m\n",
      "\n",
      "Records with missing GVWR: 8125\n",
      "\u001b[31m\n",
      "Records after droping rows where GVWR is < 1000 or missing: 179373\u001b[0m\n",
      "\u001b[31m\n",
      "Records after keeping only the earliest test within a month for each vehicle: 165732\u001b[0m\n",
      "\n",
      "Records where AFTER_COVID is True: 21325\n",
      "\n",
      "Records where ODOMETER = 0: 796\n",
      "\u001b[31m\n",
      "Records after droping rows where ODOMETER is missing: 164855\u001b[0m\n",
      "\u001b[31m\n",
      "Records after droping rows where MILE_YEAR > 40,000: 163891\u001b[0m\n",
      "\u001b[31m\n",
      "Records in output data:163891\u001b[0m\n",
      "\u001b[34m\n",
      "Share of Pass and Fail after cleaning:\u001b[0m\n",
      "\u001b[34mFail: 7%\n",
      "Pass: 93%\u001b[0m\n",
      "\u001b[34m\n",
      "Unique vehicles in Fail: 10194\u001b[0m\n",
      "\u001b[34mUnique vehicles in Pass: 78573\u001b[0m\n",
      "['VEHICLE_TYPE' 'MODEL_YEAR' 'VEHICLE_AGE' 'MILE_YEAR' 'GVWR'\n",
      " 'ENGINE_SIZE' 'TRANS_TYPE' 'TEST_TYPE' 'RESULT' 'MAKE'\n",
      " 'ENGINE_WEIGHT_RATIO' 'SPORT' 'TEST_SDATE' 'AFTER_COVID']\n"
     ]
    }
   ],
   "source": [
    "from emissions.data import load_data, clean_data, split\n",
    "df_full = load_data()\n",
    "df_clean = clean_data(df_full)"
   ]
  },
  {
   "cell_type": "markdown",
   "id": "b8618b10",
   "metadata": {},
   "source": [
    "Baseline Model:\n",
    "- Heuristic\n",
    "- Decision Tree with two features\n",
    "\n",
    "Expanding the model:\n",
    "- Random Forest\n",
    "- Ordered testing\n",
    "- Optimizing for maximal area of curve\n",
    "\n",
    "Implementing ordered testing with client:\n",
    "- What needs to change\n",
    "- What will change\n",
    "\n",
    "Reevaluating the model:"
   ]
  },
  {
   "cell_type": "code",
   "execution_count": null,
   "id": "caa8a4bc",
   "metadata": {},
   "outputs": [],
   "source": []
  }
 ],
 "metadata": {
  "kernelspec": {
   "display_name": "Python 3",
   "language": "python",
   "name": "python3"
  },
  "language_info": {
   "codemirror_mode": {
    "name": "ipython",
    "version": 3
   },
   "file_extension": ".py",
   "mimetype": "text/x-python",
   "name": "python",
   "nbconvert_exporter": "python",
   "pygments_lexer": "ipython3",
   "version": "3.7.10"
  }
 },
 "nbformat": 4,
 "nbformat_minor": 5
}
