{
 "cells": [
  {
   "cell_type": "code",
   "execution_count": 1,
   "id": "2e7bfa94",
   "metadata": {},
   "outputs": [],
   "source": [
    "import pandas as pd\n",
    "import numpy as np\n",
    "import matplotlib.pyplot as plt\n",
    "from sklearn.tree import DecisionTreeClassifier\n",
    "from sklearn.tree import plot_tree\n",
    "from sklearn.model_selection import train_test_split\n",
    "from sklearn.model_selection import cross_val_score\n",
    "from sklearn.metrics import confusion_matrix\n",
    "from sklearn.metrics import plot_confusion_matrix\n",
    "from pathlib import Path\n",
    "from sklearn.metrics import precision_score\n",
    "from sklearn.metrics import recall_score\n",
    "from sklearn.metrics import accuracy_score"
   ]
  },
  {
   "cell_type": "code",
   "execution_count": 2,
   "id": "b82a6b24",
   "metadata": {},
   "outputs": [],
   "source": [
    "from emissions.data import load_data, clean_data, split"
   ]
  },
  {
   "cell_type": "code",
   "execution_count": 3,
   "id": "b94cb651",
   "metadata": {},
   "outputs": [],
   "source": [
    "#DATA_DIR = Path(\"data/sample201320.csv'\")\n",
    "#df = pd.read_csv(DATA_DIR, low_memory=False, sep=',',index_col='RecordID', usecols=['RecordID','RESULT',\n",
    "#                                                                                    'ODOMETER', 'VEHICLE_AGE'])"
   ]
  },
  {
   "cell_type": "code",
   "execution_count": 5,
   "id": "fa76ee62",
   "metadata": {},
   "outputs": [
    {
     "name": "stdout",
     "output_type": "stream",
     "text": [
      "\u001b[32m----------------start loading data----------------\u001b[0m\n",
      "\u001b[34mData loaded: 187503 records\u001b[0m\n"
     ]
    }
   ],
   "source": [
    "df_full = load_data()"
   ]
  },
  {
   "cell_type": "code",
   "execution_count": 7,
   "id": "56bb844f",
   "metadata": {},
   "outputs": [
    {
     "data": {
      "text/html": [
       "<div>\n",
       "<style scoped>\n",
       "    .dataframe tbody tr th:only-of-type {\n",
       "        vertical-align: middle;\n",
       "    }\n",
       "\n",
       "    .dataframe tbody tr th {\n",
       "        vertical-align: top;\n",
       "    }\n",
       "\n",
       "    .dataframe thead th {\n",
       "        text-align: right;\n",
       "    }\n",
       "</style>\n",
       "<table border=\"1\" class=\"dataframe\">\n",
       "  <thead>\n",
       "    <tr style=\"text-align: right;\">\n",
       "      <th></th>\n",
       "      <th>TEST_TYPE</th>\n",
       "      <th>TEST_SDATE</th>\n",
       "      <th>VIN</th>\n",
       "      <th>VEHICLE_TYPE</th>\n",
       "      <th>MODEL_YEAR</th>\n",
       "      <th>GVWR</th>\n",
       "      <th>ENGINE_SIZE</th>\n",
       "      <th>TRANS_TYPE</th>\n",
       "      <th>ODOMETER</th>\n",
       "      <th>RESULT</th>\n",
       "    </tr>\n",
       "  </thead>\n",
       "  <tbody>\n",
       "    <tr>\n",
       "      <th>0</th>\n",
       "      <td>A</td>\n",
       "      <td>2013-03-04 10:11:00</td>\n",
       "      <td>1G4HP52K45U160372</td>\n",
       "      <td>1</td>\n",
       "      <td>2005</td>\n",
       "      <td>3875</td>\n",
       "      <td>3800</td>\n",
       "      <td>A</td>\n",
       "      <td>114034</td>\n",
       "      <td>1</td>\n",
       "    </tr>\n",
       "    <tr>\n",
       "      <th>1</th>\n",
       "      <td>I</td>\n",
       "      <td>2013-07-22 16:55:00</td>\n",
       "      <td>3VWSF71K66M706988</td>\n",
       "      <td>1</td>\n",
       "      <td>2006</td>\n",
       "      <td>3250</td>\n",
       "      <td>2500</td>\n",
       "      <td>M</td>\n",
       "      <td>76338</td>\n",
       "      <td>1</td>\n",
       "    </tr>\n",
       "    <tr>\n",
       "      <th>2</th>\n",
       "      <td>I</td>\n",
       "      <td>2013-06-18 12:45:00</td>\n",
       "      <td>1FTRX17W43NA86035</td>\n",
       "      <td>3</td>\n",
       "      <td>2003</td>\n",
       "      <td>6050</td>\n",
       "      <td>4600</td>\n",
       "      <td>A</td>\n",
       "      <td>104849</td>\n",
       "      <td>1</td>\n",
       "    </tr>\n",
       "    <tr>\n",
       "      <th>3</th>\n",
       "      <td>I</td>\n",
       "      <td>2013-05-29 16:17:00</td>\n",
       "      <td>JTEEP21A560170542</td>\n",
       "      <td>4</td>\n",
       "      <td>2006</td>\n",
       "      <td>5360</td>\n",
       "      <td>3300</td>\n",
       "      <td>A</td>\n",
       "      <td>70130</td>\n",
       "      <td>1</td>\n",
       "    </tr>\n",
       "    <tr>\n",
       "      <th>4</th>\n",
       "      <td>I</td>\n",
       "      <td>2013-04-22 15:54:00</td>\n",
       "      <td>1G1ZT52865F313274</td>\n",
       "      <td>1</td>\n",
       "      <td>2005</td>\n",
       "      <td>3375</td>\n",
       "      <td>3500</td>\n",
       "      <td>A</td>\n",
       "      <td>133251</td>\n",
       "      <td>0</td>\n",
       "    </tr>\n",
       "  </tbody>\n",
       "</table>\n",
       "</div>"
      ],
      "text/plain": [
       "  TEST_TYPE           TEST_SDATE                VIN  VEHICLE_TYPE  MODEL_YEAR  \\\n",
       "0         A  2013-03-04 10:11:00  1G4HP52K45U160372             1        2005   \n",
       "1         I  2013-07-22 16:55:00  3VWSF71K66M706988             1        2006   \n",
       "2         I  2013-06-18 12:45:00  1FTRX17W43NA86035             3        2003   \n",
       "3         I  2013-05-29 16:17:00  JTEEP21A560170542             4        2006   \n",
       "4         I  2013-04-22 15:54:00  1G1ZT52865F313274             1        2005   \n",
       "\n",
       "   GVWR  ENGINE_SIZE TRANS_TYPE  ODOMETER  RESULT  \n",
       "0  3875         3800          A    114034       1  \n",
       "1  3250         2500          M     76338       1  \n",
       "2  6050         4600          A    104849       1  \n",
       "3  5360         3300          A     70130       1  \n",
       "4  3375         3500          A    133251       0  "
      ]
     },
     "execution_count": 7,
     "metadata": {},
     "output_type": "execute_result"
    }
   ],
   "source": [
    "df_full.head()"
   ]
  },
  {
   "cell_type": "code",
   "execution_count": 8,
   "id": "9d9be66a",
   "metadata": {},
   "outputs": [
    {
     "name": "stdout",
     "output_type": "stream",
     "text": [
      "\u001b[32m----------------start cleaning data----------------\u001b[0m\n",
      "\u001b[31m\n",
      "Records in input data: 187503\u001b[0m\n",
      "\u001b[34m\n",
      "Share of Pass and Fail before cleaning:\u001b[0m\n",
      "\u001b[34mPass: 93%\n",
      "Fail: 7%\u001b[0m\n",
      "\u001b[34m\n",
      "Unique vehicles in Fail: 10813\u001b[0m\n",
      "\u001b[34mUnique vehicles in Pass: 84908\u001b[0m\n",
      "\n",
      "Records where vehicles received tests more than 1 time in a day: 9602\n",
      "\u001b[31m\n",
      "Records after keeping one test per day: 183457\u001b[0m\n",
      "\n",
      "Records where ODOMETER = 0: 875\n",
      "\u001b[31m\n",
      "Records after droping rows where ODOMETER is missing: 182487\u001b[0m\n",
      "\u001b[31m\n",
      "Records after droping rows where MILE_YEAR > 40,000: 181445\u001b[0m\n",
      "\n",
      "Records with missing GVWR: 7960\n",
      "\u001b[31m\n",
      "Records after droping rows where GVWR is super low or missing: 173480\u001b[0m\n",
      "\u001b[31m\n",
      "Records in output data:173480\u001b[0m\n",
      "\u001b[34m\n",
      "Share of Pass and Fail after cleaning:\u001b[0m\n",
      "\u001b[34mPass: 93%\n",
      "Fail: 7%\u001b[0m\n",
      "\u001b[34m\n",
      "Unique vehicles in Fail: 10289\u001b[0m\n",
      "\u001b[34mUnique vehicles in Pass: 80064\u001b[0m\n"
     ]
    }
   ],
   "source": [
    "df_clean = clean_data(df_full)"
   ]
  },
  {
   "cell_type": "code",
   "execution_count": 10,
   "id": "ccf8ebbf",
   "metadata": {},
   "outputs": [],
   "source": [
    "#train-test-split\n",
    "X = df_clean[['MILE_YEAR', 'VEHICLE_AGE']]\n",
    "y = df_clean['RESULT']\n",
    "Xtrain, Xtest, ytrain, ytest = train_test_split(X, y, test_size=0.2, random_state=24)"
   ]
  },
  {
   "cell_type": "markdown",
   "id": "f22924ca",
   "metadata": {},
   "source": [
    "### Heuristic 1: All cars pass"
   ]
  },
  {
   "cell_type": "code",
   "execution_count": 11,
   "id": "6f3056a2",
   "metadata": {},
   "outputs": [
    {
     "data": {
      "text/plain": [
       "array([1, 1, 1, 1, 1, 1, 1, 1, 1, 1])"
      ]
     },
     "execution_count": 11,
     "metadata": {},
     "output_type": "execute_result"
    }
   ],
   "source": [
    "y_pred_h1 = np.ones((len(y),), dtype=int)\n",
    "y_pred_h1[0:10]"
   ]
  },
  {
   "cell_type": "markdown",
   "id": "061c9b4a",
   "metadata": {},
   "source": [
    "### Heuristic 2: All cars older than 14 years fail"
   ]
  },
  {
   "cell_type": "code",
   "execution_count": 14,
   "id": "e0fbd5d9",
   "metadata": {},
   "outputs": [
    {
     "name": "stdout",
     "output_type": "stream",
     "text": [
      "mode age: 15.0, mean age: 16.41803667404363\n"
     ]
    }
   ],
   "source": [
    "my_mode = df_clean[df_clean['RESULT'] == 0].mode()['VEHICLE_AGE'].iloc[0]\n",
    "my_mean = df_clean[df_clean['RESULT'] == 0].mean()['VEHICLE_AGE']\n",
    "print(f\"mode age: {my_mode}, mean age: {my_mean}\")"
   ]
  },
  {
   "cell_type": "code",
   "execution_count": 16,
   "id": "a5f8cc75",
   "metadata": {},
   "outputs": [],
   "source": [
    "y_pred_h2 = (df_clean['VEHICLE_AGE'] < 15).astype(int)"
   ]
  },
  {
   "cell_type": "markdown",
   "id": "8333f7f4",
   "metadata": {},
   "source": [
    "### Decision tree classifier with 'VEHICLE_AGE' and 'MILE_YEAR' features"
   ]
  },
  {
   "cell_type": "code",
   "execution_count": 17,
   "id": "a3d696cd",
   "metadata": {},
   "outputs": [
    {
     "data": {
      "text/plain": [
       "0.9283923218814849"
      ]
     },
     "execution_count": 17,
     "metadata": {},
     "output_type": "execute_result"
    }
   ],
   "source": [
    "DT = DecisionTreeClassifier(max_depth=10)\n",
    "DT.fit(Xtrain, ytrain)\n",
    "DT.score(Xtrain, ytrain)"
   ]
  },
  {
   "cell_type": "code",
   "execution_count": 27,
   "id": "12cac6f3",
   "metadata": {},
   "outputs": [
    {
     "data": {
      "text/plain": [
       "0.9971610560295134"
      ]
     },
     "execution_count": 27,
     "metadata": {},
     "output_type": "execute_result"
    }
   ],
   "source": [
    "DT2 = DecisionTreeClassifier()\n",
    "DT2.fit(Xtrain, ytrain)\n",
    "DT2.score(Xtrain, ytrain)"
   ]
  },
  {
   "cell_type": "code",
   "execution_count": 18,
   "id": "7da428ae",
   "metadata": {},
   "outputs": [],
   "source": [
    "y_pred_DT = DT.predict(X)"
   ]
  },
  {
   "cell_type": "code",
   "execution_count": 31,
   "id": "630fdc24",
   "metadata": {},
   "outputs": [],
   "source": [
    "y_pred_DT2 = DT2.predict(X)"
   ]
  },
  {
   "cell_type": "markdown",
   "id": "44e45806",
   "metadata": {},
   "source": [
    "### A quick reminder on what precision and recall are:\n",
    "accuracy = total_correct_predictions / total_predictions <br>\n",
    "precision = true_positives / (true_positives + false_positives) <br>\n",
    "recall = true_positives / (true_positives + false_negatives) <br>\n",
    "F-Measure = (2 * Precision * Recall) / (Precision + Recall) <br>"
   ]
  },
  {
   "cell_type": "markdown",
   "id": "d57aca0b",
   "metadata": {},
   "source": [
    "### Note: For our purposes, a 'positive' is when a car fails!"
   ]
  },
  {
   "cell_type": "code",
   "execution_count": 32,
   "id": "91654002",
   "metadata": {},
   "outputs": [
    {
     "name": "stderr",
     "output_type": "stream",
     "text": [
      "/Users/hanbo/opt/anaconda3/lib/python3.7/site-packages/sklearn/metrics/_classification.py:1245: UndefinedMetricWarning: Precision is ill-defined and being set to 0.0 due to no predicted samples. Use `zero_division` parameter to control this behavior.\n",
      "  _warn_prf(average, modifier, msg_start, len(result))\n"
     ]
    }
   ],
   "source": [
    "precision_h1 = precision_score(y, y_pred_h1, average='binary', pos_label=0)\n",
    "precision_h2 = precision_score(y, y_pred_h2, average='binary', pos_label=0)\n",
    "precision_DT = precision_score(y, y_pred_DT, average='binary', pos_label=0)\n",
    "precision_DT2 = precision_score(y, y_pred_DT2, average='binary', pos_label=0)"
   ]
  },
  {
   "cell_type": "code",
   "execution_count": 33,
   "id": "007a14dc",
   "metadata": {},
   "outputs": [],
   "source": [
    "recall_h1 = recall_score(y, y_pred_h1, average='binary', pos_label=0)\n",
    "recall_h2 = recall_score(y, y_pred_h2, average='binary', pos_label=0)\n",
    "recall_DT = recall_score(y, y_pred_DT, average='binary', pos_label=0)\n",
    "recall_DT2 = recall_score(y, y_pred_DT2, average='binary', pos_label=0)"
   ]
  },
  {
   "cell_type": "code",
   "execution_count": 34,
   "id": "b89f6367",
   "metadata": {},
   "outputs": [],
   "source": [
    "accuracy_h1 = accuracy_score(y, y_pred_h1)\n",
    "accuracy_h2 = accuracy_score(y, y_pred_h2)\n",
    "accuracy_DT = accuracy_score(y, y_pred_DT)\n",
    "accuracy_DT2 = accuracy_score(y, y_pred_DT2)"
   ]
  },
  {
   "cell_type": "code",
   "execution_count": 35,
   "id": "7366fe5f",
   "metadata": {},
   "outputs": [
    {
     "data": {
      "text/html": [
       "<div>\n",
       "<style scoped>\n",
       "    .dataframe tbody tr th:only-of-type {\n",
       "        vertical-align: middle;\n",
       "    }\n",
       "\n",
       "    .dataframe tbody tr th {\n",
       "        vertical-align: top;\n",
       "    }\n",
       "\n",
       "    .dataframe thead th {\n",
       "        text-align: right;\n",
       "    }\n",
       "</style>\n",
       "<table border=\"1\" class=\"dataframe\">\n",
       "  <thead>\n",
       "    <tr style=\"text-align: right;\">\n",
       "      <th></th>\n",
       "      <th>precision</th>\n",
       "      <th>recall</th>\n",
       "      <th>accuracy</th>\n",
       "    </tr>\n",
       "  </thead>\n",
       "  <tbody>\n",
       "    <tr>\n",
       "      <th>Heuristic_1</th>\n",
       "      <td>0.000000</td>\n",
       "      <td>0.000000</td>\n",
       "      <td>0.927069</td>\n",
       "    </tr>\n",
       "    <tr>\n",
       "      <th>Heuristic_2</th>\n",
       "      <td>0.132662</td>\n",
       "      <td>0.614290</td>\n",
       "      <td>0.678966</td>\n",
       "    </tr>\n",
       "    <tr>\n",
       "      <th>Decision Tree</th>\n",
       "      <td>0.741688</td>\n",
       "      <td>0.022921</td>\n",
       "      <td>0.928159</td>\n",
       "    </tr>\n",
       "    <tr>\n",
       "      <th>Decision Tree 2</th>\n",
       "      <td>0.793662</td>\n",
       "      <td>0.825403</td>\n",
       "      <td>0.971616</td>\n",
       "    </tr>\n",
       "  </tbody>\n",
       "</table>\n",
       "</div>"
      ],
      "text/plain": [
       "                 precision    recall  accuracy\n",
       "Heuristic_1       0.000000  0.000000  0.927069\n",
       "Heuristic_2       0.132662  0.614290  0.678966\n",
       "Decision Tree     0.741688  0.022921  0.928159\n",
       "Decision Tree 2   0.793662  0.825403  0.971616"
      ]
     },
     "execution_count": 35,
     "metadata": {},
     "output_type": "execute_result"
    }
   ],
   "source": [
    "data = {\"precision\": [precision_h1, precision_h2, precision_DT, precision_DT2], \"recall\": [recall_h1, recall_h2, \n",
    "                                                                                           recall_DT, recall_DT2],\n",
    "       \"accuracy\": [accuracy_h1, accuracy_h2, accuracy_DT, accuracy_DT2]}\n",
    "df_prec_rec = pd.DataFrame(data=data, index=[\"Heuristic_1\", \"Heuristic_2\", \"Decision Tree\", \"Decision Tree 2\"])\n",
    "df_prec_rec"
   ]
  },
  {
   "cell_type": "code",
   "execution_count": 26,
   "id": "1bfd16a8",
   "metadata": {},
   "outputs": [
    {
     "data": {
      "text/plain": [
       "<sklearn.metrics._plot.confusion_matrix.ConfusionMatrixDisplay at 0x124656b50>"
      ]
     },
     "execution_count": 26,
     "metadata": {},
     "output_type": "execute_result"
    },
    {
     "data": {
      "image/png": "[encoded data removed]",
      "text/plain": [
       "<Figure size 432x288 with 2 Axes>"
      ]
     },
     "metadata": {
      "needs_background": "light"
     },
     "output_type": "display_data"
    }
   ],
   "source": [
    "plot_confusion_matrix(DT, Xtrain, ytrain, display_labels=[\"Fail\", \"Pass\"])"
   ]
  },
  {
   "cell_type": "code",
   "execution_count": 30,
   "id": "486a08d4",
   "metadata": {},
   "outputs": [
    {
     "data": {
      "text/plain": [
       "<sklearn.metrics._plot.confusion_matrix.ConfusionMatrixDisplay at 0x12906ffd0>"
      ]
     },
     "execution_count": 30,
     "metadata": {},
     "output_type": "execute_result"
    },
    {
     "data": {
      "image/png": "[encoded data removed]",
      "text/plain": [
       "<Figure size 432x288 with 2 Axes>"
      ]
     },
     "metadata": {
      "needs_background": "light"
     },
     "output_type": "display_data"
    }
   ],
   "source": [
    "plot_confusion_matrix(DT2, Xtrain, ytrain, display_labels=[\"Fail\", \"Pass\"])"
   ]
  },
  {
   "cell_type": "code",
   "execution_count": 24,
   "id": "dc15d74e",
   "metadata": {},
   "outputs": [
    {
     "data": {
      "text/plain": [
       "<sklearn.metrics._plot.confusion_matrix.ConfusionMatrixDisplay at 0x12e263ed0>"
      ]
     },
     "execution_count": 24,
     "metadata": {},
     "output_type": "execute_result"
    },
    {
     "data": {
      "image/png": "[encoded data removed]",
      "text/plain": [
       "<Figure size 432x288 with 2 Axes>"
      ]
     },
     "metadata": {
      "needs_background": "light"
     },
     "output_type": "display_data"
    }
   ],
   "source": [
    "plot_confusion_matrix(DT, Xtest, ytest, display_labels=[\"Fail\", \"Pass\"])"
   ]
  },
  {
   "cell_type": "code",
   "execution_count": 36,
   "id": "836c89c7",
   "metadata": {},
   "outputs": [
    {
     "data": {
      "text/plain": [
       "<sklearn.metrics._plot.confusion_matrix.ConfusionMatrixDisplay at 0x1290898d0>"
      ]
     },
     "execution_count": 36,
     "metadata": {},
     "output_type": "execute_result"
    },
    {
     "data": {
      "image/png": "[encoded data removed]",
      "text/plain": [
       "<Figure size 432x288 with 2 Axes>"
      ]
     },
     "metadata": {
      "needs_background": "light"
     },
     "output_type": "display_data"
    }
   ],
   "source": [
    "plot_confusion_matrix(DT2, Xtest, ytest, display_labels=[\"Fail\", \"Pass\"])"
   ]
  },
  {
   "cell_type": "code",
   "execution_count": 25,
   "id": "92ad7864",
   "metadata": {},
   "outputs": [
    {
     "data": {
      "text/plain": [
       "1    32214\n",
       "0     2482\n",
       "Name: RESULT, dtype: int64"
      ]
     },
     "execution_count": 25,
     "metadata": {},
     "output_type": "execute_result"
    }
   ],
   "source": [
    "ytest.value_counts()"
   ]
  },
  {
   "cell_type": "markdown",
   "id": "79519dd3",
   "metadata": {},
   "source": [
    "\"Hi Nisha, if our system made a mistake in prediciting whether a car would pass or fail its emissions test, what would be worse from the perspective of your department: <br>1. Calling in a driver and telling them their car is going to fail the test, but then it actually passes. <br>2. Our system saying a car is doing fine, when it is actually not and is driving around polluting Abq.\""
   ]
  }
 ],
 "metadata": {
  "kernelspec": {
   "display_name": "Python 3",
   "language": "python",
   "name": "python3"
  },
  "language_info": {
   "codemirror_mode": {
    "name": "ipython",
    "version": 3
   },
   "file_extension": ".py",
   "mimetype": "text/x-python",
   "name": "python",
   "nbconvert_exporter": "python",
   "pygments_lexer": "ipython3",
   "version": "3.7.10"
  }
 },
 "nbformat": 4,
 "nbformat_minor": 5
}
